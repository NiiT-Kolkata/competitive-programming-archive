{
  "nbformat": 4,
  "nbformat_minor": 0,
  "metadata": {
    "colab": {
      "name": "competitive_programming.ipynb",
      "provenance": [],
      "collapsed_sections": []
    },
    "kernelspec": {
      "name": "python3",
      "display_name": "Python 3"
    },
    "language_info": {
      "name": "python"
    }
  },
  "cells": [
    {
      "cell_type": "code",
      "metadata": {
        "id": "goqrV-nTGWxl"
      },
      "source": [
        ""
      ],
      "execution_count": null,
      "outputs": []
    },
    {
      "cell_type": "markdown",
      "metadata": {
        "id": "Jtw8XUcbGXsg"
      },
      "source": [
        "#Questions for competitive coding in python  "
      ]
    },
    {
      "cell_type": "markdown",
      "metadata": {
        "id": "0ryDPoLFGjcN"
      },
      "source": [
        "1. You have given a string. You need to remove all the duplicates from the string.\n",
        "\n",
        "The final output string should contain each character only once. The respective order of the characters inside the string should remain the same.\n",
        "\n",
        "You can only traverse the string at once. \n",
        "\n",
        "ans- "
      ]
    },
    {
      "cell_type": "code",
      "metadata": {
        "colab": {
          "base_uri": "https://localhost:8080/"
        },
        "id": "3bQTfu_sGf0d",
        "outputId": "e53e756d-4916-420a-b57a-736ba71d1060"
      },
      "source": [
        "from collections import OrderedDict\n",
        "string = input(\"\")\n",
        "a = list(OrderedDict.fromkeys(string))\n",
        "b = ''.join(a)\n",
        "print(b) "
      ],
      "execution_count": null,
      "outputs": [
        {
          "output_type": "stream",
          "text": [
            "abcdab\n",
            "abcd\n"
          ],
          "name": "stdout"
        }
      ]
    },
    {
      "cell_type": "markdown",
      "metadata": {
        "id": "EG6WDbRjHn0-"
      },
      "source": [
        "2. Consider a permutation of numbers from 1 to N written on a paper. Let’s denote the product of its element as ‘prod’ and the sum of its elements as ‘sum’. Given a positive integer N, your task is to determine whether ‘prod’ is divisible by ‘sum’ or not. "
      ]
    },
    {
      "cell_type": "code",
      "metadata": {
        "colab": {
          "base_uri": "https://localhost:8080/"
        },
        "id": "dVxvoO6_HRJp",
        "outputId": "81765198-f493-4d87-a13b-9ffb462ea92c"
      },
      "source": [
        "testSize = int(input())\n",
        "nArr=[]\n",
        "for i in range(1,testSize+1):\n",
        "    nArr.append(int(input()))\n",
        "  \n",
        "for n in nArr:\n",
        "    if n>=1 and n<=(10**9):\n",
        "        prod = 1\n",
        "        sum = 0\n",
        "        for i in range(1, n+1):\n",
        "            prod = prod*i\n",
        "            sum = sum+i\n",
        "        if prod%sum==0:\n",
        "            print(\"YEAH\")\n",
        "        else:\n",
        "            print(\"NAH\") "
      ],
      "execution_count": null,
      "outputs": [
        {
          "output_type": "stream",
          "text": [
            "10\n",
            "20\n",
            "30\n",
            "70\n",
            "5\n",
            "8\n",
            "7\n",
            "8\n",
            "9\n",
            "10\n",
            "13\n",
            "YEAH\n",
            "NAH\n",
            "NAH\n",
            "YEAH\n",
            "YEAH\n",
            "YEAH\n",
            "YEAH\n",
            "YEAH\n",
            "NAH\n",
            "YEAH\n"
          ],
          "name": "stdout"
        }
      ]
    },
    {
      "cell_type": "markdown",
      "metadata": {
        "id": "_LD-uV6PIEDL"
      },
      "source": [
        "3. Suppose you have given the stock prices for respective days like (100, 180, 260, 310, 40, 535, 695). The stock price for the 1st day is 100, 2nd day it is 180 and so on. Write a Python program to determine what days the user should bye and sell the stocks to get the maximum profit. "
      ]
    },
    {
      "cell_type": "code",
      "metadata": {
        "colab": {
          "base_uri": "https://localhost:8080/"
        },
        "id": "qac0VcHSIFAE",
        "outputId": "44bbde78-49a8-44fe-88f0-042d47b56901"
      },
      "source": [
        "liStocks = [100, 180, 260, 310, 40, 535, 695]\n",
        "  \n",
        "#find local minima\n",
        "def findMin(liStocks):\n",
        "    for i, val in enumerate(liStocks[:-1]):\n",
        "        if val < liStocks[i+1]: \n",
        "            return i, val \n",
        "    return -1, -1\n",
        "  \n",
        "#find local maxima \n",
        "def findMax(liStocks): \n",
        "    for i, val in enumerate(liStocks[:-1]): \n",
        "        if val > liStocks[i+1]:\n",
        "            return i, val\n",
        "    return i+1, liStocks[-1]\n",
        "  \n",
        "  \n",
        "  \n",
        "def byeSellStock():\n",
        "    index=0\n",
        "    while index < len(liStocks): \n",
        "        i, val = findMin(liStocks[index:]) \n",
        "        if i > -1:\n",
        "            index=i+index\n",
        "            print(\"bye stock on day \", index+1, val)\n",
        "        else:\n",
        "            break\n",
        "      \n",
        "        i, val = findMax(liStocks[index:])\n",
        "        index=i+index\n",
        "        print(\"sell stock on day \", index+1, val)\n",
        "  \n",
        "  \n",
        "if __name__ == \"__main__\":\n",
        "    byeSellStock()"
      ],
      "execution_count": null,
      "outputs": [
        {
          "output_type": "stream",
          "text": [
            "bye stock on day  1 100\n",
            "sell stock on day  4 310\n",
            "bye stock on day  5 40\n",
            "sell stock on day  7 695\n"
          ],
          "name": "stdout"
        }
      ]
    },
    {
      "cell_type": "markdown",
      "metadata": {
        "id": "_mbKL_zPIhuD"
      },
      "source": [
        "4. Secure My Conversation by Encryption and Decryption\n",
        "\n",
        "Person A and B use an encryption-based system for their conversation.\n",
        "\n",
        "Each conversation message is encrypted from the source and decrypted in the destination using a shared private positive number key known to each other.\n",
        "\n",
        "The algorithm is illustrated with an example. "
      ]
    },
    {
      "cell_type": "code",
      "metadata": {
        "colab": {
          "base_uri": "https://localhost:8080/"
        },
        "id": "L-rBEg4nIPaI",
        "outputId": "e4b9c556-9369-48ac-94d3-3ec008a88985"
      },
      "source": [
        "import math\n",
        "import os\n",
        "import random\n",
        "import re\n",
        "import sys\n",
        " \n",
        "# Complete the secureChannel function below.\n",
        "def secureChannel(operation, message, key):\n",
        "    if len(message)==0 or len(key)==0:\n",
        "        return \"-1\"\n",
        "  \n",
        "    strRet=\"\"\n",
        "  \n",
        "    if operation==1:\n",
        "        index=0\n",
        "        for keyVal in key:\n",
        "            nKeyVal=int(keyVal)\n",
        "            if index>=len(message):\n",
        "                return strRet\n",
        "            strRet=strRet+message[index]*nKeyVal\n",
        "            index=index+1\n",
        "        if index < len(message):\n",
        "            strRet=strRet+message[index:]\n",
        "  \n",
        "    elif operation==2:\n",
        "        index=0\n",
        "        for keyVal in key:\n",
        "            nKeyVal=int(keyVal)\n",
        "            if index>=len(message):\n",
        "                return strRet\n",
        "            for i in range(0,nKeyVal):\n",
        "                if (index+i)>=len(message):\n",
        "                    return \"-1\"\n",
        "                if message[index] != message[index+i]:\n",
        "                    return \"-1\"\n",
        "            strRet=strRet+message[index]\n",
        "            index=index+nKeyVal\n",
        "        if index < len(message):\n",
        "            strRet=strRet+message[index:]\n",
        "  \n",
        "    else:\n",
        "        return \"-1\"\n",
        " \n",
        "    return strRet\n",
        "  \n",
        "if __name__ == '__main__':\n",
        "    print(secureChannel(1, 'Open',  '123'))\n",
        "    print(secureChannel(2, 'Oppeeen',  '123'))\n",
        "    "
      ],
      "execution_count": null,
      "outputs": [
        {
          "output_type": "stream",
          "text": [
            "Oppeeen\n",
            "Open\n"
          ],
          "name": "stdout"
        }
      ]
    },
    {
      "cell_type": "markdown",
      "metadata": {
        "id": "cTplMLe6MCXE"
      },
      "source": [
        "5. Given a matrix of size m*n, m denotes the row starting with index 0 and n denotes the column starting with index 0.\n",
        "\n",
        "The matrix will hold distinct integers as elements.\n",
        "\n",
        "We need to find a distinct number of positional elements which are either the minimum or maximum in their corresponding row or column.\n",
        "\n",
        "Please return -1 if any row or any column has multiple minimum or maximum elements.\n",
        "\n",
        "For example, given a matrix of size 3*3, the elements are stored as follows. "
      ]
    },
    {
      "cell_type": "code",
      "metadata": {
        "colab": {
          "base_uri": "https://localhost:8080/"
        },
        "id": "KVeX4oeRLss0",
        "outputId": "b357f8b1-0e28-4cd4-bb2e-5c4b5d91e6fa"
      },
      "source": [
        "def countSpecialElements(matrix):\n",
        "  nRows= len(matrix)\n",
        "  nCount=0\n",
        "  \n",
        "  for row in matrix:\n",
        "    for indexCol, element in enumerate(row):\n",
        "  \n",
        "      if element==min(row) or element==max(row):\n",
        "        if row.count(element)>1:\n",
        "          return -1\n",
        "        nCount=nCount+1\n",
        "  \n",
        "      else:\n",
        "        listColumn=[]\n",
        "  \n",
        "        for indexRow in range(0, nRows):\n",
        "          listColumn.append(matrix[indexRow][indexCol])\n",
        "  \n",
        "        if element==min(listColumn) or element==max(listColumn):\n",
        "          if listColumn.count(element)>1:\n",
        "            return -1\n",
        "          nCount=nCount+1\n",
        "\n",
        "  return nCount\n",
        "  \n",
        "if __name__ == '__main__':\n",
        "  nCount = countSpecialElements([[1, 3, 4],[5, 2, 9],[8, 7, 6]])\n",
        "  print(nCount) "
      ],
      "execution_count": null,
      "outputs": [
        {
          "output_type": "stream",
          "text": [
            "7\n"
          ],
          "name": "stdout"
        }
      ]
    },
    {
      "cell_type": "markdown",
      "metadata": {
        "id": "y6hCSF3BR6GI"
      },
      "source": [
        "6. An array contains n numbers ranging from 0 to n-1. There are some numbers duplicated in the array.\n",
        "\n",
        "It is not clear how many numbers are duplicated or how many times a number gets duplicated.\n",
        "\n",
        "How do you find a duplicated number in the array? "
      ]
    },
    {
      "cell_type": "code",
      "metadata": {
        "colab": {
          "base_uri": "https://localhost:8080/"
        },
        "id": "2HzoizjsRntb",
        "outputId": "eb9f5883-b820-4b32-c9ea-ed8d88a95f3e"
      },
      "source": [
        "def findDup(liArr):\n",
        "    liArr.sort()\n",
        "     \n",
        "    liDuplicate=[]\n",
        "    for i in range(0, len(liArr)-1):\n",
        "        if liArr[i]==liArr[i+1]:\n",
        "            liDuplicate.append(liArr[i])\n",
        " \n",
        "    return liDuplicate\n",
        " \n",
        "print(findDup([2, 3, 1, 0, 2, 5,3]))"
      ],
      "execution_count": null,
      "outputs": [
        {
          "output_type": "stream",
          "text": [
            "[2, 3]\n"
          ],
          "name": "stdout"
        }
      ]
    },
    {
      "cell_type": "markdown",
      "metadata": {
        "id": "XI9sg-lCSOy1"
      },
      "source": [
        "7. 7. Question: Given a pattern containing only Ns and Ms. N represent ascending and M represent descending, Each\n",
        "character (M or N) needs to display a sequence of numbers (2 numbers) explaining the ascending and\n",
        "descending order (for ex: 21 ->represents the ascending ->M). The second character in the patterns\n",
        "takes the last digit from the first character the builds the sequence and so on. Please look at the example\n",
        "section below.\n",
        "\n",
        "There could be multiple numbers satisfying the patterns. The goal is to find out the lowest numeric\n",
        "the value following pattern.\n",
        "\n",
        "Here are some constraints to this problem:\n",
        "\n",
        "Input can have a maximum of 8 characters.\n",
        "Output can have Digit from 1-9 and Digits can’t repeat.\n",
        "In case of no possible output or incorrect input value (like blank/ null/ NON M or N character), kindly return -1."
      ]
    },
    {
      "cell_type": "code",
      "metadata": {
        "colab": {
          "base_uri": "https://localhost:8080/"
        },
        "id": "A3ZGW6IpR32M",
        "outputId": "927e2df6-2113-4b2f-e2e6-e497e13162fe"
      },
      "source": [
        "def findPossibleSmallestNumberMatchingPattern(pattern):\n",
        "    maxTemp=0\n",
        "    valLast=0\n",
        "    lenMsg=len(pattern)\n",
        " \n",
        "    if lenMsg>8:\n",
        "        return -1\n",
        " \n",
        "    out=[]\n",
        " \n",
        "    i=0\n",
        "    while i<lenMsg:\n",
        "        numofM=0\n",
        "        if pattern[i]=='N':\n",
        "            numofM=pattern[i+1: ].count('M')\n",
        " \n",
        "            if i==0:\n",
        "                maxTemp=numofM+2\n",
        "                valLast=valLast+1\n",
        "                out.append(str(valLast))\n",
        "                out.append(str(maxTemp))\n",
        "                valLast=maxTemp\n",
        "            else:\n",
        "                maxTemp=maxTemp+numofM+1\n",
        "                valLast=maxTemp\n",
        "                out.append(str(valLast))\n",
        "            for k in range(numofM):\n",
        "                valLast=valLast-1\n",
        "                out.append(str(valLast))\n",
        "                i=i+1\n",
        "        else:\n",
        "            if i==0:\n",
        "                j=i+1\n",
        "                numofM=0\n",
        "                #find the number of next M.\n",
        "                while j<lenMsg and pattern[j]=='M':\n",
        "                    numofM += 1\n",
        "                    j += 1\n",
        "                maxTemp=numofM+2\n",
        "                out.append(str(maxTemp))\n",
        "                out.append(str(maxTemp-1))\n",
        "                valLast=maxTemp-1\n",
        "            else:\n",
        "                out.append(str(valLast-1))\n",
        "                valLast=valLast-1\n",
        "        i=i+1\n",
        "    return \"\".join(out)\n",
        " \n",
        "if __name__ == \"__main__\":\n",
        "    print(findPossibleSmallestNumberMatchingPattern(\"MNM\")) "
      ],
      "execution_count": null,
      "outputs": [
        {
          "output_type": "stream",
          "text": [
            "2143\n"
          ],
          "name": "stdout"
        }
      ]
    },
    {
      "cell_type": "markdown",
      "metadata": {
        "id": "i7uAiwDLSfj3"
      },
      "source": [
        "8. Requirement:\n",
        "\n",
        "There is N number of parking levels in multilevel parking.\n",
        "On each level, there would be x number of parking slots.\n",
        "Assume the number of slots is the same on each level. \n"
      ]
    },
    {
      "cell_type": "code",
      "metadata": {
        "colab": {
          "base_uri": "https://localhost:8080/"
        },
        "id": "NKBJGOfvSLrF",
        "outputId": "91f8a2ea-1347-428a-e3d6-a3b4c2b21c23"
      },
      "source": [
        "class ParkingSlot():\n",
        "    def __init__(self):\n",
        "        self.N = 5\n",
        "        self.X = 4\n",
        "        self.total_slots = self.N*self.X\n",
        "        self.park_data = [(\"\", \"\") for i in range(self.total_slots)]\n",
        "        self.booked = 0\n",
        " \n",
        "    #parking space allotment\n",
        "    def park(self, reg_no, color):\n",
        "        if self.booked < self.total_slots:\n",
        "            tup = ()\n",
        "            ind = self.park_data.index((\"\", \"\"))\n",
        "            self.park_data[ind] = (reg_no, color)\n",
        "            print(f\"Vehicle is parked at {ind}.\")\n",
        "            self.booked += 1\n",
        "        else:\n",
        "            print(\"Parking full.\")\n",
        "     \n",
        "    def unpark(self, reg_no):\n",
        "        out = [slot for slot in self.park_data if slot[0]==reg_no]\n",
        "        if out:\n",
        "            self.booked -= 1\n",
        "        self.park_data.remove(out[0])\n",
        " \n",
        " \n",
        "    def fetch_slot_by_reg(self, reg_no):\n",
        "        out = [slot for slot in self.park_data if slot[0]==reg_no]\n",
        "        print(f\"Parking slot for {reg_no}:{out}\")\n",
        " \n",
        "    def fetch_slot_by_col(self, col):\n",
        "        out = [slot for slot in self.park_data if slot[1]==col]\n",
        "        print(f\"Parking slot of all the cars of color {col}:{out}\")\n",
        "     \n",
        "    def prnt(self):\n",
        "        print(f\"\\n{self.park_data}\")\n",
        " \n",
        " \n",
        "if __name__ == \"__main__\":\n",
        "    obj_park = ParkingSlot()\n",
        "    obj_park.park(\"Reg1\", \"White\")\n",
        "    obj_park.prnt()\n",
        "    obj_park.park(\"Reg2\", \"Red\")\n",
        "    obj_park.prnt()\n",
        "    obj_park.park(\"Reg3\", \"Blue\")\n",
        "    obj_park.prnt()\n",
        "    obj_park.unpark(\"Reg2\")\n",
        "    obj_park.prnt()\n",
        "    obj_park.fetch_slot_by_reg(\"Reg1\")\n",
        "    obj_park.prnt()\n",
        "    obj_park.fetch_slot_by_col(\"Blue\")"
      ],
      "execution_count": null,
      "outputs": [
        {
          "output_type": "stream",
          "text": [
            "Vehicle is parked at 0.\n",
            "\n",
            "[('Reg1', 'White'), ('', ''), ('', ''), ('', ''), ('', ''), ('', ''), ('', ''), ('', ''), ('', ''), ('', ''), ('', ''), ('', ''), ('', ''), ('', ''), ('', ''), ('', ''), ('', ''), ('', ''), ('', ''), ('', '')]\n",
            "Vehicle is parked at 1.\n",
            "\n",
            "[('Reg1', 'White'), ('Reg2', 'Red'), ('', ''), ('', ''), ('', ''), ('', ''), ('', ''), ('', ''), ('', ''), ('', ''), ('', ''), ('', ''), ('', ''), ('', ''), ('', ''), ('', ''), ('', ''), ('', ''), ('', ''), ('', '')]\n",
            "Vehicle is parked at 2.\n",
            "\n",
            "[('Reg1', 'White'), ('Reg2', 'Red'), ('Reg3', 'Blue'), ('', ''), ('', ''), ('', ''), ('', ''), ('', ''), ('', ''), ('', ''), ('', ''), ('', ''), ('', ''), ('', ''), ('', ''), ('', ''), ('', ''), ('', ''), ('', ''), ('', '')]\n",
            "\n",
            "[('Reg1', 'White'), ('Reg3', 'Blue'), ('', ''), ('', ''), ('', ''), ('', ''), ('', ''), ('', ''), ('', ''), ('', ''), ('', ''), ('', ''), ('', ''), ('', ''), ('', ''), ('', ''), ('', ''), ('', ''), ('', '')]\n",
            "Parking slot for Reg1:[('Reg1', 'White')]\n",
            "\n",
            "[('Reg1', 'White'), ('Reg3', 'Blue'), ('', ''), ('', ''), ('', ''), ('', ''), ('', ''), ('', ''), ('', ''), ('', ''), ('', ''), ('', ''), ('', ''), ('', ''), ('', ''), ('', ''), ('', ''), ('', ''), ('', '')]\n",
            "Parking slot of all the cars of color Blue:[('Reg3', 'Blue')]\n"
          ],
          "name": "stdout"
        }
      ]
    },
    {
      "cell_type": "markdown",
      "metadata": {
        "id": "dsaEOYc6Sw2F"
      },
      "source": [
        "9. You are given an array of integers (includes both positive and negative numbers). You have to find the sum of that subarray that has the highest sum among all the sub-arrays that can be formed including the array itself. "
      ]
    },
    {
      "cell_type": "code",
      "metadata": {
        "colab": {
          "base_uri": "https://localhost:8080/"
        },
        "id": "lXp1pQ-uSq5v",
        "outputId": "06ba1f07-d29d-4545-ef8a-ff980e8179ab"
      },
      "source": [
        "def sub_Array_Sum(lst):\n",
        "    max_now = 0\n",
        "    max_end = 0\n",
        "    for i in range(len(lst)):\n",
        "        max_now = max_now+lst[i]\n",
        "        if max_now < 0:\n",
        "            max_now = 0\n",
        "        elif max_end < max_now:\n",
        "            max_end = max_now\n",
        "    return max_end\n",
        " \n",
        "print(\"Enter values for array:\")\n",
        "l = list(map(int, input().split()))\n",
        "print(\"Maximum Sum Subarray: \", sub_Array_Sum(l)) "
      ],
      "execution_count": null,
      "outputs": [
        {
          "output_type": "stream",
          "text": [
            "Enter values for array:\n",
            "20\n",
            "Maximum Sum Subarray:  20\n"
          ],
          "name": "stdout"
        }
      ]
    },
    {
      "cell_type": "markdown",
      "metadata": {
        "id": "BJ8kUpo6TLGP"
      },
      "source": [
        "10. You have given a list of intervals. Write a program to merge overlapping intervals. "
      ]
    },
    {
      "cell_type": "code",
      "metadata": {
        "colab": {
          "base_uri": "https://localhost:8080/"
        },
        "id": "_f8TjL4KS5vV",
        "outputId": "67e2121a-39b7-4ef3-a307-710395fd644a"
      },
      "source": [
        "# Helper function to check \n",
        "# if the two intervals overlaps\n",
        "def is_overlaping(a, b):\n",
        "  if b[0] > a[0] and b[0] < a[1]:\n",
        "    return True\n",
        "  else:\n",
        "    return False\n",
        " \n",
        " \n",
        "# merge the intervals\n",
        "def merge(arr):\n",
        "  #sort the intervals by its first value\n",
        "  arr.sort(key = lambda x: x[0])\n",
        " \n",
        "  merged_list= []\n",
        "  merged_list.append(arr[0])\n",
        "  for i in range(1, len(arr)):\n",
        "    pop_element = merged_list.pop()\n",
        "    if is_overlaping(pop_element, arr[i]):\n",
        "      new_element = pop_element[0], max(pop_element[1], arr[i][1])\n",
        "      merged_list.append(new_element)\n",
        "    else:\n",
        "      merged_list.append(pop_element)\n",
        "      merged_list.append(arr[i])\n",
        "  return merged_list\n",
        " \n",
        " \n",
        "# test the code\n",
        "arr = [[1,3], [2,6], [8,10]]\n",
        "print(merge(arr)) "
      ],
      "execution_count": null,
      "outputs": [
        {
          "output_type": "stream",
          "text": [
            "[(1, 6), [8, 10]]\n"
          ],
          "name": "stdout"
        }
      ]
    },
    {
      "cell_type": "markdown",
      "metadata": {
        "id": "5nKi19COUHF9"
      },
      "source": [
        "11. You have given a string which contains the curly braces (brackets), both opening and closing braces. You have to find the length of the longest balanced subarray. "
      ]
    },
    {
      "cell_type": "code",
      "metadata": {
        "colab": {
          "base_uri": "https://localhost:8080/"
        },
        "id": "Wb8Rf03KUBXU",
        "outputId": "5318fdbe-7c09-4342-9378-8994b555d239"
      },
      "source": [
        "def max_length_balanced_braces(str_braces):\n",
        "    stack_braces = []\n",
        "    list_count = []\n",
        "    count = 0\n",
        "    for ch in str_braces:\n",
        "        if ch == \"{\":\n",
        "            stack_braces.append(ch)\n",
        "        elif stack_braces:\n",
        "            count += 1\n",
        "            stack_braces.pop()\n",
        "        else:\n",
        "            list_count.append(count)\n",
        "            count = 0\n",
        "    return max(list_count)*2\n",
        " \n",
        "braces = \"{}{}}\"\n",
        "count = max_length_balanced_braces(braces)\n",
        "print(f\"Maximum length of balanced substring {braces} is {count}\")\n",
        " \n",
        "braces = \"{}{{}}}}}\"\n",
        "count = max_length_balanced_braces(braces)\n",
        "print(f\"Maximum length of balanced substring {braces} is {count}\") "
      ],
      "execution_count": null,
      "outputs": [
        {
          "output_type": "stream",
          "text": [
            "Maximum length of balanced substring {}{}} is 4\n",
            "Maximum length of balanced substring {}{{}}}}} is 6\n"
          ],
          "name": "stdout"
        }
      ]
    },
    {
      "cell_type": "markdown",
      "metadata": {
        "id": "2_n8Qk__bu_C"
      },
      "source": [
        "12. Write a program to find the longest/maximum path in a weighted tree. "
      ]
    },
    {
      "cell_type": "code",
      "metadata": {
        "colab": {
          "base_uri": "https://localhost:8080/"
        },
        "id": "1k8rkMOAUVyP",
        "outputId": "5e1c267f-625d-4823-a48f-9bc59b78f226"
      },
      "source": [
        "#tree node \n",
        "class node:\n",
        "  def __init__(self, intVal, listPtr=None):\n",
        "    self.intVal=intVal\n",
        "    self.listPtr=listPtr\n",
        " \n",
        "#find max path in weighted tree\n",
        "def maxPath(root):\n",
        "    if root:\n",
        "      if not root.listPtr:\n",
        "        return root.intVal\n",
        "      else:\n",
        "        return root.intVal+max([maxPath(i) for i in root.listPtr])\n",
        " \n",
        "#create weighted tree\n",
        "root=node(0,[node(4,[node(2)]),node(3,[node(4),node(2,[node(1)]),node(1)])])\n",
        " \n",
        "#print maximum path of weighted tree\n",
        "print(maxPath(root))"
      ],
      "execution_count": null,
      "outputs": [
        {
          "output_type": "stream",
          "text": [
            "7\n"
          ],
          "name": "stdout"
        }
      ]
    },
    {
      "cell_type": "markdown",
      "metadata": {
        "id": "I0ba8Ml7cWGC"
      },
      "source": [
        "13. Print all the valid parentheses combinations for the given number. "
      ]
    },
    {
      "cell_type": "code",
      "metadata": {
        "colab": {
          "base_uri": "https://localhost:8080/"
        },
        "id": "djDfiCqtcUD5",
        "outputId": "4d9c3964-d4d8-4f06-d570-f26dfd050841"
      },
      "source": [
        "#function to print all the valid parenthesis\n",
        "#using recursion\n",
        "def printValidPar(left, right, out):\n",
        "  if right==0:\n",
        "    return\n",
        " \n",
        "  elif left==0:\n",
        "    print(out+right*\")\")\n",
        " \n",
        "  elif left==right:\n",
        "    printValidPar(left-1, right, out+\"(\")\n",
        " \n",
        "  else:\n",
        "    printValidPar(left-1, right, out+\"(\") \n",
        "    printValidPar(left, right-1, out+\")\") \n",
        " \n",
        " \n",
        "#driver function\n",
        "def validPar(n):\n",
        "  printValidPar(n,n,\"\")\n",
        " \n",
        " \n",
        "validPar(4)"
      ],
      "execution_count": null,
      "outputs": [
        {
          "output_type": "stream",
          "text": [
            "(((())))\n",
            "((()()))\n",
            "((())())\n",
            "((()))()\n",
            "(()(()))\n",
            "(()()())\n",
            "(()())()\n",
            "(())(())\n",
            "(())()()\n",
            "()((()))\n",
            "()(()())\n",
            "()(())()\n",
            "()()(())\n",
            "()()()()\n"
          ],
          "name": "stdout"
        }
      ]
    },
    {
      "cell_type": "markdown",
      "metadata": {
        "id": "aV9s-cgndCkU"
      },
      "source": [
        "14. You have given a binary tree. Implement PostOrder Traversal Without Recursion.\n",
        "\n",
        "Here we are going to use the iterative method to traverse binary tree elements "
      ]
    },
    {
      "cell_type": "code",
      "metadata": {
        "colab": {
          "base_uri": "https://localhost:8080/"
        },
        "id": "1QCNpPbIckiD",
        "outputId": "548f08f2-d646-4058-dcca-dbbd0b71c44f"
      },
      "source": [
        "#structure/class for a node\n",
        "#by defult, left and right pointers are None \n",
        "class node:\n",
        "  def __init__(self, val, left=None, right=None):\n",
        "    self.left=left\n",
        "    self.val=val\n",
        "    self.right=right\n",
        "  \n",
        "  \n",
        "#adding element in the binary tree\n",
        "root=node(4)\n",
        "root.left=node(1)\n",
        "root.right=node(5)\n",
        "root.left.left=node(7)\n",
        "root.left.right=node(3)\n",
        "root.right.right=node(6)\n",
        " \n",
        " \n",
        "#return True if the node has child\n",
        "#retun False if node has no child\n",
        "def isChild(node):\n",
        "    if node.right or node.left:\n",
        "        return True\n",
        "    else:\n",
        "        return False\n",
        " \n",
        " \n",
        "#print post order traversal\n",
        "#without recursion\n",
        "def printPostOrderWithoutRec(node):\n",
        "    liNode = []\n",
        "    if node:\n",
        "        liNode.append([node, isChild(node)])\n",
        "    else:\n",
        "        print(\"Tree is empty.\")\n",
        "        return\n",
        " \n",
        "    while liNode:\n",
        "        curNode, bChild = liNode[-1]\n",
        " \n",
        "        if bChild:\n",
        "            liNode[-1][1] = 0\n",
        "            if curNode.right:\n",
        "                liNode.append([curNode.right, isChild(curNode.right)])\n",
        "            if curNode.left:\n",
        "                liNode.append([curNode.left, isChild(curNode.left)])\n",
        "        else:\n",
        "            print(curNode.val)\n",
        "            del liNode[-1]\n",
        " \n",
        " \n",
        "printPostOrderWithoutRec(root) "
      ],
      "execution_count": null,
      "outputs": [
        {
          "output_type": "stream",
          "text": [
            "7\n",
            "3\n",
            "1\n",
            "6\n",
            "5\n",
            "4\n"
          ],
          "name": "stdout"
        }
      ]
    },
    {
      "cell_type": "markdown",
      "metadata": {
        "id": "24Z8fsUidUEH"
      },
      "source": [
        "15. Group Anagrams- You have given a list of words. Write a program to returns a list of sets of anagrams.\n",
        "\n",
        "Args:\n",
        "\n",
        "words – list of words to process "
      ]
    },
    {
      "cell_type": "code",
      "metadata": {
        "colab": {
          "base_uri": "https://localhost:8080/"
        },
        "id": "4wJ_igBgdRLd",
        "outputId": "98198b94-4be5-4160-bb51-c54bd42adeb2"
      },
      "source": [
        "def getAnagramSet(words):\n",
        " \n",
        "  #remove duplicate words from the list\n",
        "  words=list(set(words))\n",
        " \n",
        "  #find the anagram of each word in the list\n",
        "  anagramWords=[''.join(sorted(x)) for x in words]\n",
        " \n",
        "  finalOut=[]\n",
        "  for word in set(anagramWords):\n",
        "    #find the index for all occurences of string word\n",
        "    ind=[i for i, x in enumerate(anagramWords) if x==word]\n",
        " \n",
        "    #make the list of all the string \n",
        "    #which is anagram to each other\n",
        "    tempOut=[]\n",
        "    for i in ind:\n",
        "      tempOut.append(words[i])\n",
        " \n",
        "    #append all the set to the final output list\n",
        "    finalOut.append(set(tempOut))\n",
        " \n",
        "  return finalOut\n",
        " \n",
        "words=['cat', 'dog', 'god', 'cat']  \n",
        " \n",
        "if __name__ == \"__main__\":\n",
        "    print(getAnagramSet(words)) "
      ],
      "execution_count": null,
      "outputs": [
        {
          "output_type": "stream",
          "text": [
            "[{'dog', 'god'}, {'cat'}]\n"
          ],
          "name": "stdout"
        }
      ]
    },
    {
      "cell_type": "markdown",
      "metadata": {
        "id": "uOxlJfhhui-k"
      },
      "source": [
        "16. Question:\n",
        "\n",
        "A power function is that positive number that can be expressed as x^x i.e x raises to the power of x, where x is any positive number. You will be given an integer array A and you need to print if the elements of array A are Power Number or not. "
      ]
    },
    {
      "cell_type": "code",
      "metadata": {
        "id": "T9Hi7Odkd1Js",
        "colab": {
          "base_uri": "https://localhost:8080/"
        },
        "outputId": "f5950ff3-add8-49a0-cb33-ef4ce57a495d"
      },
      "source": [
        "# input N\n",
        "N = int(input())\n",
        "\n",
        "# input N array elements\n",
        "Arr = list(map(int, input().split()))\n",
        "\n",
        "# create another blank/empty array\n",
        "Brr = []\n",
        "for i in range(15):\n",
        "    # Append the power numbers in blank  array\n",
        "    Brr.append(pow(i, i))\n",
        "for i in range(N):\n",
        "    # compare the give array with \n",
        "    # power number array  one by one\n",
        "    if(Arr[i]  in  Brr):\n",
        "        # if it matches print Yes other wise NO\n",
        "        print('Yes', end=' ')  \n",
        "    else:\n",
        "        print('No', end=' ')   "
      ],
      "execution_count": null,
      "outputs": [
        {
          "output_type": "stream",
          "text": [
            "1\n",
            "4\n",
            "Yes "
          ],
          "name": "stdout"
        }
      ]
    },
    {
      "cell_type": "markdown",
      "metadata": {
        "id": "KXmxOldCzfUV"
      },
      "source": [
        "17. In mathematics, when in an arithmetic sequence is a sequence of numbers such that the difference between the consecutive terms is constant then it is called arithmetic constant.\n",
        "\n",
        "Eric was writing an arithmetic sequence with N terms, but while writing he mistakenly made one wrong entry and he is sure that the first term is right. Help him to find the wrong term entered by him"
      ]
    },
    {
      "cell_type": "code",
      "metadata": {
        "colab": {
          "base_uri": "https://localhost:8080/"
        },
        "id": "MPlEe5oUyp5l",
        "outputId": "71aa2181-c8de-40b5-a1e1-ed2b2dae03d6"
      },
      "source": [
        "# Input test cases\n",
        "print(\"Enter test cases (T): \")\n",
        "t = int(input())\n",
        "\n",
        "while (t > 0):\n",
        "    t -= 1\n",
        "\n",
        "    print(\"Enter number of elements (N): \")\n",
        "    N = int(input())\n",
        "\n",
        "    print(\"Enter elements separated by spaces: \")\n",
        "    arr = list(map(int, input().split()))\n",
        "\n",
        "    # assign the values of array in different variables\n",
        "    a = arr[0]\n",
        "    b = arr[1]\n",
        "    c = arr[2]\n",
        "    d = arr[3]\n",
        "\n",
        "    # compare the difference between the array element\n",
        "    if (b - a == c - b): #find common difference\n",
        "        diff = b - a\n",
        "    elif(c - b == d - c):\n",
        "        diff = c - b\n",
        "    else :\n",
        "        diff = d - a //3;\n",
        "\n",
        "    ref = arr[0]\n",
        "    \n",
        "    #compare common difference with the array elements\n",
        "    for i in range(1, N): \n",
        "        if (ref + diff == arr[i]):\n",
        "            ref = ref + diff\n",
        "        #print the wrong element in array\n",
        "        else :\n",
        "            print(\"Wrong term/number: \")\n",
        "            print(arr[i])\n",
        "            break"
      ],
      "execution_count": null,
      "outputs": [
        {
          "output_type": "stream",
          "text": [
            "Enter test cases (T): \n",
            "1\n",
            "Enter number of elements (N): \n",
            "5\n",
            "Enter elements separated by spaces: \n",
            "1 3 4 5 6\n",
            "Wrong term/number: \n",
            "3\n"
          ],
          "name": "stdout"
        }
      ]
    },
    {
      "cell_type": "markdown",
      "metadata": {
        "id": "Gx0_CVZ-0Y_Y"
      },
      "source": [
        "18. You will be given a completed board of Tic-Tac-Toe. The cells will be represented by 'X' and 'O'. If there are any empty cells, they will be represented by '#'. 'X' is used by Player 1 and 'O' is used by Player 2. Given the board, print Player 1 if player 1 wins, print Player 2 if player 2 wins, and print \"Draw\" in case of a Tie. It is guaranteed that all tic-tac-toe boards given in input are valid. "
      ]
    },
    {
      "cell_type": "code",
      "metadata": {
        "colab": {
          "base_uri": "https://localhost:8080/",
          "height": 279
        },
        "id": "QSCwJFIuznRW",
        "outputId": "232fddff-bddd-412d-ecdb-9f040efe04dd"
      },
      "source": [
        "arr = []\n",
        "\n",
        "# taking input 3 X3 matrix\n",
        "for i in range(3):\n",
        "    arr.append(list(input().split()))\n",
        "\n",
        "if ((arr[0][0] == arr[0][1] and arr[0][1] == arr[0][2] and arr[0][0] == 'X') or\n",
        "(arr[1][0] == arr[1][1] and arr[1][1] == arr[1][2] and arr[1][0] == 'X') or\n",
        "(arr[2][0] == arr[2][1] and arr[2][1] == arr[2][2] and arr[2][0] == 'X') or\n",
        "(arr[0][0] == arr[1][0] and arr[1][0] == arr[2][0] and arr[0][0] == 'X') or\n",
        "(arr[0][1] == arr[1][1] and arr[1][1] == arr[2][1] and arr[0][1] == 'X') or\n",
        "(arr[0][2] == arr[1][2] and arr[1][2] == arr[2][2] and arr[0][2] == 'X') or\n",
        "(arr[0][0] == arr[1][1] and arr[1][1] == arr[2][2] and arr[0][0] == 'X') or\n",
        "(arr[0][2] == arr[1][1] and arr[1][1] == arr[2][0] and arr[0][2] == 'X')):\n",
        "    print(\"Player 1\")# player 1 win\n",
        "elif((arr[0][0] == arr[0][1] and arr[0][1] == arr[0][2] and arr[0][0] == 'O') or\n",
        "(arr[1][0] == arr[1][1] and arr[1][1] == arr[1][2] and arr[1][0] == 'O') or\n",
        "(arr[2][0] == arr[2][1] and arr[2][1] == arr[2][2] and arr[2][0] == 'O') or\n",
        "(arr[0][0] == arr[1][0] and arr[1][0] == arr[2][0] and arr[0][0] == 'O') or\n",
        "(arr[0][1] == arr[1][1] and arr[1][1] == arr[2][1] and arr[0][1] == 'O') or\n",
        "(arr[0][2] == arr[1][2] and arr[1][2] == arr[2][2] and arr[0][2] == 'O') or\n",
        "(arr[0][0] == arr[1][1] and arr[1][1] == arr[2][2] and arr[0][0] == 'O') or\n",
        "(arr[0][2] == arr[1][1] and arr[1][1] == arr[2][0] and arr[0][2] == 'O')):\n",
        "    print(\"Player 2\")# player 2 win\n",
        "else :\n",
        "    print(\"Draw\")# Match is drawn no body win "
      ],
      "execution_count": null,
      "outputs": [
        {
          "output_type": "stream",
          "text": [
            "x\n",
            "o\n",
            "x\n"
          ],
          "name": "stdout"
        },
        {
          "output_type": "error",
          "ename": "IndexError",
          "evalue": "ignored",
          "traceback": [
            "\u001b[0;31m---------------------------------------------------------------------------\u001b[0m",
            "\u001b[0;31mIndexError\u001b[0m                                Traceback (most recent call last)",
            "\u001b[0;32m<ipython-input-15-97b5f532ef9f>\u001b[0m in \u001b[0;36m<module>\u001b[0;34m()\u001b[0m\n\u001b[1;32m      5\u001b[0m     \u001b[0marr\u001b[0m\u001b[0;34m.\u001b[0m\u001b[0mappend\u001b[0m\u001b[0;34m(\u001b[0m\u001b[0mlist\u001b[0m\u001b[0;34m(\u001b[0m\u001b[0minput\u001b[0m\u001b[0;34m(\u001b[0m\u001b[0;34m)\u001b[0m\u001b[0;34m.\u001b[0m\u001b[0msplit\u001b[0m\u001b[0;34m(\u001b[0m\u001b[0;34m)\u001b[0m\u001b[0;34m)\u001b[0m\u001b[0;34m)\u001b[0m\u001b[0;34m\u001b[0m\u001b[0;34m\u001b[0m\u001b[0m\n\u001b[1;32m      6\u001b[0m \u001b[0;34m\u001b[0m\u001b[0m\n\u001b[0;32m----> 7\u001b[0;31m if ((arr[0][0] == arr[0][1] and arr[0][1] == arr[0][2] and arr[0][0] == 'X') or\n\u001b[0m\u001b[1;32m      8\u001b[0m \u001b[0;34m(\u001b[0m\u001b[0marr\u001b[0m\u001b[0;34m[\u001b[0m\u001b[0;36m1\u001b[0m\u001b[0;34m]\u001b[0m\u001b[0;34m[\u001b[0m\u001b[0;36m0\u001b[0m\u001b[0;34m]\u001b[0m \u001b[0;34m==\u001b[0m \u001b[0marr\u001b[0m\u001b[0;34m[\u001b[0m\u001b[0;36m1\u001b[0m\u001b[0;34m]\u001b[0m\u001b[0;34m[\u001b[0m\u001b[0;36m1\u001b[0m\u001b[0;34m]\u001b[0m \u001b[0;32mand\u001b[0m \u001b[0marr\u001b[0m\u001b[0;34m[\u001b[0m\u001b[0;36m1\u001b[0m\u001b[0;34m]\u001b[0m\u001b[0;34m[\u001b[0m\u001b[0;36m1\u001b[0m\u001b[0;34m]\u001b[0m \u001b[0;34m==\u001b[0m \u001b[0marr\u001b[0m\u001b[0;34m[\u001b[0m\u001b[0;36m1\u001b[0m\u001b[0;34m]\u001b[0m\u001b[0;34m[\u001b[0m\u001b[0;36m2\u001b[0m\u001b[0;34m]\u001b[0m \u001b[0;32mand\u001b[0m \u001b[0marr\u001b[0m\u001b[0;34m[\u001b[0m\u001b[0;36m1\u001b[0m\u001b[0;34m]\u001b[0m\u001b[0;34m[\u001b[0m\u001b[0;36m0\u001b[0m\u001b[0;34m]\u001b[0m \u001b[0;34m==\u001b[0m \u001b[0;34m'X'\u001b[0m\u001b[0;34m)\u001b[0m \u001b[0;32mor\u001b[0m\u001b[0;34m\u001b[0m\u001b[0;34m\u001b[0m\u001b[0m\n\u001b[1;32m      9\u001b[0m \u001b[0;34m(\u001b[0m\u001b[0marr\u001b[0m\u001b[0;34m[\u001b[0m\u001b[0;36m2\u001b[0m\u001b[0;34m]\u001b[0m\u001b[0;34m[\u001b[0m\u001b[0;36m0\u001b[0m\u001b[0;34m]\u001b[0m \u001b[0;34m==\u001b[0m \u001b[0marr\u001b[0m\u001b[0;34m[\u001b[0m\u001b[0;36m2\u001b[0m\u001b[0;34m]\u001b[0m\u001b[0;34m[\u001b[0m\u001b[0;36m1\u001b[0m\u001b[0;34m]\u001b[0m \u001b[0;32mand\u001b[0m \u001b[0marr\u001b[0m\u001b[0;34m[\u001b[0m\u001b[0;36m2\u001b[0m\u001b[0;34m]\u001b[0m\u001b[0;34m[\u001b[0m\u001b[0;36m1\u001b[0m\u001b[0;34m]\u001b[0m \u001b[0;34m==\u001b[0m \u001b[0marr\u001b[0m\u001b[0;34m[\u001b[0m\u001b[0;36m2\u001b[0m\u001b[0;34m]\u001b[0m\u001b[0;34m[\u001b[0m\u001b[0;36m2\u001b[0m\u001b[0;34m]\u001b[0m \u001b[0;32mand\u001b[0m \u001b[0marr\u001b[0m\u001b[0;34m[\u001b[0m\u001b[0;36m2\u001b[0m\u001b[0;34m]\u001b[0m\u001b[0;34m[\u001b[0m\u001b[0;36m0\u001b[0m\u001b[0;34m]\u001b[0m \u001b[0;34m==\u001b[0m \u001b[0;34m'X'\u001b[0m\u001b[0;34m)\u001b[0m \u001b[0;32mor\u001b[0m\u001b[0;34m\u001b[0m\u001b[0;34m\u001b[0m\u001b[0m\n",
            "\u001b[0;31mIndexError\u001b[0m: list index out of range"
          ]
        }
      ]
    },
    {
      "cell_type": "markdown",
      "metadata": {
        "id": "rIFzHdWk1zGA"
      },
      "source": [
        "19. Zack has messed up all his shoes. He has N shoes (single shoe, not paired).  You have to search for the partner of each shoe. Find the maximum pair you can make out of them.\n",
        "\n",
        "You will be given a description of each shoe i.e. the size of the shoes and if it is left shoes (L) or right shoes (R). Two shoes can be paired if they are having the same size and one is left L and the other is right R. "
      ]
    },
    {
      "cell_type": "code",
      "metadata": {
        "colab": {
          "base_uri": "https://localhost:8080/"
        },
        "id": "_momvVPP1AD_",
        "outputId": "9ab0d694-7067-4c0c-d6d9-6c7504d920bc"
      },
      "source": [
        "s = int(input())\n",
        "\n",
        "arr = [ ]\n",
        "brr = [ ]\n",
        "p = s\n",
        "\n",
        "while(s>0):\n",
        "  s-=1\n",
        "  a,b = input().split()\n",
        "  arr.append(int(a))\n",
        "  brr.append(b)\n",
        "\n",
        "i,j,count=0,0,0\n",
        "s = p\n",
        "\n",
        "while(i<s-1):\n",
        "  j=i+1\n",
        "  while(j<s):\n",
        "    if(arr[i]==arr[j] and brr[j]!= brr[i] and brr[j]!='S' and brr[i]!='S'):\n",
        "      brr[i]='S'\n",
        "      brr[j]='S'\n",
        "      count+=1\n",
        "      break\n",
        "    j+=1\n",
        "  i+=1\n",
        "print(count) "
      ],
      "execution_count": null,
      "outputs": [
        {
          "output_type": "stream",
          "text": [
            "6\n",
            "1 L \n",
            "2 L \n",
            "3 L \n",
            "1 R \n",
            "2 R \n",
            "3 R \n",
            "3\n"
          ],
          "name": "stdout"
        }
      ]
    },
    {
      "cell_type": "markdown",
      "metadata": {
        "id": "R8aBV-a_207s"
      },
      "source": [
        "20. John loves XOR. John's friends always ask him doubts related to XOR and he helps them to solve problems but he is busy because of his exams and asks you to help his friends. One of his friends wants your help with the following problem. Given an array of N numbers and a number K. The task is to insert the number in the given array such that the bitwise XOR of all the elements in the new array equals the give input K. "
      ]
    },
    {
      "cell_type": "code",
      "metadata": {
        "colab": {
          "base_uri": "https://localhost:8080/"
        },
        "id": "NHze9V9i22X1",
        "outputId": "f99ea042-6c8f-45fe-bd40-a65642a2d628"
      },
      "source": [
        "# Input test case (T)\n",
        "print(\"Input test case: \")\n",
        "t = int(input())\n",
        "\n",
        "while(t>0):\n",
        "  t=t-1\n",
        "\n",
        "  # Input value of m and k \n",
        "  print(\"Input value of m and k: \") \n",
        "  m,k=list(map(int,input().split()))\n",
        "\n",
        "  # Input array elements\n",
        "  print(\"Input array elements: \")\n",
        "  arr=list(map(int,input().split()))\n",
        "\n",
        "  # Store first value\n",
        "  res=arr[0]\n",
        "  for i in range(1,m):\n",
        "    # Perform the bitwise XOR operation \n",
        "    # on elements in array\n",
        "    res=res^arr[i]\n",
        "\n",
        "  # print the result\n",
        "  print(\"Result is: \")\n",
        "  print(k^res) "
      ],
      "execution_count": null,
      "outputs": [
        {
          "output_type": "stream",
          "text": [
            "Input test case: \n",
            "2\n",
            "Input value of m and k: \n",
            "2 3\n",
            "Input array elements: \n",
            "1 2 3 4 \n",
            "Result is: \n",
            "0\n",
            "Input value of m and k: \n",
            "1 2 \n",
            "Input array elements: \n",
            "1 3 \n",
            "Result is: \n",
            "3\n"
          ],
          "name": "stdout"
        }
      ]
    },
    {
      "cell_type": "markdown",
      "metadata": {
        "id": "Jz6SmfrP3En8"
      },
      "source": [
        "21. Suppose we have binary tree; we have to check whether it is a binary search tree or not. As we know a BST has following properties −\n",
        "\n",
        "all nodes on its left subtree is smaller than current node value\n",
        "all nodes on its right subtree is larger than current node value\n",
        "these properties hold recursively for all nodes "
      ]
    },
    {
      "cell_type": "code",
      "metadata": {
        "id": "p-_G87Qk26dC",
        "colab": {
          "base_uri": "https://localhost:8080/"
        },
        "outputId": "5115875e-89b4-4b5b-dd0b-9fa182262e3d"
      },
      "source": [
        "class TreeNode:\n",
        "   def __init__(self, data, left = None, right = None):\n",
        "      self.data = data\n",
        "      self.left = left\n",
        "      self.right = right\n",
        "class Solution:\n",
        "   def solve(self, root):\n",
        "      def inorder(root,l):\n",
        "         if root is None:\n",
        "            \n",
        "            inorder(root.left,l) \n",
        "            l.append(root.data)\n",
        "            inorder(root.right,l)\n",
        "            l = []\n",
        "            inorder(root,l)\n",
        "         return l == sorted(l)\n",
        "ob = Solution()\n",
        "root = TreeNode(5)\n",
        "root.left = TreeNode(1)\n",
        "root.right = TreeNode(9)\n",
        "root.right.left = TreeNode(7)\n",
        "root.right.right = TreeNode(10) \n",
        "root.right.left.left = TreeNode(6) \n",
        "root.right.left.right = TreeNode(8) \n",
        "print(ob.solve(root))"
      ],
      "execution_count": null,
      "outputs": [
        {
          "output_type": "stream",
          "text": [
            "None\n"
          ],
          "name": "stdout"
        }
      ]
    },
    {
      "cell_type": "markdown",
      "metadata": {
        "id": "lcwPF9WDBVzN"
      },
      "source": [
        "22. find sum of value in each level of binary tree"
      ]
    },
    {
      "cell_type": "code",
      "metadata": {
        "colab": {
          "base_uri": "https://localhost:8080/"
        },
        "id": "Kc5DXgGwAkWF",
        "outputId": "71c08a09-b58d-459b-8917-0920a67495bd"
      },
      "source": [
        "# Python program to find sum of values in each level of binary tree\n",
        "# importing double ended queue \n",
        "from collections import deque\n",
        "\n",
        "# class to create a new node\n",
        "class new_node(object):\n",
        "\tdef __init__(self,value):\n",
        "\t\tself.value=value\n",
        "\t\tself.left=None\n",
        "\t\tself.right=None\n",
        "\n",
        "class Level_Sum(object):\n",
        "\tdef __init__(self,root):\n",
        "\t\tself.root=root\n",
        "\t\tself.d=deque()\n",
        "\n",
        "# function to get the sum at each level\n",
        "\tdef Print_level_sum(self):\n",
        "\t\tif self.root==None:\n",
        "\t\t\treturn\n",
        "\t\t# enqueue root node in the queue(d)\n",
        "\t\tself.d.append(self.root)\n",
        "\t\t# level order traversal with the help of queue\n",
        "\t\twhile len(self.d):\n",
        "\t\t\t# count is storing the size of the queue when level order traversal of one level finishes.\n",
        "\t\t\tcount=len(self.d)\n",
        "\t\t\t# storing sum at current level\n",
        "\t\t\tsum=0\n",
        "\n",
        "\t\t\t# Iterating for current nodes in the queue\n",
        "\t\t\twhile count>0:\n",
        "\t\t\t\t#dequeue the visited node\n",
        "\t\t\t\tnode=self.d.popleft()\n",
        "\t\t\t\t# increament the value of sum by adding poped value\n",
        "\t\t\t\tsum+=node.value\n",
        "\t\t\t\tcount-=1\n",
        "\t\t\t\t# enqueue left and right children of poped node.\n",
        "\t\t\t\tif node.left:\n",
        "\t\t\t\t\tself.d.append(node.left)\n",
        "\t\t\t\tif node.right:\n",
        "\t\t\t\t\tself.d.append(node.right)\n",
        "\t\t\t# printing the value of sum at a level\n",
        "\t\t\tprint(sum)\n",
        "\n",
        "if __name__==\"__main__\":\n",
        "\troot=new_node(2)\n",
        "\troot.left=new_node(7)\n",
        "\troot.right=new_node(5)\n",
        "\troot.left.left=new_node(2)\n",
        "\troot.left.right=new_node(6)\n",
        "\troot.right.right=new_node(9)\n",
        "\troot.left.right.left=new_node(5)\n",
        "\troot.left.right.right=new_node(11)\n",
        "\troot.right.right.left=new_node(4)\n",
        "\tobj=Level_Sum(root)\n",
        "\tobj.Print_level_sum() "
      ],
      "execution_count": null,
      "outputs": [
        {
          "output_type": "stream",
          "text": [
            "2\n",
            "12\n",
            "17\n",
            "20\n"
          ],
          "name": "stdout"
        }
      ]
    },
    {
      "cell_type": "markdown",
      "metadata": {
        "id": "JFSq6ZIoBlTK"
      },
      "source": [
        "23.  find difference between sums of odd level and even level nodes of a binary tree\n",
        " "
      ]
    },
    {
      "cell_type": "code",
      "metadata": {
        "colab": {
          "base_uri": "https://localhost:8080/"
        },
        "id": "guVnXRlTBdNU",
        "outputId": "37a8f292-90f0-43e9-a667-7946a65f818b"
      },
      "source": [
        "#Python program to find difference between sums of odd level and even level nodes of a binary tree\n",
        "\n",
        "# to find difference b/w odd and even level sum\n",
        "# with the inorder traversal we store level sum in two variable\n",
        "# sum_even and sum_odd\n",
        "# whenever level is odd,increment sum_odd else sum_even\n",
        "# we are using queue data structure to go to every level of the tree.\n",
        "\n",
        "# time complexity of below algorithm is O(n) and space complexity is also O(n)\n",
        "# where n= no of nodes in the tree\n",
        "# importing double ended queue\n",
        "from collections import deque\n",
        "class new_node(object):\n",
        "\tdef __init__(self,value):\n",
        "\t\tself.value=value\n",
        "\t\tself.left=None\n",
        "\t\tself.right=None\n",
        "\n",
        "# binary tree class\n",
        "class BT(object):\n",
        "\tdef __init__(self,root):\n",
        "\t\tself.root=root\n",
        "\t\tself.q=deque()\n",
        "\n",
        "\t# doing level order traversal in a modified way\n",
        "\tdef Difference(self):\n",
        "\t\tif self.root==None:\n",
        "\t\t\treturn\n",
        "\t\t# level variable is initialized with value -1\n",
        "\t\t# at each level it is incremented by 1\n",
        "\t\tsum_odd,sum_even,level=0,0,-1\n",
        "\t\tself.q.append(self.root)\n",
        "\t\twhile len(self.q):\n",
        "\t\t\tlevel+=1\n",
        "\t\t\t# count stores the number of nodes at each level\n",
        "\t\t\tcount=len(self.q)\n",
        "\t\t\twhile count>0:\n",
        "\t\t\t\t# delete and return first element from the queue\n",
        "\t\t\t\tpop=self.q.popleft()\n",
        "\t\t\t\t# condition for even level \n",
        "\t\t\t\tif level%2==0:\n",
        "\t\t\t\t\tsum_even+=pop.value\n",
        "\t\t\t\telse:\n",
        "\t\t\t\t\tsum_odd+=pop.value\n",
        "\t\t\t\t# appending left and right child of current poped node\n",
        "\t\t\t\tif pop.left:\n",
        "\t\t\t\t\tself.q.append(pop.left)\n",
        "\t\t\t\tif pop.right:\n",
        "\t\t\t\t\tself.q.append(pop.right)\n",
        "\t\t\t\tcount-=1\n",
        "\t\treturn sum_even,sum_odd\n",
        "\tdef Print_Difference(self):\n",
        "\t\tsum_even,sum_odd=self.Difference()\n",
        "\t\tprint(\"difference b/w odd level sum and even level sum is %d \" %(sum_odd-sum_even))\n",
        "\n",
        "\n",
        "if __name__==\"__main__\":\n",
        "\troot=new_node(1)\n",
        "\troot.left=new_node(2)\n",
        "\troot.right=new_node(3)\n",
        "\troot.left.left=new_node(4)\n",
        "\troot.left.right=new_node(5)\n",
        "\troot.right.left=new_node(6)\n",
        "\troot.right.right=new_node(7)\n",
        "\tobj=BT(root)\n",
        "\tobj.Print_Difference()\t"
      ],
      "execution_count": null,
      "outputs": [
        {
          "output_type": "stream",
          "text": [
            "difference b/w odd level sum and even level sum is -18 \n"
          ],
          "name": "stdout"
        }
      ]
    },
    {
      "cell_type": "markdown",
      "metadata": {
        "id": "lMqYa8jHB2SH"
      },
      "source": [
        "24. reverse a path in binary search tree using queue "
      ]
    },
    {
      "cell_type": "code",
      "metadata": {
        "colab": {
          "base_uri": "https://localhost:8080/"
        },
        "id": "RaqMFbr0BtRs",
        "outputId": "53e2c5f8-2e0e-44ea-e37c-3599140acc07"
      },
      "source": [
        "# in above tree \n",
        "#  before reversing path inorder traversal is  -4 2 3 5 18 19 21 25\n",
        "# given key=18\n",
        "# inorder traversal after reversing path is  -4 2 3 18 5 19 21 25\n",
        "\n",
        "\n",
        "# to reverse a path from root to a given key in binary search tree ,we can\n",
        "# directly store root to given node path's address in an queue and reverse the values \n",
        "# with the help of queue.\n",
        "# as we are going at each node only once so time complexity is O(n) \n",
        "# and space complexity is also O(n)\n",
        "# here we are not changing nodes , we are just changing nodes values.\n",
        "\n",
        "# importing double ended queue from collections module\n",
        "# this algorithm works with unique keys.\n",
        "\n",
        "from collections import deque\n",
        "\n",
        "# creating new node\n",
        "class new_node(object):\n",
        "\tdef __init__(self,value):\n",
        "\t\tself.value=value\n",
        "\t\tself.left=None\n",
        "\t\tself.right=None\n",
        "\n",
        "class BST(object):\n",
        "\t# initialize the object with root and queue\n",
        "\tdef __init__(self,root):\n",
        "\t\tself.root=root\n",
        "\t\tself.d=deque()\n",
        "\n",
        "    # performing inorder traversal of the tree \n",
        "\tdef Inorder(self,root):\n",
        "\t\tif root:\n",
        "\t\t\tself.Inorder(root.left)\n",
        "\t\t\tprint(root.value,end=' ')\n",
        "\t\t\tself.Inorder(root.right)\n",
        "\n",
        "\n",
        "\t# storing root to given key path's address in the queue\n",
        "\tdef Root_To_Key(self,root,key,d):\n",
        "\t\t# base case\n",
        "\t\tif root==None:\n",
        "\t\t\treturn False\n",
        "\n",
        "\t\t# store current node in queue as it may lie in path \n",
        "\t\td.appendleft(root)\n",
        "\n",
        "\t\t# if currentnode's value if equal to key return True\n",
        "\t\tif root.value==key:\n",
        "\t\t\treturn True\n",
        "\n",
        "\t\t# check for the key in left and right subtree of the current root node\n",
        "\t\tif (root.left and self.Root_To_Key(root.left,key,d)) or ( root.right and self.Root_To_Key(root.right,key,d)):\n",
        "\t\t\treturn True\n",
        "\n",
        "\t\t# if it does not lie in path then delete current node from queue and return False\n",
        "\t\td.popleft()\n",
        "\t\treturn False\n",
        "\n",
        "\n",
        "\t# this function will reverse the keys in  path\n",
        "\tdef Reverse_Path(self,key):\n",
        "\n",
        "\t\tc=self.Root_To_Key(self.root,key,self.d)\n",
        "\t\t\n",
        "\t\t# if given key is not present in the tree\n",
        "\n",
        "\t\tif c==False:\n",
        "\t\t\tprint(\"key is not present\\n\")\n",
        "\t\t\treturn \n",
        "\t\t# reversing values from queue\n",
        "\t\tstart,end=0,len(self.d)-1\n",
        "\t\twhile start < end:\n",
        "\t\t\tself.d[start].value,self.d[end].value=self.d[end].value,self.d[start].value\n",
        "\t\t\tstart+=1\n",
        "\t\t\tend-=1\n",
        "\n",
        "\n",
        "if __name__==\"__main__\":\n",
        "\troot=new_node(5)\n",
        "\troot.left=new_node(2)\n",
        "\troot.right=new_node(12)\n",
        "\troot.left.left=new_node(1)\n",
        "\troot.left.right=new_node(3)\n",
        "\troot.right.left=new_node(9)\n",
        "\troot.right.right=new_node(21)\n",
        "\troot.right.right.left=new_node(19)\n",
        "\troot.right.right.right=new_node(25)\n",
        "\tobj=BST(root)\n",
        "\tprint(\"before reverse\")\n",
        "\tobj.Inorder(root)\n",
        "\tprint(\"\\n\")\n",
        "\tkey=int(input())\n",
        "\tobj.Reverse_Path(key)\n",
        "\tprint(\"after reverse\")\n",
        "\tobj.Inorder(root) "
      ],
      "execution_count": null,
      "outputs": [
        {
          "output_type": "stream",
          "text": [
            "before reverse\n",
            "1 2 3 5 9 12 19 21 25 \n",
            "\n",
            "2\n",
            "after reverse\n",
            "1 5 3 2 9 12 19 21 25 "
          ],
          "name": "stdout"
        }
      ]
    },
    {
      "cell_type": "markdown",
      "metadata": {
        "id": "ZCxJmyb5CIxt"
      },
      "source": [
        "25. find sum of all the numbers that are formed from root to leaf paths"
      ]
    },
    {
      "cell_type": "code",
      "metadata": {
        "colab": {
          "base_uri": "https://localhost:8080/"
        },
        "id": "Z_LKyRdNB-If",
        "outputId": "28d81fdd-dee4-4093-f0ed-f49e0d40c349"
      },
      "source": [
        "# in above tree root to leaf path are::\n",
        " #    15->10->8,15->10->12,15->20->16,15->20->25\n",
        "# so number formed by these paths are ::\n",
        "#   15108,151012,152016,152025\n",
        "# so sum of all these numbers =470161\n",
        "\n",
        "# to find the sum of all these numbers,first we are storing root to leaf path in an array\n",
        "# and then converting path into number by join method of string\n",
        "# and after that sum up all these numbers and store sum in variable summation\n",
        "# time complexity =O(n)\n",
        "# space complexity =O(n)\n",
        "\n",
        "# create a new node\n",
        "class new_node(object):\n",
        "\tdef __init__(self,value):\n",
        "\t\tself.value=value\n",
        "\t\tself.left,self.right=None,None\n",
        "\n",
        "class BT(object):\n",
        "\t# initializing object by root and summation=0\n",
        "\tdef __init__(self,root):\n",
        "\t\tself.root=root\n",
        "\t\tself.summation=0\n",
        "\n",
        "\t# this function will store root to leaf path in an array and convert it into number \n",
        "\t# and then add them.\n",
        "\tdef Root_To_Leaf(self,root,path,l):\n",
        "\n",
        "\t\t# base case\n",
        "\t\tif root==None:\n",
        "\t\t\treturn \n",
        "\t\t# add current node in the path array in the form of string\t\n",
        "\t\tpath[l]=str(root.value)\n",
        "\t\t# increment length by one \n",
        "\t\tl+=1\n",
        "\t\t#if current node is leaf node then we get a path from root to leaf\n",
        "\t\t# so convert it into number and add the number into summation \n",
        "\t\tif root.left==None and root.right==None:\n",
        "\t\t\tself.summation=self.summation+int(''.join(path[:l]))\n",
        "\n",
        "\t\t# reccur for left and right subtree\n",
        "\t\telse:\n",
        "\t\t\tself.Root_To_Leaf(root.left,path,l)\n",
        "\t\t\tself.Root_To_Leaf(root.right,path,l)\n",
        "\n",
        "\n",
        "\t# this function will print the sum of all the numbers as formed from a path\n",
        "\tdef Print_Sum(self):\n",
        "\t\tpath=[0]*100\n",
        "\t\tself.Root_To_Leaf(self.root,path,0)\n",
        "\t\tprint(self.summation)\n",
        "\n",
        "\n",
        "\n",
        "if __name__==\"__main__\":\n",
        "\troot=new_node(1)\n",
        "\n",
        "\troot.left=new_node(2)\n",
        "\troot.right=new_node(3)\n",
        "\n",
        "\troot.left.left=new_node(4)\n",
        "\troot.left.right=new_node(5)\n",
        "\troot.right.left=new_node(6)\n",
        "\troot.right.right=new_node(7)\n",
        "\tobj=BT(root)\n",
        "\tobj.Print_Sum()\n"
      ],
      "execution_count": null,
      "outputs": [
        {
          "output_type": "stream",
          "text": [
            "522\n"
          ],
          "name": "stdout"
        }
      ]
    },
    {
      "cell_type": "markdown",
      "metadata": {
        "id": "V2rH20kvNbxV"
      },
      "source": [
        "26. Given a positive integer, check if the number is prime or not. A prime is a natural number greater than 1 that has no positive divisors other than 1 and itself. Examples of first few prime numbers are {2, 3, 5,  "
      ]
    },
    {
      "cell_type": "code",
      "metadata": {
        "id": "d3nkUgLQCNfr",
        "colab": {
          "base_uri": "https://localhost:8080/"
        },
        "outputId": "4bf50146-8e4c-41bd-a3ff-9c45d8b8b8ae"
      },
      "source": [
        "def isPrime(n):\n",
        " \n",
        "    # Corner case\n",
        "    if n <= 1:\n",
        "        return False\n",
        " \n",
        "    # Check from 2 to n-1\n",
        "    for i in range(2, n):\n",
        "        if n % i == 0:\n",
        "            return False;\n",
        " \n",
        "    return True\n",
        " \n",
        "# Driver Program to test above function\n",
        "print(\"true\") if isPrime(11) else print(\"false\")\n",
        "print(\"true\") if isPrime(14) else print(\"false\")\n"
      ],
      "execution_count": null,
      "outputs": [
        {
          "output_type": "stream",
          "text": [
            "true\n",
            "false\n"
          ],
          "name": "stdout"
        }
      ]
    },
    {
      "cell_type": "markdown",
      "metadata": {
        "id": "I8-zfEO1OFLq"
      },
      "source": [
        "27. Given an integer x and a positive number y, write a function that computes xy under following conditions. \n",
        "a) Time complexity of the function should be O(Log y) \n",
        "b) Extra Space is O(1)  "
      ]
    },
    {
      "cell_type": "code",
      "metadata": {
        "colab": {
          "base_uri": "https://localhost:8080/"
        },
        "id": "49QkvFkQN-K4",
        "outputId": "2a3cf72d-2339-47cd-e0f9-117c336cdcfb"
      },
      "source": [
        "# Iterative Python3 program\n",
        "# to implement pow(x, n)\n",
        " \n",
        "# Iterative Function to\n",
        "# calculate (x^y) in O(logy)\n",
        "def power(x, y):\n",
        " \n",
        "    # Initialize result\n",
        "    res = 1\n",
        "     \n",
        "    while (y > 0):\n",
        "         \n",
        "        # If y is odd, multiply\n",
        "        # x with result\n",
        "        if ((y & 1) == 1) :\n",
        "            res = res * x\n",
        " \n",
        "        # y must be even\n",
        "        # now y = y/2\n",
        "        y = y >> 1\n",
        "         \n",
        "        # Change x to x^2\n",
        "        x = x * x\n",
        "     \n",
        "    return res\n",
        " \n",
        " \n",
        "# Driver Code\n",
        "x = 3\n",
        "y = 5\n",
        " \n",
        "print(\"Power is \",\n",
        "       power(x, y)) "
      ],
      "execution_count": null,
      "outputs": [
        {
          "output_type": "stream",
          "text": [
            "Power is  243\n"
          ],
          "name": "stdout"
        }
      ]
    },
    {
      "cell_type": "markdown",
      "metadata": {
        "id": "GKKhptyMOk6P"
      },
      "source": [
        "28. Write a program to print all permutations of a given string . \n"
      ]
    },
    {
      "cell_type": "code",
      "metadata": {
        "colab": {
          "base_uri": "https://localhost:8080/"
        },
        "id": "BkDb26zlOsB8",
        "outputId": "2e1782bd-d1d0-4d3a-c6ab-f6f31e54565e"
      },
      "source": [
        "def permute(s, answer):\n",
        "    if (len(s) == 0):\n",
        "        print(answer, end = \"  \")\n",
        "        return\n",
        "     \n",
        "    for i in range(len(s)):\n",
        "        ch = s[i]\n",
        "        left_substr = s[0:i]\n",
        "        right_substr = s[i + 1:]\n",
        "        rest = left_substr + right_substr\n",
        "        permute(rest, answer + ch)\n",
        " \n",
        "# Driver Code\n",
        "answer = \"\"\n",
        " \n",
        "s = input(\"Enter the string : \")\n",
        " \n",
        "print(\"All possible strings are : \")\n",
        "permute(s, answer)"
      ],
      "execution_count": null,
      "outputs": [
        {
          "output_type": "stream",
          "text": [
            "Enter the string : abcd\n",
            "All possible strings are : \n",
            "abcd  abdc  acbd  acdb  adbc  adcb  bacd  badc  bcad  bcda  bdac  bdca  cabd  cadb  cbad  cbda  cdab  cdba  dabc  dacb  dbac  dbca  dcab  dcba  "
          ],
          "name": "stdout"
        }
      ]
    },
    {
      "cell_type": "markdown",
      "metadata": {
        "id": "LEfYuGgKPEam"
      },
      "source": [
        "29. Print first n distinct permutations of string using itertools in Python "
      ]
    },
    {
      "cell_type": "code",
      "metadata": {
        "colab": {
          "base_uri": "https://localhost:8080/"
        },
        "id": "kX5-gjV9O5_Y",
        "outputId": "3eb907d9-a565-45f4-9bdf-9ce97d1622cc"
      },
      "source": [
        "# Python3 program to print first n unique \n",
        "# permutations of the string using itertools\n",
        "from itertools import permutations\n",
        "  \n",
        "# Function to print first n unique \n",
        "# permutation using itertools \n",
        "def nPermute(string, n): \n",
        "  \n",
        "    # Convert the string to list and sort \n",
        "    # the characters in alphabetical order\n",
        "    strList = sorted(list(string))\n",
        "      \n",
        "    # Create an iterator\n",
        "    permList = permutations(strList)\n",
        "  \n",
        "    # Keep iterating until we \n",
        "    # reach nth unique permutation\n",
        "    i = 0\n",
        "    permSet = set()\n",
        "    tempStr = '' \n",
        "      \n",
        "    while i < n:\n",
        "        tempStr = ''.join(permList.__next__())\n",
        "          \n",
        "        # Insert the string in the set\n",
        "        # if it is not already included\n",
        "        # and print it out.\n",
        "        if tempStr not in permSet:\n",
        "            permSet.add(tempStr)\n",
        "            print(tempStr)\n",
        "            i += 1\n",
        "      \n",
        "# Driver code \n",
        "if __name__ == \"__main__\":\n",
        "  \n",
        "    string = \"ababc\"\n",
        "    n = 10\n",
        "    nPermute(string, n)  "
      ],
      "execution_count": null,
      "outputs": [
        {
          "output_type": "stream",
          "text": [
            "aabbc\n",
            "aabcb\n",
            "aacbb\n",
            "ababc\n",
            "abacb\n",
            "abbac\n",
            "abbca\n",
            "abcab\n",
            "abcba\n",
            "acabb\n"
          ],
          "name": "stdout"
        }
      ]
    },
    {
      "cell_type": "markdown",
      "metadata": {
        "id": "sricqyBnPbPm"
      },
      "source": [
        "30. n this article, we will see how to build a flashcard using class in python. A flashcard is a card having information on both sides, which can be used as an aid in memorization. Flashcards usually have a question on one side and an answer on the other. Particularly in this article, we are going to create flashcards that will be having a word and its meaning.\n",
        "\n",
        "Let’s see some examples of flashcard:\n",
        "\n",
        "Example 1:\n",
        "\n",
        "Approach :\n",
        "\n",
        "Take the word and its meaning as input from the user.\n",
        "Create a class named flashcard, use the __init__() function to assign values for Word and Meaning.\n",
        "Now we use the __str__() function to return a string that contains the word and meaning.\n",
        "Store the returned strings in a list named flash.\n",
        "Use a while loop to print all the stored flashcards."
      ]
    },
    {
      "cell_type": "code",
      "metadata": {
        "colab": {
          "base_uri": "https://localhost:8080/"
        },
        "id": "hynBH4VDPYRR",
        "outputId": "12e65179-4831-4fcf-9519-75dc5be3601e"
      },
      "source": [
        "class flashcard:\n",
        "    def __init__(self, word, meaning):\n",
        "        self.word = word\n",
        "        self.meaning = meaning\n",
        "    def __str__(self):\n",
        "        \n",
        "        #we will return a string \n",
        "        return self.word+' ( '+self.meaning+' )'\n",
        "        \n",
        "flash = []\n",
        "print(\"welcome to flashcard application\")\n",
        "  \n",
        "#the following loop will be repeated until\n",
        "#user stops to add the flashcards\n",
        "while(True):\n",
        "    word = input(\"enter the name you want to add to flashcard : \")\n",
        "    meaning = input(\"enter the meaning of the word : \")\n",
        "      \n",
        "    flash.append(flashcard(word, meaning))\n",
        "    option = int(input(\"enter 0 , if you want to add another flashcard : \"))\n",
        "      \n",
        "    if(option):\n",
        "        break\n",
        "          \n",
        "# printing all the flashcards \n",
        "print(\"\\nYour flashcards\")\n",
        "for i in flash:\n",
        "    print(\">\", i)"
      ],
      "execution_count": null,
      "outputs": [
        {
          "output_type": "stream",
          "text": [
            "welcome to flashcard application\n",
            "enter the name you want to add to flashcard : welcome\n",
            "enter the meaning of the word : greeting\n",
            "enter 0 , if you want to add another flashcard : 1\n",
            "\n",
            "Your flashcards\n",
            "> welcome ( greeting )\n"
          ],
          "name": "stdout"
        }
      ]
    },
    {
      "cell_type": "markdown",
      "metadata": {
        "id": "8gTzbx7KQE8S"
      },
      "source": [
        "31. Generate all permutations of a given length such that every permutation has more or equals 1’s than 0’s in all prefixes of the permutation.\n",
        "  "
      ]
    },
    {
      "cell_type": "code",
      "metadata": {
        "colab": {
          "base_uri": "https://localhost:8080/"
        },
        "id": "vIP9GqQ8PsMN",
        "outputId": "58367457-9bc7-4afe-9c2e-3046aaa5baa8"
      },
      "source": [
        "# Python 3 program to generate all permutations of 1's and 0's such that\n",
        "# every permutation has more 1's than 0's at all indexes.\n",
        " \n",
        "# ones & zeroes --> counts of 1's and 0's in current string 'str'\n",
        "# len ---> desired length of every permutation\n",
        "def generate(ones, zeroes, str, len1):\n",
        "    # If length of current string becomes same as desired length\n",
        "    if (len1 == len(str)):\n",
        "        print(str,end =\" \")\n",
        "        return\n",
        "     \n",
        "    # Append a 1 and recur\n",
        "    generate(ones+1, zeroes, str+\"1\", len1)\n",
        " \n",
        "    # If there are more 1's, append a 0 as well, and recur\n",
        "    if (ones > zeroes):\n",
        "        generate(ones, zeroes+1, str+\"0\", len1)\n",
        " \n",
        "# Driver program to test above function\n",
        "if __name__ == '__main__':\n",
        "    str = \"\"\n",
        "    generate(0, 0, str, 4)\n",
        " "
      ],
      "execution_count": null,
      "outputs": [
        {
          "output_type": "stream",
          "text": [
            "1111 1110 1101 1100 1011 1010 "
          ],
          "name": "stdout"
        }
      ]
    },
    {
      "cell_type": "markdown",
      "metadata": {
        "id": "hx3HKlkiQaPW"
      },
      "source": [
        "32. Number of binary strings such that there is no substring of length ≥ 3 "
      ]
    },
    {
      "cell_type": "code",
      "metadata": {
        "colab": {
          "base_uri": "https://localhost:8080/"
        },
        "id": "dUmGr_lYQYoR",
        "outputId": "e3bdf470-194c-4741-ff6e-944ed47bc87e"
      },
      "source": [
        "# Python3 implementation of the approach\n",
        "MOD = 1000000007\n",
        " \n",
        "# Function to return the count of\n",
        "# all possible binary strings\n",
        "def countStr(N):\n",
        " \n",
        "    dp = [[0 for i in range(3)] for i in range(N + 1)]\n",
        " \n",
        "    # Base cases\n",
        "    dp[1][0] = 1\n",
        "    dp[1][1] = 1\n",
        "    dp[1][2] = 0\n",
        " \n",
        "    for i in range(2, N + 1):\n",
        " \n",
        "        # dp[i][j] is the number of possible\n",
        "        # strings such that '1' just appeared\n",
        "        # consecutively j times upto ith index\n",
        "        dp[i][0] = (dp[i - 1][0] + dp[i - 1][1] +\n",
        "                    dp[i - 1][2]) % MOD\n",
        " \n",
        "        # Taking previously calculated value\n",
        "        dp[i][1] = dp[i - 1][0] % MOD\n",
        "        dp[i][2] = dp[i - 1][1] % MOD\n",
        " \n",
        "    # Taking all the possible cases that\n",
        "    # can appear at the Nth position\n",
        "    ans = (dp[N][0] + dp[N][1] + dp[N][2]) % MOD\n",
        " \n",
        "    return ans\n",
        " \n",
        "# Driver code\n",
        "if __name__ == '__main__':\n",
        "    N = 8\n",
        " \n",
        "    print(countStr(N)) "
      ],
      "execution_count": null,
      "outputs": [
        {
          "output_type": "stream",
          "text": [
            "149\n"
          ],
          "name": "stdout"
        }
      ]
    },
    {
      "cell_type": "markdown",
      "metadata": {
        "id": "Wd8-yfZuQpNj"
      },
      "source": [
        "33. Count number of binary strings such that there is no substring of length greater than or equal to 3 with all 1’s"
      ]
    },
    {
      "cell_type": "code",
      "metadata": {
        "colab": {
          "base_uri": "https://localhost:8080/"
        },
        "id": "4V3eamwsQmHu",
        "outputId": "f714f8fb-2a89-45da-a8d9-972ff6e2bbc9"
      },
      "source": [
        "# Python3 implementation of the approach\n",
        "MOD = 1000000007\n",
        " \n",
        "# Function to return the count\n",
        "# of all possible valid strings\n",
        "def countStrings(N):\n",
        " \n",
        "    # Initialise and fill 0's in the dp array\n",
        "    dp = [[0] * 3 for i in range(N + 1)]\n",
        " \n",
        "    # Base cases\n",
        "    dp[1][0] = 1;\n",
        "    dp[1][1] = 1;\n",
        "    dp[1][2] = 0;\n",
        " \n",
        "    for i in range(2, N + 1):\n",
        " \n",
        "        # dp[i][j] = number of possible strings\n",
        "        # such that '1' just appeared consecutively\n",
        "        # j times upto the ith index\n",
        "        dp[i][0] = (dp[i - 1][0] +\n",
        "                    dp[i - 1][1] +\n",
        "                    dp[i - 1][2]) % MOD\n",
        " \n",
        "        # Taking previously calculated value\n",
        "        dp[i][1] = dp[i - 1][0] % MOD\n",
        "        dp[i][2] = dp[i - 1][1] % MOD\n",
        "     \n",
        " \n",
        "    # Taking all possible cases that\n",
        "    # can appear at the Nth position\n",
        "    ans = (dp[N][0] + dp[N][1] + dp[N][2]) % MOD\n",
        " \n",
        "    return ans\n",
        " \n",
        "# Driver code\n",
        "if __name__ == '__main__':\n",
        " \n",
        "    N = 3\n",
        " \n",
        "    print(countStrings(N))\n",
        " "
      ],
      "execution_count": null,
      "outputs": [
        {
          "output_type": "stream",
          "text": [
            "7\n"
          ],
          "name": "stdout"
        }
      ]
    },
    {
      "cell_type": "markdown",
      "metadata": {
        "id": "TV511rTVQ8jk"
      },
      "source": [
        "34. Length of the largest substring which have character with frequency greater than or equal to half of the substring "
      ]
    },
    {
      "cell_type": "code",
      "metadata": {
        "colab": {
          "base_uri": "https://localhost:8080/"
        },
        "id": "7ERxtxIaQyZ8",
        "outputId": "e0883489-db6c-43f8-feca-2ecd30386ac2"
      },
      "source": [
        "# Python3 implementation of the above approach\n",
        "import sys\n",
        " \n",
        "# Function to return the length\n",
        "# of the longest sub string\n",
        "# having frequency of a character\n",
        "# greater than half of the length\n",
        "# of the sub string\n",
        "def maxLength(s, n) :\n",
        "     \n",
        "    ans = -(sys.maxsize + 1);\n",
        "    A, L, R = [], [], [];\n",
        "    freq = [0] * (n + 5);\n",
        " \n",
        "    # for each of the character 'a' to 'z'\n",
        "    for i in range(26) :\n",
        "        count = 0;\n",
        "         \n",
        "        # finding frequency prefix array\n",
        "        # of the character\n",
        "        for j in range(n) :\n",
        "            if (ord(s[j]) - ord('a') == i) :\n",
        "                count += 1;\n",
        "                 \n",
        "            freq[j] = count;\n",
        "         \n",
        "        # Finding the r[] and l[] arrays.\n",
        "        for j in range(n) :\n",
        "            L.append((2 * freq[j - 1]) - j);\n",
        "            R.append((2 * freq[j]) - j);\n",
        "         \n",
        "        max_len = -(sys.maxsize + 1);\n",
        "        min_val = sys.maxsize ;\n",
        " \n",
        "        # for each j from 0 to n\n",
        "        for j in range(n) :\n",
        "            min_val = min(min_val, L[j]);\n",
        "            A.append(min_val);\n",
        " \n",
        "            l = 0; r = j;\n",
        " \n",
        "            # Finding the lower bound of i.\n",
        "            while (l <= r) :\n",
        "                mid = (l + r) >> 1;\n",
        "                if (A[mid] <= R[j]) :\n",
        "                    max_len = max(max_len, j - mid + 1);\n",
        "                    r = mid - 1;\n",
        "                 \n",
        "                else :\n",
        "                    l = mid + 1;\n",
        " \n",
        "        # storing the maximum value of i - j + 1\n",
        "        ans = max(ans, max_len);\n",
        " \n",
        "        # clearing all the vector so that it can\n",
        "        # be used for other characters.\n",
        "        A.clear();\n",
        "        R.clear();\n",
        "        L.clear();\n",
        " \n",
        "    return ans;\n",
        " \n",
        "# Driver Code\n",
        "if __name__ == \"__main__\" :\n",
        " \n",
        "    s = \"ababbbacbcbcca\";\n",
        "    n = len(s);\n",
        " \n",
        "    print(maxLength(s, n));"
      ],
      "execution_count": null,
      "outputs": [
        {
          "output_type": "stream",
          "text": [
            "13\n"
          ],
          "name": "stdout"
        }
      ]
    },
    {
      "cell_type": "markdown",
      "metadata": {
        "id": "cffQxG3nRKK-"
      },
      "source": [
        "35. Count number of rotated strings which have more number of vowels in the first half than second half "
      ]
    },
    {
      "cell_type": "code",
      "metadata": {
        "colab": {
          "base_uri": "https://localhost:8080/"
        },
        "id": "woCaLqifRDg3",
        "outputId": "c48fec62-e6ab-4651-abe0-f70c25380412"
      },
      "source": [
        "# Python3 implementation of the approach\n",
        " \n",
        "# Function to return the count of rotated\n",
        "# strings which have more number of vowels in\n",
        "# the first half than the second half\n",
        "def cntRotations(s, n):\n",
        " \n",
        "    # Create a new string\n",
        "    str = s + s;\n",
        " \n",
        "    # Pre array to store count of all vowels\n",
        "    pre = [0] * (2 * n);\n",
        " \n",
        "    # Compute the prefix array\n",
        "    for i in range(2 * n):\n",
        "        if (i != 0):\n",
        "            pre[i] += pre[i - 1];\n",
        " \n",
        "        if (str[i] == 'a' or str[i] == 'e' or\n",
        "            str[i] == 'i' or str[i] == 'o' or\n",
        "            str[i] == 'u'):\n",
        "            pre[i] += 1;\n",
        "         \n",
        "    # To store the required answer\n",
        "    ans = 0;\n",
        " \n",
        "    # Find all rotated strings\n",
        "    for i in range(n - 1, 2 * n - 1, 1):\n",
        " \n",
        "        # Right and left index of the string\n",
        "        r = i; l = i - n;\n",
        " \n",
        "        # x1 stores the number of vowels\n",
        "        # in the rotated string\n",
        "        x1 = pre[r];\n",
        "        if (l >= 0):\n",
        "            x1 -= pre[l];\n",
        "        r = (int)(i - n / 2);\n",
        " \n",
        "        # Left stores the number of vowels\n",
        "        # in the first half of rotated string\n",
        "        left = pre[r];\n",
        "        if (l >= 0):\n",
        "            left -= pre[l];\n",
        " \n",
        "        # Right stores the number of vowels\n",
        "        # in the second half of rotated string\n",
        "        right = x1 - left;\n",
        " \n",
        "        # If the count of vowels in the first half\n",
        "        # is greater than the count in the second half\n",
        "        if (left > right):\n",
        "            ans += 1;\n",
        "         \n",
        "    # Return the required answer\n",
        "    return ans;\n",
        " \n",
        "# Driver code\n",
        "s = \"abecidft\";\n",
        "n = len(s);\n",
        " \n",
        "print(cntRotations(s, n));"
      ],
      "execution_count": null,
      "outputs": [
        {
          "output_type": "stream",
          "text": [
            "4\n"
          ],
          "name": "stdout"
        }
      ]
    },
    {
      "cell_type": "markdown",
      "metadata": {
        "id": "72tWA72FRTai"
      },
      "source": [
        "36. Count of strings in the first array which are smaller than every string in the second array\n",
        "\n",
        "Given two arrays A[] and B[] which consists of N and M strings respectively. A string S1 is said to be smaller than string S2 if the frequency of the smallest character in the S1 is smaller than the frequency of the smallest character in S2. The task is to count the number of strings in A[] which are smaller than B[i] for every i."
      ]
    },
    {
      "cell_type": "code",
      "metadata": {
        "colab": {
          "base_uri": "https://localhost:8080/"
        },
        "id": "FXyTD36rRQL7",
        "outputId": "26a05aff-545e-40b6-baf0-56f89217ed4d"
      },
      "source": [
        "# Python3 implementation of the approach\n",
        "from bisect import bisect_left as lower_bound\n",
        " \n",
        "MAX = 26\n",
        " \n",
        "# Function to count the number of smaller\n",
        "# strings in A for every in B\n",
        "def findCount(a, b, n, m):\n",
        " \n",
        "    # Count the frequency of all characters\n",
        "    freq=[0 for i in range(MAX)]\n",
        " \n",
        "    smallestFreq=[]\n",
        " \n",
        "    # Iterate for all possible strings in A\n",
        "    for i in range(n):\n",
        "        s = a[i]\n",
        " \n",
        "        for i in range(MAX):\n",
        "            freq[i]=0\n",
        " \n",
        "        # Increase the frequency of every character\n",
        "        for j in range(len(s)):\n",
        "            freq[ord(s[j]) - ord('a')]+= 1\n",
        " \n",
        "        # Check for the smallest character's frequency\n",
        "        for j in range(MAX):\n",
        " \n",
        "            # Get the smallest character frequency\n",
        "            if (freq[j]):\n",
        " \n",
        "                # Insert it in the vector\n",
        "                smallestFreq.append(freq[j])\n",
        "                break\n",
        " \n",
        " \n",
        "    # Sort the count of all the frequency of the smallest\n",
        "    # character in every string\n",
        "    smallestFreq=sorted(smallestFreq)\n",
        " \n",
        "    ans=[]\n",
        " \n",
        "    # Iterate for every in B\n",
        "    for i in range(m):\n",
        "        s = b[i]\n",
        " \n",
        "        # Hash set every frequency 0\n",
        "        for i in range(MAX):\n",
        "            freq[i]=0\n",
        " \n",
        "        # Count the frequency of every character\n",
        "        for j in range(len(s)):\n",
        "            freq[ord(s[j]) - ord('a')]+= 1\n",
        " \n",
        " \n",
        "        frequency = 0\n",
        " \n",
        "        # Find the frequency of the smallest character\n",
        "        for j in range(MAX):\n",
        "            if (freq[j]):\n",
        "                frequency = freq[j]\n",
        "                break\n",
        " \n",
        "        # Count the number of strings in A\n",
        "        # which has the frequency of the smaller\n",
        "        # character less than the frequency of the\n",
        "        # smaller character of the in B\n",
        "        ind = lower_bound(smallestFreq,frequency)\n",
        " \n",
        "        # Store the answer\n",
        "        ans.append(ind)\n",
        " \n",
        "    return ans\n",
        " \n",
        " \n",
        "# Function to print the answer\n",
        "def printAnswer(a, b, n, m):\n",
        " \n",
        "    # Get the answer\n",
        "    ans = findCount(a, b, n, m)\n",
        " \n",
        "    # Print the number of strings\n",
        "    # for every answer\n",
        "    for it in ans:\n",
        "        print(it,end=\" \")\n",
        " \n",
        "# Driver code\n",
        " \n",
        "A = [\"aaa\", \"aa\", \"bdc\"]\n",
        "B = [\"cccch\", \"cccd\"]\n",
        "n = len(A)\n",
        "m = len(B)\n",
        " \n",
        "printAnswer(A, B, n, m)\n",
        " \n"
      ],
      "execution_count": null,
      "outputs": [
        {
          "output_type": "stream",
          "text": [
            "3 2 "
          ],
          "name": "stdout"
        }
      ]
    },
    {
      "cell_type": "markdown",
      "metadata": {
        "id": "0NtT8BxaRl-K"
      },
      "source": [
        "37. Count subsequences in first string which are anagrams of the second string\n",
        "Given two strings str1 and str2 of length n1 and n2 respectively. The problem is to count all the subsequences of str1 which are anagrams of str2. \n",
        "Examples: \n",
        " \n",
        "\n",
        "Input : str1 = \"abacd\", str2 = \"abc\"\n",
        "Output : 2\n",
        "Index of characters in the 2 subsequences are:\n",
        "{0, 1, 3} = {a, b, c} = abc and\n",
        "{1, 2, 3} = {b, a, c} = bac\n",
        "The above two subsequences of str1 \n",
        "are anagrams of str2.\n",
        "\n",
        "Input : str1 = \"geeksforgeeks\", str2 = \"geeks\" \n",
        "Output : 48"
      ]
    },
    {
      "cell_type": "code",
      "metadata": {
        "colab": {
          "base_uri": "https://localhost:8080/"
        },
        "id": "1u2XveTNRj9G",
        "outputId": "a72a72a4-913b-45c5-89a5-fc2989794513"
      },
      "source": [
        "# Python3 implementation to count\n",
        "# subsequences in first which are\n",
        "# anagrams of the second\n",
        " \n",
        "# import library\n",
        "import numpy as np\n",
        " \n",
        "SIZE = 26\n",
        " \n",
        "# Returns value of Binomial\n",
        "# Coefficient C(n, k)\n",
        "def binomialCoeff(n, k):\n",
        "     \n",
        "    res = 1\n",
        " \n",
        "    # Since C(n, k) = C(n, n-k)\n",
        "    if (k > n - k):\n",
        "        k = n - k\n",
        " \n",
        "    # Calculate value of\n",
        "    # [n * (n-1) *---* (n-k+1)] /\n",
        "    # [k * (k-1) *----* 1]\n",
        "    for i in range(0, k):\n",
        "        res = res * (n - i)\n",
        "        res = int(res / (i + 1))\n",
        "     \n",
        "    return res\n",
        " \n",
        " \n",
        "# Function to count subsequences\n",
        "# in first which are anagrams\n",
        "# of the second\n",
        "def countSubsequences(str1, str2):\n",
        "     \n",
        "    # Hash tables to store frequencies\n",
        "    # of each character\n",
        "    freq1 = np.zeros(26, dtype = np.int)\n",
        "    freq2 = np.zeros(26, dtype = np.int)\n",
        " \n",
        "    n1 = len(str1)\n",
        "    n2 = len(str2)\n",
        " \n",
        "    # Store frequency of each\n",
        "    # character of 'str1'\n",
        "    for i in range(0, n1):\n",
        "        freq1[ord(str1[i]) - ord('a') ] += 1\n",
        " \n",
        "    # Store frequency of each\n",
        "    # character of 'str2'\n",
        "    for i in range(0, n2):\n",
        "         \n",
        "        freq2[ord(str2[i]) - ord('a')] += 1\n",
        " \n",
        "    # To store the total count\n",
        "    # of subsequences\n",
        "    count = 1\n",
        " \n",
        "    for i in range(0, SIZE):\n",
        "         \n",
        "        # if character (i + 'a')\n",
        "        # exists in 'str2'\n",
        "        if (freq2[i] != 0):\n",
        "            # if this character's frequency\n",
        "            # in 'str2' in less than or\n",
        "            # equal to its frequency in\n",
        "            # 'str1' then accumulate its\n",
        "            # contribution to the count\n",
        "            # of subsequences. If its\n",
        "            # frequency in 'str1' is 'n'\n",
        "            # and in 'str2' is 'r', then\n",
        "            # its contribution will be nCr,\n",
        "            # where C is the binomial\n",
        "            # coefficient.\n",
        "            if (freq2[i] <= freq1[i]):\n",
        "                count = count * binomialCoeff(freq1[i], freq2[i])\n",
        " \n",
        "            # else return 0 as there could\n",
        "            # be no subsequence which is an\n",
        "            # anagram of 'str2'\n",
        "            else:\n",
        "                return 0\n",
        "         \n",
        "    # required count of subsequences\n",
        "    return count\n",
        " \n",
        "# Driver code\n",
        "str1 = \"abacd\"\n",
        "str2 = \"abc\"\n",
        "ans = countSubsequences(str1, str2)\n",
        "print (\"Count = \", ans)\n",
        "  "
      ],
      "execution_count": null,
      "outputs": [
        {
          "output_type": "stream",
          "text": [
            "Count =  2\n"
          ],
          "name": "stdout"
        }
      ]
    },
    {
      "cell_type": "markdown",
      "metadata": {
        "id": "NGvNsz15SMLJ"
      },
      "source": [
        "38. Check whether two strings are anagram of each other \n"
      ]
    },
    {
      "cell_type": "code",
      "metadata": {
        "colab": {
          "base_uri": "https://localhost:8080/"
        },
        "id": "ibZRz0GXR2DB",
        "outputId": "f82cb326-e63c-46f2-936f-5ff676f5a918"
      },
      "source": [
        "# Python program to check whether two strings are\n",
        "# anagrams of each other\n",
        " \n",
        "# function to check whether two strings are anagram\n",
        "# of each other\n",
        " \n",
        " \n",
        "def areAnagram(str1, str2):\n",
        "    # Get lengths of both strings\n",
        "    n1 = len(str1)\n",
        "    n2 = len(str2)\n",
        " \n",
        "    # If lenght of both strings is not same, then\n",
        "    # they cannot be anagram\n",
        "    if n1 != n2:\n",
        "        return 0\n",
        " \n",
        "    # Sort both strings\n",
        "    str1 = sorted(str1)\n",
        "    str2 = sorted(str2)\n",
        " \n",
        "    # Compare sorted strings\n",
        "    for i in range(0, n1):\n",
        "        if str1[i] != str2[i]:\n",
        "            return 0\n",
        " \n",
        "    return 1\n",
        " \n",
        " \n",
        "# Driver code\n",
        "str1 = \"test\"\n",
        "str2 = \"ttew\"\n",
        " \n",
        "# Function Call\n",
        "if areAnagram(str1, str2):\n",
        "    print(\"The two strings are anagram of each other\")\n",
        "else:\n",
        "    print(\"The two strings are not anagram of each other\")\n",
        " "
      ],
      "execution_count": null,
      "outputs": [
        {
          "output_type": "stream",
          "text": [
            "The two strings are not anagram of each other\n"
          ],
          "name": "stdout"
        }
      ]
    },
    {
      "cell_type": "markdown",
      "metadata": {
        "id": "e2kA6XeySW6U"
      },
      "source": [
        "39. Check if strings are rotations of each other or not | Set 2 "
      ]
    },
    {
      "cell_type": "code",
      "metadata": {
        "colab": {
          "base_uri": "https://localhost:8080/"
        },
        "id": "sUt7IsedSjqW",
        "outputId": "4bd2b69f-ac92-4011-d370-d65e55f9151d"
      },
      "source": [
        "# Python program to check if\n",
        "# two strings are rotations\n",
        "# of each other\n",
        "def isRotation(a: str, b: str) -> bool:\n",
        "    n = len(a)\n",
        "    m = len(b)\n",
        "    if (n != m):\n",
        "        return False\n",
        " \n",
        "    # create lps[] that\n",
        "    # will hold the longest\n",
        "    # prefix suffix values\n",
        "    # for pattern\n",
        "    lps = [0 for _ in range(n)]\n",
        " \n",
        "    # length of the previous\n",
        "    # longest prefix suffix\n",
        "    length = 0\n",
        "    i = 1\n",
        " \n",
        "    # lps[0] is always 0\n",
        "    lps[0] = 0\n",
        " \n",
        "    # the loop calculates\n",
        "    # lps[i] for i = 1 to n-1\n",
        "    while (i < n):\n",
        "        if (a[i] == b[length]):\n",
        "            length += 1\n",
        "            lps[i] = length\n",
        "            i += 1\n",
        "        else:\n",
        "            if (length == 0):\n",
        "                lps[i] = 0\n",
        "                i += 1\n",
        "            else:\n",
        "                length = lps[length - 1]\n",
        "    i = 0\n",
        " \n",
        "    # Match from that rotating\n",
        "    # point\n",
        "    for k in range(lps[n - 1], m):\n",
        "        if (b[k] != a[i]):\n",
        "            return False\n",
        "        i += 1\n",
        "    return True\n",
        " \n",
        "# Driver code\n",
        "if __name__ == \"__main__\":\n",
        " \n",
        "    s1 = \"ABACD\"\n",
        "    s2 = \"CDABA\"\n",
        "    print(\"1\" if isRotation(s1, s2) else \"0\")"
      ],
      "execution_count": null,
      "outputs": [
        {
          "output_type": "stream",
          "text": [
            "1\n"
          ],
          "name": "stdout"
        }
      ]
    },
    {
      "cell_type": "markdown",
      "metadata": {
        "id": "6-pmj7J5S5ve"
      },
      "source": [
        "40 . Check if two strings can be made equal by swapping one character among each other \n",
        "\n",
        "Given two strings A and B of length N, the task is to check whether the two strings can be made equal by swapping any character of A with any other character of B only once.\n",
        "Examples: \n",
        " \n",
        "\n",
        "Input: A = “SEEKSFORGEEKS”, B = “GEEKSFORGEEKG” \n",
        "Output: Yes \n",
        "“SEEKSFORGEEKS” and “GEEKSFORGEEKG” \n",
        "can be swapped to make both the strings equal.\n",
        "Input: A = “GEEKSFORGEEKS”, B = “THESUPERBSITE” \n",
        "Output: No "
      ]
    },
    {
      "cell_type": "code",
      "metadata": {
        "colab": {
          "base_uri": "https://localhost:8080/"
        },
        "id": "8kxL5lXYSyWZ",
        "outputId": "091ff494-c262-4d04-99a0-7459808a5dc0"
      },
      "source": [
        "# Python3 implementation of the approach\n",
        " \n",
        "# Function that returns true if the string\n",
        "# can be made equal after one swap\n",
        "def canBeEqual(a, b, n):\n",
        "    # A and B are new a and b\n",
        "    # after we omit the same elements\n",
        "    A =[]\n",
        "    B =[]\n",
        "     \n",
        "    # Take only the characters which are\n",
        "    # different in both the strings\n",
        "    # for every pair of indices\n",
        "    for i in range(n):\n",
        "     \n",
        "        # If the current characters differ\n",
        "        if a[i]!= b[i]:\n",
        "            A.append(a[i])\n",
        "            B.append(b[i])\n",
        "             \n",
        "    # The strings were already equal\n",
        "    if len(A)== len(B)== 0:\n",
        "        return True\n",
        "     \n",
        "    # If the lengths of the\n",
        "    # strings are two\n",
        "    if len(A)== len(B)== 2:\n",
        "     \n",
        "        # If swapping these characters\n",
        "        # can make the strings equal\n",
        "        if A[0]== A[1] and B[0]== B[1]:\n",
        "            return True\n",
        "     \n",
        "    return False\n",
        " \n",
        "# Driver code\n",
        "A = 'SEEKSFORGEEKS'\n",
        "B = 'GEEKSFORGEEKG'\n",
        " \n",
        "if (canBeEqual(A, B, len(A))):\n",
        "    print(\"Yes\")\n",
        "else:\n",
        "    print(\"No\") "
      ],
      "execution_count": null,
      "outputs": [
        {
          "output_type": "stream",
          "text": [
            "Yes\n"
          ],
          "name": "stdout"
        }
      ]
    },
    {
      "cell_type": "markdown",
      "metadata": {
        "id": "X92U6IJLTRXr"
      },
      "source": [
        "41. Check if two binary strings can be made equal by swapping pairs of unequal characters "
      ]
    },
    {
      "cell_type": "code",
      "metadata": {
        "colab": {
          "base_uri": "https://localhost:8080/"
        },
        "id": "C1xOv6b1THj4",
        "outputId": "9c38d07c-013a-4db9-cb50-a5ea7e8ebb74"
      },
      "source": [
        "# Python3 program to implement\n",
        "# of above approach\n",
        " \n",
        "# Function to check if a string\n",
        "# s1 can be converted into s2\n",
        "def check(s1, s2):\n",
        " \n",
        "    # Count of '0' in strings in s1 and s2\n",
        "    s1_0 = 0\n",
        "    s2_0 = 0\n",
        " \n",
        "    # Iterate both the strings and\n",
        "    # count the number of occurrences of\n",
        "    for i in range(len(s1)):\n",
        "        if (s1[i] == '0'):\n",
        "            s1_0 += 1\n",
        "             \n",
        "        if (s2[i] == '0'):\n",
        "            s2_0 += 1\n",
        " \n",
        "    # Count is not equal\n",
        "    if (s1_0 != s2_0):\n",
        "        print(\"NO\")\n",
        "        return\n",
        " \n",
        "    else:\n",
        "        Count1 = 0\n",
        "        Count2 = 0;\n",
        " \n",
        "        # Iterating over both the\n",
        "        # arrays and count the\n",
        "        # number of occurrences of '0'\n",
        "        for i in range(len(s1)):\n",
        "            if (s1[i] == '0'):\n",
        "                Count1 += 1\n",
        " \n",
        "            if (s2[i] == '0'):\n",
        "                Count2 += 1\n",
        " \n",
        "            # If the count of occurrences\n",
        "            # of '0' in S2 exceeds that in S1\n",
        "            if (Count1 < Count2):\n",
        "                print(\"NO\")\n",
        "                return\n",
        "            \n",
        "        print(\"YES\")\n",
        " \n",
        "# Driver code\n",
        "if __name__ == \"__main__\":\n",
        " \n",
        "    s1 = \"100111\"\n",
        "    s2 = \"111010\"\n",
        "    check(s1, s2)\n",
        " \n",
        "    s1 = \"110100\"\n",
        "    s2 = \"010101\"\n",
        "    check(s1, s2) "
      ],
      "execution_count": null,
      "outputs": [
        {
          "output_type": "stream",
          "text": [
            "YES\n",
            "NO\n"
          ],
          "name": "stdout"
        }
      ]
    },
    {
      "cell_type": "markdown",
      "metadata": {
        "id": "-_mItbVrxX2-"
      },
      "source": [
        "42. Given an array arr[], the goal is to count the number of inversions in all the sub-arrays. An inversion is a pair of indices i and j such that i > j and arr[i] < arr[j]. A sub-array from index x to y ( x<= y) consists of the element’s arr[x], arr[x+1], …, arr[y]. The array arr[] can also contain repeated elements.\n",
        "\n",
        "Examples:\n",
        "\n",
        "Input: arr[] = {3, 6, 1, 6, 5, 3, 9}\n",
        "Output: \n",
        "0 0 2 2 4 7 7\n",
        "0 0 1 1 3 6 6\n",
        "0 0 0 0 1 3 3\n",
        "0 0 0 0 1 3 3\n",
        "0 0 0 0 0 1 1\n",
        "0 0 0 0 0 0 0\n",
        "0 0 0 0 0 0 0\n",
        "Explanation: \n",
        "The element in the i’th row and j’th column of the output denotes the number of inversions from index i to j (inclusive). Consider i = 1 and j = 4 (assuming 0-based indexing), the number of inversions in the subarray {6, 1, 6, 5} is 3. The element pairs are (6, 1), (6, 5) and (6, 5) (from the second 6). \n",
        "\n",
        "Input: arr[] = {3, 2, 1}\n",
        "Output:  \n",
        "0 1 3\n",
        "0 0 1\n",
        "0 0 0\n",
        "Explanation: \n",
        "From index 0 to 1 there is 1 inversion, from index 2 to 3 there is 1 inversion and from index 0 to 2 there are 3 inversions. The i’th row and j’th column of the output is 0 if i >= j."
      ]
    },
    {
      "cell_type": "code",
      "metadata": {
        "colab": {
          "base_uri": "https://localhost:8080/"
        },
        "id": "IGe35gbsxaox",
        "outputId": "50b8ae91-9f98-480b-a0ad-f24a12344ab5"
      },
      "source": [
        "# Python3 program for the above approach\n",
        " \n",
        "# Function to count the number of\n",
        "# inversions in all the sub-arrays\n",
        "def findSubarrayInversions(arr, n):\n",
        "     \n",
        "    inversions = [[0 for i in range(n)]\n",
        "                     for j in range(n)]\n",
        "                      \n",
        "    # Initializing the inversion count\n",
        "    # of each subarray to 0\n",
        "    # inversions[i][j] will denote\n",
        "    # the number of inversions\n",
        "    # from index i to index j inclusive\n",
        "    # Generating all subarray\n",
        "    for i in range(0, n):\n",
        "        for j in range(0, n):\n",
        "            ans = 0\n",
        "             \n",
        "            # Counting the number of inversions\n",
        "            # for a subarray\n",
        "            for x in range(i, j + 1):\n",
        "                for y in range(x, j + 1):\n",
        "                    if (arr[x] > arr[y]):\n",
        "                        ans += 1\n",
        "                         \n",
        "            # Print(ans)\n",
        "            inversions[i][j] = ans\n",
        " \n",
        "    # Printing the number of inversions\n",
        "    # of all subarrays\n",
        "    for i in range(0, n):\n",
        "        for j in range(0, n):\n",
        "            print(inversions[i][j], end = \" \")\n",
        "             \n",
        "        print()\n",
        " \n",
        "# Driver Code\n",
        " \n",
        "# Given Input\n",
        "n = 7\n",
        "arr = [ 3, 6, 1, 6, 5, 3, 9 ]\n",
        " \n",
        "# Function Call\n",
        "findSubarrayInversions(arr, n)"
      ],
      "execution_count": null,
      "outputs": [
        {
          "output_type": "stream",
          "text": [
            "0 0 2 2 4 7 7 \n",
            "0 0 1 1 3 6 6 \n",
            "0 0 0 0 1 3 3 \n",
            "0 0 0 0 1 3 3 \n",
            "0 0 0 0 0 1 1 \n",
            "0 0 0 0 0 0 0 \n",
            "0 0 0 0 0 0 0 \n"
          ],
          "name": "stdout"
        }
      ]
    },
    {
      "cell_type": "markdown",
      "metadata": {
        "id": "a_IC2Q9ixpAL"
      },
      "source": [
        "43. Given two integers A and B, and also given that Alice and Bob are playing a game starting with a bag containing N balls, in which, in a single move, a player can remove any number of balls between the range [A, B] and if the player cannot remove any balls, then the player loses, the task is to find the winner of the game if Alice and Bob play the game alternatively and optimally and Alice starts the game.\n"
      ]
    },
    {
      "cell_type": "code",
      "metadata": {
        "colab": {
          "base_uri": "https://localhost:8080/"
        },
        "id": "hh63h5pYxfcN",
        "outputId": "7c80ad31-e37f-46fb-f637-4224823538ea"
      },
      "source": [
        "# Python3 program of the above approach\n",
        " \n",
        "# Function to find the winner of the game\n",
        "def NimGame(N, A, B):\n",
        "     \n",
        "    # Stores sum of A and B\n",
        "    sum = A + B\n",
        "     \n",
        "    # If N is of the form\n",
        "    # m*(A+B)+y\n",
        "    if (N % sum <= A - 1):\n",
        "        return \"Bob\"\n",
        "         \n",
        "    # Otherwise,\n",
        "    else:\n",
        "        return \"Alice\"\n",
        " \n",
        "# Driver code\n",
        " \n",
        "# Input\n",
        "N = 3\n",
        "A = 1\n",
        "B = 2\n",
        " \n",
        "# Function call\n",
        "print(NimGame(N, A, B))"
      ],
      "execution_count": null,
      "outputs": [
        {
          "output_type": "stream",
          "text": [
            "Bob\n"
          ],
          "name": "stdout"
        }
      ]
    },
    {
      "cell_type": "markdown",
      "metadata": {
        "id": "EbHKcGmzx2_G"
      },
      "source": [
        "44. Given a number N, and an array A[] of size 2N, the task is to make N pairs of these array elements and place them on an X-Y coordinate plane, such that they are enclosed inside a minimum area rectangle( with sides parallel to the X-axis and Y-axis) and print the area of the rectangle.\n",
        "\n",
        "Examples:\n",
        "\n",
        "Input: N = 4, A = {1, 4, 2, 5, 3, 6, 7, 8}\n",
        "Output: 9\n",
        "Explanation: One possible way of making N pairs to get minimum rectangle area is {(1, 5), (2, 7), (3, 6), (4, 8)} "
      ]
    },
    {
      "cell_type": "code",
      "metadata": {
        "colab": {
          "base_uri": "https://localhost:8080/"
        },
        "id": "1KcWXuCKxunx",
        "outputId": "109c652a-ed99-4124-c190-b7ed3c6a3786"
      },
      "source": [
        "# Python3 program for tha above approach\n",
        " \n",
        "# Function to make N pairs of coordinates\n",
        "# such that they are enclosed in a minimum\n",
        "# area rectangle with sides parallel to the\n",
        "# X and Y axes\n",
        "def minimumRectangleArea(A, N):\n",
        "     \n",
        "    # A variable to store the answer\n",
        "    ans = 0\n",
        " \n",
        "    A.sort()\n",
        " \n",
        "    # For the case where the maximum\n",
        "    # and minimum are in different partitions\n",
        "    ans = (A[N - 1] - A[0]) * (A[2 * N - 1] - A[N])\n",
        " \n",
        "    # For the case where the maximum and\n",
        "    # minimum are in the same partition\n",
        "    for i in range(1, N, 1):\n",
        "        ans = min(ans, (A[2 * N - 1] - A[0]) *\n",
        "                       (A[i + N - 1] - A[i]))\n",
        " \n",
        "    # Return the answer\n",
        "    return ans\n",
        " \n",
        "# Driver code\n",
        "if __name__ == '__main__':\n",
        "     \n",
        "    # Given Input\n",
        "    A = [ 2, 4, 1, 5, 3, 6, 7, 8 ]\n",
        "    N = len(A)\n",
        "    N //= 2\n",
        " \n",
        "    # Function call\n",
        "    print(minimumRectangleArea(A, N))"
      ],
      "execution_count": null,
      "outputs": [
        {
          "output_type": "stream",
          "text": [
            "9\n"
          ],
          "name": "stdout"
        }
      ]
    },
    {
      "cell_type": "markdown",
      "metadata": {
        "id": "pqepRM5ix-bn"
      },
      "source": [
        "45. Given two numbers a and b where b < a form a rectangle with points (0, b), (b, 0), (a-b, b), (b, a-b). Given a point (x, y), the task is to check whether this point lies inside or on the rectangle or not. \n",
        "Examples: \n",
        " \n",
        "\n",
        "Input: a = 7, b = 2, x = 5, y = 2;\n",
        "Output: Given point does not lie on the rectangle\n",
        "\n",
        "Input: a = 7, b = 2, x = 4, y = 5;\n",
        "Output: Given point lies inside the rectangle"
      ]
    },
    {
      "cell_type": "code",
      "metadata": {
        "colab": {
          "base_uri": "https://localhost:8080/"
        },
        "id": "hAAwgt2dx8uP",
        "outputId": "86531b36-3f38-4a80-9c07-2dd46fcd6d42"
      },
      "source": [
        "# Python 3 program to Check whether\n",
        "# a given point lies inside or on\n",
        "# the rectangle or not\n",
        " \n",
        "# function to Check whether a given\n",
        "# point lies inside or on the\n",
        "# rectangle or not\n",
        "def LiesInsieRectangle(a, b, x, y) :\n",
        " \n",
        "    if(x - y - b <= 0 and\n",
        "       x - y + b >= 0 and\n",
        "       x + y - 2 * a + b <= 0 and\n",
        "       x + y - b >= 0) :\n",
        "        return True\n",
        "     \n",
        "    return False\n",
        " \n",
        "# Driver code\n",
        "if __name__ == \"__main__\" :\n",
        " \n",
        "    # multiple assignments\n",
        "    a, b, x, y = 7, 2, 4, 5\n",
        " \n",
        "    if LiesInsieRectangle(a, b, x, y) :\n",
        "        print(\"Given point lies inside\"\n",
        "                      \" the rectangle\")\n",
        "    else :\n",
        "        print(\"Given point does not lie\"\n",
        "                    \" on the rectangle\") "
      ],
      "execution_count": null,
      "outputs": [
        {
          "output_type": "stream",
          "text": [
            "Given point lies inside the rectangle\n"
          ],
          "name": "stdout"
        }
      ]
    },
    {
      "cell_type": "markdown",
      "metadata": {
        "id": "RTGcKvqVyOI-"
      },
      "source": [
        "46. Given a string str, the task is to check if that string is a Reverse Bitonic string or not. If the string str is reverse Bitonic string, then print “YES”. Otherwise, print “NO”.\n",
        "\n",
        "A Reverse Bitonic String is a string in which the characters are arranged in decreasing order followed by increasing order of their ASCII values. \n",
        " \n",
        "\n",
        "Examples:  \n",
        "\n",
        "Input: str = “zyxbcd” \n",
        "Output: YES \n",
        "Explanation: \n",
        "In the above string, the ASCII values first decreases {z, y, x} and then increases {b, c, d}.\n",
        "\n",
        "Input: str = “abcdwef” \n",
        "Output: NO "
      ]
    },
    {
      "cell_type": "code",
      "metadata": {
        "colab": {
          "base_uri": "https://localhost:8080/"
        },
        "id": "PXFrvJ65yLNO",
        "outputId": "e31073e3-826e-4082-ef5e-0358facae317"
      },
      "source": [
        "# Python3 program to implement\n",
        "# the above approach\n",
        " \n",
        "# Function to check if the given\n",
        "# string is reverse bitonic\n",
        "def checkReverseBitonic(s):\n",
        "  \n",
        "    i = 0\n",
        "    j = 0\n",
        " \n",
        "    # Check for decreasing sequence\n",
        "    for  i in range(len(s)):\n",
        "        if (s[i] < s[i - 1]) :\n",
        "            continue;\n",
        " \n",
        "        if (s[i] >= s[i - 1]) :\n",
        "            break;\n",
        "      \n",
        " \n",
        "    # If end of string has been reached\n",
        "    if (i == len(s)-1) :\n",
        "        return 1;\n",
        " \n",
        "    # Check for increasing sequence\n",
        "    for j in range(i + 1, len(s)):\n",
        "        if (s[j] > s[j - 1]) :\n",
        "            continue;\n",
        " \n",
        "        if (s[j] <= s[j - 1]) :\n",
        "            break;\n",
        "     \n",
        " \n",
        "    i = j;\n",
        " \n",
        "    # If the end of string hasn't\n",
        "    # been reached\n",
        "    if (i != len(s)) :\n",
        "        return 0;\n",
        " \n",
        "    # If reverse bitonic\n",
        "    return 1;\n",
        " \n",
        "  \n",
        "# Given string\n",
        "s = \"abcdwef\"\n",
        "# Function Call\n",
        "if(checkReverseBitonic(s) == 1) :\n",
        "    print(\"YES\")\n",
        "else:\n",
        "    print(\"NO\") "
      ],
      "execution_count": null,
      "outputs": [
        {
          "output_type": "stream",
          "text": [
            "NO\n"
          ],
          "name": "stdout"
        }
      ]
    },
    {
      "cell_type": "markdown",
      "metadata": {
        "id": "FsLK1SedzVig"
      },
      "source": [
        "47. Given an array arr[] of N integers, the task is to count the total number of Reverse Bitonic Subarray from the given array.\n",
        " \n",
        "\n",
        "A Reverse Bitonic Subarray is a subarray in which elements are arranged in decreasing order and then arranged in increasing order. A strictly increasing or strictly decreasing subarray is also considered as Reverse Bitonic Subarray. "
      ]
    },
    {
      "cell_type": "code",
      "metadata": {
        "colab": {
          "base_uri": "https://localhost:8080/"
        },
        "id": "fGc2FNR7y9RV",
        "outputId": "1c5189de-a5a2-4d5b-83e0-a71dc16560ca"
      },
      "source": [
        "# Python3 program for the above approach\n",
        " \n",
        "# Function that counts all the reverse\n",
        "# bitonic subarray in arr[]\n",
        "def countReversebitonic(arr, n):\n",
        " \n",
        "    # To store the count of reverse\n",
        "    # bitonic subarray\n",
        "    c = 0;\n",
        " \n",
        "    # Iterate the array and select\n",
        "    # the starting element\n",
        "    for i in range(n):\n",
        " \n",
        "        # Iterate for selecting the\n",
        "        # ending element for subarray\n",
        "        for j in range(i, n):\n",
        " \n",
        "            # Subarray arr[i to j]\n",
        "            temp = arr[i]\n",
        "            f = 0;\n",
        " \n",
        "            # For 1 length, increment\n",
        "            # the count and continue\n",
        "            if (j == i):\n",
        "                c += 1;\n",
        "                continue;\n",
        "                 \n",
        "            k = i + 1;\n",
        " \n",
        "            # For Decreasing Subarray\n",
        "            while (k <= j and temp > arr[k]):\n",
        "                temp = arr[k];\n",
        "                k += 1;\n",
        "             \n",
        "            # Check if only Decreasing\n",
        "            if (k > j):\n",
        "                c += 1;\n",
        "                f = 2;\n",
        "             \n",
        " \n",
        "            # For Increasing Subarray\n",
        "            while (k <= j and temp < arr[k] and\n",
        "                   f != 2):\n",
        "                temp = arr[k];\n",
        "                k += 1;\n",
        "             \n",
        "            if (k > j and f != 2):\n",
        "                c += 1;\n",
        "                f = 0;\n",
        "                 \n",
        "    # Print the total count of subarrays\n",
        "    print(c)\n",
        " \n",
        "# Driver Code\n",
        " \n",
        "# Given array arr[]\n",
        "arr = [ 2, 3, 1, 4 ];\n",
        " \n",
        "# Function Call\n",
        "countReversebitonic(arr, len(arr));"
      ],
      "execution_count": null,
      "outputs": [
        {
          "output_type": "stream",
          "text": [
            "8\n"
          ],
          "name": "stdout"
        }
      ]
    },
    {
      "cell_type": "markdown",
      "metadata": {
        "id": "322ciEKizhAe"
      },
      "source": [
        "48. Given a matrix m[][], the task is to check if the given matrix is Reverse Bitonic or not. If the given matrix is Reverse Bitonic, then print Yes. Otherwise, print No.\n",
        "\n",
        "If all the rows and the columns of the given matrix have elements in one of the following orders:\n",
        "\n",
        "Strictly increasing\n",
        "Strictly decreasing\n",
        "Strictly decreasing followed by strictly increasing\n",
        "Then the given matrix is said to be a Reverse Bitonic Matrix"
      ]
    },
    {
      "cell_type": "code",
      "metadata": {
        "colab": {
          "base_uri": "https://localhost:8080/"
        },
        "id": "aTc6Eq1hzeS7",
        "outputId": "d5794fbd-fba8-492e-a710-f65aec6934a7"
      },
      "source": [
        "# Python3 program to check if a\n",
        "# matrix is Reverse Bitonic or not\n",
        "N = 3\n",
        "M = 3\n",
        " \n",
        "# Function to check if an\n",
        "# array is Reverse Bitonic or not\n",
        "def checkReverseBitonic(arr, n):\n",
        " \n",
        "    f = 0\n",
        " \n",
        "    # Check for decreasing sequence\n",
        "    for i in range(1, n):\n",
        "        if (arr[i] < arr[i - 1]):\n",
        "            continue\n",
        " \n",
        "        if (arr[i] == arr[i - 1]):\n",
        "            return False\n",
        " \n",
        "        else:\n",
        "            f = 1\n",
        "            break\n",
        " \n",
        "    if (i == n):\n",
        "        return True\n",
        " \n",
        "    # Check for increasing sequence\n",
        "    for j in range(i + 1, n):\n",
        "        if (arr[j] > arr[j - 1]):\n",
        "            continue\n",
        " \n",
        "        if (arr[i] == arr[i - 1]):\n",
        "            return False\n",
        " \n",
        "        else:\n",
        "            if (f == 1):\n",
        "                return False\n",
        "     \n",
        "    return True\n",
        " \n",
        "# Function to check whether given\n",
        "# matrix is bitonic or not\n",
        "def check(arr):\n",
        " \n",
        "    f = 0\n",
        " \n",
        "    # Check row-wise\n",
        "    for i in range (N):\n",
        "        if (not checkReverseBitonic(arr[i], M)):\n",
        "            print(\"No\")\n",
        "            return\n",
        " \n",
        "    # Check column wise\n",
        "    for i in range(N):\n",
        "         \n",
        "        # Generate an array\n",
        "        # consisting of elements\n",
        "        # of the current column\n",
        "        temp = [0] * N\n",
        " \n",
        "        for j in range(N):\n",
        "            temp[j] = arr[j][i]\n",
        " \n",
        "        if (not checkReverseBitonic(temp, N)):\n",
        "            print(\"No\")\n",
        "            return\n",
        " \n",
        "    print(\"Yes\")\n",
        " \n",
        "# Driver Code\n",
        "if __name__ == \"__main__\":\n",
        " \n",
        "    m = [ [ 2, 3, 4 ],\n",
        "          [ 1, 2, 3 ],\n",
        "          [ 4, 5, 6 ] ]\n",
        " \n",
        "    check(m)"
      ],
      "execution_count": null,
      "outputs": [
        {
          "output_type": "stream",
          "text": [
            "Yes\n"
          ],
          "name": "stdout"
        }
      ]
    },
    {
      "cell_type": "markdown",
      "metadata": {
        "id": "yfyjuZDUzwxg"
      },
      "source": [
        "49. Given a matrix of N X M of positive integers, the task is to find out whether it is possible to make the matrix increasing or not. Print the matrix constructed otherwise print -1. Matrix elements should be greater than zero.\n",
        "A matrix is said to be increasing matrix if:- \n",
        " \n",
        "\n",
        "For each row, the elements are in the increasing order.\n",
        "For each column, the elements are in the increasing order."
      ]
    },
    {
      "cell_type": "code",
      "metadata": {
        "colab": {
          "base_uri": "https://localhost:8080/"
        },
        "id": "MALORbCYzuEp",
        "outputId": "973aa8f7-08eb-4e1d-b040-994efab218a7"
      },
      "source": [
        "# Python3 program to Check if we can make\n",
        "# the given matrix increasing matrix or not\n",
        " \n",
        "# Function to find increasing matrix\n",
        "def findIncreasingMatrix(dp):\n",
        " \n",
        "    flag = False\n",
        "    for i in range(1, n + 1):\n",
        "        for j in range(1, m + 1):\n",
        " \n",
        "            # Putting max into b as per\n",
        "            # the above approach\n",
        "            b = max(dp[i - 1][j], dp[i][j - 1])\n",
        " \n",
        "            # If b is -1 than putting 1 to it\n",
        "            b = max(1, b)\n",
        " \n",
        "            # If dp[i][j] has to be filled with max\n",
        "            if dp[i][j] == -1:\n",
        "                dp[i][j] = b\n",
        " \n",
        "            # If dp[i][j] is less than from it's left\n",
        "            # element or from it's upper element\n",
        "            elif dp[i][j] < b:\n",
        "                flag = True\n",
        " \n",
        "    # If it is not possible\n",
        "    if flag:\n",
        "        print(-1)\n",
        " \n",
        "    else:\n",
        "        # Printing the increasing matrix\n",
        "        for i in range(1, n + 1):\n",
        "            for j in range(1, m + 1):\n",
        "                print(dp[i][j], end = ' ')\n",
        "             \n",
        "            print()\n",
        " \n",
        "# Driver code\n",
        "if __name__ == \"__main__\":\n",
        " \n",
        "    dp = [[0, 0, 0, 0, 0],\n",
        "          [0, 1, 2, 2, 3],\n",
        "          [0, 1, -1, 7, -1],\n",
        "          [0, 6, -1, -1, -1],\n",
        "          [0, -1, -1, -1, -1]]\n",
        "    n = m = 4\n",
        " \n",
        "    findIncreasingMatrix(dp)"
      ],
      "execution_count": null,
      "outputs": [
        {
          "output_type": "stream",
          "text": [
            "1 2 2 3 \n",
            "1 2 7 7 \n",
            "6 6 7 7 \n",
            "6 6 7 7 \n"
          ],
          "name": "stdout"
        }
      ]
    },
    {
      "cell_type": "markdown",
      "metadata": {
        "id": "reDcRz6d0mxu"
      },
      "source": [
        "50. Given an integer matrix mat [ ][ ] dimensions, the task is to find the largest possible square matrix from the given matrix with maximum AND value. \n",
        "\n",
        "AND value of a matrix is defined as the value obtained after performing bitwise AND operation on all elements of the matrix. "
      ]
    },
    {
      "cell_type": "code",
      "metadata": {
        "colab": {
          "base_uri": "https://localhost:8080/"
        },
        "id": "Ow1A-A-m00b0",
        "outputId": "0049b5bd-d2cf-4142-aec1-0dbdd621f0d6"
      },
      "source": [
        "# Python3 program to find the length\n",
        "# of longest possible square submatrix\n",
        "# with maximum AND value from the given\n",
        "# matrix\n",
        " \n",
        "# Function to calculate and return the\n",
        "# length of square submatrix with\n",
        "# maximum AND value\n",
        "def MAX_value(arr):\n",
        "     \n",
        "    # Extract dimensions\n",
        "    row = len(arr)\n",
        "    col = len(arr)\n",
        " \n",
        "    # Auxiliary array\n",
        "    # Initialize auxiliary array\n",
        "    dp = [[0 for i in range(col)]\n",
        "             for j in range(row)]\n",
        " \n",
        "    # c: Stores the maximum\n",
        "    # value in the matrix\n",
        "    # p: Stores the number\n",
        "    # of elements in the\n",
        "    # submatrix having\n",
        "    # maximum AND value\n",
        "    i, j = 0, 0\n",
        "    c, p = arr[0][0], 0\n",
        "    d = row\n",
        " \n",
        "    # Iterate over the matrix\n",
        "    # to fill the auxiliary\n",
        "    # matrix\n",
        "    for i in range(d):\n",
        "        for j in range(d):\n",
        " \n",
        "            # Find the max element in the\n",
        "            # matrix side by side\n",
        "            if (c < arr[i][j]):\n",
        "                c = arr[i][j]\n",
        " \n",
        "            # Fill first row and\n",
        "            # column with 1's\n",
        "            if (i == 0 or j == 0):\n",
        "                dp[i][j] = 1\n",
        "            else:\n",
        " \n",
        "                # For every cell, check if\n",
        "                # the elements at the left,\n",
        "                # top and top left cells\n",
        "                # from the current cell\n",
        "                # are equal or not\n",
        "                if (arr[i - 1][j - 1] == arr[i][j] and\n",
        "                    arr[i - 1][j] == arr[i][j] and\n",
        "                    arr[i][j - 1] == arr[i][j]):\n",
        " \n",
        "                    # Store the minimum possible\n",
        "                    # submatrix size these\n",
        "                    # elements are part of\n",
        "                    dp[i][j] = min(dp[i - 1][j - 1],\n",
        "                               min(dp[i - 1][j],\n",
        "                                dp[i][j - 1])) + 1\n",
        "                else:\n",
        "                     \n",
        "                    # Store 1 otherwise\n",
        "                    dp[i][j] = 1\n",
        " \n",
        "    for i in range(d):\n",
        "        for j in range(d):\n",
        " \n",
        "            # Checking maximum value\n",
        "            if (arr[i][j] == c):\n",
        " \n",
        "                # If the maximum AND\n",
        "                # value occurs more\n",
        "                # than once\n",
        "                if (p < dp[i][j]):\n",
        " \n",
        "                    # Update the maximum\n",
        "                    # size of submatrix\n",
        "                    p = dp[i][j]\n",
        "     \n",
        "    # Final output\n",
        "    return p * p\n",
        " \n",
        "# Driver Code\n",
        "arr = [ [ 9, 9, 3, 3, 4, 4 ],\n",
        "        [ 9, 9, 7, 7, 7, 4 ],\n",
        "        [ 1, 2, 7, 7, 7, 4 ],\n",
        "        [ 4, 4, 7, 7, 7, 4 ],\n",
        "        [ 5, 5, 1, 1, 2, 7 ],\n",
        "        [ 2, 7, 1, 1, 4, 4 ]]\n",
        " \n",
        "print(MAX_value(arr))"
      ],
      "execution_count": null,
      "outputs": [
        {
          "output_type": "stream",
          "text": [
            "4\n"
          ],
          "name": "stdout"
        }
      ]
    },
    {
      "cell_type": "markdown",
      "metadata": {
        "id": "KFRnBnGs1lzR"
      },
      "source": [
        "51. Given an array arr[] of N distinct positive integers, let’s denote max(i, j) and secondMax(i, j) as the maximum and the second maximum element of the subarray arr[i…l]. The task is to find the maximum value of max(i, j) XOR secondMax(i, j) for all possible values of i and j. Note that the size of the subarray must be at least two."
      ]
    },
    {
      "cell_type": "code",
      "metadata": {
        "colab": {
          "base_uri": "https://localhost:8080/"
        },
        "id": "P-6tAm_T1IsT",
        "outputId": "d8b333fa-6d42-401d-cf02-da5e86a3d76f"
      },
      "source": [
        "# Python3 implementation of the approach\n",
        "\n",
        "# Function to return the maximum possible xor\n",
        "def maximumXor(arr: list, n: int) -> int:\n",
        "\tsForward, sBackward = [], []\n",
        "\n",
        "\t# To store the final answer\n",
        "\tans = -1\n",
        "\n",
        "\tfor i in range(n):\n",
        "\n",
        "\t\t# Borward traversal\n",
        "\t\twhile len(sForward) > 0 and arr[i] < arr[sForward[-1]]:\n",
        "\t\t\tans = max(ans, arr[i] ^ arr[sForward[-1]])\n",
        "\t\t\tsForward.pop()\n",
        "\n",
        "\t\tsForward.append(i)\n",
        "\n",
        "\t\t# Backward traversal\n",
        "\t\twhile len(sBackward) > 0 and arr[n - i - 1] < arr[sBackward[-1]]:\n",
        "\t\t\tans = max(ans, arr[n - i - 1] ^ arr[sBackward[-1]])\n",
        "\t\t\tsBackward.pop()\n",
        "\n",
        "\t\tsBackward.append(n - i - 1)\n",
        "\n",
        "\treturn ans\n",
        "\n",
        "# Driver Code\n",
        "if __name__ == \"__main__\":\n",
        "\n",
        "\tarr = [8, 1, 2]\n",
        "\tn = len(arr)\n",
        "\tprint(maximumXor(arr, n))\n",
        "\n",
        "\n"
      ],
      "execution_count": null,
      "outputs": [
        {
          "output_type": "stream",
          "text": [
            "9\n"
          ],
          "name": "stdout"
        }
      ]
    },
    {
      "cell_type": "markdown",
      "metadata": {
        "id": "KPbTwQi712kH"
      },
      "source": [
        "52. Given a number n, we need to find the sum of its digits such that: \n",
        "\n",
        "If n < 10    \n",
        "    digSum(n) = n\n",
        "Else         \n",
        "    digSum(n) = Sum(digSum(n))\n",
        "Examples : \n",
        "\n",
        "Input : 1234\n",
        "Output : 1\n",
        "Explanation : The sum of 1+2+3+4 = 10, \n",
        "              digSum(x) == 10\n",
        "              Hence ans will be 1+0 = 1\n",
        "\n",
        "Input : 5674\n",
        "Output : 4  "
      ]
    },
    {
      "cell_type": "code",
      "metadata": {
        "colab": {
          "base_uri": "https://localhost:8080/"
        },
        "id": "rO65VzkV1rR6",
        "outputId": "2f21ac9e-a434-4475-fc8d-1c22c5578cfb"
      },
      "source": [
        "# Python program to find sum of\n",
        "# digits of a number until\n",
        "# sum becomes single digit.\n",
        "import math\n",
        " \n",
        "# method to find sum of digits\n",
        "# of a number until sum becomes\n",
        "# single digit\n",
        "def digSum( n):\n",
        "    sum = 0\n",
        "     \n",
        "    while(n > 0 or sum > 9):\n",
        "     \n",
        "        if(n == 0):\n",
        "            n = sum\n",
        "            sum = 0\n",
        "         \n",
        "        sum += n % 10\n",
        "        n /= 10\n",
        "     \n",
        "    return sum\n",
        " \n",
        "# Driver method\n",
        "n = 1234\n",
        "print (digSum(n))"
      ],
      "execution_count": null,
      "outputs": [
        {
          "output_type": "stream",
          "text": [
            "2.3456790123456845\n"
          ],
          "name": "stdout"
        }
      ]
    },
    {
      "cell_type": "markdown",
      "metadata": {
        "id": "W04Ky0C32DWr"
      },
      "source": [
        "53. Given a positive integer N, the task is to find the single digit obtained after recursively adding the digits of 2N until a single digit remains. "
      ]
    },
    {
      "cell_type": "code",
      "metadata": {
        "colab": {
          "base_uri": "https://localhost:8080/"
        },
        "id": "Mpa6QZZs18T-",
        "outputId": "5a6954e6-1037-4ec7-beb5-6a0ffe50449f"
      },
      "source": [
        "# Python3 program for the above approach\n",
        "\n",
        "# Function to find the number obtained\n",
        "# by reducing sum of digits of 2 ^ N\n",
        "# into a single digit\n",
        "def findNumber(N):\n",
        "\n",
        "\t# Stores answers for\n",
        "\t# different values of N\n",
        "\tans = [ 1, 2, 4, 8, 7, 5 ]\n",
        "\n",
        "\treturn ans[N % 6]\n",
        "\n",
        "# Driver Code\n",
        "if __name__ == \"__main__\":\n",
        "\n",
        "\tN = 6\n",
        "\t\n",
        "\tprint (findNumber(N))\n",
        "\n",
        "\n"
      ],
      "execution_count": null,
      "outputs": [
        {
          "output_type": "stream",
          "text": [
            "1\n"
          ],
          "name": "stdout"
        }
      ]
    },
    {
      "cell_type": "markdown",
      "metadata": {
        "id": "FJPYwAax2J3W"
      },
      "source": [
        "54. Given a number n, the task is to print all the numbers less than or equal to n which are perfect cubes as well as the eventual sum of their digits is 1.\n",
        "Examples: \n",
        " \n",
        "\n",
        "Input: n = 100 \n",
        "Output: 1 64 \n",
        "64 = 6 + 4 = 10 = 1 + 0 = 1 \n",
        "Input: n = 1000 \n",
        "Output: 1 64 343 1000 \n"
      ]
    },
    {
      "cell_type": "code",
      "metadata": {
        "colab": {
          "base_uri": "https://localhost:8080/"
        },
        "id": "DPuVOm6w2IEp",
        "outputId": "4fc34577-dc3b-42b4-c983-7149eafede94"
      },
      "source": [
        "# Python3 implementation of the approach\n",
        "import math\n",
        " \n",
        "# Function that returns true if the eventual\n",
        "# digit sum of number nm is 1\n",
        "def isDigitSumOne(nm) :\n",
        "   #if reminder will 1\n",
        "   #then eventual sum is 1\n",
        "    if(nm % 9 == 1):\n",
        "        return True\n",
        "    else:\n",
        "        return False\n",
        " \n",
        "# Function to print the required numbers\n",
        "# less than n\n",
        "def printValidNums(n):\n",
        "    cbrt_n = math.ceil(n**(1./3.))\n",
        "    for i in range(1, cbrt_n + 1):\n",
        "        cube = i * i * i\n",
        "        if (cube >= 1 and cube <= n and isDigitSumOne(cube)):\n",
        "            print(cube, end = \" \")\n",
        "             \n",
        " \n",
        "# Driver code\n",
        "n = 1000\n",
        "printValidNums(n)"
      ],
      "execution_count": null,
      "outputs": [
        {
          "output_type": "stream",
          "text": [
            "1 64 343 1000 "
          ],
          "name": "stdout"
        }
      ]
    },
    {
      "cell_type": "markdown",
      "metadata": {
        "id": "v7PpueL028AI"
      },
      "source": [
        "55. Given N numbers(N is an even number). Divide the N numbers into N/2 pairs in such a way that the sum of squares of the sum of numbers in pairs is minimal. The task is to print the minimal sum. \n",
        "Examples: \n",
        " \n",
        "\n",
        "Input: a[] = {8, 5, 2, 3}\n",
        "Output: 164 \n",
        "Divide them into two groups of {2, 8} and {3, 5}\n",
        "to give (2+8)2 + (3+5)2 = 164   \n",
        "\n",
        "Input: a[] = {1, 1, 1, 2, 2, 2}\n",
        "Output: 27 "
      ]
    },
    {
      "cell_type": "code",
      "metadata": {
        "colab": {
          "base_uri": "https://localhost:8080/"
        },
        "id": "P1qBEv7I26Ey",
        "outputId": "15acc8e6-c64f-426a-dce9-8e62b822dc4f"
      },
      "source": [
        "# Python 3 program to minimize the sum\n",
        "# of squares of sum of numbers\n",
        "# of N/2 groups of N numbers\n",
        "\n",
        "# Function that returns the minimize sum\n",
        "# of square of sum of numbers of every group\n",
        "def findMinimal(a, n):\n",
        "\n",
        "\t# Sort the array elements\n",
        "\ta.sort()\n",
        "\n",
        "\tsum = 0\n",
        "\n",
        "\t# Iterate for the first half of array\n",
        "\tfor i in range( n // 2):\n",
        "\t\tsum += ((a[i] + a[n - i - 1]) *\n",
        "\t\t\t\t(a[i] + a[n - i - 1]))\n",
        "\n",
        "\treturn sum\n",
        "\n",
        "# Driver Code\n",
        "if __name__ == \"__main__\":\n",
        "\t\n",
        "\ta = [ 8, 5, 2, 3 ]\n",
        "\tn = len(a)\n",
        "\n",
        "\tprint(findMinimal(a, n))\n",
        "\n",
        "\n"
      ],
      "execution_count": null,
      "outputs": [
        {
          "output_type": "stream",
          "text": [
            "164\n"
          ],
          "name": "stdout"
        }
      ]
    },
    {
      "cell_type": "markdown",
      "metadata": {
        "id": "B8s1cXF84B0M"
      },
      "source": [
        "56. Given an array A[] of size N, the task is to find the minimum sum of numbers required to be added to array elements to convert the array into a permutation of 1 to N. If the array can not be converted to desired permutation, print -1.\n",
        "\n",
        "Examples:\n",
        "\n",
        "Input: A[] = {1, 1, 1, 1, 1}\n",
        "Output: 10\n",
        "Explanation: Increment A[1] by 1, A[2] by 2, A[3] by 3, A[4] by 4, thus A[] becomes {1, 2, 3, 4, 5}.\n",
        "Minimum additions required = 1 + 2 + 3 + 4 = 10\n",
        "\n",
        "Input: A[] = {2, 2, 3}\n",
        "Output: -1"
      ]
    },
    {
      "cell_type": "code",
      "metadata": {
        "colab": {
          "base_uri": "https://localhost:8080/"
        },
        "id": "kz77BRie3GZp",
        "outputId": "f68742c9-a9a6-4b95-82d0-ee23a4aa779b"
      },
      "source": [
        "# Python3 program for the above approach\n",
        "\n",
        "# Function to find the minimum additions\n",
        "# required to convert the array into a\n",
        "# permutation of 1 to N\n",
        "def minimumAdditions(a, n):\n",
        "\t\n",
        "\t# Sort the array in increasing order\n",
        "\ta = sorted(a)\n",
        "\tans = 0\n",
        "\n",
        "\t# Traverse the array\n",
        "\tfor i in range(n):\n",
        "\n",
        "\t\t# If a[i] > i + 1, then return -1\n",
        "\t\tif ((i + 1) - a[i] < 0):\n",
        "\t\t\treturn -1\n",
        "\n",
        "\t\tif ((i + 1) - a[i] > 0):\n",
        "\n",
        "\t\t\t# Update answer\n",
        "\t\t\tans += (i + 1 - a[i])\n",
        "\n",
        "\t# Return the required result\n",
        "\treturn ans\n",
        "\n",
        "# Driver Code\n",
        "if __name__ == '__main__':\n",
        "\t\n",
        "\t# Given Input\n",
        "\tA = [ 1, 1, 1, 1, 1 ]\n",
        "\tn = len(A)\n",
        "\n",
        "\t# Function Call\n",
        "\tprint(minimumAdditions(A, n))\n",
        "\n",
        "\n"
      ],
      "execution_count": null,
      "outputs": [
        {
          "output_type": "stream",
          "text": [
            "10\n"
          ],
          "name": "stdout"
        }
      ]
    },
    {
      "cell_type": "markdown",
      "metadata": {
        "id": "dhq7-rfI4Q8P"
      },
      "source": [
        "57 . Given a number N. The task is to find the permutation P of first N natural numbers such that sum of i % Pi is maximum possible. The task is to find the maximum possible sum not it’s permutation.\n",
        "\n",
        "Examples: \n",
        "\n",
        "Input: N = 5 \n",
        "Output: 10 \n",
        "Possible permutation is 2 3 4 5 1. \n",
        "Modulus values will be {1, 2, 3, 4, 0}. \n",
        "1 + 2 + 3 + 4 + 0 = 10\n",
        "\n",
        "Input: N = 8 \n",
        "Output: 28  "
      ]
    },
    {
      "cell_type": "code",
      "metadata": {
        "colab": {
          "base_uri": "https://localhost:8080/"
        },
        "id": "8I8_1Qle4g6O",
        "outputId": "00144e78-b24d-4853-c00a-c7a959061a36"
      },
      "source": [
        "# Python3 implementation of the approach\n",
        " \n",
        "# Function to find the permutation of\n",
        "# the first N natural numbers such that\n",
        "# the sum of (i % Pi) is maximum possible\n",
        "# and return the maximum sum\n",
        "def Max_Sum(n) :\n",
        "     \n",
        "    return (n * (n - 1)) // 2;\n",
        " \n",
        "# Driver code\n",
        "if __name__ == \"__main__\" :\n",
        "     \n",
        "    n = 8;\n",
        " \n",
        "    # Function call\n",
        "    print(Max_Sum(n));"
      ],
      "execution_count": null,
      "outputs": [
        {
          "output_type": "stream",
          "text": [
            "28\n"
          ],
          "name": "stdout"
        }
      ]
    },
    {
      "cell_type": "markdown",
      "metadata": {
        "id": "VTenfdL34u-f"
      },
      "source": [
        "58 . Given a linked list which represents an integer number where each node is a digit of the represented integer. The task is to add a given digit N to the represented integer.\n",
        "Examples: \n",
        " \n",
        "\n",
        "Input: LL = 9 -> 9 -> 3 -> NULL, N = 7 \n",
        "Output: 1 -> 0 -> 0 -> 0 -> NULL \n",
        "993 + 7 = 1000\n",
        "Input: LL = 2 -> 9 -> 9 -> NULL, N = 5 \n",
        "Output: 3 -> 0 -> 4 -> NULL \n",
        "  "
      ]
    },
    {
      "cell_type": "code",
      "metadata": {
        "colab": {
          "base_uri": "https://localhost:8080/"
        },
        "id": "k4a-bCml4smE",
        "outputId": "a5b3ccf7-e0fe-43b8-9df6-897ea2e797a3"
      },
      "source": [
        "# Python implementation of the approach\n",
        "\n",
        "# Node class contains value\n",
        "# and next node reference\n",
        "class ListNode:\n",
        "\tdef __init__(self, new_data):\n",
        "\t\tself.value = new_data\n",
        "\t\tself.next = None\n",
        "\n",
        "# To store the carry\n",
        "carry = 0\n",
        "\n",
        "# Function that calls the recursive method\n",
        "# addNewValue to add a digit to the\n",
        "# number represented as the linked list\n",
        "def addValue(head, addValue):\n",
        "\n",
        "\tglobal carry\n",
        "\t\n",
        "\t# Add the digit recursively\n",
        "\taddNewValue(head, addValue)\n",
        "\n",
        "\t# If there is a carry after the addition\n",
        "\tif (carry != 0) :\n",
        "\n",
        "\t\t# Create a node\n",
        "\t\tnewHead = ListNode(0)\n",
        "\n",
        "\t\t# Assign it with carry\n",
        "\t\tnewHead.value = carry\n",
        "\n",
        "\t\t# Make it point to the head of\n",
        "\t\t# the linked list\n",
        "\t\tnewHead.next = head\n",
        "\t\tcarry = 0\n",
        "\n",
        "\t\t# Make it the head\n",
        "\t\treturn newHead\n",
        "\t\t\n",
        "\t# If there's not carry then\n",
        "\t# return the previous head\n",
        "\telse :\n",
        "\t\treturn head\n",
        "\t\n",
        "# Recursive function to add a digit to the number\n",
        "# represented as the given linked list\n",
        "def addNewValue(head,addValue):\n",
        "\t\n",
        "\tglobal carry\n",
        "\n",
        "\t# If it is the last node in the list\n",
        "\tif (head.next == None) :\n",
        "\n",
        "\t\t# Add the digit\n",
        "\t\tval = head.value + addValue\n",
        "\n",
        "\t\t# Find the carry if any\n",
        "\t\thead.value = val % 10\n",
        "\t\tcarry = int(val / 10)\n",
        "\t\n",
        "\telse :\n",
        "\n",
        "\t\t# Preserve the current node's value and call\n",
        "\t\t# the recursive function for the next node\n",
        "\t\tval = head.value\n",
        "\t\taddNewValue(head.next, addValue)\n",
        "\t\tval = val + carry\n",
        "\t\thead.value = val % 10\n",
        "\t\tcarry = int(val / 10)\n",
        "\t\t\n",
        "# Utility function to print the linked list\n",
        "def printList(node):\n",
        "\t\n",
        "\twhile (node != None) :\n",
        "\t\tprint(node.value ,end= \" -> \")\n",
        "\t\tnode = node.next\n",
        "\t\t\n",
        "\tprint(\"None\")\n",
        "\t\n",
        "# Driver code\n",
        "\n",
        "# Create the linked list 9 -> 9 -> 3 -> None\n",
        "head = ListNode(0)\n",
        "head.value = 9\n",
        "head.next = ListNode(0)\n",
        "head.next.value = 9\n",
        "head.next.next = ListNode(0)\n",
        "head.next.next.value = 3\n",
        "head.next.next.next = None\n",
        "\n",
        "# Digit to be added\n",
        "n = 7\n",
        "head = addValue(head, n)\n",
        "\n",
        "printList(head)\n",
        "\n",
        "\n"
      ],
      "execution_count": null,
      "outputs": [
        {
          "output_type": "stream",
          "text": [
            "1 -> 0 -> 0 -> 0 -> None\n"
          ],
          "name": "stdout"
        }
      ]
    },
    {
      "cell_type": "markdown",
      "metadata": {
        "id": "d1q4E-Kh5Akq"
      },
      "source": [
        "59 . Given a Linked List. The task is to traverse the Linked List from middle to left-right order using recursion.\n",
        "For Example: \n",
        " \n",
        "\n",
        "If the given Linked List is: 2 -> 5 -> 8 -> 3 -> 7 -> 9 -> 12 -> NULL \n",
        "The Middle to left-right order is : 3, 8, 7, 5, 9, 2, 12 "
      ]
    },
    {
      "cell_type": "code",
      "metadata": {
        "colab": {
          "base_uri": "https://localhost:8080/"
        },
        "id": "r9AAW6Y848ad",
        "outputId": "6a9b350a-e4b8-443a-bcdb-beaf773309a6"
      },
      "source": [
        "# A Python3 program to demonstrate\n",
        "# the printing of Linked List middle\n",
        "# to left right order\n",
        "\n",
        "# A linked list node\n",
        "class Node:\n",
        "\t\n",
        "\tdef __init__(self):\n",
        "\t\tself.data = 0\n",
        "\t\tself.next = None\n",
        "\n",
        "# Given a reference (pointer to pointer)\n",
        "# to the head of a list and an int, appends\n",
        "# a new node at the end\n",
        "def append(head_ref, new_data):\n",
        "\n",
        "\t# Allocate node\n",
        "\tnew_node = Node();\n",
        "\n",
        "\t# Used in step 5\n",
        "\tlast = head_ref;\n",
        "\n",
        "\t# Put in the data\n",
        "\tnew_node.data = new_data;\n",
        "\n",
        "\t# This new node is going to be\n",
        "\t# the last node, so make next of\n",
        "\t# it as None\n",
        "\tnew_node.next = None;\n",
        "\n",
        "\t# If the Linked List is empty,\n",
        "\t# then make the new node as head\n",
        "\tif (head_ref == None):\n",
        "\t\thead_ref = new_node;\n",
        "\t\treturn head_ref;\n",
        "\n",
        "\t# Else traverse till the last node\n",
        "\twhile (last.next != None):\n",
        "\t\tlast = last.next;\n",
        "\n",
        "\t# Change the next of last node\n",
        "\tlast.next = new_node;\n",
        "\t\n",
        "\treturn head_ref;\n",
        "\n",
        "# This function prints contents of\n",
        "# linked list starting from head\n",
        "def printList(node):\n",
        "\n",
        "\twhile (node != None):\n",
        "\t\tprint(' ' + str(node.data), end = '')\n",
        "\n",
        "\t\tif (node.next != None):\n",
        "\t\t\tprint('->', end = '')\n",
        "\t\t\t\n",
        "\t\tnode = node.next;\n",
        "\t\n",
        "# Function to get the size of linked list\n",
        "def getSize(head):\n",
        "\n",
        "\tif (head == None):\n",
        "\t\treturn 0;\n",
        "\t\n",
        "\treturn 1 + getSize(head.next);\n",
        "\n",
        "# Utility function to print the Linked List\n",
        "# from middle to left right order\n",
        "def printMiddleToLeftRightUtil(head, counter, lSize):\n",
        "\n",
        "\t# Base Condition\n",
        "\t# When size of list is odd\n",
        "\tif (counter == 1 and lSize % 2 != 0):\n",
        "\n",
        "\t\t# Print node value\n",
        "\t\tprint(head.data, end = '')\n",
        "\n",
        "\t\t# Returns address of next node\n",
        "\t\treturn head.next;\n",
        "\t\n",
        "\t# Base Condition\n",
        "\t# When size of list is even\n",
        "\telif (counter == 1):\n",
        "\n",
        "\t\t# Print node value\n",
        "\t\t# and next node value\n",
        "\t\tprint(str(head.data) + ' , ' + str(head.next.data), end = '')\n",
        "\n",
        "\t\t# Returns address of next to next node\n",
        "\t\treturn head.next.next;\n",
        "\t\n",
        "\telse:\n",
        "\n",
        "\t\t# Recursive function call and\n",
        "\t\t# store return address\n",
        "\t\tptr = printMiddleToLeftRightUtil(head.next, counter - 1,lSize);\n",
        "\n",
        "\t\t# Print head data\n",
        "\t\tprint(' , ' + str(head.data) + ' , ' + str(ptr.data), end = '')\n",
        "\n",
        "\t\t# Returns address of next node\n",
        "\t\treturn ptr.next;\n",
        "\t\n",
        "# Function to print Middle to\n",
        "# Left-right order\n",
        "def printMiddleToLeftRight(head):\n",
        "\n",
        "\t# Function call to get the size\n",
        "\t# Of Linked List\n",
        "\tlistSize = getSize(head);\n",
        "\n",
        "\tmiddle = 0;\n",
        "\n",
        "\t# Store middle when Linked\n",
        "\t# List size is odd\n",
        "\tif (listSize % 2 != 0):\n",
        "\t\tmiddle = (listSize + 1) // 2;\n",
        "\n",
        "\t# Store middle when Linked\n",
        "\t# List size is even\n",
        "\telse:\n",
        "\t\tmiddle = listSize // 2;\n",
        "\t\n",
        "\t# Utility function call print\n",
        "\t# Linked List from Middle\n",
        "\t# to left right order\n",
        "\tprint('Output :', end = ' ')\n",
        "\n",
        "\tprintMiddleToLeftRightUtil(head, middle, listSize);\n",
        "\n",
        "# Driver code\n",
        "if __name__=='__main__':\n",
        "\t\n",
        "\t# Start with the empty list\n",
        "\thead = None;\n",
        "\n",
        "\t# Insert 6. So linked list\n",
        "\t# becomes 6.None\n",
        "\thead = append(head, 6);\n",
        "\n",
        "\t# Insert 6. So linked list\n",
        "\t# becomes 6.4.None\n",
        "\thead = append(head, 4);\n",
        "\thead = append(head, 8);\n",
        "\thead = append(head, 7);\n",
        "\thead = append(head, 9)\n",
        "\thead = append(head, 11);\n",
        "\thead = append(head, 2)\n",
        "\t\n",
        "\t# After inserting linked list\n",
        "\t# becomes 6.4.8.7.9.11.2.None\n",
        "\tprint(\"Created Linked list is:\", end = ' ')\n",
        "\n",
        "\t# Function to display Linked List content\n",
        "\tprintList(head);\n",
        "\tprint()\n",
        "\n",
        "\t# Function call print Linked List from\n",
        "\t# Middle to left right order\n",
        "\tprintMiddleToLeftRight(head);\n",
        "\n",
        "\n"
      ],
      "execution_count": null,
      "outputs": [
        {
          "output_type": "stream",
          "text": [
            "Created Linked list is:  6-> 4-> 8-> 7-> 9-> 11-> 2\n",
            "Output : 7 , 8 , 9 , 4 , 11 , 6 , 2"
          ],
          "name": "stdout"
        }
      ]
    },
    {
      "cell_type": "markdown",
      "metadata": {
        "id": "IePZrwUz5Tmw"
      },
      "source": [
        "60. Given a Linked List and a number K. The task is to print the value of the K-th node from the middle towards the beginning of the List. If no such element exists, then print “-1”.\n",
        "Note: Position of middle node is: (n/2)+1, where n is the total number of nodes in the list. "
      ]
    },
    {
      "cell_type": "code",
      "metadata": {
        "colab": {
          "base_uri": "https://localhost:8080/"
        },
        "id": "Wzz-rwOn5RK6",
        "outputId": "6eb4b091-4eec-4d8f-f0a9-76099e75faa3"
      },
      "source": [
        "# Python3 program to find kth node from\n",
        "# middle towards Head of the Linked List\n",
        "\n",
        "# Node class\n",
        "class Node:\n",
        "\n",
        "\t# Function to initialise the node object\n",
        "\tdef __init__(self, data):\n",
        "\t\tself.data = data\n",
        "\t\tself.next = None\n",
        "\n",
        "# Function to insert a node at the\n",
        "# beginning of the linked list\n",
        "def push(head, data):\n",
        "\tif not head:\n",
        "\n",
        "\t\t# Return new node\n",
        "\t\treturn Node(data)\n",
        "\t\n",
        "\t# allocate node\n",
        "\tnew_node = Node(data)\n",
        "\t\n",
        "\t# link the old list to the new node\n",
        "\tnew_node.next = head\n",
        "\t\n",
        "\t# move the head to point\n",
        "\t# to the new node\n",
        "\thead = new_node\n",
        "\treturn head\n",
        "\n",
        "# Function to count number of nodes\n",
        "def getCount(head):\n",
        "\t\n",
        "\tcount = 0 # Initialize count\n",
        "\tcurrent = head # Initialize current\n",
        "\twhile (current ):\n",
        "\t\tcount = count + 1\n",
        "\t\tcurrent = current.next\n",
        "\t\n",
        "\treturn count\n",
        "\n",
        "# Function to get the kth node from the mid\n",
        "# towards begin of the linked list\n",
        "def printKthfrommid(head_ref, k):\n",
        "\n",
        "\t# Get the count of total number of\n",
        "\t# nodes in the linked list\n",
        "\tn = getCount(head_ref)\n",
        "\n",
        "\treqNode = int((n / 2 + 1) - k)\n",
        "\n",
        "\t# If no such node exists, return -1\n",
        "\tif (reqNode <= 0) :\n",
        "\t\treturn -1\n",
        "\t\n",
        "\t# Find node at position reqNode\n",
        "\telse :\n",
        "\t\tcurrent = head_ref\n",
        "\n",
        "\t\t# the index of the\n",
        "\t\t# node we're currently\n",
        "\t\t# looking at\n",
        "\t\tcount = 1\n",
        "\t\twhile (current) :\n",
        "\t\t\tif (count == reqNode):\n",
        "\t\t\t\treturn (current.data)\n",
        "\t\t\tcount = count + 1\n",
        "\t\t\tcurrent = current.next\n",
        "\t\t\n",
        "# Driver Code\n",
        "if __name__=='__main__':\n",
        "\t\n",
        "\t# start with empty list\n",
        "\thead = None\n",
        "\tk = 2\n",
        "\n",
        "\t# create linked list\n",
        "\t# 1.2.3.4.5.6.7\n",
        "\thead = push(head, 7)\n",
        "\thead = push(head, 6)\n",
        "\thead = push(head, 5)\n",
        "\thead = push(head, 4)\n",
        "\thead = push(head, 3)\n",
        "\thead = push(head, 2)\n",
        "\thead = push(head, 1)\n",
        "\n",
        "\tprint(printKthfrommid(head, 2))\n",
        "\t\n",
        "\n"
      ],
      "execution_count": null,
      "outputs": [
        {
          "output_type": "stream",
          "text": [
            "2\n"
          ],
          "name": "stdout"
        }
      ]
    },
    {
      "cell_type": "markdown",
      "metadata": {
        "id": "-P9JkZBz5nn8"
      },
      "source": [
        "61. Given a rectanglular floor of (M X N) meters is to be paved with square tiles of (s X s). The task is to find the minimum number of tiles required to pave the rectangular floor. \n",
        "\n",
        "Constraints: \n",
        "\n",
        "It’s allowed to cover the surface larger than the floor, but the floor has to be covered.\n",
        "It’s not allowed to break the tiles.\n",
        "The sides of tiles should be parallel to the sides of the floor.\n",
        "Examples:  \n",
        "\n",
        "Input: 2 1 2 \n",
        "Output: 1 \n",
        "length of floor = 2 \n",
        "breadth of floor = 1 \n",
        "length of side of tile = 2 \n",
        "No of tiles required for paving is 2.\n",
        "\n",
        "Input: 222 332 5 \n",
        "Output: 3015  "
      ]
    },
    {
      "cell_type": "code",
      "metadata": {
        "colab": {
          "base_uri": "https://localhost:8080/"
        },
        "id": "Uch8d31W5kCm",
        "outputId": "07b06af8-cd4f-41d8-e4e1-42e7dc278bb5"
      },
      "source": [
        "# Python 3 implementation of\n",
        "# above approach\n",
        "\n",
        "# Function to find the number\n",
        "# of tiles\n",
        "def solve(M, N, s) :\n",
        "\t\n",
        "\t# if breadth is divisible\n",
        "\t# by side of square\n",
        "\tif (N % s == 0) :\n",
        "\t\t\n",
        "\t\t# tiles required is N/s\n",
        "\t\tN = N // s\n",
        "\t\t\n",
        "\telse :\n",
        "\t\t\n",
        "\t\t# one more tile required\n",
        "\t\tN = (N // s) + 1\n",
        "\n",
        "\t# if length is divisible by\n",
        "\t# side of square\n",
        "\tif (M % s == 0) :\n",
        "\t\t\n",
        "\t\t# tiles required is M/s\n",
        "\t\tM = M // s\n",
        "\t\t\n",
        "\telse :\n",
        "\t\t\n",
        "\t\t# one more tile required\n",
        "\t\tM = (M // s) + 1\n",
        "\t\n",
        "\treturn M * N\n",
        "\n",
        "# Driver Code\n",
        "if __name__ == \"__main__\" :\n",
        "\t\n",
        "\t# input length and breadth of\n",
        "\t# rectangle and side of square\n",
        "\tN, M, s = 12, 13, 4\n",
        "\n",
        "\tprint(solve(M, N, s))\n",
        "\t\t\t\n"
      ],
      "execution_count": null,
      "outputs": [
        {
          "output_type": "stream",
          "text": [
            "12\n"
          ],
          "name": "stdout"
        }
      ]
    },
    {
      "cell_type": "markdown",
      "metadata": {
        "id": "f-eJmhaQ6BmM"
      },
      "source": [
        "62. Given N * M rectangular park having N rows and M columns, each cell of the park is a square of unit area and boundaries between the cells is called hex and a sprinkler can be placed in the middle of the hex. The task is to find the minimum number of sprinklers required to water the entire park.\n",
        "\n",
        "Examples: \n",
        "\n",
        "Input: N = 3 M = 3 \n",
        "Output: 5 \n",
        "Explanation: \n",
        "For the first two columns 3 sprinklers are required and for last column we are bound to use 2 sprinklers to water the last column. "
      ]
    },
    {
      "cell_type": "code",
      "metadata": {
        "colab": {
          "base_uri": "https://localhost:8080/"
        },
        "id": "xppT-Z0e55gw",
        "outputId": "f07a6240-93a7-4e58-f843-230f8d5f91b2"
      },
      "source": [
        "# Python3 program to find the\n",
        "# minimum number sprinklers\n",
        "# required to water the park.\n",
        "\n",
        "# Function to find the\n",
        "# minimum number sprinklers\n",
        "# required to water the park.\n",
        "def solve(N, M) :\n",
        "\t\n",
        "\t# General requirements of\n",
        "\t# sprinklers\n",
        "\tans = int((N) * int(M / 2))\n",
        "\n",
        "\t# if M is odd then add\n",
        "\t# one additional sprinklers\n",
        "\tif (M % 2 == 1):\n",
        "\t\tans += int((N + 1) / 2)\n",
        "\n",
        "\tprint(ans)\n",
        "\n",
        "# Driver code\n",
        "N = 5\n",
        "M = 3\n",
        "solve(N, M)\n",
        "\n",
        " "
      ],
      "execution_count": null,
      "outputs": [
        {
          "output_type": "stream",
          "text": [
            "8\n"
          ],
          "name": "stdout"
        }
      ]
    },
    {
      "cell_type": "markdown",
      "metadata": {
        "id": "v-5hHK7D6JFe"
      },
      "source": [
        "63. There are some glasses with equal capacity as 1 litre. The glasses are kept as follows: \n",
        " \n",
        "\n",
        "                   1\n",
        "                 2   3\n",
        "              4    5    6\n",
        "            7    8    9   10\n",
        "You can put water to the only top glass. If you put more than 1-litre water to 1st glass, water overflows and fills equally in both 2nd and 3rd glasses. Glass 5 will get water from both 2nd glass and 3rd glass and so on. \n",
        "If you have X litre of water and you put that water in a top glass, how much water will be contained by the jth glass in an ith row?"
      ]
    },
    {
      "cell_type": "code",
      "metadata": {
        "colab": {
          "base_uri": "https://localhost:8080/"
        },
        "id": "OoCuLKxY6Gx5",
        "outputId": "50d542e0-6dd9-476f-b91a-21c06cd03596"
      },
      "source": [
        "# Program to find the amount\n",
        "# of water in j-th glass of\n",
        "# i-th row\n",
        "\n",
        "# Returns the amount of water\n",
        "# in jth glass of ith row\n",
        "def findWater(i, j, X):\n",
        "\t# A row number i has maximum\n",
        "\t# i columns. So input column\n",
        "\t# number must be less than i\n",
        "\tif (j > i):\n",
        "\t\tprint(\"Incorrect Input\");\n",
        "\t\treturn;\n",
        "\n",
        "\t# There will be i*(i+1)/2\n",
        "\t# glasses till ith row\n",
        "\t# (including ith row)\n",
        "\t# and Initialize all glasses\n",
        "\t# as empty\n",
        "\tglass = [0]*int(i *(i + 1) / 2);\n",
        "\n",
        "\t# Put all water\n",
        "\t# in first glass\n",
        "\tindex = 0;\n",
        "\tglass[index] = X;\n",
        "\n",
        "\t# Now let the water flow to\n",
        "\t# the downward glasses till\n",
        "\t# the row number is less\n",
        "\t# than or/ equal to i (given\n",
        "\t# row) correction : X can be\n",
        "\t# zero for side glasses as\n",
        "\t# they have lower rate to fill\n",
        "\tfor row in range(1,i):\n",
        "\t\t# Fill glasses in a given\n",
        "\t\t# row. Number of columns\n",
        "\t\t# in a row is equal to row number\n",
        "\t\tfor col in range(1,row+1):\n",
        "\t\t\t# Get the water\n",
        "\t\t\t# from current glass\n",
        "\t\t\tX = glass[index];\n",
        "\n",
        "\t\t\t# Keep the amount less\n",
        "\t\t\t# than or equal to\n",
        "\t\t\t# capacity in current glass\n",
        "\t\t\tglass[index] = 1.0 if (X >= 1.0) else X;\n",
        "\n",
        "\t\t\t# Get the remaining amount\n",
        "\t\t\tX = (X - 1) if (X >= 1.0) else 0.0;\n",
        "\n",
        "\t\t\t# Distribute the remaining\n",
        "\t\t\t# amount to the down two glasses\n",
        "\t\t\tglass[index + row] += (X / 2);\n",
        "\t\t\tglass[index + row + 1] += (X / 2);\n",
        "\t\t\tindex+=1;\n",
        "\n",
        "\t# The index of jth glass\n",
        "\t# in ith row will\n",
        "\t# be i*(i-1)/2 + j - 1\n",
        "\treturn glass[int(i * (i - 1) /2 + j - 1)];\n",
        "\n",
        "# Driver Code\n",
        "if __name__ == \"__main__\":\n",
        "\t\n",
        "\ti = 2;\n",
        "\tj = 2;\n",
        "\tX = 2.0;\n",
        "# Total amount of water\n",
        "\n",
        "\tres=repr(findWater(i, j, X));\n",
        "\tprint(\"Amount of water in jth glass of ith row is:\",res.ljust(8,'0'));\n",
        "\n"
      ],
      "execution_count": null,
      "outputs": [
        {
          "output_type": "stream",
          "text": [
            "Amount of water in jth glass of ith row is: 0.500000\n"
          ],
          "name": "stdout"
        }
      ]
    },
    {
      "cell_type": "markdown",
      "metadata": {
        "id": "Serf1RL86cuy"
      },
      "source": [
        "64. You are given a container of X liters containing a mixture of wine and water. The mixture contains W% of water in it. How many liters of water must be added to increase the ratio of water to Y%? \n",
        "The input includes 3 integers: X, W, and Y respectively. \n",
        "The output should be in float format up to 2 decimal points. \n",
        "\n",
        "Examples: \n",
        "\n",
        "Input : X = 125, W = 20, Y = 25 \n",
        "Output : 8.33 liters \n",
        "20% of 125 is 25. If we add 8.33 liters, we get 33.33, which is 25% of 133.33.\n",
        "\n",
        "Input : X = 100, W = 50, Y = 60 \n",
        "Output : 25  "
      ]
    },
    {
      "cell_type": "code",
      "metadata": {
        "colab": {
          "base_uri": "https://localhost:8080/"
        },
        "id": "IJJm1Pe56TCP",
        "outputId": "e1c2f9c6-9f96-4d58-8632-ba0959da732e"
      },
      "source": [
        "# Python3 program to find amount\n",
        "# of water to be added to achieve\n",
        "# given target ratio.\n",
        "def findAmount(X, W, Y):\n",
        "\t\n",
        "\treturn (X * (Y - W) / (100 - Y))\n",
        "\n",
        "X = 100\n",
        "W = 50; Y = 60\n",
        "print(\"Water to be added\",\n",
        "\tfindAmount(X, W, Y))\n",
        "\n",
        "\n"
      ],
      "execution_count": null,
      "outputs": [
        {
          "output_type": "stream",
          "text": [
            "Water to be added 25.0\n"
          ],
          "name": "stdout"
        }
      ]
    },
    {
      "cell_type": "markdown",
      "metadata": {
        "id": "nYAFDVpc6kBQ"
      },
      "source": [
        "65. Given an array arr[] consisting of N integers and an array P[] consisting of M integers such that P[i] represents the score obtained by working on the ith day. The task is to find the minimum number of days needed to work to achieve a score of at least arr[i], for each array element arr[i].\n",
        "\n",
        "Examples:\n",
        "\n",
        "Input: arr[] = {400, 200, 700}, P[] = {100, 300, 400, 500, 600}\n",
        "Output: 2 2 3 4 5\n",
        "Explanation:\n",
        "Following are the number of days required for each array elements:\n",
        "\n",
        "arr[0](= 400): To earn 400 points one has to work for first 2 days making the total points equal to 100 + 300 = 400(>= arr[0]).\n",
        "arr[1](= 200): To earn 200 points one has to work for first 2 days making the total points = 100 + 300 = 400(>= arr[1]).\n",
        "arr[2](= 700): To earn 700 points one has to work for first 3 days making the total points = 100 + 300 + 400 = 800(>= arr[2]).\n",
        "Input: arr[] = {1400}, P[] = {100, 300}\n",
        "Output: -1"
      ]
    },
    {
      "cell_type": "code",
      "metadata": {
        "colab": {
          "base_uri": "https://localhost:8080/"
        },
        "id": "rPbdmM4g6iRr",
        "outputId": "26d24111-731b-4951-c522-5638b8d709a9"
      },
      "source": [
        "# Python3 program for the above approach\n",
        "\n",
        "# Function to find the minimum number\n",
        "# of days required to work to at least\n",
        "# arr[i] points for every array element\n",
        "def minDays(P, arr):\n",
        "\n",
        "\t# Traverse the array P[]\n",
        "\tfor i in range(1, len(P)):\n",
        "\t\n",
        "\t\t# Find the prefix sum\n",
        "\t\tP[i] += P[i] + P[i - 1]\n",
        "\n",
        "\t# Traverse the array arr[]\n",
        "\tfor i in range(len(arr)):\n",
        "\t\n",
        "\t\t# Find the minimum index of\n",
        "\t\t# the array having value\n",
        "\t\t# at least arr[i]\n",
        "\t\tindex = binarySeach(P, arr[i])\n",
        "\n",
        "\t\t# If the index is not -1\n",
        "\t\tif (index != -1):\n",
        "\t\t\tprint(index + 1, end = \" \")\n",
        "\t\t# Otherwise\n",
        "\t\telse:\n",
        "\t\t\tprint(-1, end = \" \")\n",
        "\n",
        "# Function to find the lower bound\n",
        "# of N using binary search\n",
        "def binarySeach(P, N):\n",
        "\n",
        "\t# Stores the lower bound\n",
        "\ti = 0\n",
        "\n",
        "\t# Stores the upper bound\n",
        "\tj = len(P) - 1\n",
        "\n",
        "\t# Stores the minimum index\n",
        "\t# having value is at least N\n",
        "\tindex = -1\n",
        "\n",
        "\t# Iterater while i<=j\n",
        "\twhile (i <= j):\n",
        "\n",
        "\t\t# Stores the mid index\n",
        "\t\t# of the range [i, j]\n",
        "\t\tmid = i + (j - i) // 2\n",
        "\n",
        "\t\t# If P[mid] is at least N\n",
        "\t\tif (P[mid] >= N):\n",
        "\n",
        "\t\t\t# Update the value of\n",
        "\t\t\t# mid to index\n",
        "\t\t\tindex = mid\n",
        "\n",
        "\t\t\t# Update the value of j\n",
        "\t\t\tj = mid - 1\n",
        "\n",
        "\t\t# Update the value of i\n",
        "\t\telse:\n",
        "\t\t\ti = mid + 1\n",
        "\n",
        "\t# Return the resultant index\n",
        "\treturn index\n",
        "\n",
        "\t# Driver Code\n",
        "if __name__ == '__main__':\n",
        "\tarr = [400, 200, 700,900,1400 ]\n",
        "\tP = [100, 300, 400, 500, 600 ]\n",
        "\tminDays(P, arr)\n",
        "\n"
      ],
      "execution_count": null,
      "outputs": [
        {
          "output_type": "stream",
          "text": [
            "2 2 2 3 3 "
          ],
          "name": "stdout"
        }
      ]
    },
    {
      "cell_type": "markdown",
      "metadata": {
        "id": "fEhRweXx6xUm"
      },
      "source": [
        "66. Given a Binary Tree, the task is to construct an array such that ith index of the array contains GCD of all the nodes present at the ith vertical level of the given binary tree. "
      ]
    },
    {
      "cell_type": "code",
      "metadata": {
        "colab": {
          "base_uri": "https://localhost:8080/"
        },
        "id": "ls4pKbh76vK6",
        "outputId": "6209e035-0b1d-4bac-a3bb-08e32026af78"
      },
      "source": [
        "# Python3 program for the above approach\n",
        "\n",
        "# Class for node of binary tree\n",
        "class TreeNode:\n",
        "\tdef __init__(self, val ='', left = None, right = None):\n",
        "\t\tself.val = val\n",
        "\t\tself.left = left\n",
        "\t\tself.right = right\n",
        "\n",
        "# Function to find GCD of two numbers\n",
        "def GCD(a, b):\n",
        "\tif not b:\n",
        "\t\treturn a\n",
        "\n",
        "\t# Recursively find the GCD\n",
        "\treturn GCD(b, a % b)\n",
        "\n",
        "# Function to construct array from\n",
        "# vertically positioned nodes\n",
        "def constructArray(root):\n",
        "\n",
        "\t# Stores the element for each\n",
        "\t# vertical distance\n",
        "\tmp = {}\n",
        "\n",
        "\t# Function to traverse the tree\n",
        "\tdef Trav(root, hd):\n",
        "\t\tif not root:\n",
        "\t\t\treturn\n",
        "\n",
        "\t\t# Store the values in the map\n",
        "\t\tif hd not in mp:\n",
        "\t\t\tmp[hd] = root.val\n",
        "\t\telse:\n",
        "\t\t\tmp[hd] = GCD(mp[hd], root.val)\n",
        "\n",
        "\t\t# Recursive Calls\n",
        "\t\tTrav(root.left, hd-1)\n",
        "\t\tTrav(root.right, hd + 1)\n",
        "\n",
        "\tTrav(root, 0)\n",
        "\n",
        "\t# Get range of horizontal distances\n",
        "\tlower = min(mp.keys())\n",
        "\tupper = max(mp.keys())\n",
        "\n",
        "\tans = []\n",
        "\n",
        "\t# Extract the array of values\n",
        "\tfor i in range(lower, upper + 1):\n",
        "\t\tans.append(mp[i])\n",
        "\n",
        "\t# Print the constructed array\n",
        "\tprint(ans)\n",
        "\n",
        "\n",
        "# Driver Code\n",
        "\n",
        "# Given Tree\n",
        "root = TreeNode(5)\n",
        "root.left = TreeNode(4)\n",
        "root.right = TreeNode(7)\n",
        "root.left.left = TreeNode(8)\n",
        "root.left.left.right = TreeNode(8)\n",
        "root.left.right = TreeNode(10)\n",
        "root.right.right = TreeNode(6)\n",
        "\n",
        "# Function Call\n",
        "constructArray(root)\n"
      ],
      "execution_count": null,
      "outputs": [
        {
          "output_type": "stream",
          "text": [
            "[8, 4, 5, 7, 6]\n"
          ],
          "name": "stdout"
        }
      ]
    },
    {
      "cell_type": "markdown",
      "metadata": {
        "id": "joOi-0z166nG"
      },
      "source": [
        "67. Given two positive integers K and N, the task is to find the permutation present at the middle of all permutations of at most length N, consisting of integers from the range [1, K], arranged lexicographically. "
      ]
    },
    {
      "cell_type": "code",
      "metadata": {
        "colab": {
          "base_uri": "https://localhost:8080/"
        },
        "id": "0R5bm_zh64lH",
        "outputId": "cf9a5ac8-d1ed-4071-e1b5-815ee456c960"
      },
      "source": [
        "# Python3 program for the above approach\n",
        "\n",
        "# Function that finds the middle the\n",
        "# lexicographical smallest sequence\n",
        "def lexiMiddleSmallest(K, N):\n",
        "\t# If K is even\n",
        "\tif (K % 2 == 0):\n",
        "\n",
        "\t\t# First element is K/2\n",
        "\t\tprint(K // 2,end=\" \")\n",
        "\n",
        "\t\t# Remamining elements of the\n",
        "\t\t# sequence are all integer K\n",
        "\t\tfor i in range(N - 1):\n",
        "\t\t\tprint(K, end = \" \")\n",
        "\t\tprint()\n",
        "\t\treturn\n",
        "\n",
        "\t# Stores the sequence when K\n",
        "\t# is odd\n",
        "\ta = [(K + 1) // 2]*(N)\n",
        "\n",
        "\t# Iterate over the range [0, N/2]\n",
        "\tfor i in range(N//2):\n",
        "\t\t# Check if the sequence ends\n",
        "\t\t# with in 1 or not\n",
        "\t\tif (a[-1] == 1):\n",
        "\n",
        "\t\t\t# Remove the sequence\n",
        "\t\t\t# ending in 1\n",
        "\t\t\tdel a[-1]\n",
        "\n",
        "\t\t# If it doesn't end in 1\n",
        "\t\telse:\n",
        "\n",
        "\t\t\t# Decrement by 1\n",
        "\t\t\ta[-1] -= 1\n",
        "\n",
        "\t\t\t# Insert K to the sequence\n",
        "\t\t\t# till its size is N\n",
        "\t\t\twhile (len(a) < N):\n",
        "\t\t\t\ta.append(K)\n",
        "\n",
        "\t# Prthe sequence stored\n",
        "\t# in the vector\n",
        "\tfor i in a:\n",
        "\t\tprint(i, end = \" \")\n",
        "\tprint()\n",
        "\n",
        "# Driver Code\n",
        "if __name__ == '__main__':\n",
        "\tK, N = 2, 4\n",
        "\tlexiMiddleSmallest(K, N)\n",
        "\n",
        "\n",
        " "
      ],
      "execution_count": null,
      "outputs": [
        {
          "output_type": "stream",
          "text": [
            "1 2 2 2 \n"
          ],
          "name": "stdout"
        }
      ]
    },
    {
      "cell_type": "markdown",
      "metadata": {
        "id": "Y0KmC0FX7Rkp"
      },
      "source": [
        "68 . Given an array A[] of size N, the task is to find the maximum length of the longest non-decreasing array that can be generated from the given array by appending elements from either of the ends of the given array to the end of the resultant array and removing the appended element one by one."
      ]
    },
    {
      "cell_type": "code",
      "metadata": {
        "colab": {
          "base_uri": "https://localhost:8080/"
        },
        "id": "SCMO9zNJ7Wi3",
        "outputId": "16d7e8e8-9ce3-4719-c59b-81d1dae93b4b"
      },
      "source": [
        "# Python3 program to implement\n",
        "# the above approach\n",
        "\n",
        "# Function to find the length of\n",
        "# the longest non-decreasing array\n",
        "# that can be generated\n",
        "def findLongestNonDecreasing(A, N):\n",
        "\n",
        "\t# Stores the length of the longest\n",
        "\t# non-decreasing array that can be\n",
        "\t# generated from the array\n",
        "\tres = 0;\n",
        "\n",
        "\t# Stores index of\n",
        "\t# start pointer\n",
        "\tstart = 0;\n",
        "\n",
        "\t# Stores index of\n",
        "\t# end pointer\n",
        "\tend = N - 1;\n",
        "\n",
        "\t# Stores previously inserted\n",
        "\t# element into the new array\n",
        "\tprev = -1;\n",
        "\n",
        "\t# Traverse the array\n",
        "\twhile (start <= end):\n",
        "\n",
        "\t\t# If A[start] is less than\n",
        "\t\t# or equal to A[end]\n",
        "\t\tif (A[start] <= A[end]):\n",
        "\n",
        "\t\t\t# If no element inserted into\n",
        "\t\t\t# the newly generated array\n",
        "\t\t\tif (prev == -1):\n",
        "\n",
        "\t\t\t\t# Update prev\n",
        "\t\t\t\tprev = A[start];\n",
        "\n",
        "\t\t\t\t# Update res\n",
        "\t\t\t\tres += 1\n",
        "\n",
        "\t\t\t\t# Update start\n",
        "\t\t\t\tstart += 1\n",
        "\n",
        "\t\t\telse:\n",
        "\n",
        "\t\t\t\t# If A[start] is greater\n",
        "\t\t\t\t# than or equal to prev\n",
        "\t\t\t\tif (A[start] >= prev):\n",
        "\n",
        "\t\t\t\t\t# Update res\n",
        "\t\t\t\t\tres += 1\n",
        "\n",
        "\t\t\t\t\t# Update prev\n",
        "\t\t\t\t\tprev = A[start];\n",
        "\n",
        "\t\t\t\t\t# Update start\n",
        "\t\t\t\t\tstart += 1\n",
        "\n",
        "\t\t\t\t# If A[end] is greater\n",
        "\t\t\t\t# than or equal to prev\n",
        "\t\t\t\telif (A[end] >= prev):\n",
        "\n",
        "\t\t\t\t\t# Update res\n",
        "\t\t\t\t\tres += 1\n",
        "\n",
        "\t\t\t\t\t# Update prev\n",
        "\t\t\t\t\tprev = A[end];\n",
        "\n",
        "\t\t\t\t\t# Update end\n",
        "\t\t\t\t\tend -= 1\n",
        "\n",
        "\t\t\t\telse:\n",
        "\t\t\t\t\tbreak;\n",
        "\n",
        "\t\t# If A[end] is\n",
        "\t\t# greater than A[start]\n",
        "\t\telse:\n",
        "\n",
        "\t\t\t# If no element inserted into\n",
        "\t\t\t# the newly generated array\n",
        "\t\t\tif (prev == -1):\n",
        "\n",
        "\t\t\t\t# Update prev\n",
        "\t\t\t\tprev = A[end];\n",
        "\n",
        "\t\t\t\t# Update res\n",
        "\t\t\t\tres += 1\n",
        "\n",
        "\t\t\t\t# Update end\n",
        "\t\t\t\tend -= 1\n",
        "\n",
        "\t\t\telse:\n",
        "\n",
        "\t\t\t\t# If A[end] is greater\n",
        "\t\t\t\t# than or equal to prev\n",
        "\t\t\t\tif (A[end] >= prev):\n",
        "\n",
        "\t\t\t\t\t# Update res\n",
        "\t\t\t\t\tres += 1\n",
        "\n",
        "\t\t\t\t\t# Update prev\n",
        "\t\t\t\t\tprev = A[end];\n",
        "\n",
        "\t\t\t\t\t# Update end\n",
        "\t\t\t\t\tend -= 1\n",
        "\n",
        "\t\t\t\t# If A[start] is greater\n",
        "\t\t\t\t# than or equal to prev\n",
        "\t\t\t\telif (A[start] >= prev):\n",
        "\n",
        "\t\t\t\t\t# Update res\n",
        "\t\t\t\t\tres += 1\n",
        "\n",
        "\t\t\t\t\t# Update prev\n",
        "\t\t\t\t\tprev = A[start];\n",
        "\n",
        "\t\t\t\t\t# Update start\n",
        "\t\t\t\t\tstart += 1\n",
        "\n",
        "\t\t\t\telse :\n",
        "\t\t\t\t\tbreak;\n",
        "\t\t\t\t\n",
        "\treturn res\n",
        "\n",
        "# Driver Code\n",
        "if __name__ == \"__main__\":\n",
        "\n",
        "\tA = [1, 1, 3, 5,\n",
        "\t\t4, 3, 6, 2, 1]\n",
        "\t\n",
        "\tN = len(A)\n",
        "\t\n",
        "\t# Function call\n",
        "\tprint (findLongestNonDecreasing(A, N));\n",
        "\n",
        "\n"
      ],
      "execution_count": null,
      "outputs": [
        {
          "output_type": "stream",
          "text": [
            "7\n"
          ],
          "name": "stdout"
        }
      ]
    },
    {
      "cell_type": "markdown",
      "metadata": {
        "id": "IlrcuVV98aR8"
      },
      "source": [
        "69. Given a binary string s, the task is to find the length of the longest subsequence that can be divided into three substrings such that the first and third substrings are either empty or filled with 1 and the substring at the middle is either empty or filled with 0."
      ]
    },
    {
      "cell_type": "code",
      "metadata": {
        "colab": {
          "base_uri": "https://localhost:8080/"
        },
        "id": "BFA5lmIM8Tbd",
        "outputId": "fb34969f-e887-4701-a4d1-e38eeebc019b"
      },
      "source": [
        "# Python3 program to find the\n",
        "# longest subsequence possible\n",
        "# that starts and ends with 1\n",
        "# and filled with 0 in the middle\n",
        "import sys\n",
        "\n",
        "def longestSubseq(s, length):\n",
        "\t\n",
        "\t# Prefix array to store the\n",
        "\t# occurences of '1' and '0'\n",
        "\t# Initialise prefix arrays with 0\n",
        "\tones = [0 for i in range(length + 1)]\n",
        "\tzeroes = [0 for i in range(length + 1)]\n",
        "\n",
        "\t# Iterate over the length of the string\n",
        "\tfor i in range(length):\n",
        "\t\t\n",
        "\t\t# If current character is '1'\n",
        "\t\tif(s[i] == '1'):\n",
        "\t\t\tones[i + 1] = ones[i] + 1\n",
        "\t\t\tzeroes[i + 1] = zeroes[i]\n",
        "\n",
        "\t\t# If current character is '0'\n",
        "\t\telse:\n",
        "\t\t\tzeroes[i + 1] = zeroes[i] + 1\n",
        "\t\t\tones[i + 1] = ones[i]\n",
        "\n",
        "\tanswer = -sys.maxsize - 1\n",
        "\tx = 0\n",
        "\n",
        "\tfor i in range(length + 1):\n",
        "\t\tfor j in range(i, length + 1):\n",
        "\t\t\t\n",
        "\t\t\t# Add '1' available for\n",
        "\t\t\t# the first string\n",
        "\t\t\tx += ones[i]\n",
        "\n",
        "\t\t\t# Add '0' available for\n",
        "\t\t\t# the second string\n",
        "\t\t\tx += (zeroes[j] - zeroes[i])\n",
        "\n",
        "\t\t\t# Add '1' available for\n",
        "\t\t\t# the third string\n",
        "\t\t\tx += (ones[length] - ones[j])\n",
        "\n",
        "\t\t\t# Update answer\n",
        "\t\t\tanswer = max(answer, x)\n",
        "\t\t\tx = 0\n",
        "\n",
        "\t# Print the final result\n",
        "\tprint(answer)\n",
        "\n",
        "# Driver Code\n",
        "S = \"10010010111100101\"\n",
        "length = len(S)\n",
        "\n",
        "longestSubseq(S, length)\n",
        "\n",
        "\n",
        " "
      ],
      "execution_count": null,
      "outputs": [
        {
          "output_type": "stream",
          "text": [
            "12\n"
          ],
          "name": "stdout"
        }
      ]
    },
    {
      "cell_type": "markdown",
      "metadata": {
        "id": "EH0iNNbQ8kUG"
      },
      "source": [
        "70 . Given a string str of n lowercase characters, the task is to count the number of substrings of str starting with character X and ending with character Y. "
      ]
    },
    {
      "cell_type": "code",
      "metadata": {
        "colab": {
          "base_uri": "https://localhost:8080/"
        },
        "id": "BMD7Yj6Z8pu_",
        "outputId": "b361cbee-85be-4bfb-911f-031e85255fc3"
      },
      "source": [
        "# Python 3 implementation to count substrings\n",
        "# starting with character X and ending\n",
        "# with character Y\n",
        "\n",
        "# function to count substrings starting with\n",
        "# character X and ending with character Y\n",
        "def countSubstr(str, n, x, y):\n",
        "\n",
        "\t# to store total count of\n",
        "\t# required substrings\n",
        "\ttot_count = 0\n",
        "\n",
        "\t# to store count of character 'x'\n",
        "\t# up to the point the string 'str'\n",
        "\t# has been traversed so far\n",
        "\tcount_x = 0\n",
        "\n",
        "\t# traverse 'str' form left to right\n",
        "\tfor i in range(n):\n",
        "\n",
        "\t\t# if true, increment 'count_x'\n",
        "\t\tif str[i] == x:\n",
        "\t\t\tcount_x += 1\n",
        "\n",
        "\t\t# if true accumulate 'count_x'\n",
        "\t\t# to 'tot_count'\n",
        "\t\tif str[i] == y:\n",
        "\t\t\ttot_count += count_x\n",
        "\t\n",
        "\t# required count\n",
        "\treturn tot_count\n",
        "\n",
        "# Driver Code\n",
        "str = 'abbcaceghcak'\n",
        "n = len(str)\n",
        "x, y = 'a', 'c'\n",
        "print('Count =', countSubstr(str, n, x, y))\n",
        "\n",
        "\n",
        " "
      ],
      "execution_count": null,
      "outputs": [
        {
          "output_type": "stream",
          "text": [
            "Count = 5\n"
          ],
          "name": "stdout"
        }
      ]
    },
    {
      "cell_type": "markdown",
      "metadata": {
        "id": "_9UgRBFx8_aL"
      },
      "source": [
        "71. Given an array arr[] and size of array is n and one another key x, and give you a segment size k. The task is to find that the key x present in every segment of size k in arr[]. "
      ]
    },
    {
      "cell_type": "code",
      "metadata": {
        "colab": {
          "base_uri": "https://localhost:8080/"
        },
        "id": "6u94VLVc-kKO",
        "outputId": "6c39767c-9b2a-41e6-d3c2-c1c2f7fc4567"
      },
      "source": [
        "# Python 3 program to find\n",
        "# the every segment size of\n",
        "# array have a search key x\n",
        "\n",
        "def findxinkindowSize(arr, x, k, n) :\n",
        "\n",
        "\ti = 0\n",
        "\twhile i < n :\n",
        "\n",
        "\t\tj = 0\n",
        "\t\t\n",
        "\t\t# Search x in segment\n",
        "\t\t# starting from index i\n",
        "\t\twhile j < k :\n",
        "\t\t\t\n",
        "\t\t\tif arr[i + j] == x :\n",
        "\t\t\t\tbreak\n",
        "\t\t\t\n",
        "\t\t\tj += 1\n",
        "\n",
        "\t\t# If loop didn't break\n",
        "\t\tif j == k :\n",
        "\t\t\treturn False\n",
        "\n",
        "\t\ti += k\n",
        "\t\t\n",
        "\t# If n is a multiple of k\t\n",
        "\tif i == n :\n",
        "\t\treturn True\n",
        "\n",
        "\tj = i - k\n",
        "\t\n",
        "\t# Check in last segment if n\n",
        "\t# is not multiple of k.\n",
        "\twhile j < n :\n",
        "\t\tif arr[j] == x :\n",
        "\t\t\tbreak\n",
        "\n",
        "\t\tj += 1\n",
        "\n",
        "\tif j == n :\n",
        "\t\treturn False\n",
        "\n",
        "\treturn True\n",
        "\n",
        "# Driver Code\n",
        "if __name__ == \"__main__\" :\n",
        "\n",
        "\tarr = [ 3, 5, 2, 4, 9, 3,\n",
        "\t\t\t1, 7, 3, 11, 12, 3 ]\n",
        "\tx, k = 3, 3\n",
        "\tn = len(arr)\n",
        "\t\n",
        "\tif (findxinkindowSize(arr, x, k, n)) :\n",
        "\t\tprint(\"Yes\")\n",
        "\telse :\n",
        "\t\tprint(\"No\")\n",
        "\t\t\n"
      ],
      "execution_count": null,
      "outputs": [
        {
          "output_type": "stream",
          "text": [
            "Yes\n"
          ],
          "name": "stdout"
        }
      ]
    },
    {
      "cell_type": "markdown",
      "metadata": {
        "id": "ifAM8d3C_AAu"
      },
      "source": [
        "71. Given two sorted arrays, a[] and b[], the task is to find the median of these sorted arrays, in O(log n + log m) time complexity, when n is the number of elements in the first array, and m is the number of elements in the second array.\n",
        "\n"
      ]
    },
    {
      "cell_type": "code",
      "metadata": {
        "colab": {
          "base_uri": "https://localhost:8080/"
        },
        "id": "9k53lrQW-xZz",
        "outputId": "0ea46558-c05b-40b7-ec08-93a7cfe6e8f3"
      },
      "source": [
        "# A Simple Merge based O(n) solution to find\n",
        "# median of two sorted arrays\n",
        "\n",
        "\"\"\" This function returns median of ar1[] and ar2[].\n",
        "Assumption in this function:\n",
        "Both ar1[] and ar2[] are sorted arrays \"\"\"\n",
        "def getMedian(ar1, ar2, n, m) :\n",
        "\n",
        "\ti = 0 # Current index of input array ar1[]\n",
        "\tj = 0 # Current index of input array ar2[]\n",
        "\tm1, m2 = -1, -1\n",
        "\n",
        "\t# Since there are (n+m) elements,\n",
        "\t# There are following two cases\n",
        "\t# if n+m is odd then the middle\n",
        "\t# index is median i.e. (m+n)/2\n",
        "\tif((m + n) % 2 == 1) :\n",
        "\t\tfor count in range(((n + m) // 2) + 1) :\t\n",
        "\t\t\tif(i != n and j != m) :\t\t\n",
        "\t\t\t\tif ar1[i] > ar2[j] :\n",
        "\t\t\t\t\tm1 = ar2[j]\n",
        "\t\t\t\t\tj += 1\n",
        "\t\t\t\telse :\n",
        "\t\t\t\t\tm1 = ar1[i]\n",
        "\t\t\t\t\ti += 1\t\t\n",
        "\t\t\telif(i < n) :\t\t\n",
        "\t\t\t\tm1 = ar1[i]\n",
        "\t\t\t\ti += 1\n",
        "\t\t\n",
        "\t\t\t# for case when j<m,\n",
        "\t\t\telse :\t\t\n",
        "\t\t\t\tm1 = ar2[j]\n",
        "\t\t\t\tj += 1\t\n",
        "\t\treturn m1\n",
        "\t\n",
        "\t# median will be average of elements\n",
        "\t# at index ((m + n)/2 - 1) and (m + n)/2\n",
        "\t# in the array obtained after merging ar1 and ar2\n",
        "\telse :\n",
        "\t\tfor count in range(((n + m) // 2) + 1) :\t\t\n",
        "\t\t\tm2 = m1\n",
        "\t\t\tif(i != n and j != m) :\t\n",
        "\t\t\t\tif ar1[i] > ar2[j] :\n",
        "\t\t\t\t\tm1 = ar2[j]\n",
        "\t\t\t\t\tj += 1\n",
        "\t\t\t\telse :\n",
        "\t\t\t\t\tm1 = ar1[i]\n",
        "\t\t\t\t\ti += 1\t\t\n",
        "\t\t\telif(i < n) :\t\t\n",
        "\t\t\t\tm1 = ar1[i]\n",
        "\t\t\t\ti += 1\n",
        "\t\t\t\n",
        "\t\t\t# for case when j<m,\n",
        "\t\t\telse :\t\t\n",
        "\t\t\t\tm1 = ar2[j]\n",
        "\t\t\t\tj += 1\t\n",
        "\t\treturn (m1 + m2)//2\n",
        "\n",
        "# Driver code\t\n",
        "ar1 = [900]\n",
        "ar2 = [5, 8, 10, 20]\n",
        "\n",
        "n1 = len(ar1)\n",
        "n2 = len(ar2)\n",
        "print(getMedian(ar1, ar2, n1, n2))\n",
        "\n",
        "\n",
        " "
      ],
      "execution_count": null,
      "outputs": [
        {
          "output_type": "stream",
          "text": [
            "10\n"
          ],
          "name": "stdout"
        }
      ]
    },
    {
      "cell_type": "markdown",
      "metadata": {
        "id": "ZeKWsBkm_Tbp"
      },
      "source": [
        "72. Given two binary arrays L1[] and L2[], each of size N, the task is to minimize the count of remaining array elements after performing the following operations:\n",
        "\n",
        "If the first element of both the arrays is same, then remove it from both the arrays.\n",
        "Otherwise, remove the first element from L1[] and append it at the end of the array L1[]. "
      ]
    },
    {
      "cell_type": "code",
      "metadata": {
        "colab": {
          "base_uri": "https://localhost:8080/"
        },
        "id": "Ixd3QBx__RYL",
        "outputId": "c286d37c-3314-47a8-d8b2-f0f73654982a"
      },
      "source": [
        "# Python program for the above approach\n",
        "\n",
        "# Function to count the remaining\n",
        "# elements in the arrays\n",
        "def countRemainingElements(L1, L2, n):\n",
        "\n",
        "\t# Stores the count of 1s in L1\n",
        "\tone = 0;\n",
        "\n",
        "\t# Store the count of 0s in L2\n",
        "\tzero = 0;\n",
        "\n",
        "\t# Traverse the array L1\n",
        "\tfor i in range(n):\n",
        "\n",
        "\t\t# If condition is True\n",
        "\t\tif (L1[i] == 1):\n",
        "\n",
        "\t\t\t# Increment one by 1\n",
        "\t\t\tone += 1;\n",
        "\t\telse:\n",
        "\n",
        "\t\t\t# Increment zero by 1\n",
        "\t\t\tzero += 1;\n",
        "\t\n",
        "\n",
        "\t# Stores the index after which no\n",
        "\t# further removals are possible\n",
        "\tans = n;\n",
        "\n",
        "\t# Traverse the array L2\n",
        "\tfor i in range(n):\n",
        "\n",
        "\t\t# If condition is True\n",
        "\t\tif (L2[i] == 1):\n",
        "\n",
        "\t\t\t# Decrement one by 1\n",
        "\t\t\tone -= 1;\n",
        "\n",
        "\t\t\t# If one < 0, then break\n",
        "\t\t\t# out of the loop\n",
        "\t\t\tif (one < 0):\n",
        "\t\t\t\tans = i;\n",
        "\t\t\t\tbreak;\t\t\n",
        "\t\telse:\n",
        "\n",
        "\t\t\t# Decrement zero by 1\n",
        "\t\t\tzero -= 1;\n",
        "\n",
        "\t\t\t# If zero < 0, then\n",
        "\t\t\t# break out of loop\n",
        "\t\t\tif (zero < 0):\n",
        "\t\t\t\tans = i;\n",
        "\t\t\t\tbreak;\n",
        "\n",
        "\t# Print the answer\n",
        "\tprint(n - ans);\n",
        "\n",
        "# Driver Code\n",
        "if __name__ == '__main__':\n",
        "\tL1 = [ 1, 1, 0, 0 ];\n",
        "\tL2 = [ 0, 0, 0, 1 ];\n",
        "\tN = len(L1);\n",
        "\n",
        "\t# Function Call\n",
        "\tcountRemainingElements(L1, L2, N);\n",
        "\n",
        "\n"
      ],
      "execution_count": null,
      "outputs": [
        {
          "output_type": "stream",
          "text": [
            "2\n"
          ],
          "name": "stdout"
        }
      ]
    },
    {
      "cell_type": "markdown",
      "metadata": {
        "id": "mGqThPYq_hOP"
      },
      "source": [
        "73. Given a sequence A1, A2, A3, … An of distinct integers. The task is to find the last 2 remaining elements after removing the median of any 3 consecutive elements repeatedly from the sequence."
      ]
    },
    {
      "cell_type": "code",
      "metadata": {
        "colab": {
          "base_uri": "https://localhost:8080/"
        },
        "id": "_w-zYpm5_dxr",
        "outputId": "b6c24a8f-2579-459e-e2f2-36890f66ed3c"
      },
      "source": [
        "# Python3 implementation of the approach\n",
        "\n",
        "# Function to find the last\n",
        "# two remaining elements\n",
        "def lastTwoElement(A, n):\n",
        "\n",
        "\t# Find the minimum and the maximum\n",
        "\t# element from the array\n",
        "\tminn = min(A)\n",
        "\tmaxx = max(A)\n",
        "\n",
        "\tprint(minn, maxx)\n",
        "\n",
        "# Driver code\n",
        "A = [38, 9, 102, 10, 96,7, 46, 28, 88, 13]\n",
        "n = len(A)\n",
        "\n",
        "lastTwoElement(A, n)\n",
        "\n",
        "\n"
      ],
      "execution_count": null,
      "outputs": [
        {
          "output_type": "stream",
          "text": [
            "7 102\n"
          ],
          "name": "stdout"
        }
      ]
    },
    {
      "cell_type": "markdown",
      "metadata": {
        "id": "Rfg739Kc_uKA"
      },
      "source": [
        "74. Given an array arr[] of size N, the task is to find the maximum product of remaining pairs possible after repeatedly replacing a pair of adjacent array elements with their sum.  "
      ]
    },
    {
      "cell_type": "code",
      "metadata": {
        "colab": {
          "base_uri": "https://localhost:8080/"
        },
        "id": "ukqD4PSj_sdO",
        "outputId": "a9a8d946-b396-4431-a2b5-0300e8b5b661"
      },
      "source": [
        "# Python program for the above approach\n",
        "import sys\n",
        "\n",
        "# Function to find the maximum product\n",
        "# possible after repeatedly replacing\n",
        "# pairs of adjacent array elements\n",
        "# with their sum\n",
        "def maxProduct(arr, N):\n",
        "\n",
        "\t# Store the maximum product\n",
        "\tmax_product = -sys.maxsize;\n",
        "\n",
        "\t# Store the prefix sum\n",
        "\tprefix_sum = 0;\n",
        "\n",
        "\t# Store the total sum of array\n",
        "\tsum = 0;\n",
        "\n",
        "\t# Traverse the array to find\n",
        "\t# the total sum\n",
        "\tfor i in range(N):\n",
        "\t\tsum += arr[i];\n",
        "\n",
        "\t# Iterate in the range [0, N-2]\n",
        "\tfor i in range(N - 1):\n",
        "\t\n",
        "\t\t# Add arr[i] to prefix_sum\n",
        "\t\tprefix_sum += arr[i];\n",
        "\n",
        "\t\t# Store the value of prefix_sum\n",
        "\t\tX = prefix_sum;\n",
        "\n",
        "\t\t# Store the value of\n",
        "\t\t# (total sum - prefix sum)\n",
        "\t\tY = sum - prefix_sum;\n",
        "\n",
        "\t\t# Update the maximum product\n",
        "\t\tmax_product = max(max_product, X * Y);\n",
        "\n",
        "\t# Prthe answer\n",
        "\tprint(max_product);\n",
        "\n",
        "# Driver Code\n",
        "if __name__ == '__main__':\n",
        "\tarr = [2, 3, 5, 6, 7];\n",
        "\tN = len(arr);\n",
        "\tmaxProduct(arr, N);\n",
        "\n",
        "\n"
      ],
      "execution_count": null,
      "outputs": [
        {
          "output_type": "stream",
          "text": [
            "130\n"
          ],
          "name": "stdout"
        }
      ]
    },
    {
      "cell_type": "markdown",
      "metadata": {
        "id": "gpUylfuTAOmk"
      },
      "source": [
        "75. Given a distance ‘dist, count total number of ways to cover the distance with 1, 2 and 3 steps.  "
      ]
    },
    {
      "cell_type": "code",
      "metadata": {
        "colab": {
          "base_uri": "https://localhost:8080/"
        },
        "id": "LAms0iaiAXf7",
        "outputId": "f9f59975-61f5-4ce4-915b-4e49335ce101"
      },
      "source": [
        "# A naive recursive Python3 program\n",
        "# to count number of ways to cover\n",
        "# a distance with 1, 2 and 3 steps\n",
        "\n",
        "# Returns count of ways to\n",
        "# cover 'dist'\n",
        "def printCountRec(dist):\n",
        "\t\n",
        "\t# Base cases\n",
        "\tif dist < 0:\n",
        "\t\treturn 0\n",
        "\t\t\n",
        "\tif dist == 0:\n",
        "\t\treturn 1\n",
        "\n",
        "\t# Recur for all previous 3 and\t\n",
        "# add the results\n",
        "\treturn (printCountRec(dist-1) +\n",
        "\t\t\tprintCountRec(dist-2) +\n",
        "\t\t\tprintCountRec(dist-3))\n",
        "\n",
        "# Driver code\n",
        "dist = 4\n",
        "print(printCountRec(dist))\n",
        "\n",
        " "
      ],
      "execution_count": null,
      "outputs": [
        {
          "output_type": "stream",
          "text": [
            "7\n"
          ],
          "name": "stdout"
        }
      ]
    },
    {
      "cell_type": "markdown",
      "metadata": {
        "id": "mOGmaU-5Akcd"
      },
      "source": [
        "76. Consider a game where a player can score 3 or 5 or 10 points in a move. Given a total score n, find number of ways to reach the given score. "
      ]
    },
    {
      "cell_type": "code",
      "metadata": {
        "colab": {
          "base_uri": "https://localhost:8080/"
        },
        "id": "-yrWyy-TAihB",
        "outputId": "0485c89f-ca37-485f-8b55-63abfed90a2c"
      },
      "source": [
        "# Python program to count number of possible ways to a given\n",
        "# score can be reached in a game where a move can earn 3 or\n",
        "# 5 or 10.\n",
        "\n",
        "# Returns number of ways to reach score n.\n",
        "def count(n):\n",
        "\n",
        "\t# table[i] will store count of solutions for value i.\n",
        "\t# Initialize all table values as 0.\n",
        "\ttable = [0 for i in range(n+1)]\n",
        "\n",
        "\t# Base case (If given value is 0)\n",
        "\ttable[0] = 1\n",
        "\n",
        "\t# One by one consider given 3 moves and update the\n",
        "\t# table[] values after the index greater than or equal\n",
        "\t# to the value of the picked move.\n",
        "\tfor i in range(3, n+1):\n",
        "\t\ttable[i] += table[i-3]\n",
        "\tfor i in range(5, n+1):\n",
        "\t\ttable[i] += table[i-5]\n",
        "\tfor i in range(10, n+1):\n",
        "\t\ttable[i] += table[i-10]\n",
        "\n",
        "\treturn table[n]\n",
        "\n",
        "# Driver Program\n",
        "n = 20\n",
        "print('Count for', n, 'is', count(n))\n",
        "\n",
        "n = 13\n",
        "print('Count for', n, 'is', count(n))\n",
        "\n",
        "\n",
        " "
      ],
      "execution_count": null,
      "outputs": [
        {
          "output_type": "stream",
          "text": [
            "Count for 20 is 4\n",
            "Count for 13 is 2\n"
          ],
          "name": "stdout"
        }
      ]
    },
    {
      "cell_type": "markdown",
      "metadata": {
        "id": "8fPP-mmoA0lU"
      },
      "source": [
        "77. Given N stations and three trains A, B, and C such that train A stops at every station, train B stops at every second station, and train C stops at every third station, the task is to find the number of ways to reach the Nth station can be reached from station 1. "
      ]
    },
    {
      "cell_type": "code",
      "metadata": {
        "colab": {
          "base_uri": "https://localhost:8080/"
        },
        "id": "gywsCbAKAwbC",
        "outputId": "a22792da-85d2-43c9-ce3c-e3546b27d7eb"
      },
      "source": [
        "# Python3 program for the above approach\n",
        "\n",
        "# Function to find the number of ways\n",
        "# to reach Nth station\n",
        "def numberOfWays(N):\n",
        "\t\n",
        "\t# Declares the DP[] array\n",
        "\tDP = [[0 for i in range(5)]\n",
        "\t\t\tfor i in range(N + 1)]\n",
        "\n",
        "\t# Initialize dp[][] array\n",
        "\t# memset(DP, 0, sizeof(DP))\n",
        "\t\n",
        "\t# Only 1 way to reach station 1\n",
        "\tDP[1][1] = 1\n",
        "\tDP[1][2] = 1\n",
        "\tDP[1][3] = 1\n",
        "\tDP[1][4] = 1\n",
        "\n",
        "\t# Find the remaining states from\n",
        "\t# the 2nd station\n",
        "\tfor i in range(2, N + 1):\n",
        "\t\t\n",
        "\t\t# If the train A is present\n",
        "\t\t# at station i - 1\n",
        "\t\tif (i - 1 > 0 and DP[i - 1][1] > 0):\n",
        "\t\t\tDP[i][1] = DP[i - 1][4]\n",
        "\n",
        "\t\t# If the train B is present\n",
        "\t\t# at station i-2\n",
        "\t\tif (i - 2 > 0 and DP[i - 2][2] > 0):\n",
        "\t\t\tDP[i][2] = DP[i - 2][4]\n",
        "\n",
        "\t\t# If train C is present at\n",
        "\t\t# station i-3\n",
        "\t\tif (i - 3 > 0 and DP[i - 3][3] > 0):\n",
        "\t\t\tDP[i][3] = DP[i - 3][4]\n",
        "\n",
        "\t\t# The total number of ways to\n",
        "\t\t# reach station i\n",
        "\t\tDP[i][4] = (DP[i][1] + DP[i][2] + DP[i][3])\n",
        "\n",
        "\t# Return the total count of ways\n",
        "\treturn DP[N][4]\n",
        "\n",
        "# Driver Code\n",
        "if __name__ == '__main__':\n",
        "\t\n",
        "\tN = 15\n",
        "\t\n",
        "\tprint(numberOfWays(N))\n"
      ],
      "execution_count": null,
      "outputs": [
        {
          "output_type": "stream",
          "text": [
            "338\n"
          ],
          "name": "stdout"
        }
      ]
    },
    {
      "cell_type": "markdown",
      "metadata": {
        "id": "kwNMCBH8A_gD"
      },
      "source": [
        "78. There are 12 intermediate stations between two places A and B. Find the number of ways in which a train can be made to stop at 4 of these intermediate stations so that no two stopping stations are consecutive? "
      ]
    },
    {
      "cell_type": "code",
      "metadata": {
        "colab": {
          "base_uri": "https://localhost:8080/"
        },
        "id": "KQQ34nJbA9VC",
        "outputId": "5e4d02f9-7d7b-4d5e-f69e-de8b639bf162"
      },
      "source": [
        "# Python code to calculate number\n",
        "# of ways of selecting 'p' non\n",
        "# consecutive stations out of\n",
        "# 'n' stations\n",
        "\n",
        "def stopping_station( p, n):\n",
        "\tnum = 1\n",
        "\tdem = 1\n",
        "\ts = p\n",
        "\n",
        "\t# selecting 's' positions\n",
        "\t# out of 'n-s+1'\n",
        "\twhile p != 1:\n",
        "\t\tdem *= p\n",
        "\t\tp-=1\n",
        "\t\n",
        "\tt = n - s + 1\n",
        "\twhile t != (n-2 * s + 1):\n",
        "\t\tnum *= t\n",
        "\t\tt-=1\n",
        "\tif (n - s + 1) >= s:\n",
        "\t\treturn int(num/dem)\n",
        "\telse:\n",
        "\t\t# if conditions does not\n",
        "\t\t# satisfy of combinatorics\n",
        "\t\treturn -1\n",
        "\n",
        "# driver code\n",
        "num = stopping_station(4, 12)\n",
        "if num != -1:\n",
        "\tprint(num)\n",
        "else:\n",
        "\tprint(\"Not Possible\")\n",
        "\n"
      ],
      "execution_count": null,
      "outputs": [
        {
          "output_type": "stream",
          "text": [
            "126\n"
          ],
          "name": "stdout"
        }
      ]
    },
    {
      "cell_type": "markdown",
      "metadata": {
        "id": "CyNbPk6ZBMFU"
      },
      "source": [
        "79. Given an integer N, representing the number of stations lying between the source and the destination. There are three trains available from every station and their stoppage patterns are as follows:\n",
        "\n",
        "Train 1: Stops at every station\n",
        "Train 2: Stops at every alternate station\n",
        "Train 3: Stops at every third station "
      ]
    },
    {
      "cell_type": "code",
      "metadata": {
        "colab": {
          "base_uri": "https://localhost:8080/"
        },
        "id": "DPtVboT8BJzw",
        "outputId": "69e197b4-67e3-42d3-bd08-6b7d08f0b608"
      },
      "source": [
        "# Python3 program of the above approach\n",
        "\n",
        "# Dp table for memoization\n",
        "dp = [-1 for i in range(100000)]\n",
        "\n",
        "# Function to count the number\n",
        "# of ways to N-th station\n",
        "def findWays(x):\n",
        "\t\n",
        "\t# Base Cases\n",
        "\tif (x < 0):\n",
        "\t\treturn 0\n",
        "\n",
        "\tif (x == 0):\n",
        "\t\treturn 1\n",
        "\n",
        "\tif (x == 1):\n",
        "\t\treturn 2\n",
        "\n",
        "\tif (x == 2):\n",
        "\t\treturn 4\n",
        "\n",
        "\t# If current state is\n",
        "\t# already evaluated\n",
        "\tif (dp[x] != -1):\n",
        "\t\treturn dp[x]\n",
        "\n",
        "\t# Recursive calls\n",
        "\n",
        "\t# Count ways in which\n",
        "\t# train 1 can be chosen\n",
        "\tcount = findWays(x - 1)\n",
        "\n",
        "\t# Count ways in which\n",
        "\t# train 2 can be chosen\n",
        "\tcount += findWays(x - 2)\n",
        "\n",
        "\t# Count ways in which\n",
        "\t# train 3 can be chosen\n",
        "\tcount += findWays(x - 3)\n",
        "\n",
        "\t# Store the current state\n",
        "\tdp[x] = count\n",
        "\n",
        "\t# Return the number of ways\n",
        "\treturn dp[x]\n",
        "\n",
        "# Driver Code\n",
        "if __name__ == '__main__':\n",
        "\t\n",
        "\t# Given Input\n",
        "\tn = 4\n",
        "\t\n",
        "\t# Function call to count\n",
        "\t# the number of ways to\n",
        "\t# reach the n-th station\n",
        "\tprint(findWays(n))\n",
        "\n",
        "# This code is contributed by SURENDRA_GANGWAR\n"
      ],
      "execution_count": null,
      "outputs": [
        {
          "output_type": "stream",
          "text": [
            "13\n"
          ],
          "name": "stdout"
        }
      ]
    },
    {
      "cell_type": "markdown",
      "metadata": {
        "id": "xrsD_fSSBdDT"
      },
      "source": [
        "80. Given the number of cities n numbered from 0 to n-1 and the cities in which stations are located, the task is to find the maximum distance between any city and its nearest station. Note that the cities with stations can be given in any order. "
      ]
    },
    {
      "cell_type": "code",
      "metadata": {
        "colab": {
          "base_uri": "https://localhost:8080/"
        },
        "id": "-PHV__lJBbwm",
        "outputId": "3f2e9d7e-1ad3-4f74-c3af-091fcd87411a"
      },
      "source": [
        "# Python3 code to calculate the maximum\n",
        "# distance between any city and its nearest station\n",
        "\n",
        "# Function to calculate the maximum\n",
        "# distance between any city and its nearest station\n",
        "def findMaxDistance(numOfCities, station):\n",
        "\t\n",
        "\t# Initialize boolean list\n",
        "\thasStation = [False] * numOfCities\n",
        "\t# Assign True to cities containing station\n",
        "\tfor city in station:\n",
        "\t\thasStation[city] = True\n",
        "\t\t\n",
        "\tdist, maxDist = 0, min(station)\n",
        "\n",
        "\tfor city in range(numOfCities):\n",
        "\t\tif hasStation[city] == True:\n",
        "\t\t\tmaxDist = max((dist + 1) // 2, maxDist)\n",
        "\t\t\tdist = 0\n",
        "\t\t\t\n",
        "\t\telse:\n",
        "\t\t\tdist += 1\n",
        "\t\t\t\n",
        "\treturn max(maxDist, dist)\n",
        "\t\n",
        "numOfCities = 6\n",
        "station = [3, 1]\n",
        "print(\"Max Distance:\", findMaxDistance(numOfCities, station))\n",
        " "
      ],
      "execution_count": null,
      "outputs": [
        {
          "output_type": "stream",
          "text": [
            "Max Distance: 2\n"
          ],
          "name": "stdout"
        }
      ]
    },
    {
      "cell_type": "markdown",
      "metadata": {
        "id": "JwFmSeC2BnhB"
      },
      "source": [
        "81. Given an array where each element denotes the number of chocolates corresponding to each station and to move from station i to station i+1, we get A[i] – A[i+1] chocolates for free, if this number is negative, we lose that many chocolates also. \n",
        "You can only move from station i to station i+1, if we have non-negative number of chocolates. \n",
        "Given the cost of one chocolate p, the task to find the minimum cost incurred in reaching last station from the first station (station 1).  "
      ]
    },
    {
      "cell_type": "code",
      "metadata": {
        "colab": {
          "base_uri": "https://localhost:8080/"
        },
        "id": "pCRxPOCwBlb8",
        "outputId": "6af07c5f-5a5d-4653-dce5-a2e951b3502c"
      },
      "source": [
        "# Python 3 program to calculate\n",
        "# minimum cost for candies\n",
        "\n",
        "# Function to find minimum cost\n",
        "# to be incurred\n",
        "def findMinCost(arr, n, choc_cost):\n",
        "\n",
        "\t# To reach first station,\n",
        "\t# initial chocolates required\n",
        "\tchoc_buy = arr[0]\n",
        "\tcurr_choc = 0\n",
        "\n",
        "\t# Start traversing\n",
        "\tfor i in range(0,n - 1):\n",
        "\t\n",
        "\t\t# Find no. of chocolates lose\n",
        "\t\t# or gain\n",
        "\t\tchoc = arr[i] - arr[i + 1]\n",
        "\t\n",
        "\t\t# Add into curr_coc\n",
        "\t\tcurr_choc += choc\n",
        "\t\n",
        "\t\t# if no. of chocolates becomes\n",
        "\t\t# negative that means we have\n",
        "\t\t# to buy that no. of chocolates\n",
        "\t\tif (curr_choc < 0):\n",
        "\t\t\tchoc_buy += abs(curr_choc)\n",
        "\t\t\tcurr_choc = 0\n",
        "\t\n",
        "\t# Return cost required\n",
        "\treturn choc_buy * choc_cost\n",
        "\n",
        "\n",
        "# Drivers code\n",
        "arr = [10, 6, 11, 4, 7, 1]\n",
        "n = len(arr)\n",
        "\n",
        "# Price of each candy\n",
        "p = 5\n",
        "\n",
        "print(findMinCost(arr, n, p))\n",
        "\n",
        "\n",
        " "
      ],
      "execution_count": null,
      "outputs": [
        {
          "output_type": "stream",
          "text": [
            "55\n"
          ],
          "name": "stdout"
        }
      ]
    },
    {
      "cell_type": "markdown",
      "metadata": {
        "id": "ehTfy7PUBz-7"
      },
      "source": [
        "81. Given an array arr[], the task is to find the minimum cost to remove all elements from the array where the cost of removing an element is 2^j * arr[i]. Here, j is the number of elements that have already been removed. "
      ]
    },
    {
      "cell_type": "code",
      "metadata": {
        "colab": {
          "base_uri": "https://localhost:8080/"
        },
        "id": "R80fo0HoBxTJ",
        "outputId": "958ee48e-6489-418b-c4ea-8caf34ba6f60"
      },
      "source": [
        "# Python3 implementation to find the\n",
        "# minimum cost of removing all\n",
        "# elements from the array\n",
        "\n",
        "# Function to find the minimum\n",
        "# cost of removing elements from\n",
        "# the array\n",
        "def removeElements(arr, n):\n",
        "\n",
        "\t# Sorting in Increasing order\n",
        "\tarr.sort(reverse = True)\n",
        "\tans = 0\n",
        "\n",
        "\t# Loop to find the minimum\n",
        "\t# cost of removing elements\n",
        "\tfor i in range(n):\n",
        "\t\tans += arr[i] * pow(2, i)\n",
        "\n",
        "\treturn ans\n",
        "\n",
        "# Driver Code\n",
        "if __name__ == \"__main__\":\n",
        "\t\n",
        "\tn = 4\n",
        "\tarr = [ 3, 1, 2, 3 ]\n",
        "\n",
        "\t# Function call\n",
        "\tprint(removeElements(arr, n))\n",
        "\t\n",
        "# This code is contributed by chitranayal\n"
      ],
      "execution_count": null,
      "outputs": [
        {
          "output_type": "stream",
          "text": [
            "25\n"
          ],
          "name": "stdout"
        }
      ]
    },
    {
      "cell_type": "markdown",
      "metadata": {
        "id": "lnfovCzeLt9E"
      },
      "source": [
        "82. Given two rectangles, X with a ratio of length to width a:b and Y with a ratio of length to width c:d respectively. Both the rectangles can be resized as long as the ratio of sides remains the same. The task is to place the second rectangle inside the first rectangle such that at least 1 side is equal and that side overlaps of both the rectangles and find the ratio of (space occupied by a 2nd rectangle) : (space occupied by the first rectangle).\n",
        "Examples: \n",
        " \n",
        "\n",
        "Input: a = 1, b = 1, c = 3, d = 2\n",
        "Output: 2:3\n",
        "The dimensions can be 3X3 and 3X2."
      ]
    },
    {
      "cell_type": "code",
      "metadata": {
        "id": "o8_h17qTC19N",
        "colab": {
          "base_uri": "https://localhost:8080/"
        },
        "outputId": "f68604d5-05f7-48ec-a7d2-5fd0ec95f663"
      },
      "source": [
        "import math\n",
        "# Python3 implementation of above approach\n",
        " \n",
        "# Function to find the ratio\n",
        "def printRatio(a, b, c, d):\n",
        "    if (b * c > a * d):\n",
        "        swap(c, d)\n",
        "        swap(a, b)\n",
        "     \n",
        "    # LCM of numerators\n",
        "    lcm = (a * c) / math.gcd(a, c)\n",
        " \n",
        "    x = lcm / a\n",
        "    b = int(b * x)\n",
        " \n",
        "    y = lcm / c\n",
        "    d = int(d * y)\n",
        " \n",
        "    # Answer in reduced form\n",
        "    k = math.gcd(b,d)\n",
        "    b =int(b / k)\n",
        "    d = int(d / k)\n",
        " \n",
        "    print(b,\":\",d)\n",
        " \n",
        "# Driver code\n",
        "if __name__ == '__main__':\n",
        "    a = 4\n",
        "    b = 3\n",
        "    c = 2\n",
        "    d = 2\n",
        " \n",
        "    printRatio(a, b, c, d)\n",
        " "
      ],
      "execution_count": null,
      "outputs": [
        {
          "output_type": "stream",
          "text": [
            "3 : 4\n"
          ],
          "name": "stdout"
        }
      ]
    },
    {
      "cell_type": "markdown",
      "metadata": {
        "id": "2c96VH01L7ZV"
      },
      "source": [
        "83. Given two integers A and B representing the lengths of semi-major and semi-minor axes of an ellipse, the task is to calculate the ratio of any triangle inscribed in the ellipse and that of the triangle formed by the corresponding points on its auxiliary circle.\n",
        "\n",
        "Examples:\n",
        "\n",
        "Input: A = 1, B = 2\n",
        "Output: 2\n",
        "Explanation: Ratio = B / A = 2 / 1 = 2 "
      ]
    },
    {
      "cell_type": "code",
      "metadata": {
        "colab": {
          "base_uri": "https://localhost:8080/"
        },
        "id": "frkdHof8L5Fo",
        "outputId": "57c07809-1db1-4546-bd26-7858dc7d211d"
      },
      "source": [
        "# Python3 program for the above approach\n",
        "\n",
        "# Function to calculate ratio of a\n",
        "# triangle inscribed in an ellipse to\n",
        "# the triangle on the auxiliary circle\n",
        "def triangleArea(a, b):\n",
        "\n",
        "\t# Stores the ratio of the\n",
        "\t# semi-major to semi-minor axes\n",
        "\tratio = b / a\n",
        "\n",
        "\t# Print the ratio\n",
        "\tprint(ratio)\n",
        "\n",
        "# Driver Code\n",
        "if __name__ == \"__main__\" :\n",
        "\n",
        "\ta = 1\n",
        "\tb = 2\n",
        "\t\n",
        "\ttriangleArea(a, b)\n",
        "\n"
      ],
      "execution_count": null,
      "outputs": [
        {
          "output_type": "stream",
          "text": [
            "2.0\n"
          ],
          "name": "stdout"
        }
      ]
    },
    {
      "cell_type": "markdown",
      "metadata": {
        "id": "rQwxrdKTMM9Y"
      },
      "source": [
        "84. Given a regular hexagon with side A, which inscribes a circle of radius r, which in turn inscribes a square of side a.The task is to find the area of this square. "
      ]
    },
    {
      "cell_type": "code",
      "metadata": {
        "colab": {
          "base_uri": "https://localhost:8080/"
        },
        "id": "NLuInW5cMF0P",
        "outputId": "88b34695-6cc1-4c3c-feb3-0d6c36b746ab"
      },
      "source": [
        "# Python 3 Program to find the area\n",
        "# of the square inscribed within the\n",
        "# circle which in turn is inscribed\n",
        "# in a hexagon\n",
        "from math import pow, sqrt\n",
        "\n",
        "# Function to find the area\n",
        "# of the square\n",
        "def area(a):\n",
        "\t\n",
        "\t# side of hexagon cannot\n",
        "\t# be negative\n",
        "\tif (a < 0):\n",
        "\t\treturn -1\n",
        "\n",
        "\t# area of the square\n",
        "\tarea = pow((a * sqrt(3)) /\n",
        "\t\t\t\t(sqrt(2)), 2)\n",
        "\treturn area\n",
        "\n",
        "# Driver code\n",
        "if __name__ == '__main__':\n",
        "\ta = 5\n",
        "\tprint(\"{0:.3}\".format(area(a)))\n",
        "\n",
        "# This code is contributed\n",
        "# by SURENDRA_GANGWAR\n"
      ],
      "execution_count": null,
      "outputs": [
        {
          "output_type": "stream",
          "text": [
            "37.5\n"
          ],
          "name": "stdout"
        }
      ]
    },
    {
      "cell_type": "markdown",
      "metadata": {
        "id": "qLcOIu3fMgXp"
      },
      "source": [
        "85. Given the side of a square a which is kept inside a circle. It keeps expanding until all four of its vertices touch the circumference of the circle. Another smaller circle is kept inside the square now and it keeps expanding until its circumference touches all the four sides of the square. The outer and the inner circle form a ring. Find the area of this shaded part as shown in the image below. "
      ]
    },
    {
      "cell_type": "code",
      "metadata": {
        "colab": {
          "base_uri": "https://localhost:8080/"
        },
        "id": "iKL5miM2MigW",
        "outputId": "4309dea1-80ff-4f10-df16-9e18ca75dbd6"
      },
      "source": [
        "# Python3 implementation of the approach\n",
        "import math\n",
        " \n",
        "# Function to return the required area\n",
        "def getArea(a):\n",
        "     \n",
        "    # Calculate the area\n",
        "    area = (math.pi * a * a) / 4\n",
        "    return area\n",
        "     \n",
        "# Driver code\n",
        "a = 3\n",
        "print('{0:.6f}'.format(getArea(a)))"
      ],
      "execution_count": null,
      "outputs": [
        {
          "output_type": "stream",
          "text": [
            "7.068583\n"
          ],
          "name": "stdout"
        }
      ]
    },
    {
      "cell_type": "markdown",
      "metadata": {
        "id": "N5Ja_tP6MqpG"
      },
      "source": [
        "86. Given here is an ellipse with axes length 2a and 2b, which inscribes a rectangle of length l and breadth h, which in turn inscribes a triangle.The task is to find the area of this triangle.\n",
        "Examples: \n",
        " \n",
        "\n",
        "Input: a = 4, b = 3\n",
        "Output: 12"
      ]
    },
    {
      "cell_type": "code",
      "metadata": {
        "colab": {
          "base_uri": "https://localhost:8080/"
        },
        "id": "acarjt7lMjuA",
        "outputId": "ea87a1b9-4feb-4d2d-ed55-33867d852c55"
      },
      "source": [
        "# Python 3 Program to find the\n",
        "# area of the triangle inscribed\n",
        "# within the rectangle which in\n",
        "# turn is inscribed in an ellipse\n",
        "\n",
        "# Function to find the area\n",
        "# of the triangle\n",
        "def area(a, b):\n",
        "\t\n",
        "\t# length of a and b cannot\n",
        "\t# be negative\n",
        "\tif (a < 0 or b < 0):\n",
        "\t\treturn -1\n",
        "\n",
        "\t# area of the triangle\n",
        "\tA = a * b\n",
        "\treturn A\n",
        "\n",
        "# Driver code\n",
        "if __name__ == '__main__':\n",
        "\ta = 5\n",
        "\tb = 2\n",
        "\tprint(area(a, b))\n",
        "\t\n",
        "\n"
      ],
      "execution_count": null,
      "outputs": [
        {
          "output_type": "stream",
          "text": [
            "10\n"
          ],
          "name": "stdout"
        }
      ]
    },
    {
      "cell_type": "markdown",
      "metadata": {
        "id": "9JUwz2pBM6ll"
      },
      "source": [
        "87. Given an ellipse, with major axis length 2a & 2b. The task is to find the area of the largest rectangle that can be inscribed in it.\n",
        "Examples: \n",
        " \n",
        "\n",
        "Input: a = 4, b = 3\n",
        "Output: 24"
      ]
    },
    {
      "cell_type": "code",
      "metadata": {
        "colab": {
          "base_uri": "https://localhost:8080/"
        },
        "id": "QjCTzR6hM0xj",
        "outputId": "43c1c733-3fe6-45f6-b16f-8c549ec01c39"
      },
      "source": [
        "# Python 3 Program to find the biggest rectangle\n",
        "# which can be inscribed within the ellipse\n",
        "\n",
        "# Function to find the area\n",
        "# of the rectangle\n",
        "def rectanglearea(a, b) :\n",
        "\n",
        "\t# a and b cannot be negative\n",
        "\tif a < 0 or b < 0 :\n",
        "\t\treturn -1\n",
        "\n",
        "\t# area of the rectangle\n",
        "\treturn 2 * a * b\n",
        "\n",
        "\n",
        "# Driver code\t\n",
        "if __name__ == \"__main__\" :\n",
        "\n",
        "\ta, b = 10, 8\n",
        "\tprint(rectanglearea(a, b))\n",
        "\n",
        "\n"
      ],
      "execution_count": null,
      "outputs": [
        {
          "output_type": "stream",
          "text": [
            "160\n"
          ],
          "name": "stdout"
        }
      ]
    },
    {
      "cell_type": "markdown",
      "metadata": {
        "id": "SHxdShn2NH-a"
      },
      "source": [
        "88. Given a set of points as and a line as ax+by+c = 0. We need to find a point on given line for which sum of distances from given set of points is minimum. "
      ]
    },
    {
      "cell_type": "code",
      "metadata": {
        "colab": {
          "base_uri": "https://localhost:8080/"
        },
        "id": "fha1JrxJND4x",
        "outputId": "c2d222d9-214c-4c27-a64b-da879df6129d"
      },
      "source": [
        "# A Python3 program to find optimum location\n",
        "# and total cost\n",
        "import math\n",
        "\n",
        "class Optimum_distance:\n",
        "\t\n",
        "\t# Class defining a point\n",
        "\tclass Point:\n",
        "\t\t\n",
        "\t\tdef __init__(self, x, y):\n",
        "\t\t\t\n",
        "\t\t\tself.x = x\n",
        "\t\t\tself.y = y\n",
        "\t\t\n",
        "\t# Class defining a line of ax + by + c = 0 form\n",
        "\tclass Line:\n",
        "\t\t\n",
        "\t\tdef __init__(self, a, b, c):\n",
        "\t\t\t\n",
        "\t\t\tself.a = a\n",
        "\t\t\tself.b = b\n",
        "\t\t\tself.c = c\n",
        "\t\t\n",
        "\t# Method to get distance of point\n",
        "\t# (x, y) from point p\n",
        "\tdef dist(self, x, y, p):\n",
        "\t\t\n",
        "\t\treturn math.sqrt((x - p.x) ** 2 +\n",
        "\t\t\t\t\t\t(y - p.y) ** 2)\n",
        "\t\n",
        "\t# Utility method to compute total distance\n",
        "\t# all points when choose point on given\n",
        "\t# line has x-coordinate value as X\n",
        "\tdef compute(self, p, n, l, x):\n",
        "\t\t\n",
        "\t\tres = 0\n",
        "\t\t\n",
        "\t\ty = -1 * (l.a*x + l.c) / l.b\n",
        "\t\t\n",
        "\t\t# Calculating Y of choosen point\n",
        "\t\t# by line equation\n",
        "\t\tfor i in range(n):\n",
        "\t\t\tres += self.dist(x, y, p[i])\n",
        "\t\t\t\n",
        "\t\treturn res\n",
        "\t\n",
        "\t# Utility method to find minimum total distance\n",
        "\tdef find_Optimum_cost_untill(self, p, n, l):\n",
        "\t\t\n",
        "\t\tlow = -1e6\n",
        "\t\thigh = 1e6\n",
        "\t\t\n",
        "\t\teps = 1e-6 + 1\n",
        "\t\t\n",
        "\t\t\n",
        "\t\t# Loop untill difference between low\n",
        "\t\t# and high become less than EPS\n",
        "\t\twhile((high - low) > eps):\n",
        "\t\t\n",
        "\t\t\t# mid1 and mid2 are representative x\n",
        "\t\t\t# co-ordiantes of search space\n",
        "\t\t\tmid1 = low + (high - low) / 3\n",
        "\t\t\tmid2 = high - (high - low) / 3\n",
        "\t\t\t\n",
        "\t\t\tdist1 = self.compute(p, n, l, mid1)\n",
        "\t\t\tdist2 = self.compute(p, n, l, mid2)\n",
        "\t\t\t\n",
        "\t\t\t# If mid2 point gives more total\n",
        "\t\t\t# distance, skip third part\n",
        "\t\t\tif (dist1 < dist2):\n",
        "\t\t\t\thigh = mid2\n",
        "\t\t\t\t\n",
        "\t\t\t# If mid1 point gives more total\n",
        "\t\t\t# distance, skip first part\n",
        "\t\t\telse:\n",
        "\t\t\t\tlow = mid1\n",
        "\t\t\t\t\n",
        "\t\t# Compute optimum distance cost by\n",
        "\t\t# sending average of low and high as X\n",
        "\t\treturn self.compute(p, n, l, (low + high) / 2)\n",
        "\t\n",
        "\t# Method to find optimum cost\n",
        "\tdef find_Optimum_cost(self, p, l):\n",
        "\t\t\n",
        "\t\tn = len(p)\n",
        "\t\tp_arr = [None] * n\n",
        "\t\t\n",
        "\t\t# Converting 2D array input to point array\n",
        "\t\tfor i in range(n):\n",
        "\t\t\tp_obj = self.Point(p[i][0], p[i][1])\n",
        "\t\t\tp_arr[i] = p_obj\n",
        "\t\t\t\n",
        "\t\treturn self.find_Optimum_cost_untill(p_arr, n, l)\n",
        "\t\n",
        "# Driver Code\n",
        "if __name__ == \"__main__\":\n",
        "\t\n",
        "\tobj = Optimum_distance()\n",
        "\tl = obj.Line(1, -1, -3)\n",
        "\t\n",
        "\tp = [ [ -3, -2 ], [ -1, 0 ],\n",
        "\t\t[ -1, 2 ], [ 1, 2 ],\n",
        "\t\t[ 3, 4 ] ]\n",
        "\t\n",
        "\tprint(obj.find_Optimum_cost(p, l))\n",
        "\t\n",
        "\n"
      ],
      "execution_count": null,
      "outputs": [
        {
          "output_type": "stream",
          "text": [
            "20.787127583509818\n"
          ],
          "name": "stdout"
        }
      ]
    },
    {
      "cell_type": "markdown",
      "metadata": {
        "id": "pW5CnOYINQow"
      },
      "source": [
        "89. Given a circle with a given radius has its centre at a particular position in the coordinate plane. In the coordinate plane, another point is given. The task is to find the shortest distance between the point and the circle."
      ]
    },
    {
      "cell_type": "code",
      "metadata": {
        "colab": {
          "base_uri": "https://localhost:8080/"
        },
        "id": "fOO_XlIKNOrA",
        "outputId": "3df8846e-5db3-40de-fa46-613f6797929c"
      },
      "source": [
        "# Python program to find\n",
        "# the Shortest distance\n",
        "# between a point and\n",
        "# a circle\n",
        "\n",
        "# Function to find the shortest distance\n",
        "def dist(x1, y1, x2, y2, r):\n",
        "\tprint(\"The shortest distance between a point and a circle is \"\n",
        "\t,((((x2 - x1)** 2) + ((y2 - y1)** 2))**(1/2)) - r);\n",
        "\n",
        "\n",
        "# Driver code\n",
        "x1 = 4;\n",
        "y1 = 6;\n",
        "x2 = 35;\n",
        "y2 = 42;\n",
        "r = 5;\n",
        "dist(x1, y1, x2, y2, r);\n",
        "\n",
        "\n"
      ],
      "execution_count": null,
      "outputs": [
        {
          "output_type": "stream",
          "text": [
            "The shortest distance between a point and a circle is  42.50789408087881\n"
          ],
          "name": "stdout"
        }
      ]
    },
    {
      "cell_type": "markdown",
      "metadata": {
        "id": "OvFcxh5sNd7V"
      },
      "source": [
        "90. Given two circles, of given radii, that touch each other externally. The task is to find the length of the direct common tangent between the circles.\n",
        "Examples: \n",
        " \n",
        "\n",
        "Input: r1 = 5, r2 = 9\n",
        "Output: 13.4164\n",
        "\n",
        "Input: r1 = 11, r2 = 13\n",
        "Output: 23.9165"
      ]
    },
    {
      "cell_type": "code",
      "metadata": {
        "colab": {
          "base_uri": "https://localhost:8080/"
        },
        "id": "7QeeGiKINb8O",
        "outputId": "32f3ed10-d30b-45f4-e733-5cc266bbbfda"
      },
      "source": [
        "# Python3 program to find the length\n",
        "# of the direct common tangent\n",
        "# between two circles which\n",
        "# externally touch each other\n",
        "\n",
        "# Function to find the length\n",
        "# of the direct common tangent\n",
        "def lengtang(r1, r2):\n",
        "\tprint(\"The length of the direct\",\n",
        "\t\t\t\t\"common tangent is\",\n",
        "\t\t\t2 * (r1 * r2)**(1 / 2));\n",
        "\n",
        "# Driver code\n",
        "r1 = 5; r2 = 9;\n",
        "lengtang(r1, r2);"
      ],
      "execution_count": null,
      "outputs": [
        {
          "output_type": "stream",
          "text": [
            "The length of the direct common tangent is 13.416407864998739\n"
          ],
          "name": "stdout"
        }
      ]
    },
    {
      "cell_type": "markdown",
      "metadata": {
        "id": "OKpvCKlbOi78"
      },
      "source": [
        "91.  Given r is the radius of three equal circles touching each other. The task is to find the length of the rope tied around the circles  "
      ]
    },
    {
      "cell_type": "code",
      "metadata": {
        "colab": {
          "base_uri": "https://localhost:8080/"
        },
        "id": "N3MKaL-XNnbk",
        "outputId": "a0828ae3-82b8-40f6-c48d-0b45bd9d4e31"
      },
      "source": [
        "# Python3 code to find the length\n",
        "# of rope\n",
        "PI = 3.14159265\n",
        "\t\n",
        "# Function to find the length\n",
        "# of rope\n",
        "def length_rope( r ):\n",
        "\treturn ( ( 2 * PI * r ) + 6 * r )\n",
        "\t\n",
        "# Driver code\n",
        "r = 7\n",
        "print( length_rope( r ))\n"
      ],
      "execution_count": null,
      "outputs": [
        {
          "output_type": "stream",
          "text": [
            "85.98229710000001\n"
          ],
          "name": "stdout"
        }
      ]
    },
    {
      "cell_type": "markdown",
      "metadata": {
        "id": "FQmCu-RvOrIC"
      },
      "source": [
        "92. Given a binary matrix arr[][] of dimensions N * M , the task is to count the number of right-angled triangles that can be formed by joining the cells containing the value 1 such that the triangles must have any two of its sides parallel to the sides of the rectangle."
      ]
    },
    {
      "cell_type": "code",
      "metadata": {
        "colab": {
          "base_uri": "https://localhost:8080/"
        },
        "id": "r-dxZAETOpYP",
        "outputId": "66e4711e-7c9e-4c42-baee-8c9169ea27a9"
      },
      "source": [
        "# Python3 program for the above approach\n",
        "\n",
        "# Function to count the right-angled\n",
        "# triangle in the given grid a[][]\n",
        "def numberOfTriangle(a):\n",
        "\t\n",
        "\tN = len(a)\n",
        "\tM = len(a[0])\n",
        "\n",
        "\t# Stores the count of 1s for\n",
        "\t# each row[] and column[]\n",
        "\trows = [0] * N\n",
        "\tcolumns = [0] * M\n",
        "\n",
        "\t# Find the number of 1s in\n",
        "\t# each of the rows[0, N - 1]\n",
        "\tfor i in range(N):\n",
        "\t\tfor j in range(M):\n",
        "\n",
        "\t\t\t# Increment row[i]\n",
        "\t\t\tif (a[i][j] == 1):\n",
        "\t\t\t\trows[i] += 1\n",
        "\n",
        "\t# Find the number of 1s in\n",
        "\t# each of the columns[0, N - 1]\n",
        "\tfor i in range(M):\n",
        "\t\tfor j in range(N):\n",
        "\n",
        "\t\t\t# Increment columns[i]\n",
        "\t\t\tif (a[j][i] == 1):\n",
        "\t\t\t\tcolumns[i] += 1\n",
        "\n",
        "\t# Stores the count of triangles\n",
        "\tanswer = 0\n",
        "\n",
        "\tfor i in range(N):\n",
        "\t\tfor j in range(M):\n",
        "\n",
        "\t\t\t# If current cell has value 1\n",
        "\t\t\tif (a[i][j] == 1):\n",
        "\n",
        "\t\t\t\t# Update the answer\n",
        "\t\t\t\tanswer += ((rows[i] - 1) *\n",
        "\t\t\t\t\t(columns[j] - 1))\n",
        "\n",
        "\t# Return the count\n",
        "\treturn answer\n",
        "\n",
        "# Driver Code\n",
        "if __name__ == '__main__':\n",
        "\t\n",
        "\t# Given grid arr\n",
        "\tarr = [ [ 1, 0, 1, 0 ],\n",
        "\t\t\t[ 0, 1, 1, 1 ],\n",
        "\t\t\t[ 1, 0, 1, 0 ],\n",
        "\t\t\t[ 0, 1, 0, 1 ] ]\n",
        "\n",
        "\t# Function call\n",
        "\tprint(numberOfTriangle(arr))\n",
        "\n",
        "# This code is contributed by mohit kumar 29\n"
      ],
      "execution_count": null,
      "outputs": [
        {
          "output_type": "stream",
          "text": [
            "16\n"
          ],
          "name": "stdout"
        }
      ]
    },
    {
      "cell_type": "markdown",
      "metadata": {
        "id": "EFqZgA20PC4I"
      },
      "source": [
        "93. Given an integer N, the task is to find the total number of right angled triangles that can be formed such that the length of any side of the triangle is at most N.\n",
        "\n",
        "A right-angled triangle satisfies the following condition: X2 + Y2 = Z2 where Z represents the length of the hypotenuse, and X and Y represent the lengths of the remaining two sides.  "
      ]
    },
    {
      "cell_type": "code",
      "metadata": {
        "colab": {
          "base_uri": "https://localhost:8080/"
        },
        "id": "Lwh5slprO7OP",
        "outputId": "ccb46944-6d96-49b8-812e-a231291a05cc"
      },
      "source": [
        "# Python implementation of\n",
        "# the above approach\n",
        "\n",
        "# Function to count total\n",
        "# number of right angled triangle\n",
        "def right_angled(n):\n",
        "\t\n",
        "\t# Initialise count with 0\n",
        "\tcount = 0\n",
        "\n",
        "\t# Run three nested loops and\n",
        "\t# check all combinations of sides\n",
        "\tfor z in range(1, n + 1):\n",
        "\t\tfor y in range(1, z + 1):\n",
        "\t\t\tfor x in range(1, y + 1):\n",
        "\n",
        "\t\t\t\t# Condition for right\n",
        "\t\t\t\t# angled triangle\n",
        "\t\t\t\tif ((x * x) + (y * y) == (z * z)):\n",
        "\n",
        "\t\t\t\t\t# Increment count\n",
        "\t\t\t\t\tcount += 1\n",
        "\t\t\t\t\n",
        "\treturn count\n",
        "\n",
        "# Driver Code\n",
        "\n",
        "# Given N\n",
        "n = 5\n",
        "\n",
        "# Function call\n",
        "print(right_angled(n))\n",
        "\n"
      ],
      "execution_count": null,
      "outputs": [
        {
          "output_type": "stream",
          "text": [
            "1\n"
          ],
          "name": "stdout"
        }
      ]
    },
    {
      "cell_type": "markdown",
      "metadata": {
        "id": "wRf2yb1_PMTr"
      },
      "source": [
        "94. Given an array of n positive distinct integers representing lengths of lines that can form a triangle. The task is to find the number of acute triangles, obtuse triangles, and right triangles separately that can be formed from the given array. "
      ]
    },
    {
      "cell_type": "code",
      "metadata": {
        "colab": {
          "base_uri": "https://localhost:8080/"
        },
        "id": "aD4UAYJpPIW5",
        "outputId": "5b8eb627-c905-453a-d590-3067349c8dc2"
      },
      "source": [
        "# Python3 program to count of acute, obtuse and right\n",
        "# triangles in an array\n",
        "\n",
        "# Find the number of acute, right, obtuse triangle\n",
        "# that can be formed from given array.\n",
        "def findTriangle(a, n) :\n",
        "\t\n",
        "\tb = []\n",
        "\t# Finding the square of each element of array\n",
        "\tfor i in range(n) :\n",
        "\t\tb.append(a[i] * a[i])\n",
        "\t\n",
        "\t# Sort the sides of array and their squares.\n",
        "\ta.sort()\n",
        "\tb.sort()\n",
        "\t\n",
        "\t# x for acute triangles\n",
        "\t# y for right triangles\n",
        "\t# z for obtuse triangles\n",
        "\tx, y, z = 0, 0, 0\n",
        "\t\n",
        "\tfor i in range(n) :\n",
        "\t\tp = i+1\n",
        "\t\tq = i+1\n",
        "\t\tfor j in range(i + 1, n) :\n",
        "\t\t\t# Finding the farthest point p where\n",
        "\t\t\t# a^2 + b^2 >= c^2.\n",
        "\t\t\twhile (p<n-1 and b[i]+b[j]>=b[p+1]) :\n",
        "\t\t\t\tp += 1\n",
        "\t\t\tq = max(q, p)\n",
        "\t\t\t# Finding the farthest point q where\n",
        "\t\t\t# a + b > c.\n",
        "\t\t\twhile (q<n-1 and a[i]+a[j]>a[q+1]) :\n",
        "\t\t\t\tq += 1\n",
        "\t\t\t\t\n",
        "\t\t\t# If point p make right triangle.\n",
        "\t\t\tif (b[i]+b[j]==b[p]) :\n",
        "\t\t\t\t# All triangle between j and p are acute\n",
        "\t\t\t\t# triangles. So add p - j - 1 in x.\n",
        "\t\t\t\tx += max(p - j - 1, 0)\n",
        "\t\t\t\t# Increment y by 1.\n",
        "\t\t\t\ty += 1\n",
        "\t\t\t\t# All triangle between q and p are acute\n",
        "\t\t\t\t# triangles. So add q - p in z.\n",
        "\t\t\t\tz += q - p\n",
        "\t\t\t# If no right triangle\n",
        "\t\t\telse :\n",
        "\t\t\t\t# All triangle between j and p are acute\n",
        "\t\t\t\t# triangles. So add p - j in x.\n",
        "\t\t\t\tx += max(p - j, 0)\n",
        "\t\t\t\t# All triangle between q and p are acute\n",
        "\t\t\t\t# triangles. So add q - p in z.\n",
        "\t\t\t\tz += q - p\n",
        "\t\n",
        "\tprint(\"Acute Triangle:\",x )\n",
        "\tprint(\"Right Triangle:\", y)\n",
        "\tprint(\"Obtuse Triangle:\", z)\n",
        "\n",
        "\n",
        "# Driver Code\n",
        "if __name__ == \"__main__\" :\n",
        "\n",
        "\tarr = [2, 3, 9, 10, 12, 15]\n",
        "\tn = len(arr)\n",
        "\tfindTriangle(arr, n)\n",
        "\n"
      ],
      "execution_count": null,
      "outputs": [
        {
          "output_type": "stream",
          "text": [
            "Acute Triangle: 2\n",
            "Right Triangle: 1\n",
            "Obtuse Triangle: 4\n"
          ],
          "name": "stdout"
        }
      ]
    },
    {
      "cell_type": "markdown",
      "metadata": {
        "id": "4SmJiy29PXqY"
      },
      "source": [
        "95. Given a triangle with known sides a, b and c; the task is to find the area of its circumcircle."
      ]
    },
    {
      "cell_type": "code",
      "metadata": {
        "colab": {
          "base_uri": "https://localhost:8080/"
        },
        "id": "FcNjSjyHPV8x",
        "outputId": "4d703784-902f-4015-fc47-37f561915f80"
      },
      "source": [
        "# Python3 Program to find the area\n",
        "# the circumcircle of the given triangle\n",
        "import math\n",
        "\n",
        "# Function to find the area\n",
        "# of the circumcircle\n",
        "def circlearea(a, b, c):\n",
        "\n",
        "\t# the sides cannot be negative\n",
        "\tif (a < 0 or b < 0 or c < 0):\n",
        "\t\treturn -1;\n",
        "\n",
        "\t# semi-perimeter of the circle\n",
        "\tp = (a + b + c) / 2;\n",
        "\n",
        "\t# area of triangle\n",
        "\tAt = math.sqrt(p * (p - a) *\n",
        "\t\t\t\t(p - b) * (p - c));\n",
        "\n",
        "\t# area of the circle\n",
        "\tA = 3.14 * pow(((a * b * c) / (4 * At)), 2);\n",
        "\treturn A;\n",
        "\n",
        "# Driver code\n",
        "\n",
        "# Get the sides of the triangle\n",
        "a = 4;\n",
        "b = 5;\n",
        "c = 3;\n",
        "\n",
        "# Find and print the area\n",
        "# of the circumcircle\n",
        "print (float(circlearea(a, b, c)));\n",
        "\n",
        "# This code is contributed\n",
        "# by Shivi_Aggarwal\n"
      ],
      "execution_count": null,
      "outputs": [
        {
          "output_type": "stream",
          "text": [
            "19.625\n"
          ],
          "name": "stdout"
        }
      ]
    },
    {
      "cell_type": "markdown",
      "metadata": {
        "id": "2qEXyYR2Psbf"
      },
      "source": [
        "96. Given two positive integers A and B representing the sides of the right kite, the task is to find the area of the circumcircle and incircle of a right kite.\n",
        "\n",
        "A right kite is a kite that can be inscribed in a circle with two opposite angles are at right angles. The line of symmetry of the kite is also the diameter of the circumcircle of the kite. It divides the kite into two congruent right-angled triangles having sides as A and B of a right kite."
      ]
    },
    {
      "cell_type": "code",
      "metadata": {
        "colab": {
          "base_uri": "https://localhost:8080/"
        },
        "id": "2lSli1QUPkfL",
        "outputId": "eb1b8682-6fdf-43ec-e97e-b016032d63da"
      },
      "source": [
        "# Python program for the above approach\n",
        "# Function to calculate the area of\n",
        "# circumcircle of right kite\n",
        "import math\n",
        "pi = 3.14\n",
        "\n",
        "def AreaOfCircumcircle(a, b):\n",
        "\n",
        "\t# Find the radius\n",
        "\tradius = math.sqrt(a * a + b * b)/ 2\n",
        "\treturn pi * radius * radius\n",
        "\n",
        "\n",
        "# Function to calculate the area of\n",
        "# incircle of right kite\n",
        "def AreaOfIncircle( a, b):\n",
        "\n",
        "\t# Find the radius\n",
        "\tradius = (a * b) // (a + b)\n",
        "\treturn pi * (radius**2)\n",
        "\n",
        "\n",
        "# Driver Code\n",
        "# Given Input\n",
        "a = 10\n",
        "b = 5\n",
        "\n",
        "# Function Call\n",
        "circumarea = AreaOfCircumcircle(a, b)\n",
        "print(\"Area of circumcircle of Right Kite is\" ,\" \" , format(circumarea,\".3f\"))\n",
        "\n",
        "# Function Call\n",
        "inarea = AreaOfIncircle(a, b)\n",
        "print(\"Area of incircle of Right Kite is\" ,\" \" , format(inarea,\".2f\"))\n",
        "\n",
        "# this code is contributed by shivanisinghss2110\n"
      ],
      "execution_count": null,
      "outputs": [
        {
          "output_type": "stream",
          "text": [
            "Area of circumcircle of Right Kite is   98.125\n",
            "Area of incircle of Right Kite is   28.26\n"
          ],
          "name": "stdout"
        }
      ]
    },
    {
      "cell_type": "markdown",
      "metadata": {
        "id": "FYeN7bJzP8ln"
      },
      "source": [
        "97. Given a circle which is the incircle of a triangle whose sides are a, b< and c, the task is to find the radius of this incircle. "
      ]
    },
    {
      "cell_type": "code",
      "metadata": {
        "colab": {
          "base_uri": "https://localhost:8080/"
        },
        "id": "KZ0AAnblP2o3",
        "outputId": "cf2c7dd3-0ccf-453d-bd15-e17a83614979"
      },
      "source": [
        "# Python Program to find the radius\n",
        "# of the incircle of the given triangle\n",
        "\n",
        "# from math lib. import everything\n",
        "from math import *\n",
        "\n",
        "# Function to find the radius\n",
        "# of the incircle\n",
        "def findRadiusOfIncircle(a, b, c) :\n",
        "\n",
        "\t# the sides cannot be negative\n",
        "\tif (a < 0 or b < 0 or c < 0) :\n",
        "\t\treturn -1\n",
        "\n",
        "\t# semi-perimeter of the circle\n",
        "\tp = (a + b + c) / 2\n",
        "\n",
        "\t# area of the triangle\n",
        "\tarea = sqrt(p * (p - a) *\n",
        "\t\t\t(p - b) * (p - c))\n",
        "\n",
        "\t# Radius of the incircle\n",
        "\tradius = area / p\n",
        "\n",
        "\t# Return the radius\n",
        "\treturn radius\n",
        "\n",
        "# Driver code\t\n",
        "if __name__ == \"__main__\" :\n",
        "\n",
        "\t# Get the sides of the triangle\n",
        "\ta, b, c = 2, 2, 3\n",
        "\n",
        "\t# Find the radius of the incircle\n",
        "\tprint(round(findRadiusOfIncircle(a, b, c), 6))\n",
        "\n"
      ],
      "execution_count": null,
      "outputs": [
        {
          "output_type": "stream",
          "text": [
            "0.566947\n"
          ],
          "name": "stdout"
        }
      ]
    },
    {
      "cell_type": "markdown",
      "metadata": {
        "id": "ApYEjPUHQQY4"
      },
      "source": [
        "98. Given the length of sides of an equilateral triangle, the task is to find the area and perimeter of Incircle of the given equilateral triangle."
      ]
    },
    {
      "cell_type": "code",
      "metadata": {
        "colab": {
          "base_uri": "https://localhost:8080/"
        },
        "id": "IgxJPqOYQNuE",
        "outputId": "5f5f93d0-a002-4a6e-f3ed-78f803c0ba03"
      },
      "source": [
        "# Python3 code to find the area of inscribed\n",
        "# circle of equilateral triangle\n",
        "import math\n",
        "PI = 3.14159265\n",
        "\t\n",
        "# Function to find the area of\n",
        "# inscribed circle\n",
        "def area_inscribed(a):\n",
        "\treturn (a * a * (PI / 12))\n",
        "\n",
        "# Function to find the perimeter of\n",
        "# inscribed circle\n",
        "def perm_inscribed(a):\n",
        "\treturn ( PI * (a / math.sqrt(3) ) )\t\n",
        "\n",
        "\n",
        "# Driver code\n",
        "a = 6.0\n",
        "print(\"Area of inscribed circle is :% f\"\n",
        "\t\t\t\t\t\t% area_inscribed(a))\n",
        "print(\"\\nPerimeter of inscribed circle is :% f\"\n",
        "\t\t\t\t\t\t% perm_inscribed(a))\n"
      ],
      "execution_count": null,
      "outputs": [
        {
          "output_type": "stream",
          "text": [
            "Area of inscribed circle is : 9.424778\n",
            "\n",
            "Perimeter of inscribed circle is : 10.882796\n"
          ],
          "name": "stdout"
        }
      ]
    },
    {
      "cell_type": "markdown",
      "metadata": {
        "id": "K1FvNlZXQiSK"
      },
      "source": [
        "99. Given a circle which is the incircle of a triangle whose sides are a, b< and c, the task is to find the radius of this incircle."
      ]
    },
    {
      "cell_type": "code",
      "metadata": {
        "colab": {
          "base_uri": "https://localhost:8080/"
        },
        "id": "G91Ngh1aQgFo",
        "outputId": "3a56ae4c-520a-45f1-9a50-62dd4091f0ee"
      },
      "source": [
        "# Python Program to find the radius\n",
        "# of the incircle of the given triangle\n",
        "\n",
        "# from math lib. import everything\n",
        "from math import *\n",
        "\n",
        "# Function to find the radius\n",
        "# of the incircle\n",
        "def findRadiusOfIncircle(a, b, c) :\n",
        "\n",
        "\t# the sides cannot be negative\n",
        "\tif (a < 0 or b < 0 or c < 0) :\n",
        "\t\treturn -1\n",
        "\n",
        "\t# semi-perimeter of the circle\n",
        "\tp = (a + b + c) / 2\n",
        "\n",
        "\t# area of the triangle\n",
        "\tarea = sqrt(p * (p - a) *\n",
        "\t\t\t(p - b) * (p - c))\n",
        "\n",
        "\t# Radius of the incircle\n",
        "\tradius = area / p\n",
        "\n",
        "\t# Return the radius\n",
        "\treturn radius\n",
        "\n",
        "# Driver code\t\n",
        "if __name__ == \"__main__\" :\n",
        "\n",
        "\t# Get the sides of the triangle\n",
        "\ta, b, c = 2, 2, 3\n",
        "\n",
        "\t# Find the radius of the incircle\n",
        "\tprint(round(findRadiusOfIncircle(a, b, c), 6))\n",
        "\n",
        "# This code is contributed by ANKITRAI1\n"
      ],
      "execution_count": null,
      "outputs": [
        {
          "output_type": "stream",
          "text": [
            "0.566947\n"
          ],
          "name": "stdout"
        }
      ]
    },
    {
      "cell_type": "markdown",
      "metadata": {
        "id": "BgjzSmdORDYS"
      },
      "source": [
        "100. Given an integer R which denotes the radius of a circle, the task is to find the area of an equilateral triangle inscribed in this circle.\n",
        "\n",
        "Examples: \n",
        "\n",
        "Input: R = 4 \n",
        "Output: 20.784 "
      ]
    },
    {
      "cell_type": "code",
      "metadata": {
        "colab": {
          "base_uri": "https://localhost:8080/"
        },
        "id": "CiTPRF7yRA1j",
        "outputId": "bf4233f3-53b7-4b19-acea-01410794b2d4"
      },
      "source": [
        "# Python 3 implementation to find\n",
        "# the area of the equilateral triangle\n",
        "# inscribed in a circle of radius R\n",
        "\n",
        "# Function to find the area of\n",
        "# equilateral triangle inscribed\n",
        "# in a circle of radius R\n",
        "def area(R):\n",
        "\t# Base and Height of\n",
        "\t# equilateral triangle\n",
        "\tbase = 1.732 * R\n",
        "\theight = ( 3 / 2 ) * R\n",
        "\t\n",
        "\t# Area using Base and Height\n",
        "\tarea = (( 1 / 2 ) * base * height )\n",
        "\treturn area\n",
        "\t\n",
        "# Driver Code\n",
        "if __name__=='__main__':\n",
        "\tR = 7\n",
        "\tprint(area(R))\n"
      ],
      "execution_count": null,
      "outputs": [
        {
          "output_type": "stream",
          "text": [
            "63.651\n"
          ],
          "name": "stdout"
        }
      ]
    },
    {
      "cell_type": "markdown",
      "metadata": {
        "id": "sIAdQ8H5b11w"
      },
      "source": [
        "101. Given a rod of length L, the task is to cut the rod in such a way that the total number of segments of length p, q and r is maximized. The segments can only be of length p, q, and r.  "
      ]
    },
    {
      "cell_type": "code",
      "metadata": {
        "id": "ZSAfWaIST_gL",
        "colab": {
          "base_uri": "https://localhost:8080/"
        },
        "outputId": "84757bf1-a767-4061-fb00-4fc5b68cd16c"
      },
      "source": [
        "# Python 3 program to\n",
        "# maximize the number\n",
        "# of segments of length\n",
        "# p, q and r\n",
        "\n",
        "# Function that returns\n",
        "# the maximum number\n",
        "# of segments possible\n",
        "\n",
        "\n",
        "def findMaximum(l, p, q, r):\n",
        "\n",
        "\t# Array to store the cut\n",
        "\t# at each length\n",
        "\t# All values with -1\n",
        "\tdp = [-1]*(l + 1)\n",
        "\n",
        "\t# if length of rod is 0 then\n",
        "\t# total cuts will be 0\n",
        "\t# so, initialize the dp[0] with 0\n",
        "\tdp[0] = 0\n",
        "\n",
        "\tfor i in range(l+1):\n",
        "\n",
        "\t\t# if certain length is not\n",
        "\t\t# possible\n",
        "\t\tif (dp[i] == -1):\n",
        "\t\t\tcontinue\n",
        "\n",
        "\t\t# if a segment of p is possible\n",
        "\t\tif (i + p <= l):\n",
        "\t\t\tdp[i + p] = (max(dp[i + p],\n",
        "\t\t\t\t\t\t\tdp[i] + 1))\n",
        "\n",
        "\t\t# if a segment of q is possible\n",
        "\t\tif (i + q <= l):\n",
        "\t\t\tdp[i + q] = (max(dp[i + q],\n",
        "\t\t\t\t\t\t\tdp[i] + 1))\n",
        "\n",
        "\t\t# if a segment of r is possible\n",
        "\t\tif (i + r <= l):\n",
        "\t\t\tdp[i + r] = (max(dp[i + r],\n",
        "\t\t\t\t\t\t\tdp[i] + 1))\n",
        "\n",
        "\t# if no segment can be cut then return 0\n",
        "\tif dp[l] == -1:\n",
        "\t\tdp[l] = 0\n",
        "\t# return value corresponding\n",
        "\t# to length l\n",
        "\treturn dp[l]\n",
        "\n",
        "\n",
        "# Driver Code\n",
        "if __name__ == \"__main__\":\n",
        "\tl = 11\n",
        "\tp = 2\n",
        "\tq = 3\n",
        "\tr = 5\n",
        "\n",
        "\t# Calling Function\n",
        "\tans = findMaximum(l, p, q, r)\n",
        "\tprint(ans)\n",
        "\n",
        "# This code is contributed by\n",
        "# ChitraNayal\n"
      ],
      "execution_count": null,
      "outputs": [
        {
          "output_type": "stream",
          "text": [
            "5\n"
          ],
          "name": "stdout"
        }
      ]
    },
    {
      "cell_type": "markdown",
      "metadata": {
        "id": "zG2oYdkVb64T"
      },
      "source": [
        "102. Given a number in the form of a string s, the task is to calculate and display minimum splits required such that the segments formed are Prime or print Not Possible otherwise."
      ]
    },
    {
      "cell_type": "code",
      "metadata": {
        "colab": {
          "base_uri": "https://localhost:8080/"
        },
        "id": "ToSrMdZbb42K",
        "outputId": "7e4ef4f1-4a32-46dc-ad76-379ecda0c81f"
      },
      "source": [
        "# Python3 Implementation of the above approach\n",
        "import numpy as np;\n",
        "import sys\n",
        "\n",
        "dp = np.zeros((1000,1000)) ;\n",
        "\n",
        "INT_MAX = sys.maxsize;\n",
        "\n",
        "# Checking for prime\n",
        "def isprime(num) :\n",
        "\n",
        "\tif (num <= 1) :\n",
        "\t\treturn False;\n",
        "\tfor i in range(2, int(num ** (1/2)) + 1) :\n",
        "\t\tif (num % i == 0) :\n",
        "\t\t\treturn False;\n",
        "\treturn True;\n",
        "\n",
        "# Conversion of string to int\n",
        "def convert(s, i, j) :\n",
        "\n",
        "\ttemp = 0;\n",
        "\tfor k in range(i, j + 1) :\n",
        "\t\ttemp = temp * 10 + (ord(s[k]) - ord('0'));\n",
        "\n",
        "\treturn temp;\n",
        "\n",
        "# Function to get the minimum splits\n",
        "def solve(s, i, j) :\n",
        "\n",
        "\t# Convert the segment to integer or long long\n",
        "\tnum = convert(s, i, j);\n",
        "\t# Number is prime\n",
        "\tif (isprime(num)) :\n",
        "\t\treturn 0;\n",
        "\n",
        "\t# If a single digit is prime\n",
        "\tif (i == j and isprime(num)) :\n",
        "\t\treturn 0;\n",
        "\n",
        "\t# If single digit is not prime\n",
        "\tif (i == j and isprime(num) == False) :\n",
        "\t\treturn INT_MAX;\n",
        "\n",
        "\tif (dp[i][j]) :\n",
        "\t\treturn dp[i][j];\n",
        "\n",
        "\tans = INT_MAX;\n",
        "\t\n",
        "\tfor k in range(i, j) :\n",
        "\t\t# Recur for left segment\n",
        "\t\tleft = solve(s, i, k);\n",
        "\t\tif (left == INT_MAX) :\n",
        "\t\t\tcontinue;\n",
        "\n",
        "\t\t# Recur for right segment\n",
        "\t\tright = solve(s, k + 1, j);\n",
        "\t\tif (right == INT_MAX) :\n",
        "\t\t\tcontinue;\n",
        "\t\n",
        "\t\t# Minimum from left and right segment\n",
        "\t\tans = min(ans, 1 + left + right);\n",
        "\t\n",
        "\tdp[i][j] = ans;\n",
        "\t\n",
        "\treturn ans;\n",
        "\n",
        "# Driver code\n",
        "if __name__ == \"__main__\" :\n",
        "\n",
        "\ts = \"2352\";\n",
        "\tn = len(s);\n",
        "\n",
        "\tcuts = solve(s, 0, n - 1);\n",
        "\tif (cuts != INT_MAX) :\n",
        "\t\tprint(cuts);\n",
        "\t\n",
        "\telse :\n",
        "\t\tprint(\"Not Possible\");\n",
        "\n",
        "# This code is converted by Yash_R\n",
        " "
      ],
      "execution_count": null,
      "outputs": [
        {
          "output_type": "stream",
          "text": [
            "2.0\n"
          ],
          "name": "stdout"
        }
      ]
    },
    {
      "cell_type": "markdown",
      "metadata": {
        "id": "crY4QdvCcH4-"
      },
      "source": [
        "103. Given binary string str, the task is to calculate the maximum possible splits possible to make each substring divisible by a given odd number K."
      ]
    },
    {
      "cell_type": "code",
      "metadata": {
        "colab": {
          "base_uri": "https://localhost:8080/"
        },
        "id": "wV366C8EcCky",
        "outputId": "a74b71ab-6f65-4de9-a9a6-783ebc900fc9"
      },
      "source": [
        "# Python3 program to split\n",
        "# a given binary string\n",
        "# into maximum possible\n",
        "# segments divisible by\n",
        "# given odd number K\n",
        "\n",
        "# Function to calculate\n",
        "# maximum splits possible\n",
        "def max_segments(st, K):\n",
        "\n",
        "\tn = len(st)\n",
        "\ts, sum, count = 0, 0, 0\n",
        "\t\n",
        "\tfor i in range(n - 1, -1, -1):\n",
        "\t\ta = ord(st[i]) - 48\n",
        "\t\tsum += a * pow(2, s)\n",
        "\t\ts += 1\n",
        "\t\t\n",
        "\t\tif (sum != 0 and sum % K == 0):\n",
        "\t\t\tcount += 1\n",
        "\t\t\tsum = 0\n",
        "\t\t\ts = 0\n",
        "\t\t\t\n",
        "\tif (sum != 0):\n",
        "\t\tprint(\"-1\")\n",
        "\telse:\n",
        "\t\tprint(count)\n",
        "\n",
        "# Driver code\n",
        "if __name__ == \"__main__\":\n",
        "\t\n",
        "\tst = \"10111001\"\n",
        "\tK = 5\n",
        "\tmax_segments(st, K)\n",
        "\n",
        "# This code is contributed by chitranayal\n"
      ],
      "execution_count": null,
      "outputs": [
        {
          "output_type": "stream",
          "text": [
            "2\n"
          ],
          "name": "stdout"
        }
      ]
    },
    {
      "cell_type": "markdown",
      "metadata": {
        "id": "pV9IRrNDcQxq"
      },
      "source": [
        "104. Given three integers N, P, and K, the task is to find the total number of ways to divide N into K integers having sum N where each integer is ≥ P."
      ]
    },
    {
      "cell_type": "code",
      "metadata": {
        "colab": {
          "base_uri": "https://localhost:8080/"
        },
        "id": "Hfjho4Z4cL6R",
        "outputId": "59225d33-bb9b-4527-c482-421daabebdc9"
      },
      "source": [
        "# Python3 program for the above approach\n",
        "\n",
        "# Function that finds the value of\n",
        "# the Binomial Coefficient C(n, k)\n",
        "def binomialCoeff(n, k):\n",
        "\n",
        "\tC = [[0 for x in range(k + 1)]\n",
        "\t\t\tfor y in range(n + 1)]\n",
        "\n",
        "\t# Stores the value of Binomial\n",
        "\t# Coefficient in bottom up manner\n",
        "\tfor i in range(n + 1):\n",
        "\t\tfor j in range(min(i, k) + 1):\n",
        "\n",
        "\t\t\t# Base Case\n",
        "\t\t\tif(j == 0 or j == i):\n",
        "\t\t\t\tC[i][j] = 1\n",
        "\t\t\t\t\n",
        "\t\t\t# Find the value using\n",
        "\t\t\t# previously stored values\n",
        "\t\t\telse:\n",
        "\t\t\t\tC[i][j] = (C[i - 1][j - 1] +\n",
        "\t\t\t\t\t\tC[i - 1][j])\n",
        "\n",
        "\t# Return the value of C(N, K)\n",
        "\treturn C[n][k]\n",
        "\n",
        "# Function that count the number of\n",
        "# ways to divide N into K integers\n",
        "# >= P such that their sum is N\n",
        "def waysToSplitN(k, n, P):\n",
        "\n",
        "\t# Update the value of N\n",
        "\tnew_N = n - k * P\n",
        "\n",
        "\t# Find the binomial coefficient\n",
        "\t# recursively\n",
        "\treturn binomialCoeff(new_N + k - 1,\n",
        "\t\t\t\t\t\tnew_N)\n",
        "\n",
        "# Driver Code\n",
        "\n",
        "# Given K, N, and P\n",
        "K = 3\n",
        "N = 8\n",
        "P = 2\n",
        "\n",
        "print(waysToSplitN(K, N, P))\n",
        "\n",
        "# This code is contributed by Shivam Singh\n",
        " "
      ],
      "execution_count": null,
      "outputs": [
        {
          "output_type": "stream",
          "text": [
            "6\n"
          ],
          "name": "stdout"
        }
      ]
    },
    {
      "cell_type": "markdown",
      "metadata": {
        "id": "SK3ayh0jcZes"
      },
      "source": [
        "105. Given an integer array arr of size N. The task is to find the maximum number of splits such that each split has sum divisible by 3. It is not necessary that all splits are divisible by 3, the task is to just maximize the number of splits which are divisible by 3. "
      ]
    },
    {
      "cell_type": "code",
      "metadata": {
        "colab": {
          "base_uri": "https://localhost:8080/"
        },
        "id": "dJN2W4__cUQa",
        "outputId": "f8e0a98c-aa6f-413a-d259-3792dd26196e"
      },
      "source": [
        "# Python3 program for above approach\n",
        "def calculate_maximum_splits(arr, N):\n",
        "\n",
        "\t# prefix array storing right most\n",
        "\t# index with prefix sums 0, 1, 2\n",
        "\tpre =[0, -1, -1]\t\t\n",
        "\n",
        "\t# dp array\n",
        "\tdp =[0 for i in range(N)]\n",
        "\t# current prefix sum\n",
        "\tC = 0\n",
        "\n",
        "\tfor i in range(N):\n",
        "\n",
        "\t\tC = C + arr[i]\n",
        "\n",
        "\t\t# Calculating the prefix sum modulo 3\n",
        "\t\tC = C % 3\n",
        "\n",
        "\t\t# We dont have a left pointer\n",
        "\t\t# with prefix sum C\n",
        "\t\tif pre[C]==-1:\n",
        "\n",
        "\t\t\tdp[i]= dp[i-1]\n",
        "\t\t\t# We cannot consider i as\n",
        "\t\t\t# a right pointer of any segment\n",
        "\t\telse:\n",
        "\t\t\t# We have a left pointer\n",
        "\t\t\t# pre[C] with prefix sum C\n",
        "\t\t\tdp[i]= max(dp[i-1], dp[pre[C]]+1)\n",
        "\n",
        "\t\t# i is the rightmost index of\n",
        "\t\t# prefix sum C\n",
        "\t\tpre[C]= i\n",
        "\n",
        "\treturn dp[N-1]\n",
        "# Driver code\n",
        "arr = [2, 36, 1, 9, 2, 0, 1, 8, 1]\n",
        "N = len(arr)\n",
        "print(calculate_maximum_splits(arr, N))\t\n",
        " "
      ],
      "execution_count": null,
      "outputs": [
        {
          "output_type": "stream",
          "text": [
            "4\n"
          ],
          "name": "stdout"
        }
      ]
    },
    {
      "cell_type": "markdown",
      "metadata": {
        "id": "s2iXV-Nyci2c"
      },
      "source": [
        "106. Given a binary string S, the task is to find the maximum number of parts that you can split it into such that every part is divisible by 2. If the string can’t be split satisfying the given conditions then print -1.\n",
        "Examples: \n",
        " \n",
        "\n",
        "Input: S = “100” \n",
        "Output: 2 \n",
        "The splits are as follows: \n",
        "“10” ans “0”.\n",
        "Input: S = “110” \n",
        "Output: 1 \n",
        " \n",
        "\n"
      ]
    },
    {
      "cell_type": "code",
      "metadata": {
        "colab": {
          "base_uri": "https://localhost:8080/"
        },
        "id": "BzThCSYVcc2d",
        "outputId": "5f08f300-4372-4172-a01e-359c12c03f9f"
      },
      "source": [
        "# Python3 implementation of the approach\n",
        "\n",
        "# Function to return the required count\n",
        "def cntSplits(s) :\n",
        "\n",
        "\t# If the splitting is not possible\n",
        "\tif (s[len(s) - 1] == '1') :\n",
        "\t\treturn -1;\n",
        "\n",
        "\t# To store the count of zeroes\n",
        "\tans = 0;\n",
        "\n",
        "\t# Counting the number of zeroes\n",
        "\tfor i in range(len(s)) :\n",
        "\t\tans += (s[i] == '0');\n",
        "\n",
        "\t# Return the final answer\n",
        "\treturn ans ;\n",
        "\n",
        "# Driver code\n",
        "if __name__ == \"__main__\" :\n",
        "\n",
        "\ts = \"10010\";\n",
        "\n",
        "\tprint(cntSplits(s));\n",
        "\t\n",
        "# This code is contributed by AnkitRai01\n"
      ],
      "execution_count": null,
      "outputs": [
        {
          "output_type": "stream",
          "text": [
            "3\n"
          ],
          "name": "stdout"
        }
      ]
    },
    {
      "cell_type": "markdown",
      "metadata": {
        "id": "Tsg8D_xdcywF"
      },
      "source": [
        "107. Given a binary number, the task is to remove exactly one bit from it such that, after it’s removal, the resultant binary number is greatest from all the options."
      ]
    },
    {
      "cell_type": "code",
      "metadata": {
        "colab": {
          "base_uri": "https://localhost:8080/"
        },
        "id": "VLJsBzxtcxWa",
        "outputId": "0f170189-ffda-4c16-e6e7-c40d6baccd59"
      },
      "source": [
        "# Python3 program to find next maximum\n",
        "# binary number with one bit removed\n",
        "\n",
        "# Function to find the maximum\n",
        "# binary number\n",
        "def printMaxAfterRemoval(s):\n",
        "\n",
        "\tflag = False\n",
        "\tn = len(s)\n",
        "\n",
        "\t# Traverse the binary number\n",
        "\tfor i in range(0, n):\n",
        "\n",
        "\t\t# Try finding a 0 and skip it\n",
        "\t\tif s[i] == '0' and flag == False:\n",
        "\t\t\tflag = True\n",
        "\t\t\tcontinue\n",
        "\t\t\n",
        "\t\telse:\n",
        "\t\t\tprint(s[i], end = \"\")\n",
        "\n",
        "# Driver code\n",
        "if __name__ == \"__main__\":\n",
        "\n",
        "\t# Get the binary number\n",
        "\ts = \"1001\"\n",
        "\n",
        "\t# Find the maximum binary number\n",
        "\tprintMaxAfterRemoval(s)\n",
        "\n",
        "# This code is contributed\n",
        "# by Rituraj Jain\n"
      ],
      "execution_count": null,
      "outputs": [
        {
          "output_type": "stream",
          "text": [
            "101"
          ],
          "name": "stdout"
        }
      ]
    },
    {
      "cell_type": "markdown",
      "metadata": {
        "id": "1zrr7Cooc8DY"
      },
      "source": [
        "108. Given two special characters, the first character can be represented by one bit which is 0 and the second character can be represented by two bits either 10 or 11. Now given a string represented by several bits. The task is to return the number of characters it represents. Note that the given string is always valid."
      ]
    },
    {
      "cell_type": "code",
      "metadata": {
        "colab": {
          "base_uri": "https://localhost:8080/"
        },
        "id": "OS8kJ5occ52f",
        "outputId": "bf1a223e-124a-4fac-db01-84c5aab82f78"
      },
      "source": [
        "# Python3 implementation of the approach\n",
        "\n",
        "# Function to return the count\n",
        "# of required characters\n",
        "def countChars(string, n) :\n",
        "\n",
        "\ti = 0; cnt = 0;\n",
        "\n",
        "\t# While there are characters left\n",
        "\twhile (i < n) :\n",
        "\n",
        "\t\t# Single bit character\n",
        "\t\tif (string[i] == '0'):\n",
        "\t\t\ti += 1;\n",
        "\n",
        "\t\t# Two-bit character\n",
        "\t\telse :\n",
        "\t\t\ti += 2;\n",
        "\n",
        "\t\t# Update the count\n",
        "\t\tcnt += 1;\n",
        "\n",
        "\treturn cnt;\n",
        "\n",
        "# Driver code\n",
        "if __name__ == \"__main__\" :\n",
        "\n",
        "\tstring = \"11010\";\n",
        "\tn = len(string);\n",
        "\n",
        "\tprint(countChars(string, n));\n",
        "\t\n",
        "# This code is contributed by AnkitRai01\n"
      ],
      "execution_count": null,
      "outputs": [
        {
          "output_type": "stream",
          "text": [
            "3\n"
          ],
          "name": "stdout"
        }
      ]
    },
    {
      "cell_type": "markdown",
      "metadata": {
        "id": "QcfDd1zJdEuP"
      },
      "source": [
        "108. Given two strings A and B of lengths N and M respectively, the task is to find the length of the longest common subsequence that can be two strings if any character from string A can be swapped with any other character from B any number of times. "
      ]
    },
    {
      "cell_type": "code",
      "metadata": {
        "colab": {
          "base_uri": "https://localhost:8080/"
        },
        "id": "NLKLGRbAdC41",
        "outputId": "414c6575-df81-48ff-df1a-5f994c74cf88"
      },
      "source": [
        "# Python3 program for the above approach\n",
        "\n",
        "# Function to find the length of LCS\n",
        "# possible by swapping any character\n",
        "# of a with that of another string\n",
        "def lcsBySwapping(A, B):\n",
        "\t\n",
        "\t# Store the size of the strings\n",
        "\tN = len(A)\n",
        "\tM = len(B)\n",
        "\n",
        "\t# Stores frequency of characters\n",
        "\tfreq = [0] * 26\n",
        "\n",
        "\t# Iterate over characters of the A\n",
        "\tfor i in range(len(A)):\n",
        "\t\t\n",
        "\t\t# Update frequency of character A[i]\n",
        "\t\tfreq[ord(A[i]) - ord('a')] += 1\n",
        "\n",
        "\t# Iterate over characters of the B\n",
        "\tfor i in range(len(B)):\n",
        "\t\t\n",
        "\t\t# Update frequency of character B[i]\n",
        "\t\tfreq[ord(B[i]) - ord('a')] += 1\n",
        "\n",
        "\t# Store the count of all pairs\n",
        "\t# of similar characters\n",
        "\tcnt = 0\n",
        "\n",
        "\t# Traverse the array freq[]\n",
        "\tfor i in range(26):\n",
        "\t\t\n",
        "\t\t# Update cnt\n",
        "\t\tcnt += freq[i] // 2\n",
        "\n",
        "\t# Print the minimum of cnt, N and M\n",
        "\tprint (min(cnt, min(N, M)))\n",
        "\n",
        "# Driver Code\n",
        "if __name__ == '__main__':\n",
        "\t\n",
        "\t# Given strings\n",
        "\tA = \"abdeff\"\n",
        "\tB = \"abbet\"\n",
        "\n",
        "\tlcsBySwapping(A, B)\n",
        "\n",
        "# This code is contributed by mohit kumar 29\n"
      ],
      "execution_count": null,
      "outputs": [
        {
          "output_type": "stream",
          "text": [
            "4\n"
          ],
          "name": "stdout"
        }
      ]
    },
    {
      "cell_type": "markdown",
      "metadata": {
        "id": "Q0ZUqkSLdQrc"
      },
      "source": [
        "109. Given two strings str1 and str2 of size N consisting of only three characters A, B, and C, the task is to check whether the string str1 can be changed to str2 using the below operations:\n",
        "\n",
        "Replacing one occurrence of “BC” with “CB” i.e swap adjacent ‘B’ and ‘C’.\n",
        "Replacing one occurrence of “CA” with “AC” i.e swap adjacent ‘C’ and ‘A’.\n",
        "Print “Yes” if we can transform the string else print “No”.\n",
        "Examples:\n",
        "\n",
        "Input: str1 = “BCCABCBCA”, str2 = “CBACCBBAC” \n",
        "Output: Yes "
      ]
    },
    {
      "cell_type": "code",
      "metadata": {
        "colab": {
          "base_uri": "https://localhost:8080/"
        },
        "id": "u9MJrvBJdNoW",
        "outputId": "98146dd0-d092-4aee-c607-099dbec40861"
      },
      "source": [
        "# Python3 program for the above approach\n",
        "\n",
        "# Function to check if it is possible\n",
        "# to transform start to end\n",
        "def canTransform(str1, str2):\n",
        "\t\n",
        "\ts1 = \"\"\n",
        "\ts2 = \"\"\n",
        "\n",
        "\t# Check the sequence of A, B in\n",
        "\t# both strings str1 and str2\n",
        "\tfor c in str1:\n",
        "\t\tif (c != 'C'):\n",
        "\t\t\ts1 += c\n",
        "\n",
        "\tfor c in str2:\n",
        "\t\tif (c != 'C'):\n",
        "\t\t\ts2 += c\n",
        "\n",
        "\t# If both the strings\n",
        "\t# are not equal\n",
        "\tif (s1 != s2):\n",
        "\t\treturn False\n",
        "\n",
        "\ti = 0\n",
        "\tj = 0\n",
        "\tn = len(str1)\n",
        "\n",
        "\t# Traverse the strings\n",
        "\twhile (i < n and j < n):\n",
        "\t\tif (str1[i] == 'C'):\n",
        "\t\t\ti += 1\n",
        "\n",
        "\t\telif (str2[j] == 'C'):\n",
        "\t\t\tj += 1\n",
        "\n",
        "\t\t# Check for indexes of A and B\n",
        "\t\telse:\n",
        "\t\t\tif ((str1[i] == 'A' and i < j) or\n",
        "\t\t\t\t(str1[i] == 'B' and i > j)):\n",
        "\t\t\t\treturn False\n",
        "\t\t\t\t\n",
        "\t\t\ti += 1\n",
        "\t\t\tj += 1\n",
        "\n",
        "\treturn True\n",
        "\n",
        "# Driver Code\n",
        "if __name__ == '__main__':\n",
        "\t\n",
        "\tstr1 = \"BCCABCBCA\"\n",
        "\tstr2 = \"CBACCBBAC\"\n",
        "\n",
        "\t# Function call\n",
        "\tif (canTransform(str1, str2)):\n",
        "\t\tprint(\"Yes\")\n",
        "\telse:\n",
        "\t\tprint(\"No\")\n",
        "\n",
        "# This code is contributed by mohit kumar 29\n"
      ],
      "execution_count": null,
      "outputs": [
        {
          "output_type": "stream",
          "text": [
            "Yes\n"
          ],
          "name": "stdout"
        }
      ]
    },
    {
      "cell_type": "markdown",
      "metadata": {
        "id": "e5024HuPdcff"
      },
      "source": [
        "110. Given two strings str and str1, the task is to check whether one string can be converted to other by using the following operation: \n",
        " \n",
        "\n",
        "Convert all the presence of a character by a different character.\n",
        "For example, if str = “abacd” and operation is to change character ‘a’ to ‘k’, then the resultant str = “kbkcd” "
      ]
    },
    {
      "cell_type": "code",
      "metadata": {
        "colab": {
          "base_uri": "https://localhost:8080/"
        },
        "id": "NR66iCnwdX_S",
        "outputId": "f4c5cfae-f91e-4a52-db5e-766aca69f33e"
      },
      "source": [
        "# Python3 implementation of the above approach.\n",
        "parent = [0] * 256\n",
        "\n",
        "# Function for find\n",
        "# from Disjoset algorithm\n",
        "def find(x):\n",
        "\tif (x != parent[x]):\n",
        "\t\tparent[x] = find(parent[x])\n",
        "\t\treturn parent[x]\n",
        "\treturn x\n",
        "\n",
        "# Function for the union\n",
        "# from Disjoset algorithm\n",
        "def join(x, y):\n",
        "\tpx = find(x)\n",
        "\tpz = find(y)\n",
        "\tif (px != pz):\n",
        "\t\tparent[pz] = px\n",
        "\n",
        "# Function to check if one string\n",
        "# can be converted to another.\n",
        "def convertible(s1, s2):\n",
        "\t\n",
        "\t# All the characters are checked whether\n",
        "\t# it's either not replaced or replaced\n",
        "\t# by a similar character using a map.\n",
        "\tmp = dict()\n",
        "\n",
        "\tfor i in range(len(s1)):\n",
        "\t\tif (s1[i] in mp):\n",
        "\t\t\tmp[s1[i]] = s2[i]\n",
        "\t\telse:\n",
        "\t\t\tif s1[i] in mp and mp[s1[i]] != s2[i]:\n",
        "\t\t\t\treturn False\n",
        "\t\n",
        "\t# To check if there are cycles.\n",
        "\t# If yes, then they are not convertible.\n",
        "\t# Else, they are convertible.\n",
        "\tfor it in mp:\n",
        "\t\tif (it == mp[it]):\n",
        "\t\t\tcontinue\n",
        "\t\telse :\n",
        "\t\t\tif (find(ord(it)) == find(ord(it))):\n",
        "\t\t\t\treturn False\n",
        "\t\t\telse:\n",
        "\t\t\t\tjoin(ord(it), ord(it))\n",
        "\n",
        "\treturn True\n",
        "\n",
        "# Function to initialize parent array\n",
        "# for union and find algorithm.\n",
        "def initialize():\n",
        "\tfor i in range(256):\n",
        "\t\tparent[i] = i\n",
        "\n",
        "# Driver code\n",
        "s1 = \"abbcaa\"\n",
        "s2 = \"bccdbb\"\n",
        "initialize()\n",
        "if (convertible(s1, s2)):\n",
        "\tprint(\"Yes\")\n",
        "else:\n",
        "\tprint(\"No\")\n",
        "\n",
        "# This code is contributed by mohit kumar 29\n"
      ],
      "execution_count": null,
      "outputs": [
        {
          "output_type": "stream",
          "text": [
            "Yes\n"
          ],
          "name": "stdout"
        }
      ]
    },
    {
      "cell_type": "markdown",
      "metadata": {
        "id": "idw_eBkUdne-"
      },
      "source": [
        "111. Given a string S of size N consisting of ‘(‘, ‘)’, and ‘$’, the task is to check whether the given string can be converted into a balanced bracket sequence by replacing every occurrence of $ with either ) or (.\n",
        "\n",
        "A balanced bracket sequence is a sequence where every opening bracket “(“ has a corresponding closing bracket “)”. "
      ]
    },
    {
      "cell_type": "code",
      "metadata": {
        "colab": {
          "base_uri": "https://localhost:8080/"
        },
        "id": "AlwPvOaLdg8-",
        "outputId": "104b5f14-c55c-4cb3-95d9-2bc1b8a0ff96"
      },
      "source": [
        "# Python3 program for the above approach\n",
        "\n",
        "# Function to check if the\n",
        "# can be balanced by replacing the\n",
        "# '$' with opening or closing brackets\n",
        "def canBeBalanced(sequence):\n",
        "\t\n",
        "\t# If string can never be balanced\n",
        "\tif (len(sequence) % 2):\n",
        "\t\treturn False\n",
        "\n",
        "\t# Declare 2 stacks to check if all\n",
        "\t# ) can be balanced with ( or $\n",
        "\t# and vice-versa\n",
        "\tstack_, stack2_ = [], []\n",
        "\n",
        "\t# Store the count the occurence\n",
        "\t# of (, ) and $\n",
        "\tcountOpen ,countClosed = 0, 0\n",
        "\tcountSymbol = 0\n",
        "\n",
        "\t# Traverse the string\n",
        "\tfor i in range(len(sequence)):\n",
        "\t\tif (sequence[i] == ')'):\n",
        "\n",
        "\t\t\t# Increment closed bracket\n",
        "\t\t\t# count by 1\n",
        "\t\t\tcountClosed += 1\n",
        "\n",
        "\t\t\t# If there are no opening\n",
        "\t\t\t# bracket to match it\n",
        "\t\t\t# then return False\n",
        "\t\t\tif (len(stack_) == 0):\n",
        "\t\t\t\treturn False\n",
        "\n",
        "\t\t\t# Otherwise, pop the character\n",
        "\t\t\t# from the stack\n",
        "\t\t\telse:\n",
        "\t\t\t\tdel stack_[-1]\n",
        "\t\telse:\n",
        "\n",
        "\t\t\t# If current character is\n",
        "\t\t\t# an opening bracket or $,\n",
        "\t\t\t# push it to the stack\n",
        "\t\t\tif (sequence[i] == '$'):\n",
        "\n",
        "\t\t\t\t# Increment symbol\n",
        "\t\t\t\t# count by 1\n",
        "\t\t\t\tcountSymbol += 1\n",
        "\t\t\telse:\n",
        "\n",
        "\t\t\t\t# Increment open\n",
        "\t\t\t\t# bracket count by 1\n",
        "\t\t\t\tcountOpen += 1\n",
        "\t\t\tstack_.append(sequence[i])\n",
        "\n",
        "\t# Traverse the string from end\n",
        "\t# and repeat the same process\n",
        "\tfor i in range(len(sequence)-1, -1, -1):\n",
        "\t\tif (sequence[i] == '('):\n",
        "\n",
        "\t\t\t# If there are no closing\n",
        "\t\t\t# brackets to match it\n",
        "\t\t\tif (len(stack2_) == 0):\n",
        "\t\t\t\treturn False\n",
        "\n",
        "\t\t\t# Otherwise, pop character\n",
        "\t\t\t# from stack\n",
        "\t\t\telse:\n",
        "\t\t\t\tdel stack2_[-1]\n",
        "\t\telse :\n",
        "\t\t\tstack2_.append(sequence[i])\n",
        "\n",
        "\t# Store the extra ( or ) which\n",
        "\t# are not balanced yet\n",
        "\textra = abs(countClosed - countOpen)\n",
        "\n",
        "\t# Check if $ is available to\n",
        "\t# balance the extra brackets\n",
        "\tif (countSymbol < extra):\n",
        "\t\treturn False\n",
        "\telse :\n",
        "\n",
        "\t\t# Count ramaining $ after\n",
        "\t\t# balancing extra ( and )\n",
        "\t\tcountSymbol -= extra\n",
        "\n",
        "\t\t# Check if each pair of $\n",
        "\t\t# is convertable in ()\n",
        "\t\tif (countSymbol % 2 == 0) :\n",
        "\t\t\treturn True\n",
        "\treturn False\n",
        "\n",
        "# Driver Code\n",
        "if __name__ == '__main__':\n",
        "\tS = \"()($\"\n",
        "\n",
        "\t# Function Call\n",
        "\tif (canBeBalanced(S)):\n",
        "\t\tprint(\"Yes\")\n",
        "\telse:\n",
        "\t\tprint(\"No\")\n",
        "\n",
        "# This code is contributed by mohit kumar 29\n",
        " "
      ],
      "execution_count": null,
      "outputs": [
        {
          "output_type": "stream",
          "text": [
            "Yes\n"
          ],
          "name": "stdout"
        }
      ]
    },
    {
      "cell_type": "markdown",
      "metadata": {
        "id": "0DpPiqAad0AE"
      },
      "source": [
        "112. Given an unbalanced bracket sequence as a string str, the task is to find whether the given string can be balanced by moving at most one bracket from its original place in the sequence to any other position."
      ]
    },
    {
      "cell_type": "code",
      "metadata": {
        "colab": {
          "base_uri": "https://localhost:8080/"
        },
        "id": "LqBOlxGNdrB0",
        "outputId": "947bb746-b815-4401-b7e7-1eddff7d1014"
      },
      "source": [
        "# Python3 implementation of the approach\n",
        "\n",
        "# Function that returns true if the sequence\n",
        "# can be balanced by changing the\n",
        "# position of at most one bracket\n",
        "def canBeBalanced(s, n):\n",
        "\n",
        "\t# Odd length string can\n",
        "\t# never be balanced\n",
        "\tif n % 2 == 1:\n",
        "\t\treturn False\n",
        "\n",
        "\t# Add '(' in the beginning and ')'\n",
        "\t# in the end of the string\n",
        "\tk = \"(\"\n",
        "\tk = k + s+\")\"\n",
        "\td = []\n",
        "\tcount = 0\n",
        "\tfor i in range(len(k)):\n",
        "\n",
        "\t\t# If its an opening bracket then\n",
        "\t\t# append it to the temp string\n",
        "\t\tif k[i] == \"(\":\n",
        "\t\t\td.append(\"(\")\n",
        "\n",
        "\t\t# If its a closing bracket\n",
        "\t\telse:\n",
        "\n",
        "\t\t\t# There was an opening bracket\n",
        "\t\t\t# to match it with\n",
        "\t\t\tif len(d)!= 0:\n",
        "\t\t\t\td.pop()\n",
        "\n",
        "\t\t\t# No opening bracket to\n",
        "\t\t\t# match it with\n",
        "\t\t\telse:\n",
        "\t\t\t\treturn False\n",
        "\t\n",
        "\t# Sequence is balanced\n",
        "\tif len(d) == 0:\n",
        "\t\treturn True\n",
        "\treturn False\n",
        "\n",
        "# Driver code\n",
        "S = \")(()\"\n",
        "n = len(S)\n",
        "if(canBeBalanced(S, n)):\n",
        "\tprint(\"Yes\")\n",
        "else:\n",
        "\tprint(\"No\")\n",
        " "
      ],
      "execution_count": null,
      "outputs": [
        {
          "output_type": "stream",
          "text": [
            "Yes\n"
          ],
          "name": "stdout"
        }
      ]
    },
    {
      "cell_type": "markdown",
      "metadata": {
        "id": "nLFZ4OiheCOB"
      },
      "source": [
        "113. Given a string with brackets. If the start index of the open bracket is given, find the index of the closing bracket.\n",
        "\n",
        "Examples:\n",
        "\n",
        "Input : string = [ABC[23]][89]\n",
        "        index = 0\n",
        "Output : 8\n",
        "The opening bracket at index 0 corresponds\n",
        "to closing bracket at index 8."
      ]
    },
    {
      "cell_type": "code",
      "metadata": {
        "colab": {
          "base_uri": "https://localhost:8080/"
        },
        "id": "HTEb1Qk8d9jY",
        "outputId": "4e6fe9eb-3b1f-4627-fbad-86de95b887b8"
      },
      "source": [
        "# Python program to find index of closing\n",
        "# bracket for a given opening bracket.\n",
        "from collections import deque\n",
        "\n",
        "def getIndex(s, i):\n",
        "\n",
        "\t# If input is invalid.\n",
        "\tif s[i] != '[':\n",
        "\t\treturn -1\n",
        "\n",
        "\t# Create a deque to use it as a stack.\n",
        "\td = deque()\n",
        "\n",
        "\t# Traverse through all elements\n",
        "\t# starting from i.\n",
        "\tfor k in range(i, len(s)):\n",
        "\n",
        "\t\t# Pop a starting bracket\n",
        "\t\t# for every closing bracket\n",
        "\t\tif s[k] == ']':\n",
        "\t\t\td.popleft()\n",
        "\n",
        "\t\t# Push all starting brackets\n",
        "\t\telif s[k] == '[':\n",
        "\t\t\td.append(s[i])\n",
        "\n",
        "\t\t# If deque becomes empty\n",
        "\t\tif not d:\n",
        "\t\t\treturn k\n",
        "\n",
        "\treturn -1\n",
        "\n",
        "# Driver code to test above method.\n",
        "def test(s, i):\n",
        "\tmatching_index = getIndex(s, i)\n",
        "\tprint(s + \", \" + str(i) + \": \" + str(matching_index))\n",
        "\n",
        "def main():\n",
        "\ttest(\"[ABC[23]][89]\", 0) # should be 8\n",
        "\ttest(\"[ABC[23]][89]\", 4) # should be 7\n",
        "\ttest(\"[ABC[23]][89]\", 9) # should be 12\n",
        "\ttest(\"[ABC[23]][89]\", 1) # No matching bracket\n",
        "\n",
        "if __name__ == \"__main__\":\n",
        "\tmain()\n",
        " "
      ],
      "execution_count": null,
      "outputs": [
        {
          "output_type": "stream",
          "text": [
            "[ABC[23]][89], 0: 8\n",
            "[ABC[23]][89], 4: 7\n",
            "[ABC[23]][89], 9: 12\n",
            "[ABC[23]][89], 1: -1\n"
          ],
          "name": "stdout"
        }
      ]
    },
    {
      "cell_type": "markdown",
      "metadata": {
        "id": "YvXprVV5eKpR"
      },
      "source": [
        "114. Given an expression with only ‘}’ and ‘{‘. The expression may not be balanced. The task is to find minimum number of bracket reversals to make the expression balanced."
      ]
    },
    {
      "cell_type": "code",
      "metadata": {
        "colab": {
          "base_uri": "https://localhost:8080/"
        },
        "id": "PRky4JKDeFo7",
        "outputId": "944920fd-015a-46e7-ccc3-5cfc4d007462"
      },
      "source": [
        "# Python3 program to find minimum number of\n",
        "# reversals required to balance an expression\n",
        "\n",
        "# Returns count of minimum reversals for\n",
        "# making expr balanced. Returns -1 if\n",
        "# expr cannot be balanced.\n",
        "def countMinReversals(expr):\n",
        "\n",
        "\tlength = len(expr)\n",
        "\n",
        "\t# length of expression must be even to\n",
        "\t# make it balanced by using reversals.\n",
        "\tif length % 2:\n",
        "\t\treturn -1\n",
        "\n",
        "\t# To store number of reversals required.\n",
        "\tans = 0\n",
        "\n",
        "\t# To store number of unbalanced\n",
        "\t# opening brackets.\n",
        "\topen = 0\n",
        "\n",
        "\t# To store number of unbalanced\n",
        "\t# closing brackets.\n",
        "\tclose = 0\n",
        "\n",
        "\tfor i in range(0, length):\n",
        "\n",
        "\t\t# If current bracket is open\n",
        "\t\t# then increment open count.\n",
        "\t\tif expr[i] == \"\":\n",
        "\t\t\topen += 1\n",
        "\n",
        "\t\t# If current bracket is close, check if it\n",
        "\t\t# balances opening bracket. If yes then\n",
        "\t\t# decrement count of unbalanced opening\n",
        "\t\t# bracket else increment count of\n",
        "\t\t# closing bracket.\n",
        "\t\telse:\n",
        "\t\t\tif not open:\n",
        "\t\t\t\tclose += 1\n",
        "\t\t\telse:\n",
        "\t\t\t\topen -= 1\n",
        "\t\t\n",
        "\tans = (close // 2) + (open // 2)\n",
        "\n",
        "\t# For the case: \"\" or when one closing\n",
        "\t# and one opening bracket remains for\n",
        "\t# pairing, then both need to be reversed.\n",
        "\tclose %= 2\n",
        "\topen %= 2\n",
        "\t\n",
        "\tif close > 0:\n",
        "\t\tans += 2\n",
        "\n",
        "\treturn ans\n",
        "\n",
        "# Driver Code\n",
        "if __name__ == \"__main__\":\n",
        "\n",
        "\texpr = \"}}{{\"\n",
        "\tprint(countMinReversals(expr))\n",
        "\n",
        "# This code is contributed by Rituraj Jain\n",
        " "
      ],
      "execution_count": null,
      "outputs": [
        {
          "output_type": "stream",
          "text": [
            "2\n"
          ],
          "name": "stdout"
        }
      ]
    },
    {
      "cell_type": "markdown",
      "metadata": {
        "id": "-uJwUOhkePgE"
      },
      "source": [
        "115. Given a binary string S of length N, the task is to count the minimum number substrings of S that is required to be reversed to make the string S alternating. If it is not possible to make string alternating, then print “-1”.\n",
        "\n",
        "Examples:\n",
        "\n",
        "Input: S = “10001110”\n",
        "Output: 2\n",
        "Explanation:\n",
        "In the first operation, reversing the substring {S[3], .., S[6]} modifies the string to “10110010”.\n",
        "In the second operation, reversing the substring {S[4], .. S[5]}modifies the string to “10101010”, which is alternating."
      ]
    },
    {
      "cell_type": "code",
      "metadata": {
        "colab": {
          "base_uri": "https://localhost:8080/"
        },
        "id": "i5QOwFgyeOP0",
        "outputId": "6029c864-f4c3-40b0-934f-d1a66df5e50a"
      },
      "source": [
        "# Python program for the above approach\n",
        "\n",
        "# Function to count the minimum number\n",
        "# of substrings required to be reversed\n",
        "# to make the string S alternating\n",
        "def minimumReverse(s, n):\n",
        "\n",
        "\t# Store count of consecutive pairs\n",
        "\tk = 0;\n",
        "\tl = 0;\n",
        "\n",
        "\t# Stores the count of 1s and 0s\n",
        "\tsum1 = 0;\n",
        "\tsum0 = 0;\n",
        "\n",
        "\t# Traverse through the string\n",
        "\tfor i in range(1, n):\n",
        "\t\tif (s[i] == '1'):\n",
        "\n",
        "\t\t\t# Increment 1s count\n",
        "\t\t\tsum1 += 1;\n",
        "\t\telse:\n",
        "\n",
        "\t\t\t# Increment 0s count\n",
        "\t\t\tsum0 += 1;\n",
        "\n",
        "\t\t# Increment K if consecutive\n",
        "\t\t# same elements are found\n",
        "\t\tif (s[i] == s[i - 1] and s[i] == '0'):\n",
        "\t\t\tk += 1;\n",
        "\t\telif (s[i] == s[i - 1] and s[i] == '1'):\n",
        "\t\t\tl += 1;\n",
        "\n",
        "\t# Increment 1s count\n",
        "\tif (s[0] == '1'):\n",
        "\t\tsum1 += 1;\n",
        "\telse: # Increment 0s count\n",
        "\t\tsum0 += 1;\n",
        "\n",
        "\t# Check if it is possible or not\n",
        "\tif (abs(sum1 - sum0) > 1):\n",
        "\t\treturn -1;\n",
        "\n",
        "\t# Otherwise, print the number\n",
        "\t# of required operations\n",
        "\treturn max(k, l);\n",
        "\n",
        "# Driver code\n",
        "if __name__ == '__main__':\n",
        "\tS = \"10001\";\n",
        "\tN = len(S);\n",
        "\n",
        "\t# Function Call\n",
        "\tprint(minimumReverse(S, N));\n",
        "\n",
        "# This code is contributed by shikhasingrajput\n",
        " "
      ],
      "execution_count": null,
      "outputs": [
        {
          "output_type": "stream",
          "text": [
            "2\n"
          ],
          "name": "stdout"
        }
      ]
    },
    {
      "cell_type": "markdown",
      "metadata": {
        "id": "uMI4_cndeXtu"
      },
      "source": [
        "116. Given binary string str of length N​​​​, the task is to find the minimum number of characters required to be deleted from the given binary string to make a substring of 0s followed by a substring of 1s.\n",
        "\n",
        "Examples:\n",
        "\n",
        "Input: str = “00101101”\n",
        "Output: 2\n",
        "Explanation: Removing str[2] and str[6] or removing str[3] and str[6] modifies the given binary string to “000111” or “001111” respectively. The number of removals required in both the cases is 2, which is the minimum possible.\n",
        "\n",
        "Input: str = “111000001111”\n",
        "Output: 3"
      ]
    },
    {
      "cell_type": "code",
      "metadata": {
        "colab": {
          "base_uri": "https://localhost:8080/"
        },
        "id": "ZlAeu3ijeWWf",
        "outputId": "11c00ada-510d-4eb7-b93f-c7c64b0947b1"
      },
      "source": [
        "# Python3 program for the above approach\n",
        "\n",
        "# Function to count minimum removals\n",
        "# required to make a given string\n",
        "# concatenation of substring of 0s\n",
        "# followed by substring of 1s\n",
        "def minimumDeletions(s):\n",
        "\t\n",
        "\t# Stores the length of the string\n",
        "\tn = len(s)\n",
        "\n",
        "\t# Precompute the count of 0s\n",
        "\tzeroCount = [ 0 for i in range(n)]\n",
        "\n",
        "\t# Check for the last character\n",
        "\tzeroCount[n - 1] = 1 if s[n - 1] == '0' else 0\n",
        "\n",
        "\t# Traverse and update zeroCount array\n",
        "\tfor i in range(n - 2, -1, -1):\n",
        "\n",
        "\t\t# If current character is 0,\n",
        "\t\tzeroCount[i] = zeroCount[i + 1] + 1 if (s[i] == '0') else zeroCount[i + 1]\n",
        "\n",
        "\t# Keeps track of deleted 1s\n",
        "\toneCount = 0\n",
        "\n",
        "\t# Stores the count of removals\n",
        "\tans = 10**9\n",
        "\n",
        "\t# Traverse the array\n",
        "\tfor i in range(n):\n",
        "\n",
        "\t\t# If current character is 1\n",
        "\t\tif (s[i] == '1'):\n",
        "\n",
        "\t\t\t# Update ans\n",
        "\t\t\tans = min(ans,oneCount + zeroCount[i])\n",
        "\t\t\toneCount += 1\n",
        "\n",
        "\t# If all 1s are deleted\n",
        "\tans = min(ans, oneCount)\n",
        "\n",
        "\t# Return the minimum\n",
        "\t# number of deletions\n",
        "\treturn 0 if ans == 10**18 else ans\n",
        "\n",
        "# Driver Code\n",
        "if __name__ == '__main__':\n",
        "\tstr = \"00101101\"\n",
        "\tprint(minimumDeletions(str))\n",
        "\n",
        "\t# This code is contributed by mohit kumar 29\n",
        " "
      ],
      "execution_count": null,
      "outputs": [
        {
          "output_type": "stream",
          "text": [
            "2\n"
          ],
          "name": "stdout"
        }
      ]
    },
    {
      "cell_type": "markdown",
      "metadata": {
        "id": "PFWyFahRekmR"
      },
      "source": [
        "117. Given an array arr[] consisting of N elements, the task is to find the minimum palindromic subarray removals required to remove all elements from the array.\n",
        "Examples: \n",
        " \n",
        "\n",
        "Input: arr[] = {1, 3, 4, 1, 5}, N = 5 \n",
        "Output: 3 "
      ]
    },
    {
      "cell_type": "code",
      "metadata": {
        "colab": {
          "base_uri": "https://localhost:8080/"
        },
        "id": "aos3wGNBehZ6",
        "outputId": "68a8c37f-c9e0-4635-cac2-8d4cc4170ba9"
      },
      "source": [
        "# Python3 program for the above approach\n",
        "def minSubarrayRemoval(arr):\n",
        "\t\n",
        "\tn = len(arr)\n",
        "\tdp = []\n",
        "\t\n",
        "\tfor i in range(n):\n",
        "\t\tl = [0] * n\n",
        "\t\tfor j in range(n):\n",
        "\t\t\tl[j] = n\n",
        "\t\tdp.append(l)\n",
        "\t\n",
        "\tfor i in range(n):\n",
        "\t\tdp[i][i] = 1\n",
        "\t\t\n",
        "\tfor i in range(n - 1):\n",
        "\t\tif (arr[i] == arr[i + 1]):\n",
        "\t\t\tdp[i][i + 1] = 1\n",
        "\t\telse:\n",
        "\t\t\tdp[i][i + 1] = 2\n",
        "\t\t\t\n",
        "\tfor l in range(2, n):\n",
        "\t\tfor i in range(n - l):\n",
        "\t\t\tj = i + l\n",
        "\t\t\tif (arr[i] == arr[j]):\n",
        "\t\t\t\tdp[i][j] = dp[i + 1][j - 1]\n",
        "\t\t\t\n",
        "\t\t\tfor k in range(i, j):\n",
        "\t\t\t\tdp[i][j] = min(dp[i][j],\n",
        "\t\t\t\t\t\t\tdp[i][k] +\n",
        "\t\t\t\t\t\t\tdp[k + 1][j])\n",
        "\t\n",
        "\treturn dp[0][n - 1]\n",
        "\n",
        "# Driver code\n",
        "arr = [ 2, 3, 1, 2, 2, 1, 2 ]\n",
        "ans = minSubarrayRemoval(arr)\n",
        "\n",
        "print(ans)\n",
        "\n",
        "# This code is contributed by shubhamsingh10\n"
      ],
      "execution_count": null,
      "outputs": [
        {
          "output_type": "stream",
          "text": [
            "2\n"
          ],
          "name": "stdout"
        }
      ]
    },
    {
      "cell_type": "markdown",
      "metadata": {
        "id": "tXOAqYqhesrN"
      },
      "source": [
        "118. Given an array arr[] of size N, the task is to find the minimum number of array elements required to be removed such that the frequency of the remaining array elements become equal.\n",
        "\n",
        "Examples :\n",
        "\n",
        "Input: arr[] = {2, 4, 3, 2, 5, 3}\n",
        "Output: 2\n",
        "Explanation: Following two possibilities exists:\n",
        "1) Either remove an occurrence of 2 and 3. The array arr[] modifies to {2, 4, 3, 5}. Therefore, frequency of all the elements become equal.\n",
        "2) Or, remove an occurrence of 4 and 5. The array arr[] modifies to {2, 3, 2, 3}. Therefore, frequency of all the elements become equal."
      ]
    },
    {
      "cell_type": "code",
      "metadata": {
        "colab": {
          "base_uri": "https://localhost:8080/"
        },
        "id": "7vQ5T49Yep-X",
        "outputId": "3e16f961-a64d-49f4-c8d7-27ebf0da747f"
      },
      "source": [
        "# Python 3 program for the above approach\n",
        "from collections import defaultdict\n",
        "\n",
        "# Function to count the minimum\n",
        "# removals required to make frequency\n",
        "# of all array elements equal\n",
        "def minDeletions(arr, N):\n",
        "\n",
        "\t# Stores frequency of\n",
        "\t# all array elements\n",
        "\tfreq = defaultdict(int)\n",
        "\n",
        "\t# Traverse the array\n",
        "\tfor i in range(N):\n",
        "\t\tfreq[arr[i]] += 1\n",
        "\n",
        "\t# Stores all the frequencies\n",
        "\tv = []\n",
        "\n",
        "\t# Traverse the map\n",
        "\tfor z in freq.keys():\n",
        "\t\tv.append(freq[z])\n",
        "\n",
        "\t# Sort the frequencies\n",
        "\tv.sort()\n",
        "\n",
        "\t# Count of frequencies\n",
        "\tsize = len(v)\n",
        "\n",
        "\t# Stores the final count\n",
        "\tans = N - (v[0] * size)\n",
        "\n",
        "\t# Traverse the vector\n",
        "\tfor i in range(1, len(v)):\n",
        "\n",
        "\t\t# Count the number of removals\n",
        "\t\t# for each frequency and update\n",
        "\t\t# the minimum removals required\n",
        "\t\tif (v[i] != v[i - 1]):\n",
        "\t\t\tsafe = v[i] * (size - i)\n",
        "\t\t\tans = min(ans, N - safe)\n",
        "\n",
        "\t# Print the final count\n",
        "\tprint(ans)\n",
        "\n",
        "\n",
        "# Driver Code\n",
        "if __name__ == \"__main__\":\n",
        "\n",
        "\t# Given array\n",
        "\tarr = [2, 4, 3, 2, 5, 3]\n",
        "\n",
        "\t# Size of the array\n",
        "\tN = len(arr)\n",
        "\n",
        "\t# Function call to print the minimum\n",
        "\t# number of removals required\n",
        "\tminDeletions(arr, N)\n",
        "\n",
        "\t# This code is contributed by chitranayal.\n"
      ],
      "execution_count": null,
      "outputs": [
        {
          "output_type": "stream",
          "text": [
            "2\n"
          ],
          "name": "stdout"
        }
      ]
    },
    {
      "cell_type": "markdown",
      "metadata": {
        "id": "biQejkEue1eX"
      },
      "source": [
        "119. Given an array arr[], the task is to check if it is possible to make all array elements equal by repeatedly choosing a triplet (i, j, k), where i and j are different, and subtract k from arr[i] and add k to arr[j]."
      ]
    },
    {
      "cell_type": "code",
      "metadata": {
        "colab": {
          "base_uri": "https://localhost:8080/"
        },
        "id": "HlGFxEWYe0CB",
        "outputId": "e7fec1db-0b67-432e-f52c-d0dead48ce51"
      },
      "source": [
        "# Python program for the above approach\n",
        "\n",
        "# Function to check if its possible to\n",
        "# make all array elements equal or not\n",
        "def arrayElementEqual(arr, N):\n",
        "\n",
        "\t# Stores the sum of the array\n",
        "\tsum = 0\n",
        "\n",
        "\t# Traverse the array\n",
        "\tfor i in range(N):\n",
        "\t\tsum += arr[i]\n",
        "\t\n",
        "\t# If sum is divisible by N\n",
        "\tif (sum % N == 0):\n",
        "\t\tprint('Yes')\n",
        "\n",
        "\t# Otherwise, not possible to make\n",
        "\t# all array elements equal\n",
        "\telse:\n",
        "\t\tprint(\"No\")\n",
        "\n",
        "# Driver Code\n",
        "# Given array\n",
        "arr = [ 1, 5, 6, 4 ]\n",
        "\n",
        "# Size of the array\n",
        "N = len(arr)\n",
        "arrayElementEqual(arr, N)\n",
        "\n",
        "# This code is contributed by rohitsingh07052\n",
        " "
      ],
      "execution_count": null,
      "outputs": [
        {
          "output_type": "stream",
          "text": [
            "Yes\n"
          ],
          "name": "stdout"
        }
      ]
    },
    {
      "cell_type": "markdown",
      "metadata": {
        "id": "0ASGJXFrfE7A"
      },
      "source": [
        "120. Given an array a, your task is to convert it into a non-increasing form such that we can either increment or decrement the array value by 1 in minimum changes possible.\n",
        "\n",
        "Examples : \n",
        "\n",
        "Input : a[] = {3, 1, 2, 1}\n",
        "Output : 1\n",
        "Explanation :\n",
        "We can convert the array into 3 1 1 1 by\n",
        "changing 3rd element of array i.e. 2 \n",
        "into its previous integer 1 in one step\n",
        "hence only one step is required.\n"
      ]
    },
    {
      "cell_type": "code",
      "metadata": {
        "colab": {
          "base_uri": "https://localhost:8080/"
        },
        "id": "HAHQA8-PfC_a",
        "outputId": "7dcb0e78-c5b5-4603-b6f3-11c611a330a0"
      },
      "source": [
        "# Python3 code to count the change required to\n",
        "# convert the array into non-increasing array\n",
        "from queue import PriorityQueue\n",
        "\n",
        "def DecreasingArray(a, n):\n",
        "\t\n",
        "\tss, dif = (0,0)\n",
        "\t\n",
        "\t# min heap\n",
        "\tpq = PriorityQueue()\n",
        "\n",
        "\t# Here in the loop we will\n",
        "\t# check that whether the upcoming\n",
        "\t# element of array is less than top\n",
        "\t# of priority queue. If yes then we\n",
        "\t# calculate the difference. After\n",
        "\t# that we will remove that element\n",
        "\t# and push the current element in\n",
        "\t# queue. And the sum is incremented\n",
        "\t# by the value of difference\n",
        "\tfor i in range(n):\n",
        "\t\ttmp = 0\n",
        "\t\t\n",
        "\t\tif not pq.empty():\n",
        "\t\t\ttmp = pq.get()\n",
        "\t\t\tpq.put(tmp)\n",
        "\t\t\n",
        "\t\tif not pq.empty() and tmp < a[i]:\n",
        "\t\t\tdif = a[i] - tmp\n",
        "\t\t\tss += dif\n",
        "\t\t\tpq.get()\n",
        "\t\t\n",
        "\t\tpq.put(a[i])\n",
        "\t\n",
        "\treturn ss\n",
        "\t\n",
        "# Driver code\n",
        "if __name__==\"__main__\":\n",
        "\t\n",
        "\ta = [ 3, 1, 2, 1 ]\n",
        "\tn = len(a)\n",
        "\n",
        "\tprint(DecreasingArray(a, n))\n",
        "\t\n",
        "# This code is contributed by rutvik_56\n"
      ],
      "execution_count": null,
      "outputs": [
        {
          "output_type": "stream",
          "text": [
            "1\n"
          ],
          "name": "stdout"
        }
      ]
    },
    {
      "cell_type": "markdown",
      "metadata": {
        "id": "GmjK22I50l9n"
      },
      "source": [
        "121. Given two sorted arrays A[] and B[] of sizes N and M respectively, the task is to merge them in a sorted manner.\n",
        "\n",
        "Examples:\n",
        "\n",
        "Input: A[] = { 5, 6, 8 }, B[] = { 4, 7, 8 }\n",
        "Output:  4 5 6 7 8 8\n",
        "\n",
        "Input: A[] = {1, 3, 4, 5}, B] = {2, 4, 6, 8} \n",
        "Output: 1 2 3 4 4 5 6 8"
      ]
    },
    {
      "cell_type": "code",
      "metadata": {
        "id": "6-9ym9XyfP0p",
        "colab": {
          "base_uri": "https://localhost:8080/"
        },
        "outputId": "fc78a0df-fa3b-43c0-bff9-3f19cbe2cc62"
      },
      "source": [
        "# Python3 program for the above approach\n",
        "from queue import PriorityQueue\n",
        "\n",
        "# Function to merge two arrays\n",
        "def merge(A, B, N, M):\n",
        "\n",
        "\t# Stores the merged array\n",
        "\tres = [0 for i in range(N + M)]\n",
        "\t\n",
        "\t# Create a min priority_queue\n",
        "\tpq = PriorityQueue()\n",
        "\t\n",
        "\t# Traverse the array A[]\n",
        "\tfor i in range(N):\n",
        "\t\tpq.put(A[i])\n",
        "\t\t\n",
        "\t# Traverse the array B[]\n",
        "\tfor i in range(M):\n",
        "\t\tpq.put(B[i])\n",
        "\n",
        "\tj = 0\n",
        "\t\n",
        "\t# Iterate until the\n",
        "\t# pq is not empty\n",
        "\twhile not pq.empty():\n",
        "\t\n",
        "\t\t# Removes the top element and\n",
        "\t\t# stores it into res[j]\n",
        "\t\tres[j] = pq.get()\n",
        "\t\tj += 1\n",
        "\t\t\n",
        "\t# Print the merged array\n",
        "\tfor i in range(N + M):\n",
        "\t\tprint(res[i], end = \" \")\n",
        "\t\t\n",
        "\t# return back to main\n",
        "\treturn\n",
        "\n",
        "# Driver code\n",
        "if __name__ == '__main__':\n",
        "\n",
        "\t# Input\n",
        "\tA = [ 5, 6, 8 ]\n",
        "\tB = [ 4, 7, 8 ]\n",
        "\n",
        "\tN = len(A)\n",
        "\tM = len(B)\n",
        "\t\n",
        "\t# Function call\n",
        "\tmerge(A, B, N, M)\n",
        "\t\n",
        "# This code is contributed by MuskanKalra1\n"
      ],
      "execution_count": null,
      "outputs": [
        {
          "output_type": "stream",
          "text": [
            "4 5 6 7 8 8 "
          ],
          "name": "stdout"
        }
      ]
    },
    {
      "cell_type": "markdown",
      "metadata": {
        "id": "7l-dJgch06E-"
      },
      "source": [
        "122. Given two sorted arrays A and B, generate all possible arrays such that first element is taken from A then from B then from A and so on in increasing order till the arrays exhausted. The generated arrays should end with an element from B.\n",
        "For Example \n",
        " \n",
        "\n",
        " \n",
        "A = {10, 15, 25}\n",
        "B = {1, 5, 20, 30}\n",
        "\n",
        "The resulting arrays are:\n",
        "  10 20\n",
        "  10 20 25 30\n",
        "  10 30\n",
        "  15 20\n",
        "  15 20 25 30\n",
        "  15 30\n",
        "  25 30"
      ]
    },
    {
      "cell_type": "code",
      "metadata": {
        "colab": {
          "base_uri": "https://localhost:8080/"
        },
        "id": "iSF7JkF903va",
        "outputId": "ac336205-bd3f-44bc-c8d0-f8a639ea5407"
      },
      "source": [
        "# A utility function to print an array\n",
        "def printArr(arr,n):\n",
        "\n",
        "\tfor i in range(n):\n",
        "\t\tprint(arr[i] , \" \",end=\"\")\n",
        "\tprint()\n",
        "\n",
        "''' Function to generates and prints all\n",
        "\tsorted arrays from alternate elements of\n",
        "'A[i..m-1]' and 'B[j..n-1]'\n",
        "If 'flag' is true, then current element\n",
        "is to be included from A otherwise\n",
        "from B.\n",
        "'len' is the index in output array C[].\n",
        "\tWe print output array each time\n",
        "before including a character from A\n",
        "only if length of output array is\n",
        "greater than 0. We try than all possible combinations '''\n",
        "def generateUtil(A,B,C,i,j,m,n,len,flag):\n",
        "\n",
        "\tif (flag): # Include valid element from A\n",
        "\t\n",
        "\t\t# Print output if there is at\n",
        "\t\t# least one 'B' in output array 'C'\n",
        "\t\tif (len):\n",
        "\t\t\tprintArr(C, len+1)\n",
        "\n",
        "\t\t# Recur for all elements of\n",
        "\t\t# A after current index\n",
        "\t\tfor k in range(i,m):\n",
        "\t\t\n",
        "\t\t\tif ( not len):\n",
        "\t\t\t\n",
        "\t\t\t\t''' this block works for the\n",
        "\t\t\t\t\tvery first call to include\n",
        "\t\t\t\t\tthe first element in the output array '''\n",
        "\t\t\t\tC[len] = A[k]\n",
        "\n",
        "\t\t\t\t# don't increment lem\n",
        "\t\t\t\t# as B is included yet\n",
        "\t\t\t\tgenerateUtil(A, B, C, k+1, j, m, n, len, not flag)\n",
        "\t\t\t\n",
        "\t\t\telse:\n",
        "\n",
        "\t\t\t\t# include valid element from A and recur\n",
        "\t\t\t\tif (A[k] > C[len]):\n",
        "\t\t\t\t\n",
        "\t\t\t\t\tC[len+1] = A[k]\n",
        "\t\t\t\t\tgenerateUtil(A, B, C, k+1, j, m, n, len+1, not flag)\n",
        "\t\t\t\t\n",
        "\t\n",
        "\telse:\n",
        "\n",
        "\t\t# Include valid element from B and recur\n",
        "\t\tfor l in range(j,n):\n",
        "\t\t\n",
        "\t\t\tif (B[l] > C[len]):\n",
        "\t\t\t\n",
        "\t\t\t\tC[len+1] = B[l]\n",
        "\t\t\t\tgenerateUtil(A, B, C, i, l+1, m, n, len+1, not flag)\n",
        "\t\t\t\n",
        "\n",
        "# Wrapper function\n",
        "def generate(A,B,m,n):\n",
        "\n",
        "\tC=[] #output array\n",
        "\tfor i in range(m+n+1):\n",
        "\t\tC.append(0)\n",
        "\tgenerateUtil(A, B, C, 0, 0, m, n, 0, True)\n",
        "\n",
        "\n",
        "# Driver program\n",
        "\n",
        "A = [10, 15, 25]\n",
        "B = [5, 20, 30]\n",
        "n = len(A)\n",
        "m = len(B)\n",
        "\n",
        "generate(A, B, n, m)\n",
        "\n"
      ],
      "execution_count": null,
      "outputs": [
        {
          "output_type": "stream",
          "text": [
            "10  20  \n",
            "10  20  25  30  \n",
            "10  30  \n",
            "15  20  \n",
            "15  20  25  30  \n",
            "15  30  \n",
            "25  30  \n"
          ],
          "name": "stdout"
        }
      ]
    },
    {
      "cell_type": "markdown",
      "metadata": {
        "id": "8nxJLRSd1UK3"
      },
      "source": [
        "123. Given two arrays A[] and B[] consisting of N and M integers respectively, the task is to construct a convolution array C[] of size (N + M – 1). \n",
        "\n",
        "The convolution of 2 arrays is defined as C[i + j] = ∑(a[i] * b[j]) for every i and j. "
      ]
    },
    {
      "cell_type": "code",
      "metadata": {
        "colab": {
          "base_uri": "https://localhost:8080/"
        },
        "id": "LICDhhZf1R8c",
        "outputId": "f7117996-095b-4147-a3f2-2072b3f7a4e0"
      },
      "source": [
        "# Python3 program for the above approach\n",
        "MOD = 998244353\n",
        "\n",
        "# Function to generate a convolution\n",
        "# array of two given arrays\n",
        "def findConvolution(a, b):\n",
        "\t\n",
        "\tglobal MOD\n",
        "\t\n",
        "\t# Stores the size of arrays\n",
        "\tn, m = len(a), len(b)\n",
        "\n",
        "\t# Stores the final array\n",
        "\tc = [0] * (n + m - 1)\n",
        "\n",
        "\t# Traver the two given arrays\n",
        "\tfor i in range(n):\n",
        "\t\tfor j in range(m):\n",
        "\t\t\t\n",
        "\t\t\t# Update the convolution array\n",
        "\t\t\tc[i + j] += (a[i] * b[j]) % MOD\n",
        "\n",
        "\t# Print the convolution array c[]\n",
        "\tfor k in range(len(c)):\n",
        "\t\tc[k] %= MOD\n",
        "\t\tprint(c[k], end = \" \")\n",
        "\n",
        "# Driver Code\n",
        "if __name__ == '__main__':\n",
        "\t\n",
        "\tA = [1, 2, 3, 4]\n",
        "\tB = [5, 6, 7, 8, 9]\n",
        "\t\n",
        "\tfindConvolution(A, B)\n",
        "\n",
        "# This code is contributed by mohit kumar 29\n"
      ],
      "execution_count": null,
      "outputs": [
        {
          "output_type": "stream",
          "text": [
            "5 16 34 60 70 70 59 36 "
          ],
          "name": "stdout"
        }
      ]
    },
    {
      "cell_type": "markdown",
      "metadata": {
        "id": "9_qj-SAX1gmm"
      },
      "source": [
        "124. Given two arrays A[] and B[], both of size N, the task is to generate a sequence of length N comprising elements from the two arrays such that the GCD of the generated sequence is K. If it is not possible to generate such a sequence, then print “-1”. "
      ]
    },
    {
      "cell_type": "code",
      "metadata": {
        "colab": {
          "base_uri": "https://localhost:8080/"
        },
        "id": "G18i85Dz1b5T",
        "outputId": "01f57fb7-4ce4-4ea6-d277-7ce3abf50b47"
      },
      "source": [
        "# Python3 program for the above approach\n",
        "\n",
        "# Function to calculate\n",
        "# GCD of two integers\n",
        "\n",
        "\n",
        "def GCD(a, b):\n",
        "\tif not b:\n",
        "\t\treturn a\n",
        "\treturn GCD(b, a % b)\n",
        "\n",
        "# Function to calculate\n",
        "# GCD of a given array\n",
        "\n",
        "\n",
        "def GCDArr(a):\n",
        "\tans = a[0]\n",
        "\tfor i in a:\n",
        "\t\tans = GCD(ans, i)\n",
        "\treturn ans\n",
        "\n",
        "# Utility function to check for\n",
        "# all the possible combinations\n",
        "\n",
        "\n",
        "def findSubseqUtil(a, b, ans, k, i):\n",
        "\n",
        "\t# If an N-length sequence\n",
        "\t# is obtained\n",
        "\tif len(ans) == len(a):\n",
        "\n",
        "\t\t# If GCD of the sequence is K\n",
        "\t\tif GCDArr(ans) == k:\n",
        "\t\t\tprint(ans)\n",
        "\t\t\treturn True\n",
        "\n",
        "\t\t# Otherwise\n",
        "\t\telse:\n",
        "\t\t\treturn False\n",
        "\n",
        "\t# Add an element from the first array\n",
        "\tans.append(a[i])\n",
        "\n",
        "\t# Recursively proceed further\n",
        "\ttemp = findSubseqUtil(a, b, ans, k, i+1)\n",
        "\n",
        "\t# If combination satisfies\n",
        "\t# the necessary condition\n",
        "\tif temp == True:\n",
        "\t\treturn True\n",
        "\n",
        "\t# Remove the element\n",
        "\t# from the combination\n",
        "\tans.pop()\n",
        "\n",
        "\t# Add an element from the second array\n",
        "\tans.append(b[i])\n",
        "\n",
        "\t# Recursive proceed further\n",
        "\ttemp = findSubseqUtil(a, b, ans, k, i+1)\n",
        "\n",
        "\t# If combination satisfies\n",
        "\t# the necessary condition\n",
        "\tif temp == True:\n",
        "\t\treturn True\n",
        "\n",
        "\t# Remove the element\n",
        "\t# from the combination\n",
        "\tans.pop()\n",
        "\n",
        "# Function to check all the\n",
        "# possible combinations\n",
        "\n",
        "\n",
        "def findSubseq(A, B, K, i):\n",
        "\n",
        "\t# Stores the subsequence\n",
        "\tans = []\n",
        "\n",
        "\tfindSubseqUtil(A, B, ans, K, i)\n",
        "\n",
        "\t# If GCD is not equal to K\n",
        "\t# for any combination\n",
        "\tif not ans:\n",
        "\t\tprint(-1)\n",
        "\n",
        "# Driver Code\n",
        "\n",
        "\n",
        "# Given arrays\n",
        "A = [5, 3, 6, 2, 9]\n",
        "B = [21, 7, 14, 12, 28]\n",
        "\n",
        "# Given value of K\n",
        "K = 3\n",
        "\n",
        "# Function call to generate\n",
        "# the required subsequence\n",
        "ans = findSubseq(A, B, K, 0)\n"
      ],
      "execution_count": null,
      "outputs": [
        {
          "output_type": "stream",
          "text": [
            "[21, 3, 6, 12, 9]\n"
          ],
          "name": "stdout"
        }
      ]
    },
    {
      "cell_type": "markdown",
      "metadata": {
        "id": "JEXit-7m1rm7"
      },
      "source": [
        "125. Given an integer N and an array arr[], the task is to check if a sequence of first N natural numbers, i.e. {1, 2, 3, .. N} can be made equal to arr[] by choosing any pair (i, j) from the sequence and replacing both i and j by GCD of i and j. If possible, then print “Yes”. Otherwise, print “No”.\n",
        "\n",
        "Examples:\n",
        "\n",
        "Input: N = 4, arr[] = {1, 2, 3, 2}\n",
        "Output: Yes\n",
        "Explanation: For the pair (2, 4) in the sequence {1, 2, 3, 4}, GCD(2, 4) = 2. Now, the sequence modifies to {1, 2, 3, 2}, which is same as arr[]. "
      ]
    },
    {
      "cell_type": "code",
      "metadata": {
        "colab": {
          "base_uri": "https://localhost:8080/"
        },
        "id": "JDMokVoD1kWs",
        "outputId": "4232d1af-2e3f-4cc3-e064-1610ce8b9a5d"
      },
      "source": [
        "# Python3 program for the above approach\n",
        "\n",
        "# Function to check if array arr[]\n",
        "# can be obtained from first N\n",
        "# natural numbers or not\n",
        "def isSequenceValid(B, N):\n",
        "\t\n",
        "\tfor i in range(N):\n",
        "\t\tif ((i + 1) % B[i] != 0):\n",
        "\t\t\tprint(\"No\")\n",
        "\t\t\treturn\n",
        "\t\t\n",
        "\tprint(\"Yes\")\n",
        "\t\n",
        "# Driver Code\n",
        "N = 4\n",
        "arr = [ 1, 2, 3, 2 ]\n",
        "\n",
        "# Function Call\n",
        "isSequenceValid(arr, N)\n",
        "\n",
        "# This code is contributed by susmitakundugoaldanga\n"
      ],
      "execution_count": null,
      "outputs": [
        {
          "output_type": "stream",
          "text": [
            "Yes\n"
          ],
          "name": "stdout"
        }
      ]
    },
    {
      "cell_type": "markdown",
      "metadata": {
        "id": "_CznPhFv2Hfx"
      },
      "source": [
        "127. Given a matrix mat[][] with dimensions M * N, the task is to replace each matrix elements with the maximum sum of its left or right diagonal."
      ]
    },
    {
      "cell_type": "code",
      "metadata": {
        "colab": {
          "base_uri": "https://localhost:8080/"
        },
        "id": "eSrOEMyz14PM",
        "outputId": "102c2643-fba2-490f-a251-c248183bbf5b"
      },
      "source": [
        "# Python3 program for the above approach\n",
        "\n",
        "# Function to update given matrix with\n",
        "# maximum of left and right diagonal sum\n",
        "def updateMatrix(mat):\n",
        "\n",
        "\t# Stores the total sum\n",
        "\t# of right diagonal\n",
        "\tright = {}\n",
        "\n",
        "\t# Stores the total sum\n",
        "\t# of left diagonal\n",
        "\tleft = {}\n",
        "\n",
        "\tfor i in range(len(mat)):\n",
        "\t\tfor j in range(len(mat[0])):\n",
        "\n",
        "\t\t\t# Update the map storing\n",
        "\t\t\t# right diagonal sums\n",
        "\t\t\tif i + j not in right:\n",
        "\t\t\t\tright[i + j] = mat[i][j]\n",
        "\t\t\telse:\n",
        "\t\t\t\tright[i + j] += mat[i][j]\n",
        "\n",
        "\t\t\t# Update the map storing\n",
        "\t\t\t# left diagonal sums\n",
        "\t\t\tif i-j not in left:\n",
        "\t\t\t\tleft[i-j] = mat[i][j]\n",
        "\t\t\telse:\n",
        "\t\t\t\tleft[i-j] += mat[i][j]\n",
        "\n",
        "\t# Traverse the matrix\n",
        "\tfor i in range(len(mat)):\n",
        "\t\tfor j in range(len(mat[0])):\n",
        "\n",
        "\t\t\t# Update the matrix\n",
        "\t\t\tmat[i][j] = max(right[i + j], left[i-j])\n",
        "\n",
        "\t# Print the matrix\n",
        "\tfor i in mat:\n",
        "\t\tprint(*i)\n",
        "\n",
        "# Given matrix\n",
        "mat = [[5, 2, 1], [7, 2, 6], [3, 1, 9]]\n",
        "updateMatrix(mat)\n"
      ],
      "execution_count": null,
      "outputs": [
        {
          "output_type": "stream",
          "text": [
            "16 9 6\n",
            "9 16 8\n",
            "6 8 16\n"
          ],
          "name": "stdout"
        }
      ]
    },
    {
      "cell_type": "markdown",
      "metadata": {
        "id": "7fOwTElB2Qpw"
      },
      "source": [
        "128. Given an array of integers, find the first repeating element in it. We need to find the element that occurs more than once and whose index of first occurrence is smallest. \n",
        "\n",
        "Examples: \n",
        "\n",
        "Input:  arr[] = {10, 5, 3, 4, 3, 5, 6}\n",
        "Output: 5 [5 is the first element that repeats]"
      ]
    },
    {
      "cell_type": "code",
      "metadata": {
        "colab": {
          "base_uri": "https://localhost:8080/"
        },
        "id": "Zd9V1XDP2PIk",
        "outputId": "0870d6fa-d230-4028-9220-dd568567d009"
      },
      "source": [
        "# Python3 program to find first repeating\n",
        "# element in arr[]\n",
        "\n",
        "# This function prints the first repeating\n",
        "# element in arr[]\n",
        "def printFirstRepeating(arr, n):\n",
        "\n",
        "\t# Initialize index of first repeating element\n",
        "\tMin = -1\n",
        "\n",
        "\t# Creates an empty hashset\n",
        "\tmyset = dict()\n",
        "\n",
        "\t# Traverse the input array from right to left\n",
        "\tfor i in range(n - 1, -1, -1):\n",
        "\t\n",
        "\t\t# If element is already in hash set,\n",
        "\t\t# update Min\n",
        "\t\tif arr[i] in myset.keys():\n",
        "\t\t\tMin = i\n",
        "\n",
        "\t\telse: # Else add element to hash set\n",
        "\t\t\tmyset[arr[i]] = 1\n",
        "\t\n",
        "\t# Print the result\n",
        "\tif (Min != -1):\n",
        "\t\tprint(\"The first repeating element is\",\n",
        "\t\t\t\t\t\t\t\t\tarr[Min])\n",
        "\telse:\n",
        "\t\tprint(\"There are no repeating elements\")\n",
        "\n",
        "# Driver Code\n",
        "arr = [10, 5, 3, 4, 3, 5, 6]\n",
        "\n",
        "n = len(arr)\n",
        "printFirstRepeating(arr, n)\n",
        "\n",
        "# This code is contributed by Mohit kumar 29\n"
      ],
      "execution_count": null,
      "outputs": [
        {
          "output_type": "stream",
          "text": [
            "The first repeating element is 5\n"
          ],
          "name": "stdout"
        }
      ]
    },
    {
      "cell_type": "markdown",
      "metadata": {
        "id": "kloghV5N2YyF"
      },
      "source": [
        "129. Given a string str, the task is to answer Q queries where every query consists of two integers L and R and we have to find the first non-repeating character in the sub-string str[L…R]. If there is no non-repeating character then print -1."
      ]
    },
    {
      "cell_type": "code",
      "metadata": {
        "colab": {
          "base_uri": "https://localhost:8080/"
        },
        "id": "KM-4P0Pv2Wzn",
        "outputId": "f2d783a3-dadf-4fde-dd56-01e114b6afb7"
      },
      "source": [
        "# Python3 implementation of the approach\n",
        "\n",
        "# Maximum distinct characters possible\n",
        "MAX = 256\n",
        "\n",
        "# To store the frequency of the characters\n",
        "freq = [[0 for i in range(MAX)]\n",
        "\t\tfor j in range(MAX)]\n",
        "\n",
        "# Function to pre-calculate\n",
        "# the frequency array\n",
        "def preCalculate(string, n):\n",
        "\n",
        "\t# Only the first character has\n",
        "\t# frequency 1 till index 0\n",
        "\tfreq[ord(string[0])][0] = 1\n",
        "\n",
        "\t# Starting from the second\n",
        "\t# character of the string\n",
        "\tfor i in range(1, n):\n",
        "\t\tch = string[i]\n",
        "\n",
        "\t\t# For every possible character\n",
        "\t\tfor j in range(MAX):\n",
        "\n",
        "\t\t\t# Current character under consideration\n",
        "\t\t\tcharToUpdate = chr(j)\n",
        "\n",
        "\t\t\t# If it is equal to the character\n",
        "\t\t\t# at the current index\n",
        "\t\t\tif charToUpdate == ch:\n",
        "\t\t\t\tfreq[j][i] = freq[j][i - 1] + 1\n",
        "\t\t\telse:\n",
        "\t\t\t\tfreq[j][i] = freq[j][i - 1]\n",
        "\n",
        "# Function to return the frequency of the\n",
        "# given character in the sub-string str[l...r]\n",
        "def getFrequency(ch, l, r):\n",
        "\tif l == 0:\n",
        "\t\treturn freq[ord(ch)][r]\n",
        "\telse:\n",
        "\t\treturn (freq[ord(ch)][r] -\n",
        "\t\t\t\tfreq[ord(ch)][l - 1])\n",
        "\n",
        "# Function to return the first\n",
        "# non-repeating character in range[l..r]\n",
        "def firstNonRepeating(string, n, l, r):\n",
        "\tt = [\"\"] * 2\n",
        "\n",
        "\t# Starting from the first character\n",
        "\tfor i in range(l, r):\n",
        "\n",
        "\t\t# Current character\n",
        "\t\tch = string[i]\n",
        "\n",
        "\t\t# If frequency of the current character is 1\n",
        "\t\t# then return the character\n",
        "\t\tif getFrequency(ch, l, r) == 1:\n",
        "\t\t\tt[0] = ch\n",
        "\t\t\treturn t[0]\n",
        "\n",
        "\t# All the characters of the\n",
        "\t# sub-string are repeating\n",
        "\treturn \"-1\"\n",
        "\n",
        "# Driver Code\n",
        "if __name__ == \"__main__\":\n",
        "\tstring = \"GeeksForGeeks\"\n",
        "\tn = len(string)\n",
        "\n",
        "\tqueries = [(0, 3), (2, 3), (5, 12)]\n",
        "\tq = len(queries)\n",
        "\n",
        "\t# Pre-calculate the frequency array\n",
        "\tpreCalculate(string, n)\n",
        "\n",
        "\tfor i in range(q):\n",
        "\t\tprint(firstNonRepeating(string, n,\n",
        "\t\t\t\t\t\t\t\tqueries[i][0],\n",
        "\t\t\t\t\t\t\t\tqueries[i][1]))\n",
        "\n",
        "# This code is conributed by\n",
        "# sanjeev2552\n"
      ],
      "execution_count": null,
      "outputs": [
        {
          "output_type": "stream",
          "text": [
            "G\n",
            "e\n",
            "F\n"
          ],
          "name": "stdout"
        }
      ]
    },
    {
      "cell_type": "markdown",
      "metadata": {
        "id": "kVKSwiGM2iq-"
      },
      "source": [
        "130. Given a string str, the task is to answer Q queries where every query consists of two integers L and R and we have to find the last non-repeating character in the sub-string str[L…R]. If there is no non-repeating character then print -1.\n",
        "Examples: \n",
        " \n",
        "\n",
        "Input: str = “GeeksForGeeks”, q[] = {{2, 9}, {2, 3}, {0, 12}} \n",
        "Output: \n",
        "G \n",
        "k \n",
        "r \n",
        "Sub-string for the queries are “eksForGe”, “ek” and “GeeksForGeeks” and their last non-repeating characters are ‘G’, ‘k’ and ‘r’ respectively. \n",
        "‘G’ is the first character from the end in given range which has frequency 1. "
      ]
    },
    {
      "cell_type": "code",
      "metadata": {
        "colab": {
          "base_uri": "https://localhost:8080/"
        },
        "id": "g16EGB-e2hAK",
        "outputId": "ca901b5e-9a2c-425e-fede-9ca3bcb4c070"
      },
      "source": [
        "# Python3 implementation of the approach\n",
        "\n",
        "# Maximum distinct characters possible\n",
        "MAX = 256\n",
        "\n",
        "# To store the frequency of the characters\n",
        "freq = [[0 for i in range(256)]\n",
        "\t\tfor j in range(1000)]\n",
        "\n",
        "# Function to pre-calculate\n",
        "# the frequency array\n",
        "def preCalculate(string, n):\n",
        "\n",
        "\t# Only the first character has\n",
        "\t# frequency 1 till index 0\n",
        "\tfreq[ord(string[0])][0] = 1\n",
        "\n",
        "\t# Starting from the second\n",
        "\t# character of the string\n",
        "\tfor i in range(1, n):\n",
        "\t\tch = string[i]\n",
        "\n",
        "\t\t# For every possible character\n",
        "\t\tfor j in range(MAX):\n",
        "\n",
        "\t\t\t# Current character under consideration\n",
        "\t\t\tcharToUpdate = chr(j)\n",
        "\n",
        "\t\t\t# If it is equal to the character\n",
        "\t\t\t# at the current index\n",
        "\t\t\tif charToUpdate == ch:\n",
        "\t\t\t\tfreq[j][i] = freq[j][i - 1] + 1\n",
        "\t\t\telse:\n",
        "\t\t\t\tfreq[j][i] = freq[j][i - 1]\n",
        "\n",
        "# Function to return the frequency of the\n",
        "# given character in the sub-string str[l...r]\n",
        "def getFrequency(ch, l, r):\n",
        "\tif l == 0:\n",
        "\t\treturn freq[ord(ch)][r]\n",
        "\telse:\n",
        "\t\treturn (freq[ord(ch)][r] -\n",
        "\t\t\t\tfreq[ord(ch)][l - 1])\n",
        "\n",
        "# Function to return the\n",
        "# last non-repeating character\n",
        "def lastNonRepeating(string, n, l, r):\n",
        "\n",
        "\t# Starting from the last character\n",
        "\tfor i in range(r, l - 1, -1):\n",
        "\n",
        "\t\t# Current character\n",
        "\t\tch = string[i]\n",
        "\n",
        "\t\t# If frequency of the current character is 1\n",
        "\t\t# then return the character\n",
        "\t\tif getFrequency(ch, l, r) == 1:\n",
        "\t\t\treturn ch\n",
        "\n",
        "\t# All the characters of the\n",
        "\t# sub-string are repeating\n",
        "\treturn \"-1\"\n",
        "\n",
        "# Driver Code\n",
        "if __name__ == \"__main__\":\n",
        "\tstring = \"GeeksForGeeks\"\n",
        "\tn = len(string)\n",
        "\n",
        "\tqueries = [(2, 9), (2, 3), (0, 12)]\n",
        "\tq = len(queries)\n",
        "\n",
        "\t# Pre-calculate the frequency array\n",
        "\tpreCalculate(string, n)\n",
        "\n",
        "\tfor i in range(q):\n",
        "\t\tprint(lastNonRepeating(string, n,\n",
        "\t\t\t\t\t\t\tqueries[i][0],\n",
        "\t\t\t\t\t\t\tqueries[i][1]))\n",
        "\n",
        "# This code is conributed by\n",
        "# sanjeev2552\n"
      ],
      "execution_count": null,
      "outputs": [
        {
          "output_type": "stream",
          "text": [
            "G\n",
            "k\n",
            "r\n"
          ],
          "name": "stdout"
        }
      ]
    },
    {
      "cell_type": "markdown",
      "metadata": {
        "id": "S_nwg6Hc3Bnb"
      },
      "source": [
        "131. Given two strings A, B and some queries consisting of an integer i, the task is to check whether the sub-string of A starting from index i and ending at index i + length(B) – 1 equals B or not. If equal then print Yes else print No. Note that i + length(B) will always be smaller than length(A)."
      ]
    },
    {
      "cell_type": "code",
      "metadata": {
        "colab": {
          "base_uri": "https://localhost:8080/"
        },
        "id": "cExJl-dy2rqM",
        "outputId": "4caac0d7-9179-46f2-8fe4-30be46788d84"
      },
      "source": [
        "# Python3 implementation of the approach\n",
        "mod = 3803\n",
        "d = 26\n",
        "\n",
        "hash_b = 0\n",
        "hash_a = []\n",
        "mul = []\n",
        "\n",
        "# Function to return the modular inverse\n",
        "# using Fermat's little theorem\n",
        "\n",
        "\n",
        "def mi(x):\n",
        "\tglobal mod\n",
        "\tp = mod - 2\n",
        "\ts = 1\n",
        "\twhile p != 1:\n",
        "\t\tif p % 2 == 1:\n",
        "\t\t\ts = (s * x) % mod\n",
        "\n",
        "\t\tx = (x * x) % mod\n",
        "\t\tp //= 2\n",
        "\n",
        "\treturn (s * x) % mod\n",
        "\n",
        "# Function to generate hash\n",
        "\n",
        "\n",
        "def genHash(a, b):\n",
        "\tglobal hash_b, hash_a, mul, d, mod\n",
        "\n",
        "\t# To store prefix-sum\n",
        "\t# of rolling hash\n",
        "\thash_a = [0] * len(a)\n",
        "\n",
        "\t# Multiplier for different values of i\n",
        "\tmul = [0] * len(a)\n",
        "\n",
        "\t# Generating hash value for string b\n",
        "\tfor i in range(len(b) - 1, -1, -1):\n",
        "\t\thash_b = (hash_b * d +\n",
        "\t\t\t\t(ord(b[i]) - 97)) % mod\n",
        "\n",
        "\t# Generating prefix-sum of hash of a\n",
        "\tmul[0] = 1\n",
        "\thash_a[0] = (ord(a[0]) - 97) % mod\n",
        "\tfor i in range(1, len(a)):\n",
        "\t\tmul[i] = (mul[i - 1] * d) % mod\n",
        "\t\thash_a[i] = (hash_a[i - 1] + mul[i] *\n",
        "\t\t\t\t\t(ord(a[i]) - 97)) % mod\n",
        "\n",
        "# Function that returns true if the\n",
        "# required sub-string in a is equal to b\n",
        "\n",
        "\n",
        "def checkEqual(i, len_a, len_b):\n",
        "\tglobal hash_b, hash_a, mul, d, mod\n",
        "\n",
        "\t# To store hash of required\n",
        "\t# sub-string of A\n",
        "\tx = -1\n",
        "\n",
        "\t# If i = 0 then\n",
        "\t# requires hash value\n",
        "\tif i == 0:\n",
        "\t\tx = hash_a[len_b - 1]\n",
        "\n",
        "\t# Required hash if i != 0\n",
        "\telse:\n",
        "\t\tx = (hash_a[i + len_b - 1] -\n",
        "\t\t\thash_a[i - 1] + 2 * mod) % mod\n",
        "\t\tx = (x * mi(mul[i])) % mod\n",
        "\n",
        "\t# Comparing hash with hash of B\n",
        "\tif x == hash_b:\n",
        "\t\treturn True\n",
        "\n",
        "\treturn False\n",
        "\n",
        "\n",
        "# Driver Code\n",
        "if __name__ == \"__main__\":\n",
        "\ta = \"abababababa\"\n",
        "\tb = \"aba\"\n",
        "\n",
        "\t# Generating hash\n",
        "\tgenHash(a, b)\n",
        "\n",
        "\t# Queries\n",
        "\tqueries = [0, 1, 2, 3]\n",
        "\tq = len(queries)\n",
        "\n",
        "\t# Perform queries\n",
        "\tfor i in range(q):\n",
        "\t\tif checkEqual(queries[i], len(a), len(b)):\n",
        "\t\t\tprint(\"Yes\")\n",
        "\t\telse:\n",
        "\t\t\tprint(\"No\")\n",
        "\n",
        "# This code is contributed by\n",
        "# sanjeev2552\n"
      ],
      "execution_count": null,
      "outputs": [
        {
          "output_type": "stream",
          "text": [
            "Yes\n",
            "No\n",
            "Yes\n",
            "No\n"
          ],
          "name": "stdout"
        }
      ]
    },
    {
      "cell_type": "markdown",
      "metadata": {
        "id": "BtGwO8_v3OZN"
      },
      "source": [
        "132. Given an array of integers where each element represents the max number of steps that can be made forward from that element. Write a function to return the minimum number of jumps to reach the end of the array (starting from the first element). If an element is 0, they cannot move through that element. If the end isn’t reachable, return -1.\n",
        "\n",
        "Examples: \n",
        "\n",
        "Input: arr[] = {1, 3, 5, 8, 9, 2, 6, 7, 6, 8, 9}\n",
        "Output: 3 (1-> 3 -> 8 -> 9)\n",
        "Explanation: Jump from 1st element \n",
        "to 2nd element as there is only 1 step, \n",
        "now there are three options 5, 8 or 9. \n",
        "If 8 or 9 is chosen then the end node 9 \n",
        "can be reached. So 3 jumps are made. "
      ]
    },
    {
      "cell_type": "code",
      "metadata": {
        "colab": {
          "base_uri": "https://localhost:8080/"
        },
        "id": "fyNqxWSY3JdH",
        "outputId": "cd1f2a7a-c69c-4cee-c630-590d8915cfd8"
      },
      "source": [
        "# Python3 program to find Minimum\n",
        "# number of jumps to reach end\n",
        "\n",
        "# Returns minimum number of jumps\n",
        "# to reach arr[h] from arr[l]\n",
        "def minJumps(arr, l, h):\n",
        "\n",
        "\t# Base case: when source and\n",
        "\t# destination are same\n",
        "\tif (h == l):\n",
        "\t\treturn 0\n",
        "\n",
        "\t# when nothing is reachable\n",
        "\t# from the given source\n",
        "\tif (arr[l] == 0):\n",
        "\t\treturn float('inf')\n",
        "\n",
        "\t# Traverse through all the points\n",
        "\t# reachable from arr[l]. Recursively\n",
        "\t# get the minimum number of jumps\n",
        "\t# needed to reach arr[h] from\n",
        "\t# these reachable points.\n",
        "\tmin = float('inf')\n",
        "\tfor i in range(l + 1, h + 1):\n",
        "\t\tif (i < l + arr[l] + 1):\n",
        "\t\t\tjumps = minJumps(arr, i, h)\n",
        "\t\t\tif (jumps != float('inf') and\n",
        "\t\t\t\t\tjumps + 1 < min):\n",
        "\t\t\t\tmin = jumps + 1\n",
        "\n",
        "\treturn min\n",
        "\n",
        "# Driver program to test above function\n",
        "arr = [1, 3, 6, 3, 2, 3, 6, 8, 9, 5]\n",
        "n = len(arr)\n",
        "print('Minimum number of jumps to reach',\n",
        "\t'end is', minJumps(arr, 0, n-1))\n",
        "\n",
        "# This code is contributed by Soumen Ghosh\n"
      ],
      "execution_count": null,
      "outputs": [
        {
          "output_type": "stream",
          "text": [
            "Minimum number of jumps to reach end is 4\n"
          ],
          "name": "stdout"
        }
      ]
    },
    {
      "cell_type": "markdown",
      "metadata": {
        "id": "rVoM61Eo3TtF"
      },
      "source": [
        "133. Given an array arr[] consisting of N positive integers, the task is to find the minimum cost required to either cross the array or reach the end of the array by only moving to indices (i + 2) and (i – 1) from the ith index. "
      ]
    },
    {
      "cell_type": "code",
      "metadata": {
        "colab": {
          "base_uri": "https://localhost:8080/"
        },
        "id": "3Uokp-xD3R0c",
        "outputId": "0b9c50c2-f7ba-4048-fcfa-606a4618a99a"
      },
      "source": [
        "# Python 3 program for the above approach\n",
        "\n",
        "# Function to find the minimum cost\n",
        "# to reach the end of an array\n",
        "def minCost(arr, n):\n",
        "\n",
        "\t# Base Case: When N < 3\n",
        "\tif (n < 3):\n",
        "\t\tprint(arr[0])\n",
        "\t\treturn\n",
        "\n",
        "\t# Store the results in table\n",
        "\tdp = [0] * n\n",
        "\n",
        "\t# Initialize base cases\n",
        "\tdp[0] = arr[0]\n",
        "\tdp[1] = dp[0] + arr[1] + arr[2]\n",
        "\n",
        "\t# Iterate over the range[2, N - 2]\n",
        "\t# to construct the dp array\n",
        "\tfor i in range(2, n - 1):\n",
        "\t\tdp[i] = min(dp[i - 2] + arr[i],\n",
        "\t\t\t\t\tdp[i - 1] + arr[i]\n",
        "\t\t\t\t\t+ arr[i + 1])\n",
        "\n",
        "\t# Handle case for the last index, i.e. N - 1\n",
        "\tdp[n - 1] = min(dp[n - 2],\n",
        "\t\t\t\t\tdp[n - 3] + arr[n - 1])\n",
        "\n",
        "\t# Print the answer\n",
        "\tprint(dp[n - 1])\n",
        "\n",
        "# Driver Code\n",
        "if __name__ == \"__main__\":\n",
        "\n",
        "\tarr = [9, 4, 6, 8, 5]\n",
        "\tN = len(arr)\n",
        "\tminCost(arr, N)\n",
        "\n",
        "\t# This code is contributed by ukasp.\n"
      ],
      "execution_count": null,
      "outputs": [
        {
          "output_type": "stream",
          "text": [
            "20\n"
          ],
          "name": "stdout"
        }
      ]
    },
    {
      "cell_type": "markdown",
      "metadata": {
        "id": "OHfCjmhx3isI"
      },
      "source": [
        "134. Given an integer X and an array cost[] consisting of N integers, the task is to find the minimum cost to reach the end of the given array starting from the first element based on the following constraints:\n",
        "\n",
        "Cost to visit point i is cost[i] where 1 ≤ i ≤ N.\n",
        "Cost to skip point i is min(cost[i], X) where 1 ≤ i ≤ N.\n",
        "At most 2 points can be skipped in a row.\n",
        "First and last positions cannot be skipped."
      ]
    },
    {
      "cell_type": "code",
      "metadata": {
        "colab": {
          "base_uri": "https://localhost:8080/"
        },
        "id": "hDoSivsB3gib",
        "outputId": "5beb1751-fc63-477f-a441-202879c19808"
      },
      "source": [
        "# Python3 program for the above approach\n",
        "\n",
        "# Function to find the minimum cost\n",
        "# to reach the end of the array from\n",
        "# the first element\n",
        "def minimumCost(cost, n, x):\n",
        "\t\n",
        "\t# Store the results\n",
        "\tdp = [0] * (n + 2)\n",
        "\n",
        "\t# Consider first index cost\n",
        "\tdp[0] = cost[0]\n",
        "\n",
        "\t# Find answer for each position i\n",
        "\tfor i in range(1, n):\n",
        "\t\t\n",
        "\t\t# First Element\n",
        "\t\tif (i == 1):\n",
        "\t\t\tdp[i] = cost[i] + dp[i - 1]\n",
        "\n",
        "\t\t# Second Element\n",
        "\t\tif (i == 2):\n",
        "\t\t\tdp[i] = cost[i] + min(dp[i - 1],\n",
        "\t\t\t\t\t\t\tx + dp[i - 2])\n",
        "\n",
        "\t\t# For remaining element\n",
        "\t\tif (i >= 3):\n",
        "\n",
        "\t\t\t# Consider min cost for\n",
        "\t\t\t# skipping\n",
        "\t\t\tdp[i] = (cost[i] +\n",
        "\t\t\t\tmin(dp[i - 1],\n",
        "\t\t\t\tmin(x + dp[i - 2],\n",
        "\t\t\t\t2 * x + dp[i - 3])))\n",
        "\n",
        "\t# Last index represents the\n",
        "\t# minimum total cost\n",
        "\tprint(dp[n - 1])\n",
        "\n",
        "# Driver Code\n",
        "if __name__ == '__main__':\n",
        "\t\n",
        "\t# Given X\n",
        "\tX = 4\n",
        "\n",
        "\t# Given array cost[]\n",
        "\tcost = [ 6, 3, 9, 2, 1, 3 ]\n",
        "\n",
        "\tN = len(cost)\n",
        "\n",
        "\t# Function Call\n",
        "\tminimumCost(cost, N, X)\n",
        "\n",
        "# This code is contributed by mohit kumar 29\n"
      ],
      "execution_count": null,
      "outputs": [
        {
          "output_type": "stream",
          "text": [
            "19\n"
          ],
          "name": "stdout"
        }
      ]
    },
    {
      "cell_type": "markdown",
      "metadata": {
        "id": "AtuLS25-4TWP"
      },
      "source": [
        "135. Given a string, str, the task is to find the indices of the given string such that the count of lexicographically smaller characters on the left and right sides of that index is equal and non-zero.\n",
        "\n",
        "Examples:\n",
        "\n",
        "Input: str = “aabacdabbb” \n",
        "Output: 2 4 \n",
        "Explanation: \n",
        "Count of smaller characters on the left side of index 2 is 2 and right side of index 2 is also 2. \n",
        "Count of smaller characters on the left side of index 4 is 4 and right side of index 4 is also 4. \n",
        "Therefore, the required output is 2 4. "
      ]
    },
    {
      "cell_type": "code",
      "metadata": {
        "colab": {
          "base_uri": "https://localhost:8080/"
        },
        "id": "lcu7EUfT4QKn",
        "outputId": "37366335-f75a-4282-dfc8-f0aaa56bdfe3"
      },
      "source": [
        "# Python3 program to implement\n",
        "# the above approach\n",
        "\n",
        "# Function to find indexes\n",
        "# of the given that\n",
        "# satisfy the condition\n",
        "def printIndexes(strr):\n",
        "\t\n",
        "\t# Stores length of\n",
        "\t# given string\n",
        "\tN = len(strr)\n",
        "\n",
        "\t# Stores frequency of\n",
        "\t# each character of strr\n",
        "\tcntFreq = [0] * 256\n",
        "\n",
        "\tfor i in range(N):\n",
        "\t\t\n",
        "\t\t# Update frequency of\n",
        "\t\t# current character\n",
        "\t\tcntFreq[ord(strr[i])] += 1\n",
        "\n",
        "\t# cntLeftFreq[i] Stores frequency\n",
        "\t# of characters present on\n",
        "\t# the left side of index i.\n",
        "\tcntLeftFreq = [0] * 256\n",
        "\t\n",
        "\t# Traverse the given string\n",
        "\tfor i in range(N):\n",
        "\n",
        "\t\t# Stores count of smaller\n",
        "\t\t# characters on left side of i.\n",
        "\t\tcntLeft = 0\n",
        "\n",
        "\t\t# Stores count of smaller\n",
        "\t\t# characters on Right side of i.\n",
        "\t\tcntRight = 0\n",
        "\n",
        "\t\t# Traverse smaller characters\n",
        "\t\t# on left side of index i.\n",
        "\t\tfor j in range(ord(strr[i]) - 1, -1, -1):\n",
        "\t\t\t\n",
        "\t\t\t# Update cntLeft\n",
        "\t\t\tcntLeft += cntLeftFreq[j]\n",
        "\n",
        "\t\t\t# Update cntRight\n",
        "\t\t\tcntRight += (cntFreq[j] -\n",
        "\t\t\t\t\tcntLeftFreq[j])\n",
        "\n",
        "\t\t# Update cntLeftFreq[strr[i]]\n",
        "\t\tcntLeftFreq[ord(strr[i])] += 1\n",
        "\n",
        "\t\t# If count of smaller elements\n",
        "\t\t# on both sides equal\n",
        "\t\tif (cntLeft == cntRight and cntLeft != 0):\n",
        "\n",
        "\t\t\t# Print current index\n",
        "\t\t\tprint(i, end = \" \")\n",
        "\n",
        "# Driver Code\n",
        "if __name__ == '__main__':\n",
        "\t\n",
        "\tstrr = \"aabacdabbb\"\n",
        "\t\n",
        "\tprintIndexes(strr)\n",
        "\n",
        "# This code is contributed by mohit kumar 29\n"
      ],
      "execution_count": null,
      "outputs": [
        {
          "output_type": "stream",
          "text": [
            "2 4 "
          ],
          "name": "stdout"
        }
      ]
    },
    {
      "cell_type": "markdown",
      "metadata": {
        "id": "JeAPch_h4uTD"
      },
      "source": [
        "136. Given an array arr[] consisting of N integers and an integer K, the task is to find the count of array elements having rank at most K.\n",
        "\n",
        "Equal array elements will have equal ranks. Any array element numerically smaller than its immediate greater array element will be ranked one greater than the total number of array elements greater than it. "
      ]
    },
    {
      "cell_type": "code",
      "metadata": {
        "colab": {
          "base_uri": "https://localhost:8080/"
        },
        "id": "7ORMCSaJ4at2",
        "outputId": "cf9aee24-968b-4be7-a863-e73025d7421f"
      },
      "source": [
        "# Python3 program for the\n",
        "# above approach\n",
        "\n",
        "# Function to find count of\n",
        "# array elements with rank\n",
        "# less than or equal to k\n",
        "def rankLessThanK(arr, k, n):\n",
        "\n",
        "\t# Initialize rank and\n",
        "\t# position\n",
        "\trank = 1;\n",
        "\tposition = 1;\n",
        "\n",
        "\t# Sort the given array\n",
        "\tarr = sorted(arr)\n",
        "\n",
        "\t# Traverse array from\n",
        "\t# right to left\n",
        "\tfor i in range(n - 1,\n",
        "\t\t\t\t-1, -1):\n",
        "\n",
        "\t\t# Update rank with position,\n",
        "\t\t# if adjacent elements are\n",
        "\t\t# unequal\n",
        "\t\tif (i == n - 1 or\n",
        "\t\t\tarr[i] != arr[i + 1]):\n",
        "\t\t\trank = position;\n",
        "\n",
        "\t\t\t# Return position - 1, if\n",
        "\t\t\t# rank greater than k\n",
        "\t\t\tif (rank > k):\n",
        "\t\t\t\treturn position - 1;\n",
        "\n",
        "\t\t# Increase position\n",
        "\t\tposition += 1;\n",
        "\n",
        "\treturn n;\n",
        "\n",
        "# Driver Code\n",
        "if __name__ == '__main__':\n",
        "\n",
        "\t# Given array\n",
        "\tarr = [2, 2, 3, 4, 5];\n",
        "\n",
        "\tN = len(arr);\n",
        "\n",
        "\t# Given K\n",
        "\tK = 4;\n",
        "\n",
        "\t# Function Call\n",
        "\tprint(rankLessThanK(arr, K, N));\n",
        "\n",
        "# This code is contributed by gauravrajput1\n",
        " "
      ],
      "execution_count": null,
      "outputs": [
        {
          "output_type": "stream",
          "text": [
            "5\n"
          ],
          "name": "stdout"
        }
      ]
    },
    {
      "cell_type": "markdown",
      "metadata": {
        "id": "O191dpOf45KO"
      },
      "source": [
        "137. Given two arrays arr1[] and arr2[] of lengths N and M respectively, the task is to find the maximum number of pairs (i, j) such that 2 * arr1[i] ≤ arr2[j] (1 ≤ i ≤ N and 1 ≤ j ≤ M). "
      ]
    },
    {
      "cell_type": "code",
      "metadata": {
        "colab": {
          "base_uri": "https://localhost:8080/"
        },
        "id": "ffY6YnTP4zRD",
        "outputId": "37eb3bad-948d-4e2a-e26c-bb7e50028954"
      },
      "source": [
        "# Python3 program for the above approach\n",
        "\n",
        "# Function to return the maximum\n",
        "# number of required pairs\n",
        "def numberOfPairs(arr1, n, arr2, m):\n",
        "\n",
        "\t# Max Heap to add values of arr2[]\n",
        "\tpq = []\n",
        "\n",
        "\t# Sort the array arr1[]\n",
        "\tarr1.sort(reverse = False)\n",
        "\n",
        "\t# Push all arr2[] into Max Heap\n",
        "\tfor j in range(m):\n",
        "\t\tpq.append(arr2[j])\n",
        "\n",
        "\t# Initialize the ans\n",
        "\tans = 2\n",
        "\n",
        "\t# Traverse the arr1[] in\n",
        "\t# decreasing order\n",
        "\ti = n - 1\n",
        "\twhile (i >= 0):\n",
        "\t\n",
        "\t\t# Remove element until a\n",
        "\t\t# required pair is found\n",
        "\t\tpq.sort(reverse = False)\n",
        "\t\t\n",
        "\t\tif (pq[0] >= 2 * arr1[i]):\n",
        "\t\t\tans += 1\n",
        "\t\t\tprint(pq[0])\n",
        "\t\t\tpq.remove(pq[0])\n",
        "\t\t\t\n",
        "\t\ti -= 1\n",
        "\n",
        "\t# Return maximum number of pairs\n",
        "\treturn ans\n",
        "\n",
        "# Driver Code\n",
        "if __name__ == '__main__':\n",
        "\n",
        "\t# Given arrays\n",
        "\tarr1 = [ 3, 2, 1 ]\n",
        "\tarr2 = [ 3, 4, 2, 1 ]\n",
        "\n",
        "\tN = len(arr1)\n",
        "\tM = len(arr2)\n",
        "\n",
        "\t# Function Call\n",
        "\tprint(numberOfPairs(arr1, N, arr2, M))\n",
        "\t\n",
        "# This code is contributed by ipg2016107\n",
        " "
      ],
      "execution_count": null,
      "outputs": [
        {
          "output_type": "stream",
          "text": [
            "2\n"
          ],
          "name": "stdout"
        }
      ]
    },
    {
      "cell_type": "markdown",
      "metadata": {
        "id": "NdJf0rx85PBj"
      },
      "source": [
        "138. Given a n*m grid and the position of some poles to be painted in the grid, the task is to find the minimum cost to paint all the poles. There is no cost involved in moving from one row to the other, whereas moving to an adjacent column has 1 rupee cost associated with it.  "
      ]
    },
    {
      "cell_type": "code",
      "metadata": {
        "colab": {
          "base_uri": "https://localhost:8080/"
        },
        "id": "MSfL5QSN5E5c",
        "outputId": "ad8e2b9d-2799-4076-b5a3-934a7fd666f3"
      },
      "source": [
        "# Function to find the cost to paint all poles\n",
        "import math as ma\n",
        "\n",
        "def find(n, m, p, q):\n",
        "\n",
        "\t# To store all the columns\n",
        "\tz =[]\n",
        "\tfor i in range(p):\n",
        "\t\tz.append(q[i][1])\n",
        "\n",
        "\tprint(max(z)-min(z))\n",
        "\t\n",
        "n, m, p = 2, 2, 2\n",
        "q =[(0, 0), (0, 1)]\n",
        "find(n, m, p, q)\n",
        " "
      ],
      "execution_count": null,
      "outputs": [
        {
          "output_type": "stream",
          "text": [
            "1\n"
          ],
          "name": "stdout"
        }
      ]
    },
    {
      "cell_type": "markdown",
      "metadata": {
        "id": "hNLWIjB65i1d"
      },
      "source": [
        "139. Given a sorted array arr[] consisting of N positive integers such that arr[i] represent the days in which a worker will work and an array cost[] of size 3 representing the salary paid to the workers for 1 day, 7 days and 30 days respectively, the task is to find the minimum cost required to have a worker for all the given days in arr[]. "
      ]
    },
    {
      "cell_type": "code",
      "metadata": {
        "id": "jtaOF8TF5VjM",
        "colab": {
          "base_uri": "https://localhost:8080/"
        },
        "outputId": "c2f672e5-999a-45b9-9b44-d7d37fd470e5"
      },
      "source": [
        "# Python Program for the above approach\n",
        "\n",
        "# Function to find the minimum cost\n",
        "# to hire the workers for the given\n",
        "# days in the array days[]\n",
        "def MinCost(days, cost, N):\n",
        "\t\n",
        "\tsize = days[N - 1] + 1\n",
        "\n",
        "\t# Initialize the array dp\n",
        "\tdp = [0 for i in range(size)]\n",
        "\n",
        "\t# Minimum Cost for Nth day\n",
        "\tdp[size - 1] = min(cost[0], min(cost[1], cost[2]))\n",
        "\n",
        "\t# Poleter of the array arr[]\n",
        "\tptr = N - 2\n",
        "\n",
        "\t# Traverse from right to left\n",
        "\tfor i in range(size - 2, 0, -1):\n",
        "\n",
        "\t\tif (ptr >= 0 and days[ptr] == i):\n",
        "\n",
        "\t\t\t# If worker is hired for 1 day\n",
        "\t\t\tval1 = dp[i + 1] + cost[0]\n",
        "\n",
        "\t\t\t# If worker is hired for 7 days\n",
        "\t\t\tval2 = cost[1] + ( 0 if (i + 7 >= size) else dp[i + 7])\n",
        "\n",
        "\t\t\t# If worker is hired for 30 days\n",
        "\t\t\tval3 = cost[2] + ( 0 if (i + 30 >= size) else dp[i + 30])\n",
        "\n",
        "\t\t\t# Update the value of dp[i] as\n",
        "\t\t\t# minimum of 3 options\n",
        "\t\t\tdp[i] = min(val1, min(val2, val3))\n",
        "\t\t\tptr -= 1;\n",
        "\n",
        "\t\t# If the day is not at the\n",
        "\t\t# array arr[]\n",
        "\t\telse:\n",
        "\t\t\tdp[i] = dp[i + 1]\n",
        "\t\n",
        "\t# Return the answer\n",
        "\treturn dp[1]\n",
        "\n",
        "# Driver Code\n",
        "arr = [2, 4, 6, 7, 8, 10, 17]\n",
        "cost = [3, 8, 20]\n",
        "N = len(arr)\n",
        "print(MinCost(arr, cost, N))\n",
        "\n",
        "# This code is contributed by gfgking\n",
        " "
      ],
      "execution_count": 21,
      "outputs": [
        {
          "output_type": "stream",
          "text": [
            "14\n"
          ],
          "name": "stdout"
        }
      ]
    },
    {
      "cell_type": "markdown",
      "metadata": {
        "id": "T4IkYNQp5sx8"
      },
      "source": [
        "140. Given a binary array arr[] consisting of only 0’s and 1’s and a 2D array Q[][] consisting of K queries, the task is to find the minimum distance between two 0’s in the range [L, R] of the array for every query {L, R}."
      ]
    },
    {
      "cell_type": "code",
      "metadata": {
        "colab": {
          "base_uri": "https://localhost:8080/"
        },
        "id": "Yq-wunj85n47",
        "outputId": "a9989357-74c4-4209-b35d-1b13499e13e4"
      },
      "source": [
        "# Python3 program to find the minimum\n",
        "# distance between two elements with\n",
        "# value 0 within a subarray (l, r)\n",
        "import sys\n",
        "\n",
        "# Structure for each node\n",
        "# in the segment tree\n",
        "class node():\n",
        "\t\n",
        "\tdef __init__(self):\n",
        "\t\t\n",
        "\t\tself.l0 = 0\n",
        "\t\tself.r0 = 0\n",
        "\t\tmin0 = 0\n",
        "\t\t\n",
        "seg = [node() for i in range(100001)]\n",
        "\n",
        "# A utility function for\n",
        "# merging two nodes\n",
        "def task(l, r):\n",
        "\t\n",
        "\tx = node()\n",
        "\t\n",
        "\tx.l0 = l.l0 if (l.l0 != -1) else r.l0\n",
        "\tx.r0 = r.r0 if (r.r0 != -1) else l.r0\n",
        "\n",
        "\tx.min0 = min(l.min0, r.min0)\n",
        "\n",
        "\t# If both the nodes are valid\n",
        "\tif (l.r0 != -1 and r.l0 != -1):\n",
        "\n",
        "\t\t# Computing the minimum distance to\n",
        "\t\t# store in the segment tree\n",
        "\t\tx.min0 = min(x.min0, r.l0 - l.r0)\n",
        "\n",
        "\treturn x\n",
        "\n",
        "# A recursive function that constructs\n",
        "# Segment Tree for given string\n",
        "def build(qs, qe, ind, arr):\n",
        "\n",
        "\t# If start is equal to end then\n",
        "\t# insert the array element\n",
        "\tif (qs == qe):\n",
        "\n",
        "\t\tif (arr[qs] == 0):\n",
        "\t\t\tseg[ind].l0 = seg[ind].r0 = qs\n",
        "\t\t\tseg[ind].min0 = sys.maxsize\n",
        "\t\t\t\n",
        "\t\telse:\n",
        "\t\t\tseg[ind].l0 = seg[ind].r0 = -1\n",
        "\t\t\tseg[ind].min0 = sys.maxsize\n",
        "\n",
        "\t\treturn\n",
        "\n",
        "\tmid = (qs + qe) >> 1\n",
        "\t\n",
        "\t# Build the segment tree\n",
        "\t# for range qs to mid\n",
        "\tbuild(qs, mid, ind << 1, arr)\n",
        "\n",
        "\t# Build the segment tree\n",
        "\t# for range mid+1 to qe\n",
        "\tbuild(mid + 1, qe, ind << 1 | 1, arr)\n",
        "\n",
        "\t# Merge the two child nodes\n",
        "\t# to obtain the parent node\n",
        "\tseg[ind] = task(seg[ind << 1],\n",
        "\t\t\t\t\tseg[ind << 1 | 1])\n",
        "\t\t\t\t\t\n",
        "# Query in a range qs to qe\n",
        "def query(qs, qe, ns, ne, ind):\n",
        "\n",
        "\tx = node()\n",
        "\tx.l0 = x.r0 = -1\n",
        "\tx.min0 = sys.maxsize\n",
        "\n",
        "\t# If the range lies in this segment\n",
        "\tif (qs <= ns and qe >= ne):\n",
        "\t\treturn seg[ind]\n",
        "\n",
        "\t# If the range is out of the bounds\n",
        "\t# of this segment\n",
        "\tif (ne < qs or ns > qe or ns > ne):\n",
        "\t\treturn x\n",
        "\n",
        "\t# Else query for the right and left\n",
        "\t# child node of this subtree\n",
        "\t# and merge them\n",
        "\tmid = (ns + ne) >> 1\n",
        "\n",
        "\tl = query(qs, qe, ns, mid, ind << 1)\n",
        "\tr = query(qs, qe, mid + 1, ne, ind << 1 | 1)\n",
        "\n",
        "\tx = task(l, r)\n",
        "\t\n",
        "\treturn x\n",
        "\n",
        "# Driver code\n",
        "if __name__==\"__main__\":\n",
        "\t\n",
        "\tarr = [ 1, 1, 0, 1, 0, 1, 0,\n",
        "\t\t\t1, 0, 1, 0, 1, 1, 0 ]\n",
        "\n",
        "\tn = len(arr)\n",
        "\n",
        "\t# Build the segment tree\n",
        "\tbuild(0, n - 1, 1, arr)\n",
        "\t\n",
        "\t# Queries\n",
        "\tQ = [ [ 3, 9 ], [ 10, 13 ] ]\n",
        "\t\n",
        "\tfor i in range(2):\n",
        "\n",
        "\t\t# Finding the answer for every query\n",
        "\t\t# and printing it\n",
        "\t\tans = query(Q[i][0], Q[i][1], 0,\n",
        "\t\t\t\t\tn - 1, 1)\n",
        "\t\t\n",
        "\t\tprint(ans.min0)\n",
        "\n",
        "# This code is contributed by rutvik_56\n"
      ],
      "execution_count": 22,
      "outputs": [
        {
          "output_type": "stream",
          "text": [
            "2\n",
            "3\n"
          ],
          "name": "stdout"
        }
      ]
    },
    {
      "cell_type": "markdown",
      "metadata": {
        "id": "9n5o_Mux587v"
      },
      "source": [
        "141. Given an unsorted array arr[] and two numbers x and y, find the minimum distance between x and y in arr[]. The array might also contain duplicates. You may assume that both x and y are different and present in arr[]."
      ]
    },
    {
      "cell_type": "code",
      "metadata": {
        "colab": {
          "base_uri": "https://localhost:8080/"
        },
        "id": "6vFAJHfZ534a",
        "outputId": "da245b5e-7e46-417d-f1ca-fdf553bbc66b"
      },
      "source": [
        "# Python3 code to Find the minimum\n",
        "# distance between two numbers\n",
        "\n",
        "\n",
        "def minDist(arr, n, x, y):\n",
        "\tmin_dist = 99999999\n",
        "\tfor i in range(n):\n",
        "\t\tfor j in range(i + 1, n):\n",
        "\t\t\tif (x == arr[i] and y == arr[j] or\n",
        "\t\t\t\t\ty == arr[i] and x == arr[j]) and min_dist > abs(i-j):\n",
        "\t\t\t\tmin_dist = abs(i-j)\n",
        "\t\treturn min_dist\n",
        "\n",
        "\n",
        "# Driver code\n",
        "arr = [3, 5, 4, 2, 6, 5, 6, 6, 5, 4, 8, 3]\n",
        "n = len(arr)\n",
        "x = 3\n",
        "y = 6\n",
        "print(\"Minimum distance between \", x, \" and \",\n",
        "\ty, \"is\", minDist(arr, n, x, y))\n",
        "\n",
        "# This code is contributed by \"Abhishek Sharma 44\"\n",
        " "
      ],
      "execution_count": 23,
      "outputs": [
        {
          "output_type": "stream",
          "text": [
            "Minimum distance between  3  and  6 is 4\n"
          ],
          "name": "stdout"
        }
      ]
    },
    {
      "cell_type": "markdown",
      "metadata": {
        "id": "w3v1Vm3o6BZS"
      },
      "source": [
        "142. Given an array with repeated elements, the task is to find the maximum distance between two occurrences of an element.\n",
        "\n",
        "Examples:  \n",
        "\n",
        "Input : arr[] = {3, 2, 1, 2, 1, 4, 5, 8, 6, 7, 4, 2}\n",
        "Output: 10\n",
        "// maximum distance for 2 is 11-1 = 10 \n",
        "// maximum distance for 1 is 4-2 = 2 \n",
        "// maximum distance for 4 is 10-5 = 5   "
      ]
    },
    {
      "cell_type": "code",
      "metadata": {
        "colab": {
          "base_uri": "https://localhost:8080/"
        },
        "id": "Or8PCz2U6Afm",
        "outputId": "c4e4e927-9e37-44d3-9c07-7f676d7528f2"
      },
      "source": [
        "# Python program to find maximum distance between two\n",
        "# same occurrences of a number.\n",
        "\n",
        "# Function to find maximum distance between equal elements\n",
        "def maxDistance(arr, n):\n",
        "\t\n",
        "\t# Used to store element to first index mapping\n",
        "\tmp = {}\n",
        "\n",
        "\t# Traverse elements and find maximum distance between\n",
        "\t# same occurrences with the help of map.\n",
        "\tmaxDict = 0\n",
        "\tfor i in range(n):\n",
        "\n",
        "\t\t# If this is first occurrence of element, insert its\n",
        "\t\t# index in map\n",
        "\t\tif arr[i] not in mp.keys():\n",
        "\t\t\tmp[arr[i]] = i\n",
        "\n",
        "\t\t# Else update max distance\n",
        "\t\telse:\n",
        "\t\t\tmaxDict = max(maxDict, i-mp[arr[i]])\n",
        "\n",
        "\treturn maxDict\n",
        "\n",
        "# Driver Program\n",
        "if __name__=='__main__':\n",
        "\tarr = [3, 2, 1, 2, 1, 4, 5, 8, 6, 7, 4, 2]\n",
        "\tn = len(arr)\n",
        "\tprint(maxDistance(arr, n))\n",
        "\t\t\n",
        "# Contributed By: Harshit Sidhwa\n",
        " "
      ],
      "execution_count": 25,
      "outputs": [
        {
          "output_type": "stream",
          "text": [
            "10\n"
          ],
          "name": "stdout"
        }
      ]
    },
    {
      "cell_type": "markdown",
      "metadata": {
        "id": "he3vmBfC6QeC"
      },
      "source": [
        "143. Given a fraction, find a recurring sequence of digits if it exists, otherwise, print “No recurring sequence”."
      ]
    },
    {
      "cell_type": "code",
      "metadata": {
        "colab": {
          "base_uri": "https://localhost:8080/"
        },
        "id": "_2J21lKq6Kh2",
        "outputId": "e615c2cc-8056-4599-aa61-78b78171ba76"
      },
      "source": [
        "# Python3 program to find repeating\n",
        "# sequence in a fraction\n",
        "\n",
        "# This function returns repeating sequence\n",
        "# of a fraction.If repeating sequence doesn't\n",
        "# exits, then returns empty string\n",
        "\n",
        "\n",
        "def fractionToDecimal(numr, denr):\n",
        "\n",
        "\t# Initialize result\n",
        "\tres = \"\"\n",
        "\n",
        "\t# Create a map to store already seen\n",
        "\t# remainders. Remainder is used as key\n",
        "\t# and its position in result is stored\n",
        "\t# as value. Note that we need position\n",
        "\t# for cases like 1/6. In this case,\n",
        "\t# the recurring sequence doesn't start\n",
        "\t# from first remainder.\n",
        "\tmp = {}\n",
        "\n",
        "\t# Find first remainder\n",
        "\trem = numr % denr\n",
        "\n",
        "\t# Keep finding remainder until either\n",
        "\t# remainder becomes 0 or repeats\n",
        "\twhile ((rem != 0) and (rem not in mp)):\n",
        "\n",
        "\t\t# Store this remainder\n",
        "\t\tmp[rem] = len(res)\n",
        "\n",
        "\t\t# Multiply remainder with 10\n",
        "\t\trem = rem * 10\n",
        "\n",
        "\t\t# Append rem / denr to result\n",
        "\t\tres_part = rem // denr\n",
        "\t\tres += str(res_part)\n",
        "\n",
        "\t\t# Update remainder\n",
        "\t\trem = rem % denr\n",
        "\n",
        "\tif (rem == 0):\n",
        "\t\treturn \"\"\n",
        "\telse:\n",
        "\t\treturn res[mp[rem]:]\n",
        "\n",
        "\n",
        "# Driver code\n",
        "numr, denr = 50, 22\n",
        "res = fractionToDecimal(numr, denr)\n",
        "\n",
        "if (res == \"\"):\n",
        "\tprint(\"No recurring sequence\")\n",
        "else:\n",
        "\tprint(\"Recurring sequence is\", res)\n",
        "\n",
        "# This code is contributed by divyeshrabadiya07\n",
        " "
      ],
      "execution_count": 26,
      "outputs": [
        {
          "output_type": "stream",
          "text": [
            "Recurring sequence is 27\n"
          ],
          "name": "stdout"
        }
      ]
    },
    {
      "cell_type": "markdown",
      "metadata": {
        "id": "AY0jNXbb6Xbm"
      },
      "source": [
        "144. Given three integers P, Q and N where P < Q, the task is to compute the fraction value of P / Q and find the Nth digit after the decimal. "
      ]
    },
    {
      "cell_type": "code",
      "metadata": {
        "colab": {
          "base_uri": "https://localhost:8080/"
        },
        "id": "MGegCq4z6WIM",
        "outputId": "8fee95ab-23a9-4751-be7d-7869203695f6"
      },
      "source": [
        "# Python3 implementation of the approach\n",
        "\n",
        "# Function to print the Nth digit\n",
        "# in the fraction (p / q)\n",
        "def findNthDigit(p, q, N) :\n",
        "\n",
        "\t# While N > 0 compute the Nth digit\n",
        "\t# by dividing p and q and store the\n",
        "\t# result into variable res\n",
        "\t# and go to next digit\n",
        "\twhile (N > 0) :\n",
        "\t\tN -= 1;\n",
        "\t\tp *= 10;\n",
        "\t\tres = p // q;\n",
        "\t\tp %= q;\n",
        "\n",
        "\treturn res;\n",
        "\n",
        "# Driver code\n",
        "if __name__ == \"__main__\" :\n",
        "\t\n",
        "\tp = 1; q = 2; N = 1;\n",
        "\tprint(findNthDigit(p, q, N));\n",
        "\n",
        "# This code is contributed by kanugargng\n"
      ],
      "execution_count": 27,
      "outputs": [
        {
          "output_type": "stream",
          "text": [
            "5\n"
          ],
          "name": "stdout"
        }
      ]
    },
    {
      "cell_type": "markdown",
      "metadata": {
        "id": "KZOdEV6w6iPa"
      },
      "source": [
        "145. Given an array arr[][] consisting of Q queries where every row consists of two numbers L and R which denotes the range [L, R]; the task is to find the sum of the product of proper divisors of all numbers lying in the range [L, R]. "
      ]
    },
    {
      "cell_type": "code",
      "metadata": {
        "colab": {
          "base_uri": "https://localhost:8080/"
        },
        "id": "0dSuuvT_6ger",
        "outputId": "6e5c382e-d6aa-436a-f34a-75fb8cf7bf95"
      },
      "source": [
        "# Python3 implementation to find the sum\n",
        "# of the product of proper divisors of\n",
        "# all the numbers lying in the range [L, R]\n",
        "\n",
        "mod = 1000000007\n",
        "\n",
        "# Vector to store the product\n",
        "# of the proper divisors of a number\n",
        "ans = [1]*(100002)\n",
        "\n",
        "# Variable to store the prefix\n",
        "# sum of the product array\n",
        "pref = [0]*100002\n",
        "\n",
        "# Function to precompute the product\n",
        "# of proper divisors of a number at\n",
        "# it's corresponding index\n",
        "def preCompute():\n",
        "\n",
        "\t# Modificatino of sieve to store the\n",
        "\t# product of the proper divisors\n",
        "\tfor i in range(2,100000//2+1):\n",
        "\t\tfor j in range(2*i,100000+1,i):\n",
        "\n",
        "\t\t\t# Multiplying the existing value\n",
        "\t\t\t# with i because i is the\n",
        "\t\t\t# proper divisor of ans[j]\n",
        "\t\t\tans[j] = (ans[j] * i) % mod\n",
        "\t\t\n",
        "\t# Loop to store the prefix sum of the\n",
        "\t# previously computed product array\n",
        "\tfor i in range(1,100002):\n",
        "\n",
        "\t\t# Computing the prefix sum\n",
        "\t\tpref[i] = pref[i - 1]+ ans[i]\n",
        "\t\tpref[i] %= mod\n",
        "\t\n",
        "# Function to prthe sum\n",
        "# for each query\n",
        "def printSum(L, R):\n",
        "\n",
        "\tprint(pref[R] - pref[L - 1],end=\" \")\n",
        "\n",
        "# Function to prte sum of product\n",
        "# of proper divisors of a number in\n",
        "# [L, R]\n",
        "def printSumProper(arr, Q):\n",
        "\n",
        "\t# Calling the function that\n",
        "\t# pre computes\n",
        "\t# the sum of product\n",
        "\t# of proper divisors\n",
        "\tpreCompute()\n",
        "\n",
        "\t# Iterate over all Queries\n",
        "\t# to prthe sum\n",
        "\tfor i in range(Q):\n",
        "\t\tprintSum(arr[i][0], arr[i][1])\n",
        "\t\n",
        "# Driver code\n",
        "if __name__ == '__main__':\n",
        "\tQ = 2\n",
        "\tarr= [ [ 10, 20 ],\n",
        "\t\t\t[ 12, 16 ] ]\n",
        "\n",
        "\tprintSumProper(arr, Q)\n",
        "\n",
        "# This code is contributed by mohit kumar 29\n"
      ],
      "execution_count": 28,
      "outputs": [
        {
          "output_type": "stream",
          "text": [
            "975 238 "
          ],
          "name": "stdout"
        }
      ]
    },
    {
      "cell_type": "markdown",
      "metadata": {
        "id": "jAWltmaT6ttZ"
      },
      "source": [
        "146. Given Q queries in the form of 2D array arr[][] whose every row consists of two numbers L and R which denotes the range [L, R], the task is to find the sum of all Palindrome Numbers lying in range [L, R]."
      ]
    },
    {
      "cell_type": "code",
      "metadata": {
        "colab": {
          "base_uri": "https://localhost:8080/"
        },
        "id": "nCcISj2l6pOm",
        "outputId": "17b0120f-5d65-45ca-dec7-c8c023585cd8"
      },
      "source": [
        "# Python3 program to find the sum\n",
        "# of all palindrome numbers\n",
        "# in the given range\n",
        "\n",
        "# pref[] array to precompute\n",
        "# the sum of all palindromic\n",
        "# number\n",
        "pref=[0]*100001\n",
        "\n",
        "# Function that return number\n",
        "# num if num is palindromic\n",
        "# else return 0\n",
        "def checkPalindrome(num):\n",
        "\t\n",
        "\t# Convert num to string\n",
        "\tstrr = str(num)\n",
        "\tl = 0\n",
        "\tr = len(strr)- 1\n",
        "\twhile (l < r):\n",
        "\t\tif (strr[l] != strr[r]):\n",
        "\t\t\treturn 0\n",
        "\t\t\t\n",
        "\t\tl+=1\n",
        "\t\tr-=1\n",
        "\t\n",
        "\treturn num\n",
        "\n",
        "\n",
        "# Function to precompute the\n",
        "# sum of all palindrome numbers\n",
        "# upto 100000\n",
        "def preCompute():\n",
        "\tfor i in range(1,100001):\n",
        "\t\t# checkPalindrome()\n",
        "\t\t# return the number i\n",
        "\t\t# if i is palindromic\n",
        "\t\t# else return 0\n",
        "\t\tpref[i] = pref[i - 1]+ checkPalindrome(i)\n",
        "\t\n",
        "\n",
        "\n",
        "# Function to print the sum\n",
        "# for each query\n",
        "def printSum(L, R):\n",
        "\tprint(pref[R] - pref[L - 1])\n",
        "\n",
        "\n",
        "# Function to prsum of all\n",
        "# palindromic numbers between\n",
        "# [L, R]\n",
        "def printSumPalindromic(arr,Q):\n",
        "\t\n",
        "\t# Function that pre computes\n",
        "\t# the sum of all palindromic\n",
        "\t# numbers\n",
        "\tpreCompute()\n",
        "\t\n",
        "\t# Iterate over all Queries\n",
        "\t# to print the sum\n",
        "\tfor i in range(Q):\n",
        "\t\tprintSum(arr[i][0], arr[i][1])\n",
        "\t\n",
        "\n",
        "\n",
        "# Driver code\n",
        "\n",
        "# Queries\n",
        "Q = 2\n",
        "arr= [[10, 13 ],[ 12, 21 ]]\n",
        "\n",
        "# Function that print the\n",
        "# the sum of all palindromic\n",
        "# number in Range [L, R]\n",
        "printSumPalindromic(arr, Q)\n",
        "\n",
        "# This code is contributed by shivanisinghss2110\n",
        " "
      ],
      "execution_count": 29,
      "outputs": [
        {
          "output_type": "stream",
          "text": [
            "11\n",
            "0\n"
          ],
          "name": "stdout"
        }
      ]
    },
    {
      "cell_type": "markdown",
      "metadata": {
        "id": "kTyLRDe0651I"
      },
      "source": [
        "147.Given an array arr[] consisting of queries of the form {L, R}, the task for each query is to count the numbers in the range [L, R] that can be expressed as the sum of its digits raised to the power of count of digits. "
      ]
    },
    {
      "cell_type": "code",
      "metadata": {
        "colab": {
          "base_uri": "https://localhost:8080/"
        },
        "id": "GtLphXRm6yi5",
        "outputId": "1b202a29-423b-4fc6-caa5-27cf5686f685"
      },
      "source": [
        "# Python 3 program for the above approach\n",
        "R = 100005\n",
        "arr = [0 for i in range(R)]\n",
        "\n",
        "# Function to check if a number N can be\n",
        "# expressed as sum of its digits raised\n",
        "# to the power of the count of digits\n",
        "def canExpress(N):\n",
        "\ttemp = N\n",
        "\n",
        "\t# Stores the number of digits\n",
        "\tn = 0\n",
        "\twhile (N != 0):\n",
        "\t\tN //= 10\n",
        "\t\tn += 1\n",
        "\n",
        "\t# Stores the resultant number\n",
        "\tN = temp\n",
        "\tsum = 0\n",
        "\twhile (N != 0):\n",
        "\t\tsum += pow(N % 10, n)\n",
        "\t\tN //= 10\n",
        "\n",
        "\t# Return true if both the\n",
        "\t# numbers are same\n",
        "\treturn (sum == temp)\n",
        "\n",
        "# Function to precompute and store\n",
        "# for all numbers whether they can\n",
        "# be expressed\n",
        "def precompute():\n",
        "\n",
        "\t# Mark all the index which\n",
        "\t# are plus perfect number\n",
        "\tfor i in range(1, R, 1):\n",
        "\t\n",
        "\t\t# If true, then update the\n",
        "\t\t# value at this index\n",
        "\t\tif(canExpress(i)):\n",
        "\t\t\tarr[i] = 1\n",
        "\n",
        "\t# Compute prefix sum of the array\n",
        "\tfor i in range(1,R,1):\n",
        "\t\tarr[i] += arr[i - 1]\n",
        "\n",
        "# Function to count array elements that\n",
        "# can be expressed as the sum of digits\n",
        "# raised to the power of count of digits\n",
        "def countNumbers(queries, N):\n",
        "\n",
        "\t# Precompute the results\n",
        "\tprecompute()\n",
        "\n",
        "\t# Traverse the queries\n",
        "\tfor i in range(N):\n",
        "\t\tL1 = queries[i][0]\n",
        "\t\tR1 = queries[i][1]\n",
        "\n",
        "\t\t# Print the resultant count\n",
        "\t\tprint((arr[R1] - arr[L1 - 1]),end = \" \")\n",
        "\n",
        "# Driver Code\n",
        "if __name__ == '__main__':\n",
        "\tqueries = [[1, 400],[1, 9]]\n",
        "\tN = len(queries)\n",
        "\tcountNumbers(queries, N)\n",
        "\n",
        "\t# This code is contributed by SURENDRA_GANGWAR.\n",
        " "
      ],
      "execution_count": 30,
      "outputs": [
        {
          "output_type": "stream",
          "text": [
            "12 9 "
          ],
          "name": "stdout"
        }
      ]
    },
    {
      "cell_type": "markdown",
      "metadata": {
        "id": "S_BMeVRX7N5V"
      },
      "source": [
        "148. Given an array A[] consisting of permutation of first N natural numbers, the task is to find the minimum number of operations required to modify A[] into an increasing array if an array element A[i] can be swapped with its next adjacent element A[i+1] at most twice. If it is not possible to modify the array into an increasing array, print -1."
      ]
    },
    {
      "cell_type": "code",
      "metadata": {
        "colab": {
          "base_uri": "https://localhost:8080/"
        },
        "id": "PGb7WOaq7LPo",
        "outputId": "f186b92e-d45d-4231-96da-08919e6abed9"
      },
      "source": [
        "# Python 3 program for the above approach\n",
        "\n",
        "# Function to count minimum number of\n",
        "# operations required to obtain an\n",
        "# increasing array from given array A[]\n",
        "def minimumOperations(A, n):\n",
        "\n",
        "\t# Store the required result\n",
        "\tcnt = 0\n",
        "\n",
        "\t# Traverse the array A[]\n",
        "\tfor i in range(n - 1, -1, -1):\n",
        "\n",
        "\t\t# If the current element is not\n",
        "\t\t# in its correct position\n",
        "\t\tif (A[i] != (i + 1)):\n",
        "\n",
        "\t\t\t# Check if it is present at index i - 1\n",
        "\t\t\tif (((i - 1) >= 0)\n",
        "\t\t\t\t\tand A[i - 1] == (i + 1)):\n",
        "\t\t\t\tcnt += 1\n",
        "\t\t\t\tA[i], A[i - 1] = A[i - 1], A[i]\n",
        "\n",
        "\t\t\t# Check if it is present at index i-2\n",
        "\t\t\telif (((i - 2) >= 0)\n",
        "\t\t\t\tand A[i - 2] == (i + 1)):\n",
        "\t\t\t\tcnt += 2\n",
        "\t\t\t\tA[i - 2] = A[i - 1]\n",
        "\t\t\t\tA[i - 1] = A[i]\n",
        "\t\t\t\tA[i] = i + 1\n",
        "\n",
        "\t\t\t# Otherwise, print -1 (Since A[i]\n",
        "\t\t\t# can not be swapped more than twice)\n",
        "\t\t\telse:\n",
        "\t\t\t\tprint(-1)\n",
        "\t\t\t\treturn\n",
        "\n",
        "\t# Print the result\n",
        "\tprint(cnt)\n",
        "\n",
        "# Driver Code\n",
        "if __name__ == \"__main__\":\n",
        "\n",
        "\t# Given array\n",
        "\tA = [7, 3, 2, 1, 4]\n",
        "\n",
        "\t# Store the size of the array\n",
        "\tn = len(A)\n",
        "\n",
        "\tminimumOperations(A, n)\n",
        "\n",
        "\t# Thi code is contributed by ukasp.\n"
      ],
      "execution_count": 31,
      "outputs": [
        {
          "output_type": "stream",
          "text": [
            "-1\n"
          ],
          "name": "stdout"
        }
      ]
    },
    {
      "cell_type": "markdown",
      "metadata": {
        "id": "igDdyh-k7jOb"
      },
      "source": [
        "149. Given a binary matrix M[][] of dimensions N x N, the task is to make every pair of adjacent cells in the same row or column of the given matrix distinct by swapping the minimum number of rows or columns. "
      ]
    },
    {
      "cell_type": "code",
      "metadata": {
        "colab": {
          "base_uri": "https://localhost:8080/"
        },
        "id": "RMDjQHWm7TEK",
        "outputId": "17f20ab3-2b04-4dbd-83ed-fe3b1de63610"
      },
      "source": [
        "# Python3 program for the above approach\n",
        "\n",
        "# Function to return number of moves\n",
        "# to convert matrix into chessboard\n",
        "def minSwaps(b):\n",
        "\n",
        "\t# Size of the matrix\n",
        "\tn = len(b)\n",
        "\n",
        "\t# Traverse the matrix\n",
        "\tfor i in range(n):\n",
        "\t\tfor j in range(n):\n",
        "\t\t\tif (b[0][0] ^ b[0][j] ^\n",
        "\t\t\t\tb[i][0] ^ b[i][j]):\n",
        "\t\t\t\treturn -1\n",
        "\n",
        "\t# Initialize rowSum to count 1s in row\n",
        "\trowSum = 0\n",
        "\n",
        "\t# Initialize colSum to count 1s in column\n",
        "\tcolSum = 0\n",
        "\n",
        "\t# To store no. of rows to be corrected\n",
        "\trowSwap = 0\n",
        "\n",
        "\t# To store no. of columns to be corrected\n",
        "\tcolSwap = 0\n",
        "\n",
        "\t# Traverse in the range [0, N-1]\n",
        "\tfor i in range(n):\n",
        "\t\trowSum += b[i][0]\n",
        "\t\tcolSum += b[0][i]\n",
        "\t\trowSwap += b[i][0] == i % 2\n",
        "\t\tcolSwap += b[0][i] == i % 2\n",
        "\n",
        "\t# Check if rows is either N/2 or\n",
        "\t# (N+1)/2 and return -1\n",
        "\tif (rowSum != n // 2 and\n",
        "\t\trowSum != (n + 1) // 2):\n",
        "\t\treturn -1\n",
        "\n",
        "\t# Check if rows is either N/2\n",
        "\t# or (N+1)/2 and return -1\n",
        "\tif (colSum != n // 2 and\n",
        "\t\tcolSum != (n + 1) // 2):\n",
        "\t\treturn -1\n",
        "\n",
        "\t# Check if N is odd\n",
        "\tif (n % 2 == 1):\n",
        "\n",
        "\t\t# Check if column required to be\n",
        "\t\t# corrected is odd and then\n",
        "\t\t# assign N-colSwap to colSwap\n",
        "\t\tif (colSwap % 2):\n",
        "\t\t\tcolSwap = n - colSwap\n",
        "\n",
        "\t\t# Check if rows required to\n",
        "\t\t# be corrected is odd and then\n",
        "\t\t# assign N-rowSwap to rowSwap\n",
        "\t\tif (rowSwap % 2):\n",
        "\t\t\trowSwap = n - rowSwap\n",
        "\n",
        "\telse:\n",
        "\n",
        "\t\t# Take min of colSwap and N-colSwap\n",
        "\t\tcolSwap = min(colSwap, n - colSwap)\n",
        "\n",
        "\t\t# Take min of rowSwap and N-rowSwap\n",
        "\t\trowSwap = min(rowSwap, n - rowSwap)\n",
        "\n",
        "\t# Finally return answer\n",
        "\treturn (rowSwap + colSwap) // 2\n",
        "\n",
        "# Driver Code\n",
        "if __name__ == \"__main__\":\n",
        "\n",
        "\t# Given matrix\n",
        "\tM = [ [ 0, 1, 1, 0 ],\n",
        "\t\t[ 0, 1, 1, 0 ],\n",
        "\t\t[ 1, 0, 0, 1 ],\n",
        "\t\t[ 1, 0, 0, 1 ] ]\n",
        "\n",
        "\t# Function Call\n",
        "\tans = minSwaps(M)\n",
        "\n",
        "\t# Print answer\n",
        "\tprint(ans)\n",
        "\n",
        "# This code is contributed by chitranayal\n"
      ],
      "execution_count": 32,
      "outputs": [
        {
          "output_type": "stream",
          "text": [
            "2\n"
          ],
          "name": "stdout"
        }
      ]
    },
    {
      "cell_type": "markdown",
      "metadata": {
        "id": "rbr3M8mU7ro8"
      },
      "source": [
        "150. Given an array arr[] of size 26, representing frequencies of character ‘a’ to ‘z’, the task is to find the maximum number of palindromic strings of length 3 that can be generated from the specified count of alphabets.\n",
        "\n",
        "Examples:\n",
        "\n",
        "Input: arr[] = {4, 5, 0, 0, 0, 0, 0, 0, 0, 0, 0, 0, 0, 0, 0, 0, 0, 0, 0, 0, 0, 0, 0, 0, 0, 0}\n",
        "Output: 3\n",
        "Explanation:One of the possible solution is to take two characters of ‘b’ and one character of ‘a’, making string “bab”. Now, 3 ‘a’ and 3 ‘b’ are left from which strings “aaa” and “bbb” can be made. Thus total of 3 palindromic strings can be formed. "
      ]
    },
    {
      "cell_type": "code",
      "metadata": {
        "colab": {
          "base_uri": "https://localhost:8080/"
        },
        "id": "2yjI2sak7pw0",
        "outputId": "fbf625f0-0e69-4af1-eee6-a25a1cf90e97"
      },
      "source": [
        "# Python3 program for the above approach\n",
        "\n",
        "# Function to count maximum number\n",
        "# of palindromic string of length 3\n",
        "def maximum_pallindromic(arr):\n",
        "\n",
        "\t# Stores the final count of\n",
        "\t# palindromic strings\n",
        "\tres = 0\n",
        "\tc1 = 0\n",
        "\tc2 = 0\n",
        "\n",
        "\t# Traverse the array\n",
        "\tfor i in range(26):\n",
        "\n",
        "\t\t# Increment res by arr[i]/3,\n",
        "\t\t# i.e forming string of\n",
        "\t\t# only i +'a' character\n",
        "\t\tres += arr[i] // 3\n",
        "\n",
        "\t\t# Store remainder\n",
        "\t\tarr[i] = arr[i] % 3\n",
        "\n",
        "\t\t# Increment c1 by one, if\n",
        "\t\t# current frequency is 1\n",
        "\t\tif (arr[i] == 1):\n",
        "\t\t\tc1 += 1\n",
        "\n",
        "\t\t# Increment c2 by one, if\n",
        "\t\t# current frequency is 2\n",
        "\t\telif (arr[i] == 2):\n",
        "\t\t\tc2 += 1\n",
        "\n",
        "\t# Count palindromic strings of\n",
        "\t# length 3 having the character\n",
        "\t# at the ends different from that\n",
        "\t# present in the middle\n",
        "\tres += min(c1, c2)\n",
        "\tt = min(c1, c2)\n",
        "\n",
        "\t# Update c1 and c2\n",
        "\tc1 -= t\n",
        "\tc2 -= t\n",
        "\n",
        "\t# Increment res by 2 * c2/3\n",
        "\tres += 2 * (c2 // 3)\n",
        "\tc2 %= 3\n",
        "\tres += c2 // 2\n",
        "\n",
        "\t# Finally print the result\n",
        "\tprint(res)\n",
        "\n",
        "# Driver Code\n",
        "if __name__ == \"__main__\":\n",
        "\n",
        "\t# Given array\n",
        "\tarr = [ 4, 5, 0, 0, 0, 0, 0, 0,\n",
        "\t\t\t0, 0, 0, 0, 0, 0, 0, 0, 0,\n",
        "\t\t\t0, 0, 0, 0, 0, 0, 0, 0, 0 ]\n",
        "\n",
        "\t# Function Call\n",
        "\tmaximum_pallindromic(arr)\n",
        "\n",
        "# This code is contributed by chitranayal\n"
      ],
      "execution_count": 33,
      "outputs": [
        {
          "output_type": "stream",
          "text": [
            "3\n"
          ],
          "name": "stdout"
        }
      ]
    },
    {
      "cell_type": "code",
      "metadata": {
        "id": "9gYbkTFD7yWG"
      },
      "source": [
        ""
      ],
      "execution_count": null,
      "outputs": []
    }
  ]
}